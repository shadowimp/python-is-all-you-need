{
 "cells": [
  {
   "cell_type": "code",
   "execution_count": 1,
   "metadata": {},
   "outputs": [
    {
     "data": {
      "text/plain": [
       "(1.52, -4)"
      ]
     },
     "execution_count": 1,
     "metadata": {},
     "output_type": "execute_result"
    }
   ],
   "source": [
    "round(1.5244,2) , round(-3.50)"
   ]
  },
  {
   "cell_type": "code",
   "execution_count": 2,
   "metadata": {},
   "outputs": [
    {
     "data": {
      "text/plain": [
       "(0.5, 0.49999999999999994)"
      ]
     },
     "execution_count": 2,
     "metadata": {},
     "output_type": "execute_result"
    }
   ],
   "source": [
    "from math import radians,pi ,sin # 将角度变成弧度\n",
    "radians(90)/pi , sin(radians(30))"
   ]
  },
  {
   "cell_type": "markdown",
   "metadata": {},
   "source": [
    "### 计算两个向量的余弦相似度"
   ]
  },
  {
   "cell_type": "code",
   "execution_count": 3,
   "metadata": {},
   "outputs": [],
   "source": [
    "import numpy as np"
   ]
  },
  {
   "cell_type": "code",
   "execution_count": 4,
   "metadata": {},
   "outputs": [],
   "source": [
    "def simliarity(vector1, vector2):\n",
    "    return np.dot(vector1, vector2.T)/(np.linalg.norm(vector1) * np.linalg.norm(vector2))"
   ]
  },
  {
   "cell_type": "markdown",
   "metadata": {},
   "source": [
    "### mean 平均值"
   ]
  },
  {
   "cell_type": "code",
   "execution_count": 7,
   "metadata": {},
   "outputs": [
    {
     "name": "stdin",
     "output_type": "stream",
     "text": [
      " 2 3 4  100\n"
     ]
    },
    {
     "name": "stdout",
     "output_type": "stream",
     "text": [
      "27.25\n",
      "3.5\n"
     ]
    }
   ],
   "source": [
    "import numpy as np \n",
    "\n",
    "numbers = [int(x) for x in input().split() ] \n",
    "\n",
    "print(np.mean(numbers)) \n",
    "print(np.median(numbers)) \n",
    "\n"
   ]
  },
  {
   "cell_type": "markdown",
   "metadata": {},
   "source": [
    "### 欧式距离"
   ]
  },
  {
   "cell_type": "code",
   "execution_count": 8,
   "metadata": {},
   "outputs": [],
   "source": [
    "def EuclideanDistance(x,y):\n",
    "\td = 0\n",
    "\tfor a,b in zip(x,y):\n",
    "\t\td += (a-b)**2\n",
    "\treturn d**0.5"
   ]
  },
  {
   "cell_type": "code",
   "execution_count": 9,
   "metadata": {},
   "outputs": [
    {
     "data": {
      "text/plain": [
       "2.449489742783178"
      ]
     },
     "execution_count": 9,
     "metadata": {},
     "output_type": "execute_result"
    }
   ],
   "source": [
    "EuclideanDistance([1,2,3],[3,3,4])"
   ]
  },
  {
   "cell_type": "code",
   "execution_count": 10,
   "metadata": {},
   "outputs": [],
   "source": [
    "import numpy as np\n",
    "def EuclideanDistance(dataA,dataB):\n",
    "    # np.linalg.norm 用于范数计算，默认是二范数，相当于平方和开根号\n",
    "    return 1.0/(1.0 + np.linalg.norm(dataA - dataB))\n"
   ]
  },
  {
   "cell_type": "markdown",
   "metadata": {},
   "source": [
    "### entropy 熵"
   ]
  },
  {
   "cell_type": "markdown",
   "metadata": {},
   "source": [
    "$$ H(x) = - \\sum_{i=1}^n p(x_i) log(p(x_i))$$"
   ]
  },
  {
   "cell_type": "code",
   "execution_count": 13,
   "metadata": {},
   "outputs": [
    {
     "name": "stdout",
     "output_type": "stream",
     "text": [
      "0.9709505944546686\n"
     ]
    }
   ],
   "source": [
    "from  math import log\n",
    "\n",
    "def entropy(dataset):\n",
    "\tlabel_dict = {}\n",
    "\n",
    "\tfor feature in dataset :\n",
    "\t\tlabel = feature[-1]\n",
    "\t\tlabel_dict[label] = label_dict.get(label,0) + 1 \n",
    "\tentropy = 0\n",
    "\tfor key in label_dict:\n",
    "\t\tprob = float(label_dict[key])/len(dataset)\n",
    "\t\tentropy -= prob * log(prob,2)\n",
    "\treturn entropy\n",
    "\n",
    "dataset  = [ [1,1,'y'],[1,1,'y'],[1,0,'n'],[0,1,'n'],[0,1,'n']]\n",
    "print(entropy(dataset))\n"
   ]
  },
  {
   "cell_type": "code",
   "execution_count": 14,
   "metadata": {},
   "outputs": [],
   "source": [
    "from collections import Counter \n",
    "import numpy as np\n",
    "\n",
    "def calculate_entropy(char_list):\n",
    "    \"\"\"\n",
    "    To calculate entropy for  list  of char\n",
    "    input: char list \n",
    "    output: entropy of the list  of char\n",
    "    \"\"\"\n",
    "    char_freq_dic =  dict(Counter(char_list)) \n",
    "    entropy = (-1)*sum([ char_freq_dic.get(i)/len(char_list)*np.log2(char_freq_dic.get(i)/len(char_list)) for i in char_freq_dic])\n",
    "    return entropy\n"
   ]
  },
  {
   "cell_type": "code",
   "execution_count": 15,
   "metadata": {},
   "outputs": [
    {
     "data": {
      "text/plain": [
       "1.0"
      ]
     },
     "execution_count": 15,
     "metadata": {},
     "output_type": "execute_result"
    }
   ],
   "source": [
    "char_list = [\"张渊博\",'a']\n",
    "calculate_entropy(char_list)"
   ]
  },
  {
   "cell_type": "markdown",
   "metadata": {},
   "source": [
    "### 高斯分布 Gaussian distribution "
   ]
  },
  {
   "cell_type": "markdown",
   "metadata": {},
   "source": [
    "#### 随机数近似正态分布曲线"
   ]
  },
  {
   "cell_type": "code",
   "execution_count": 17,
   "metadata": {},
   "outputs": [
    {
     "data": {
      "image/png": "[encoded data removed]",
      "text/plain": [
       "<Figure size 432x288 with 1 Axes>"
      ]
     },
     "metadata": {
      "needs_background": "light"
     },
     "output_type": "display_data"
    }
   ],
   "source": [
    "import numpy as np \n",
    "import matplotlib.pyplot as plt\n",
    "%matplotlib inline\n",
    "X = np.random.randn(10000)\n",
    "plt.hist(X)\n",
    "plt.show()"
   ]
  },
  {
   "cell_type": "markdown",
   "metadata": {},
   "source": [
    "#### 随机数看正态分布\n",
    "标准正态分布，在一个标准差内的概率约为68.3"
   ]
  },
  {
   "cell_type": "code",
   "execution_count": 2,
   "metadata": {},
   "outputs": [
    {
     "data": {
      "text/plain": [
       "6907"
      ]
     },
     "execution_count": 2,
     "metadata": {},
     "output_type": "execute_result"
    }
   ],
   "source": [
    "import numpy as np \n",
    "\n",
    "nums = []\n",
    "X = np.random.randn(10000)\n",
    "nums.append(np.sum(abs(X)<1) )\n",
    "sum(nums)"
   ]
  },
  {
   "cell_type": "markdown",
   "metadata": {},
   "source": [
    "### 检验分布是否是正态分布"
   ]
  },
  {
   "cell_type": "code",
   "execution_count": 3,
   "metadata": {},
   "outputs": [
    {
     "name": "stdout",
     "output_type": "stream",
     "text": [
      "p = 0.674618\n"
     ]
    }
   ],
   "source": [
    "from scipy import stats\n",
    "np.random.seed(280)\n",
    "a = np.random.normal(0, 1, size=1000)\n",
    "b = np.random.normal(2, 1, size=1000)\n",
    "x = np.concatenate((a, b))\n",
    "k2, p = stats.normaltest(a)\n",
    "alpha = 1e-3\n",
    "print(\"p = {:g}\".format(p))"
   ]
  },
  {
   "cell_type": "code",
   "execution_count": null,
   "metadata": {},
   "outputs": [],
   "source": []
  }
 ],
 "metadata": {
  "kernelspec": {
   "display_name": "Python 3",
   "language": "python",
   "name": "python3"
  },
  "language_info": {
   "codemirror_mode": {
    "name": "ipython",
    "version": 3
   },
   "file_extension": ".py",
   "mimetype": "text/x-python",
   "name": "python",
   "nbconvert_exporter": "python",
   "pygments_lexer": "ipython3",
   "version": "3.7.4"
  }
 },
 "nbformat": 4,
 "nbformat_minor": 4
}
