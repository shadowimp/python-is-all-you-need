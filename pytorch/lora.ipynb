{
 "cells": [
  {
   "cell_type": "code",
   "execution_count": 1,
   "metadata": {},
   "outputs": [],
   "source": [
    "import torch \n",
    "import torch.nn as nn \n",
    "import torch.nn.functional as F"
   ]
  },
  {
   "cell_type": "code",
   "execution_count": null,
   "metadata": {},
   "outputs": [],
   "source": [
    "class LoRA(nn.module):\n",
    "    def __init__(self,hidden_dim, rank , lora_alpha,):\n",
    "        super().__init__()\n",
    "        self.hidden_dim = hidden_dim \n",
    "        self.rank = rank\n",
    "        self.lora_alpha = lora_alpha \n",
    "        self.linear = nn.Linear(hidden_dim , hidden_dim)\n",
    "        # lora wight shape : ( \n",
    "        # input x shape : (batch_size, seq_len, in_dim)\n",
    "\n",
    "        if rank > 0 :\n",
    "            # lora_a 高斯分布\n",
    "            self.lora_a = nn.Parameter(torch.randn(rank, hidden_dim))\n",
    "            nn.init.normal_(self.lora_a, a=math.sqrt(5))\n",
    "            # lora_b zero\n",
    "            self.lora_b = nn.Paramter(torch.randn(hidden_dim, rank))\n",
    "            nn.init.zeros_(self.lora_b)\n",
    "\n",
    "            self.scale = lora_alpha / rank \n",
    "        if dropout:\n",
    "            self.dropout = nn.Dropout(dropout)\n",
    "        \n",
    "    def forward(self, x):\n",
    "        batch_size, seq_len , hidden_dim = x.shape\n",
    "        output_origin = self.linear(x)\n",
    "        if rank> 0 :\n",
    "            lora_martix = self.lora_b @ self.lora_a\n",
    "            output_lora =  x @ self.scale* lora_martix\n",
    "        output = output_origin + output_lora\n",
    "        output = self.dropout(output)\n",
    "        return output "
   ]
  }
 ],
 "metadata": {
  "kernelspec": {
   "display_name": "Python 3",
   "language": "python",
   "name": "python3"
  },
  "language_info": {
   "codemirror_mode": {
    "name": "ipython",
    "version": 3
   },
   "file_extension": ".py",
   "mimetype": "text/x-python",
   "name": "python",
   "nbconvert_exporter": "python",
   "pygments_lexer": "ipython3",
   "version": "3.8.2"
  }
 },
 "nbformat": 4,
 "nbformat_minor": 2
}
