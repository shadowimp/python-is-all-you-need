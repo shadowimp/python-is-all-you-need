{
 "cells": [
  {
   "cell_type": "code",
   "execution_count": 2,
   "metadata": {
    "collapsed": true,
    "jupyter": {
     "outputs_hidden": true
    }
   },
   "outputs": [],
   "source": [
    "import torch \n",
    "import torch.nn as nn"
   ]
  },
  {
   "cell_type": "code",
   "execution_count": null,
   "metadata": {
    "collapsed": true,
    "jupyter": {
     "outputs_hidden": true
    }
   },
   "outputs": [],
   "source": [
    "class ScaleDotProductAttention(nn.Module):\n",
    "    def __init__(self,attention_dropout = 0.0):\n",
    "        super(ScaleDotProductAttention).__init__()\n",
    "        self.dropout = nn.Dropout(attention_dropout)\n",
    "        self.softmax = nn.softmax(dim =2)\n",
    "    \n",
    "    def forward(self, q, k, v, scale=None, attn_mask=None):\n",
    "        attention = torch.bmm(q , k.transpose(1,2))\n",
    "        if scale: \n",
    "            attention = attention * scale  \n",
    "        if atten_mask:\n",
    "            attention = attention.masked_fill_()\n",
    "        attention = self.softmax(attention)\n",
    "        attention = self.dropout(attention)\n",
    "        context = torch.bmm(attention,v)\n",
    "        return context , attention \n",
    "\n",
    "        \n",
    "        \n",
    "        \n",
    "        \n",
    "        \n",
    "    "
   ]
  },
  {
   "cell_type": "markdown",
   "metadata": {},
   "source": [
    "$$ y = cos(2\\pi x)   $$"
   ]
  },
  {
   "cell_type": "markdown",
   "metadata": {},
   "source": [
    "### postional Encoding"
   ]
  },
  {
   "cell_type": "code",
   "execution_count": null,
   "metadata": {},
   "outputs": [],
   "source": [
    "class PositonalEncoding(nn.Module):\n",
    "    def __init__(self, d_model , max_seq_len ):\n",
    "        super(PostionalEncoding, self).__init__()\n",
    "        postion_encoding = np.array( )"
   ]
  },
  {
   "cell_type": "code",
   "execution_count": null,
   "metadata": {
    "collapsed": true,
    "jupyter": {
     "outputs_hidden": true
    }
   },
   "outputs": [],
   "source": [
    "def get_tokens_and_segment(tokens_a, tokens_b=None):\n",
    "    token = ['<cls>'] + tokens_a + ['<sep>']\n",
    "    segments = [0] * (len(tokens_a)+2)\n",
    "    if tokens_b is not None:\n",
    "        tokens += tokens_b + ['<sep>']\n",
    "        seg"
   ]
  },
  {
   "cell_type": "code",
   "execution_count": null,
   "metadata": {},
   "outputs": [],
   "source": []
  },
  {
   "cell_type": "markdown",
   "metadata": {},
   "source": [
    "### self-attention"
   ]
  },
  {
   "cell_type": "markdown",
   "metadata": {},
   "source": [
    "$$ Attention(Q,K,V) = softmax(\\frac{QK^T}{\\sqrt{d_k}})V $$"
   ]
  },
  {
   "cell_type": "code",
   "execution_count": 10,
   "metadata": {},
   "outputs": [],
   "source": [
    "from math import sqrt \n",
    "import torch\n",
    "import torch.nn as nn"
   ]
  },
  {
   "cell_type": "code",
   "execution_count": 12,
   "metadata": {},
   "outputs": [],
   "source": [
    "class Self_Attention(nn.Module):\n",
    "    # input : batch_size * seq_len * input_dim\n",
    "    # q,k,v : batch_size * input_dim * dim_k\n",
    "    def __init__(self, input_dim, dim_k, dim_v):\n",
    "        super(Self_Attention,self).__init__()\n",
    "        self.q = nn.Linear(input_dim, dim_k)\n",
    "        self.k = nn.Linear(input_dim, dim_k)\n",
    "        self.v = nn.Linear(input_dim, dim_v)\n",
    "        self._norm_fact = 1/ sqrt(dim_k)\n",
    "    \n",
    "    def forward(self, x):\n",
    "        Q = self.q(x)\n",
    "        K = self.k(x)\n",
    "        V = self.v(x)\n",
    "        \n",
    "        atten = nn.Softmax(dim=-1)(torch.bmm(Q,K.permute(0,2,1))) * self._norm_fact\n",
    "        output = torch.bmm(atten,V)\n",
    "        \n",
    "        return output"
   ]
  },
  {
   "cell_type": "code",
   "execution_count": 13,
   "metadata": {},
   "outputs": [
    {
     "name": "stdout",
     "output_type": "stream",
     "text": [
      "torch.Size([4, 3, 2])\n"
     ]
    }
   ],
   "source": [
    "# test \n",
    "x_m = torch.randn(4,3,2)\n",
    "print(x_m.size())"
   ]
  },
  {
   "cell_type": "code",
   "execution_count": 14,
   "metadata": {},
   "outputs": [],
   "source": [
    "self_attention = Self_Attention(2,4,5)\n",
    "res = self_attention(x_m)"
   ]
  },
  {
   "cell_type": "code",
   "execution_count": 16,
   "metadata": {},
   "outputs": [
    {
     "data": {
      "text/plain": [
       "torch.Size([4, 3, 5])"
      ]
     },
     "execution_count": 16,
     "metadata": {},
     "output_type": "execute_result"
    }
   ],
   "source": [
    "res.size()"
   ]
  },
  {
   "cell_type": "markdown",
   "metadata": {},
   "source": [
    "### multi-head attention"
   ]
  },
  {
   "cell_type": "code",
   "execution_count": 18,
   "metadata": {},
   "outputs": [],
   "source": [
    "from math import sqrt\n",
    "import torch \n",
    "import torch.nn as nn "
   ]
  },
  {
   "cell_type": "code",
   "execution_count": 19,
   "metadata": {},
   "outputs": [],
   "source": [
    "class MultiHeadedAttention(nn.Module):\n",
    "    def __init__(self, h, d_model, dropout = 0.1):\n",
    "        super(MultiHeadedAttention,self).__init__()\n",
    "        assert d_model %h == 0 \n",
    "        self.d_k = d_model\n",
    "        self.h = h\n",
    "        self.linears = clones(nn.Linear(d_model,d_model),4)\n",
    "        self.attn = None \n",
    "        self.dropout = nn.Dropout(p=dropout)\n",
    "\n",
    "    def forword(self, q,k,v, mask =None):\n",
    "        if mask is not None:\n",
    "            mask = mask.unsqueeze(1)\n",
    "        n_batch = q.size(0)\n",
    "\n",
    "        q,k,v = [l(x).view(n_batch, -1, self.h,self.d_k).transpose(1,2) for l,x in zip(self.linears,(q,k,v))]\n",
    "\n",
    "        x, self.attn = attention(q,k,v ,mask = mask, dropout=self.dropout)\n",
    "        x = x.transpose(1,2).contiguous().view(n_batch, -1 , self.h*self.d_k)\n",
    "        return self.linears[-1](x)\n",
    "        \n",
    "        "
   ]
  },
  {
   "cell_type": "markdown",
   "metadata": {},
   "source": [
    "### Decoder"
   ]
  },
  {
   "cell_type": "code",
   "execution_count": null,
   "metadata": {},
   "outputs": [],
   "source": [
    "from typing import Any\n",
    "\n",
    "\n",
    "class Decoder(nn.Module):\n",
    "    def __init__(self, layer, N):\n",
    "        super(Decoder,self).__init__()\n",
    "        self.layer = clones(layer,N)\n",
    "        self.norm = LayerNorm(layer.size)\n",
    "\n",
    "    def forward(self, *input: Any, **kwargs: Any):\n",
    "        for layer in self.layers:\n",
    "            x = layer(x, memory ,src_mask,tgt_mask)\n",
    "        return self.norm(x)\n"
   ]
  }
 ],
 "metadata": {
  "kernelspec": {
   "display_name": "Python 3",
   "language": "python",
   "name": "python3"
  },
  "language_info": {
   "codemirror_mode": {
    "name": "ipython",
    "version": 3
   },
   "file_extension": ".py",
   "mimetype": "text/x-python",
   "name": "python",
   "nbconvert_exporter": "python",
   "pygments_lexer": "ipython3",
   "version": "3.7.4"
  }
 },
 "nbformat": 4,
 "nbformat_minor": 4
}
