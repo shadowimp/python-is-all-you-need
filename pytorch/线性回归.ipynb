{
 "cells": [
  {
   "cell_type": "code",
   "execution_count": 1,
   "metadata": {},
   "outputs": [],
   "source": [
    "import torch \n",
    "import torch.nn as nn \n",
    "import numpy as np \n",
    "import matplotlib.pyplot as plt "
   ]
  },
  {
   "cell_type": "code",
   "execution_count": 2,
   "metadata": {},
   "outputs": [],
   "source": [
    "# input and label \n",
    "x_train = np.array( [[3.3] , [4.4] , [5.5] ],dtype = np.float32)\n",
    "y_train = np.array( [[1.7], [2.76], [2.09]],dtype = np.float32)"
   ]
  },
  {
   "cell_type": "code",
   "execution_count": 3,
   "metadata": {},
   "outputs": [],
   "source": [
    "# 建立线性模型,初始化wight 和 bias的值\n",
    "input_size , output_size = 1,1 \n",
    "model = nn.Linear(input_size,output_size) "
   ]
  },
  {
   "cell_type": "code",
   "execution_count": 4,
   "metadata": {},
   "outputs": [
    {
     "data": {
      "text/plain": [
       "(Parameter containing:\n",
       " tensor([[-0.4532]], requires_grad=True), Parameter containing:\n",
       " tensor([-0.5508], requires_grad=True))"
      ]
     },
     "execution_count": 4,
     "metadata": {},
     "output_type": "execute_result"
    }
   ],
   "source": [
    "model.weight , model.bias"
   ]
  },
  {
   "cell_type": "code",
   "execution_count": 5,
   "metadata": {},
   "outputs": [],
   "source": [
    "# 设置学习率 ，损失函数 ，以及优化器 \n",
    "learning_rate = 0.001  \n",
    "criterion  = nn.MSELoss()\n",
    "optimizer = torch.optim.SGD(model.parameters(), lr = learning_rate)"
   ]
  },
  {
   "cell_type": "code",
   "execution_count": 6,
   "metadata": {
    "scrolled": true
   },
   "outputs": [
    {
     "name": "stdout",
     "output_type": "stream",
     "text": [
      "Epoch :5/100,  Loss : 16.3\n",
      "Epoch :10/100,  Loss : 10.7\n",
      "Epoch :15/100,  Loss : 7.02\n",
      "Epoch :20/100,  Loss : 4.66\n",
      "Epoch :25/100,  Loss : 3.13\n",
      "Epoch :30/100,  Loss : 2.13\n",
      "Epoch :35/100,  Loss : 1.48\n",
      "Epoch :40/100,  Loss : 1.06\n",
      "Epoch :45/100,  Loss : 0.791\n",
      "Epoch :50/100,  Loss : 0.613\n",
      "Epoch :55/100,  Loss : 0.498\n",
      "Epoch :60/100,  Loss : 0.424\n",
      "Epoch :65/100,  Loss : 0.375\n",
      "Epoch :70/100,  Loss : 0.344\n",
      "Epoch :75/100,  Loss : 0.323\n",
      "Epoch :80/100,  Loss : 0.31\n",
      "Epoch :85/100,  Loss : 0.301\n",
      "Epoch :90/100,  Loss : 0.295\n",
      "Epoch :95/100,  Loss : 0.292\n",
      "Epoch :100/100,  Loss : 0.289\n"
     ]
    }
   ],
   "source": [
    "num_epochs = 100  # 迭代一百次\n",
    "for epoch in range(num_epochs):\n",
    "    inputs = torch.from_numpy(x_train)\n",
    "    targets = torch.from_numpy(y_train)\n",
    "    outputs = model(inputs)\n",
    "    loss = criterion(outputs,targets)\n",
    "    optimizer.zero_grad() \n",
    "    # 反向传播求梯度 ，更新网络权重 \n",
    "    loss.backward() \n",
    "    optimizer.step()\n",
    "    \n",
    "    # 输入状态\n",
    "    if (epoch+1) %5 ==0:\n",
    "        print('Epoch :{}/{},  Loss : {:.3}'.format(epoch+1,num_epochs,loss.item()))"
   ]
  },
  {
   "cell_type": "code",
   "execution_count": 7,
   "metadata": {},
   "outputs": [
    {
     "data": {
      "image/png": "[encoded data removed]",
      "text/plain": [
       "<Figure size 432x288 with 1 Axes>"
      ]
     },
     "metadata": {
      "needs_background": "light"
     },
     "output_type": "display_data"
    }
   ],
   "source": [
    "predicted = model(torch.from_numpy(x_train)).detach().numpy() \n",
    "plt.plot(x_train,y_train,'ro',label = 'original data') \n",
    "plt.plot(x_train,predicted,label = 'fitted line')\n",
    "plt.legend()\n",
    "plt.show()"
   ]
  },
  {
   "cell_type": "code",
   "execution_count": 38,
   "metadata": {
    "collapsed": true,
    "jupyter": {
     "outputs_hidden": true
    }
   },
   "outputs": [],
   "source": [
    "torch.save(model.state_dict(),'LR.ckpt')"
   ]
  },
  {
   "cell_type": "code",
   "execution_count": null,
   "metadata": {
    "collapsed": true,
    "jupyter": {
     "outputs_hidden": true
    }
   },
   "outputs": [],
   "source": []
  }
 ],
 "metadata": {
  "kernelspec": {
   "display_name": "Python 3",
   "language": "python",
   "name": "python3"
  },
  "language_info": {
   "codemirror_mode": {
    "name": "ipython",
    "version": 3
   },
   "file_extension": ".py",
   "mimetype": "text/x-python",
   "name": "python",
   "nbconvert_exporter": "python",
   "pygments_lexer": "ipython3",
   "version": "3.7.4"
  }
 },
 "nbformat": 4,
 "nbformat_minor": 4
}
