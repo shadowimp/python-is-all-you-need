{
 "cells": [
  {
   "cell_type": "markdown",
   "metadata": {},
   "source": [
    "### 黄金分割率"
   ]
  },
  {
   "cell_type": "code",
   "execution_count": 2,
   "metadata": {},
   "outputs": [],
   "source": [
    "import baostock as bs \n",
    "import pandas as pd"
   ]
  },
  {
   "cell_type": "code",
   "execution_count": 3,
   "metadata": {},
   "outputs": [
    {
     "name": "stdout",
     "output_type": "stream",
     "text": [
      "login success!\n"
     ]
    }
   ],
   "source": [
    "lg = bs.login()"
   ]
  },
  {
   "cell_type": "code",
   "execution_count": 11,
   "metadata": {},
   "outputs": [
    {
     "name": "stdout",
     "output_type": "stream",
     "text": [
      "2022-07-01\n"
     ]
    }
   ],
   "source": [
    "import datetime\n",
    "today_date = datetime.datetime.now() - datetime.timedelta(days=0) \n",
    "today_date = today_date.strftime(\"%Y-%m-%d\")\n",
    "print(today_date)"
   ]
  },
  {
   "cell_type": "code",
   "execution_count": 13,
   "metadata": {},
   "outputs": [],
   "source": [
    "stock_code = 'sh.600519'\n",
    "stock_info = 'date,code,open,close,high,low'\n",
    "start_date = '2022-01-01'\n",
    "end_date = today_date"
   ]
  },
  {
   "cell_type": "code",
   "execution_count": 14,
   "metadata": {},
   "outputs": [],
   "source": [
    "rs = bs.query_history_k_data_plus(stock_code, stock_info, start_date, end_date, frequency='d')"
   ]
  },
  {
   "cell_type": "code",
   "execution_count": 15,
   "metadata": {},
   "outputs": [],
   "source": [
    "data_list = []\n",
    "while rs.next():\n",
    "    data_list.append(rs.get_row_data())"
   ]
  },
  {
   "cell_type": "code",
   "execution_count": 16,
   "metadata": {},
   "outputs": [],
   "source": [
    "df = pd.DataFrame(data_list, columns = rs.fields)"
   ]
  },
  {
   "cell_type": "code",
   "execution_count": 17,
   "metadata": {},
   "outputs": [
    {
     "data": {
      "text/html": [
       "<div>\n",
       "<style scoped>\n",
       "    .dataframe tbody tr th:only-of-type {\n",
       "        vertical-align: middle;\n",
       "    }\n",
       "\n",
       "    .dataframe tbody tr th {\n",
       "        vertical-align: top;\n",
       "    }\n",
       "\n",
       "    .dataframe thead th {\n",
       "        text-align: right;\n",
       "    }\n",
       "</style>\n",
       "<table border=\"1\" class=\"dataframe\">\n",
       "  <thead>\n",
       "    <tr style=\"text-align: right;\">\n",
       "      <th></th>\n",
       "      <th>date</th>\n",
       "      <th>code</th>\n",
       "      <th>open</th>\n",
       "      <th>close</th>\n",
       "      <th>high</th>\n",
       "      <th>low</th>\n",
       "    </tr>\n",
       "  </thead>\n",
       "  <tbody>\n",
       "    <tr>\n",
       "      <td>0</td>\n",
       "      <td>2022-01-04</td>\n",
       "      <td>sh.600519</td>\n",
       "      <td>2055.0000</td>\n",
       "      <td>2051.2300</td>\n",
       "      <td>2068.9500</td>\n",
       "      <td>2014.0000</td>\n",
       "    </tr>\n",
       "    <tr>\n",
       "      <td>1</td>\n",
       "      <td>2022-01-05</td>\n",
       "      <td>sh.600519</td>\n",
       "      <td>2045.0000</td>\n",
       "      <td>2024.0000</td>\n",
       "      <td>2065.0000</td>\n",
       "      <td>2018.0000</td>\n",
       "    </tr>\n",
       "    <tr>\n",
       "      <td>2</td>\n",
       "      <td>2022-01-06</td>\n",
       "      <td>sh.600519</td>\n",
       "      <td>2022.0100</td>\n",
       "      <td>1982.2200</td>\n",
       "      <td>2036.0000</td>\n",
       "      <td>1938.5100</td>\n",
       "    </tr>\n",
       "    <tr>\n",
       "      <td>3</td>\n",
       "      <td>2022-01-07</td>\n",
       "      <td>sh.600519</td>\n",
       "      <td>1975.0000</td>\n",
       "      <td>1942.0000</td>\n",
       "      <td>1988.8800</td>\n",
       "      <td>1939.3200</td>\n",
       "    </tr>\n",
       "    <tr>\n",
       "      <td>4</td>\n",
       "      <td>2022-01-10</td>\n",
       "      <td>sh.600519</td>\n",
       "      <td>1928.0100</td>\n",
       "      <td>1966.0000</td>\n",
       "      <td>1977.0000</td>\n",
       "      <td>1917.5500</td>\n",
       "    </tr>\n",
       "    <tr>\n",
       "      <td>...</td>\n",
       "      <td>...</td>\n",
       "      <td>...</td>\n",
       "      <td>...</td>\n",
       "      <td>...</td>\n",
       "      <td>...</td>\n",
       "      <td>...</td>\n",
       "    </tr>\n",
       "    <tr>\n",
       "      <td>112</td>\n",
       "      <td>2022-06-24</td>\n",
       "      <td>sh.600519</td>\n",
       "      <td>1970.0000</td>\n",
       "      <td>2009.0100</td>\n",
       "      <td>2020.0000</td>\n",
       "      <td>1965.0000</td>\n",
       "    </tr>\n",
       "    <tr>\n",
       "      <td>113</td>\n",
       "      <td>2022-06-27</td>\n",
       "      <td>sh.600519</td>\n",
       "      <td>2019.9400</td>\n",
       "      <td>2010.5500</td>\n",
       "      <td>2049.9400</td>\n",
       "      <td>2000.3000</td>\n",
       "    </tr>\n",
       "    <tr>\n",
       "      <td>114</td>\n",
       "      <td>2022-06-28</td>\n",
       "      <td>sh.600519</td>\n",
       "      <td>2019.7400</td>\n",
       "      <td>2036.0000</td>\n",
       "      <td>2041.0000</td>\n",
       "      <td>2001.0000</td>\n",
       "    </tr>\n",
       "    <tr>\n",
       "      <td>115</td>\n",
       "      <td>2022-06-29</td>\n",
       "      <td>sh.600519</td>\n",
       "      <td>2028.0000</td>\n",
       "      <td>2030.0000</td>\n",
       "      <td>2042.0000</td>\n",
       "      <td>2011.0100</td>\n",
       "    </tr>\n",
       "    <tr>\n",
       "      <td>116</td>\n",
       "      <td>2022-06-30</td>\n",
       "      <td>sh.600519</td>\n",
       "      <td>2000.0000</td>\n",
       "      <td>2045.0000</td>\n",
       "      <td>2077.0000</td>\n",
       "      <td>1999.9900</td>\n",
       "    </tr>\n",
       "  </tbody>\n",
       "</table>\n",
       "<p>117 rows × 6 columns</p>\n",
       "</div>"
      ],
      "text/plain": [
       "           date       code       open      close       high        low\n",
       "0    2022-01-04  sh.600519  2055.0000  2051.2300  2068.9500  2014.0000\n",
       "1    2022-01-05  sh.600519  2045.0000  2024.0000  2065.0000  2018.0000\n",
       "2    2022-01-06  sh.600519  2022.0100  1982.2200  2036.0000  1938.5100\n",
       "3    2022-01-07  sh.600519  1975.0000  1942.0000  1988.8800  1939.3200\n",
       "4    2022-01-10  sh.600519  1928.0100  1966.0000  1977.0000  1917.5500\n",
       "..          ...        ...        ...        ...        ...        ...\n",
       "112  2022-06-24  sh.600519  1970.0000  2009.0100  2020.0000  1965.0000\n",
       "113  2022-06-27  sh.600519  2019.9400  2010.5500  2049.9400  2000.3000\n",
       "114  2022-06-28  sh.600519  2019.7400  2036.0000  2041.0000  2001.0000\n",
       "115  2022-06-29  sh.600519  2028.0000  2030.0000  2042.0000  2011.0100\n",
       "116  2022-06-30  sh.600519  2000.0000  2045.0000  2077.0000  1999.9900\n",
       "\n",
       "[117 rows x 6 columns]"
      ]
     },
     "execution_count": 17,
     "metadata": {},
     "output_type": "execute_result"
    }
   ],
   "source": [
    "df "
   ]
  },
  {
   "cell_type": "code",
   "execution_count": 42,
   "metadata": {},
   "outputs": [],
   "source": [
    "lowest_price,max_price = float(df['close'][0] ),float(df['close'][0] )\n",
    "for i in range(len(df)):\n",
    "    stock_price = float(df['close'][i] )\n",
    "    max_price = max(max_price,stock_price)\n",
    "    lowest_price = min(lowest_price,stock_price)\n",
    "    if stock_price < max_price*0.618:\n",
    "        print(df['date'][i],stock_price)"
   ]
  },
  {
   "cell_type": "code",
   "execution_count": 41,
   "metadata": {},
   "outputs": [
    {
     "data": {
      "text/plain": [
       "(2051.23, 1603.0)"
      ]
     },
     "execution_count": 41,
     "metadata": {},
     "output_type": "execute_result"
    }
   ],
   "source": [
    "max_price, lowest_price"
   ]
  },
  {
   "cell_type": "code",
   "execution_count": null,
   "metadata": {},
   "outputs": [],
   "source": []
  }
 ],
 "metadata": {
  "kernelspec": {
   "display_name": "Python 3",
   "language": "python",
   "name": "python3"
  },
  "language_info": {
   "codemirror_mode": {
    "name": "ipython",
    "version": 3
   },
   "file_extension": ".py",
   "mimetype": "text/x-python",
   "name": "python",
   "nbconvert_exporter": "python",
   "pygments_lexer": "ipython3",
   "version": "3.7.4"
  }
 },
 "nbformat": 4,
 "nbformat_minor": 4
}
