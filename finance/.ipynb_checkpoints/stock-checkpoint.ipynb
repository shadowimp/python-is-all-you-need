{
 "cells": [
  {
   "cell_type": "code",
   "execution_count": 78,
   "metadata": {},
   "outputs": [],
   "source": [
    "### pip install baostock\n",
    "### 文档 http://baostock.com/baostock/index.php/Python_API%E6%96%87%E6%A1%A3"
   ]
  },
  {
   "cell_type": "code",
   "execution_count": 1,
   "metadata": {},
   "outputs": [],
   "source": [
    "import baostock as bs \n",
    "import pandas as pd"
   ]
  },
  {
   "cell_type": "code",
   "execution_count": 2,
   "metadata": {},
   "outputs": [
    {
     "name": "stdout",
     "output_type": "stream",
     "text": [
      "login success!\n"
     ]
    }
   ],
   "source": [
    "lg = bs.login()"
   ]
  },
  {
   "cell_type": "code",
   "execution_count": 3,
   "metadata": {},
   "outputs": [
    {
     "name": "stdout",
     "output_type": "stream",
     "text": [
      "Help on package baostock:\n",
      "\n",
      "NAME\n",
      "    baostock\n",
      "\n",
      "DESCRIPTION\n",
      "    发布方法\n",
      "    @author: baostock.com\n",
      "    @group : baostock.com\n",
      "    @contact: baostock@163.com\n",
      "\n",
      "PACKAGE CONTENTS\n",
      "    common (package)\n",
      "    corpreport (package)\n",
      "    data (package)\n",
      "    evaluation (package)\n",
      "    login (package)\n",
      "    macroscopic (package)\n",
      "    metadata (package)\n",
      "    realtime (package)\n",
      "    security (package)\n",
      "    util (package)\n",
      "\n",
      "SUBMODULES\n",
      "    cons\n",
      "\n",
      "VERSION\n",
      "    00.8.80\n",
      "\n",
      "AUTHOR\n",
      "    baostock.com\n",
      "\n",
      "FILE\n",
      "    /Users/yuanbo6/opt/anaconda3/lib/python3.7/site-packages/baostock/__init__.py\n",
      "\n",
      "\n"
     ]
    }
   ],
   "source": [
    "help(bs)"
   ]
  },
  {
   "cell_type": "markdown",
   "metadata": {},
   "source": [
    "```\n",
    "历史行情指标参数\n",
    "日线指标参数（包含停牌证券）\n",
    "参数名称\t参数描述\t说明\n",
    "date\t交易所行情日期\t格式：YYYY-MM-DD\n",
    "code\t证券代码\t格式：sh.600000。sh：上海，sz：深圳\n",
    "open\t今开盘价格\t精度：小数点后4位；单位：人民币元\n",
    "high\t最高价\t精度：小数点后4位；单位：人民币元\n",
    "low\t最低价\t精度：小数点后4位；单位：人民币元\n",
    "close\t今收盘价\t精度：小数点后4位；单位：人民币元\n",
    "preclose\t昨日收盘价\t精度：小数点后4位；单位：人民币元\n",
    "volume\t成交数量\t单位：股\n",
    "amount\t成交金额\t精度：小数点后4位；单位：人民币元\n",
    "adjustflag\t复权状态\t不复权、前复权、后复权\n",
    "turn\t换手率\t精度：小数点后6位；单位：%\n",
    "tradestatus\t交易状态\t1：正常交易 0：停牌\n",
    "pctChg\t涨跌幅（百分比）\t精度：小数点后6位\n",
    "peTTM\t滚动市盈率\t精度：小数点后6位\n",
    "psTTM\t滚动市销率\t精度：小数点后6位\n",
    "pcfNcfTTM\t滚动市现率\t精度：小数点后6位\n",
    "pbMRQ\t市净率\t精度：小数点后6位\n",
    "isST\t是否ST\t1是，0否\n",
    "```"
   ]
  },
  {
   "cell_type": "code",
   "execution_count": 15,
   "metadata": {},
   "outputs": [],
   "source": [
    "stock_code = 'sh.600519'\n",
    "stock_info = 'date,code,open,close,high,low'\n",
    "start_date = '2021-01-01'\n",
    "end_date = '2021-01-31'"
   ]
  },
  {
   "cell_type": "code",
   "execution_count": 16,
   "metadata": {},
   "outputs": [],
   "source": [
    "rs = bs.query_history_k_data_plus(stock_code, stock_info, start_date, end_date, frequency='d')"
   ]
  },
  {
   "cell_type": "code",
   "execution_count": 17,
   "metadata": {},
   "outputs": [
    {
     "data": {
      "text/plain": [
       "baostock.data.resultset.ResultData"
      ]
     },
     "execution_count": 17,
     "metadata": {},
     "output_type": "execute_result"
    }
   ],
   "source": [
    "type(rs)"
   ]
  },
  {
   "cell_type": "code",
   "execution_count": 10,
   "metadata": {},
   "outputs": [],
   "source": [
    "data_list = []\n",
    "while rs.next():\n",
    "    data_list.append(rs.get_row_data())"
   ]
  },
  {
   "cell_type": "code",
   "execution_count": 11,
   "metadata": {},
   "outputs": [],
   "source": [
    "df = pd.DataFrame(data_list, columns = rs.fields)"
   ]
  },
  {
   "cell_type": "code",
   "execution_count": 12,
   "metadata": {},
   "outputs": [
    {
     "data": {
      "text/html": [
       "<div>\n",
       "<style scoped>\n",
       "    .dataframe tbody tr th:only-of-type {\n",
       "        vertical-align: middle;\n",
       "    }\n",
       "\n",
       "    .dataframe tbody tr th {\n",
       "        vertical-align: top;\n",
       "    }\n",
       "\n",
       "    .dataframe thead th {\n",
       "        text-align: right;\n",
       "    }\n",
       "</style>\n",
       "<table border=\"1\" class=\"dataframe\">\n",
       "  <thead>\n",
       "    <tr style=\"text-align: right;\">\n",
       "      <th></th>\n",
       "      <th>date</th>\n",
       "      <th>code</th>\n",
       "      <th>open</th>\n",
       "      <th>close</th>\n",
       "      <th>high</th>\n",
       "      <th>low</th>\n",
       "    </tr>\n",
       "  </thead>\n",
       "  <tbody>\n",
       "    <tr>\n",
       "      <td>0</td>\n",
       "      <td>2021-01-04</td>\n",
       "      <td>sh.600519</td>\n",
       "      <td>1999.9800</td>\n",
       "      <td>1997.0000</td>\n",
       "      <td>2004.9900</td>\n",
       "      <td>1983.8100</td>\n",
       "    </tr>\n",
       "    <tr>\n",
       "      <td>1</td>\n",
       "      <td>2021-01-05</td>\n",
       "      <td>sh.600519</td>\n",
       "      <td>1990.0000</td>\n",
       "      <td>2059.4500</td>\n",
       "      <td>2059.4500</td>\n",
       "      <td>1982.4600</td>\n",
       "    </tr>\n",
       "    <tr>\n",
       "      <td>2</td>\n",
       "      <td>2021-01-06</td>\n",
       "      <td>sh.600519</td>\n",
       "      <td>2064.8000</td>\n",
       "      <td>2100.0000</td>\n",
       "      <td>2125.0000</td>\n",
       "      <td>2036.0300</td>\n",
       "    </tr>\n",
       "    <tr>\n",
       "      <td>3</td>\n",
       "      <td>2021-01-07</td>\n",
       "      <td>sh.600519</td>\n",
       "      <td>2097.0000</td>\n",
       "      <td>2140.0000</td>\n",
       "      <td>2140.0000</td>\n",
       "      <td>2075.0000</td>\n",
       "    </tr>\n",
       "    <tr>\n",
       "      <td>4</td>\n",
       "      <td>2021-01-08</td>\n",
       "      <td>sh.600519</td>\n",
       "      <td>2142.0000</td>\n",
       "      <td>2090.0000</td>\n",
       "      <td>2150.8800</td>\n",
       "      <td>2063.0200</td>\n",
       "    </tr>\n",
       "    <tr>\n",
       "      <td>5</td>\n",
       "      <td>2021-01-11</td>\n",
       "      <td>sh.600519</td>\n",
       "      <td>2090.0000</td>\n",
       "      <td>2099.7300</td>\n",
       "      <td>2150.5000</td>\n",
       "      <td>2058.6000</td>\n",
       "    </tr>\n",
       "    <tr>\n",
       "      <td>6</td>\n",
       "      <td>2021-01-12</td>\n",
       "      <td>sh.600519</td>\n",
       "      <td>2088.0000</td>\n",
       "      <td>2160.9000</td>\n",
       "      <td>2160.9000</td>\n",
       "      <td>2085.0000</td>\n",
       "    </tr>\n",
       "    <tr>\n",
       "      <td>7</td>\n",
       "      <td>2021-01-13</td>\n",
       "      <td>sh.600519</td>\n",
       "      <td>2164.0000</td>\n",
       "      <td>2164.0000</td>\n",
       "      <td>2173.3300</td>\n",
       "      <td>2135.0000</td>\n",
       "    </tr>\n",
       "    <tr>\n",
       "      <td>8</td>\n",
       "      <td>2021-01-14</td>\n",
       "      <td>sh.600519</td>\n",
       "      <td>2156.0000</td>\n",
       "      <td>2134.0000</td>\n",
       "      <td>2163.0000</td>\n",
       "      <td>2116.1100</td>\n",
       "    </tr>\n",
       "    <tr>\n",
       "      <td>9</td>\n",
       "      <td>2021-01-15</td>\n",
       "      <td>sh.600519</td>\n",
       "      <td>2115.0000</td>\n",
       "      <td>2082.0000</td>\n",
       "      <td>2134.3500</td>\n",
       "      <td>2029.0000</td>\n",
       "    </tr>\n",
       "    <tr>\n",
       "      <td>10</td>\n",
       "      <td>2021-01-18</td>\n",
       "      <td>sh.600519</td>\n",
       "      <td>2061.0600</td>\n",
       "      <td>2063.0000</td>\n",
       "      <td>2091.4800</td>\n",
       "      <td>2040.2700</td>\n",
       "    </tr>\n",
       "    <tr>\n",
       "      <td>11</td>\n",
       "      <td>2021-01-19</td>\n",
       "      <td>sh.600519</td>\n",
       "      <td>2073.1100</td>\n",
       "      <td>2009.4100</td>\n",
       "      <td>2096.3000</td>\n",
       "      <td>2006.8500</td>\n",
       "    </tr>\n",
       "    <tr>\n",
       "      <td>12</td>\n",
       "      <td>2021-01-20</td>\n",
       "      <td>sh.600519</td>\n",
       "      <td>2008.0000</td>\n",
       "      <td>2040.6300</td>\n",
       "      <td>2055.4900</td>\n",
       "      <td>1982.5000</td>\n",
       "    </tr>\n",
       "    <tr>\n",
       "      <td>13</td>\n",
       "      <td>2021-01-21</td>\n",
       "      <td>sh.600519</td>\n",
       "      <td>2048.0000</td>\n",
       "      <td>2070.0000</td>\n",
       "      <td>2090.0200</td>\n",
       "      <td>2041.0000</td>\n",
       "    </tr>\n",
       "    <tr>\n",
       "      <td>14</td>\n",
       "      <td>2021-01-22</td>\n",
       "      <td>sh.600519</td>\n",
       "      <td>2069.0000</td>\n",
       "      <td>2079.9500</td>\n",
       "      <td>2100.0000</td>\n",
       "      <td>2060.1000</td>\n",
       "    </tr>\n",
       "    <tr>\n",
       "      <td>15</td>\n",
       "      <td>2021-01-25</td>\n",
       "      <td>sh.600519</td>\n",
       "      <td>2083.0000</td>\n",
       "      <td>2175.0000</td>\n",
       "      <td>2179.5000</td>\n",
       "      <td>2083.0000</td>\n",
       "    </tr>\n",
       "    <tr>\n",
       "      <td>16</td>\n",
       "      <td>2021-01-26</td>\n",
       "      <td>sh.600519</td>\n",
       "      <td>2185.0000</td>\n",
       "      <td>2141.8900</td>\n",
       "      <td>2187.0000</td>\n",
       "      <td>2125.1100</td>\n",
       "    </tr>\n",
       "    <tr>\n",
       "      <td>17</td>\n",
       "      <td>2021-01-27</td>\n",
       "      <td>sh.600519</td>\n",
       "      <td>2141.8900</td>\n",
       "      <td>2089.0000</td>\n",
       "      <td>2141.8900</td>\n",
       "      <td>2085.0000</td>\n",
       "    </tr>\n",
       "    <tr>\n",
       "      <td>18</td>\n",
       "      <td>2021-01-28</td>\n",
       "      <td>sh.600519</td>\n",
       "      <td>2080.0000</td>\n",
       "      <td>2088.0000</td>\n",
       "      <td>2109.6600</td>\n",
       "      <td>2060.0200</td>\n",
       "    </tr>\n",
       "    <tr>\n",
       "      <td>19</td>\n",
       "      <td>2021-01-29</td>\n",
       "      <td>sh.600519</td>\n",
       "      <td>2101.1900</td>\n",
       "      <td>2116.1800</td>\n",
       "      <td>2149.4800</td>\n",
       "      <td>2090.2200</td>\n",
       "    </tr>\n",
       "  </tbody>\n",
       "</table>\n",
       "</div>"
      ],
      "text/plain": [
       "          date       code       open      close       high        low\n",
       "0   2021-01-04  sh.600519  1999.9800  1997.0000  2004.9900  1983.8100\n",
       "1   2021-01-05  sh.600519  1990.0000  2059.4500  2059.4500  1982.4600\n",
       "2   2021-01-06  sh.600519  2064.8000  2100.0000  2125.0000  2036.0300\n",
       "3   2021-01-07  sh.600519  2097.0000  2140.0000  2140.0000  2075.0000\n",
       "4   2021-01-08  sh.600519  2142.0000  2090.0000  2150.8800  2063.0200\n",
       "5   2021-01-11  sh.600519  2090.0000  2099.7300  2150.5000  2058.6000\n",
       "6   2021-01-12  sh.600519  2088.0000  2160.9000  2160.9000  2085.0000\n",
       "7   2021-01-13  sh.600519  2164.0000  2164.0000  2173.3300  2135.0000\n",
       "8   2021-01-14  sh.600519  2156.0000  2134.0000  2163.0000  2116.1100\n",
       "9   2021-01-15  sh.600519  2115.0000  2082.0000  2134.3500  2029.0000\n",
       "10  2021-01-18  sh.600519  2061.0600  2063.0000  2091.4800  2040.2700\n",
       "11  2021-01-19  sh.600519  2073.1100  2009.4100  2096.3000  2006.8500\n",
       "12  2021-01-20  sh.600519  2008.0000  2040.6300  2055.4900  1982.5000\n",
       "13  2021-01-21  sh.600519  2048.0000  2070.0000  2090.0200  2041.0000\n",
       "14  2021-01-22  sh.600519  2069.0000  2079.9500  2100.0000  2060.1000\n",
       "15  2021-01-25  sh.600519  2083.0000  2175.0000  2179.5000  2083.0000\n",
       "16  2021-01-26  sh.600519  2185.0000  2141.8900  2187.0000  2125.1100\n",
       "17  2021-01-27  sh.600519  2141.8900  2089.0000  2141.8900  2085.0000\n",
       "18  2021-01-28  sh.600519  2080.0000  2088.0000  2109.6600  2060.0200\n",
       "19  2021-01-29  sh.600519  2101.1900  2116.1800  2149.4800  2090.2200"
      ]
     },
     "execution_count": 12,
     "metadata": {},
     "output_type": "execute_result"
    }
   ],
   "source": [
    "df "
   ]
  },
  {
   "cell_type": "code",
   "execution_count": 79,
   "metadata": {},
   "outputs": [],
   "source": [
    "##  tushare"
   ]
  },
  {
   "cell_type": "code",
   "execution_count": null,
   "metadata": {},
   "outputs": [],
   "source": [
    "## https://waditu.com/document/2?doc_id=14"
   ]
  },
  {
   "cell_type": "code",
   "execution_count": 57,
   "metadata": {},
   "outputs": [],
   "source": [
    "import tushare as ts"
   ]
  },
  {
   "cell_type": "code",
   "execution_count": 59,
   "metadata": {},
   "outputs": [
    {
     "name": "stdout",
     "output_type": "stream",
     "text": [
      "[Getting data:]##############################################"
     ]
    }
   ],
   "source": [
    "data = ts.get_today_all()"
   ]
  },
  {
   "cell_type": "code",
   "execution_count": 60,
   "metadata": {},
   "outputs": [
    {
     "data": {
      "text/plain": [
       "pandas.core.frame.DataFrame"
      ]
     },
     "execution_count": 60,
     "metadata": {},
     "output_type": "execute_result"
    }
   ],
   "source": [
    "type(data)"
   ]
  },
  {
   "cell_type": "code",
   "execution_count": null,
   "metadata": {},
   "outputs": [],
   "source": []
  },
  {
   "cell_type": "code",
   "execution_count": 67,
   "metadata": {},
   "outputs": [],
   "source": [
    "stock_list = list(data['name'])"
   ]
  },
  {
   "cell_type": "code",
   "execution_count": null,
   "metadata": {},
   "outputs": [],
   "source": [
    "116 \t 金融 \t 116103 \t 证券"
   ]
  },
  {
   "cell_type": "code",
   "execution_count": 77,
   "metadata": {},
   "outputs": [],
   "source": [
    "with open('stock_keyword.txt','w') as fw:\n",
    "    for stock in stock_list:\n",
    "        if  \" \" in stock:\n",
    "            stock = \"\".join(stock.split())\n",
    "        new_line = [\"金融\", \"116\",\"证券\", \"116103\",stock]\n",
    "        new_line = \"\\t\".join(new_line)\n",
    "        fw.write(new_line)\n",
    "        fw.write('\\n')"
   ]
  },
  {
   "cell_type": "code",
   "execution_count": null,
   "metadata": {},
   "outputs": [],
   "source": []
  }
 ],
 "metadata": {
  "kernelspec": {
   "display_name": "Python 3",
   "language": "python",
   "name": "python3"
  },
  "language_info": {
   "codemirror_mode": {
    "name": "ipython",
    "version": 3
   },
   "file_extension": ".py",
   "mimetype": "text/x-python",
   "name": "python",
   "nbconvert_exporter": "python",
   "pygments_lexer": "ipython3",
   "version": "3.7.4"
  }
 },
 "nbformat": 4,
 "nbformat_minor": 4
}
