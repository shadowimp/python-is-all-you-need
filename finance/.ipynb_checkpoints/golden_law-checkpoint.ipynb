{
 "cells": [
  {
   "cell_type": "markdown",
   "metadata": {},
   "source": [
    "### 黄金分割率"
   ]
  },
  {
   "cell_type": "code",
   "execution_count": 234,
   "metadata": {},
   "outputs": [],
   "source": [
    "import baostock as bs \n",
    "import pandas as pd"
   ]
  },
  {
   "cell_type": "code",
   "execution_count": 235,
   "metadata": {},
   "outputs": [
    {
     "name": "stdout",
     "output_type": "stream",
     "text": [
      "login success!\n"
     ]
    }
   ],
   "source": [
    "lg = bs.login()"
   ]
  },
  {
   "cell_type": "code",
   "execution_count": 236,
   "metadata": {},
   "outputs": [
    {
     "name": "stdout",
     "output_type": "stream",
     "text": [
      "2022-10-12\n"
     ]
    }
   ],
   "source": [
    "import datetime\n",
    "today_date = datetime.datetime.now() - datetime.timedelta(days=0) \n",
    "today_date = today_date.strftime(\"%Y-%m-%d\")\n",
    "print(today_date)"
   ]
  },
  {
   "cell_type": "code",
   "execution_count": 242,
   "metadata": {},
   "outputs": [],
   "source": [
    "stock_code = 'sh.000300'\n",
    "stock_info = 'date,code,open,close,high,low'\n",
    "start_date = '2021-01-01'\n",
    "end_date = today_date"
   ]
  },
  {
   "cell_type": "code",
   "execution_count": 243,
   "metadata": {},
   "outputs": [],
   "source": [
    "rs = bs.query_history_k_data_plus(stock_code, stock_info, start_date, end_date, frequency='d',adjustflag=\"2\") #前复权"
   ]
  },
  {
   "cell_type": "code",
   "execution_count": 244,
   "metadata": {},
   "outputs": [],
   "source": [
    "data_list = []\n",
    "while rs.next():\n",
    "    data_list.append(rs.get_row_data())"
   ]
  },
  {
   "cell_type": "code",
   "execution_count": 245,
   "metadata": {},
   "outputs": [],
   "source": [
    "df = pd.DataFrame(data_list, columns = rs.fields)"
   ]
  },
  {
   "cell_type": "code",
   "execution_count": 246,
   "metadata": {},
   "outputs": [
    {
     "data": {
      "text/html": [
       "<div>\n",
       "<style scoped>\n",
       "    .dataframe tbody tr th:only-of-type {\n",
       "        vertical-align: middle;\n",
       "    }\n",
       "\n",
       "    .dataframe tbody tr th {\n",
       "        vertical-align: top;\n",
       "    }\n",
       "\n",
       "    .dataframe thead th {\n",
       "        text-align: right;\n",
       "    }\n",
       "</style>\n",
       "<table border=\"1\" class=\"dataframe\">\n",
       "  <thead>\n",
       "    <tr style=\"text-align: right;\">\n",
       "      <th></th>\n",
       "      <th>date</th>\n",
       "      <th>code</th>\n",
       "      <th>open</th>\n",
       "      <th>close</th>\n",
       "      <th>high</th>\n",
       "      <th>low</th>\n",
       "    </tr>\n",
       "  </thead>\n",
       "  <tbody>\n",
       "    <tr>\n",
       "      <td>0</td>\n",
       "      <td>2021-01-04</td>\n",
       "      <td>sh.000300</td>\n",
       "      <td>5212.9313</td>\n",
       "      <td>5267.7181</td>\n",
       "      <td>5284.4343</td>\n",
       "      <td>5190.9372</td>\n",
       "    </tr>\n",
       "    <tr>\n",
       "      <td>1</td>\n",
       "      <td>2021-01-05</td>\n",
       "      <td>sh.000300</td>\n",
       "      <td>5245.8355</td>\n",
       "      <td>5368.5049</td>\n",
       "      <td>5368.5049</td>\n",
       "      <td>5234.3775</td>\n",
       "    </tr>\n",
       "    <tr>\n",
       "      <td>2</td>\n",
       "      <td>2021-01-06</td>\n",
       "      <td>sh.000300</td>\n",
       "      <td>5386.5144</td>\n",
       "      <td>5417.6677</td>\n",
       "      <td>5433.4694</td>\n",
       "      <td>5341.4304</td>\n",
       "    </tr>\n",
       "    <tr>\n",
       "      <td>3</td>\n",
       "      <td>2021-01-07</td>\n",
       "      <td>sh.000300</td>\n",
       "      <td>5428.3944</td>\n",
       "      <td>5513.6568</td>\n",
       "      <td>5513.6568</td>\n",
       "      <td>5413.3526</td>\n",
       "    </tr>\n",
       "    <tr>\n",
       "      <td>4</td>\n",
       "      <td>2021-01-08</td>\n",
       "      <td>sh.000300</td>\n",
       "      <td>5526.2876</td>\n",
       "      <td>5495.4306</td>\n",
       "      <td>5547.4733</td>\n",
       "      <td>5442.6939</td>\n",
       "    </tr>\n",
       "    <tr>\n",
       "      <td>...</td>\n",
       "      <td>...</td>\n",
       "      <td>...</td>\n",
       "      <td>...</td>\n",
       "      <td>...</td>\n",
       "      <td>...</td>\n",
       "      <td>...</td>\n",
       "    </tr>\n",
       "    <tr>\n",
       "      <td>422</td>\n",
       "      <td>2022-09-28</td>\n",
       "      <td>sh.000300</td>\n",
       "      <td>3879.4398</td>\n",
       "      <td>3828.7098</td>\n",
       "      <td>3879.4398</td>\n",
       "      <td>3828.0545</td>\n",
       "    </tr>\n",
       "    <tr>\n",
       "      <td>423</td>\n",
       "      <td>2022-09-29</td>\n",
       "      <td>sh.000300</td>\n",
       "      <td>3864.3160</td>\n",
       "      <td>3827.1434</td>\n",
       "      <td>3873.1823</td>\n",
       "      <td>3808.6496</td>\n",
       "    </tr>\n",
       "    <tr>\n",
       "      <td>424</td>\n",
       "      <td>2022-09-30</td>\n",
       "      <td>sh.000300</td>\n",
       "      <td>3833.3504</td>\n",
       "      <td>3804.8853</td>\n",
       "      <td>3848.6018</td>\n",
       "      <td>3801.2798</td>\n",
       "    </tr>\n",
       "    <tr>\n",
       "      <td>425</td>\n",
       "      <td>2022-10-10</td>\n",
       "      <td>sh.000300</td>\n",
       "      <td>3806.5596</td>\n",
       "      <td>3720.9365</td>\n",
       "      <td>3807.4574</td>\n",
       "      <td>3715.7142</td>\n",
       "    </tr>\n",
       "    <tr>\n",
       "      <td>426</td>\n",
       "      <td>2022-10-11</td>\n",
       "      <td>sh.000300</td>\n",
       "      <td>3732.0191</td>\n",
       "      <td>3727.6867</td>\n",
       "      <td>3739.8084</td>\n",
       "      <td>3706.0629</td>\n",
       "    </tr>\n",
       "  </tbody>\n",
       "</table>\n",
       "<p>427 rows × 6 columns</p>\n",
       "</div>"
      ],
      "text/plain": [
       "           date       code       open      close       high        low\n",
       "0    2021-01-04  sh.000300  5212.9313  5267.7181  5284.4343  5190.9372\n",
       "1    2021-01-05  sh.000300  5245.8355  5368.5049  5368.5049  5234.3775\n",
       "2    2021-01-06  sh.000300  5386.5144  5417.6677  5433.4694  5341.4304\n",
       "3    2021-01-07  sh.000300  5428.3944  5513.6568  5513.6568  5413.3526\n",
       "4    2021-01-08  sh.000300  5526.2876  5495.4306  5547.4733  5442.6939\n",
       "..          ...        ...        ...        ...        ...        ...\n",
       "422  2022-09-28  sh.000300  3879.4398  3828.7098  3879.4398  3828.0545\n",
       "423  2022-09-29  sh.000300  3864.3160  3827.1434  3873.1823  3808.6496\n",
       "424  2022-09-30  sh.000300  3833.3504  3804.8853  3848.6018  3801.2798\n",
       "425  2022-10-10  sh.000300  3806.5596  3720.9365  3807.4574  3715.7142\n",
       "426  2022-10-11  sh.000300  3732.0191  3727.6867  3739.8084  3706.0629\n",
       "\n",
       "[427 rows x 6 columns]"
      ]
     },
     "execution_count": 246,
     "metadata": {},
     "output_type": "execute_result"
    }
   ],
   "source": [
    "df "
   ]
  },
  {
   "cell_type": "code",
   "execution_count": 247,
   "metadata": {},
   "outputs": [],
   "source": [
    "lowest_price,max_price = float(df['low'][0] ),float(df['high'][0] )\n",
    "for i in range(len(df)):\n",
    "    stock_price = float(df['close'][i] )\n",
    "    max_price = max(max_price,stock_price)\n",
    "    lowest_price = min(lowest_price,stock_price)\n",
    "    if stock_price < max_price*0.618:\n",
    "        print(df['date'][i],stock_price)"
   ]
  },
  {
   "cell_type": "code",
   "execution_count": 248,
   "metadata": {},
   "outputs": [
    {
     "data": {
      "text/plain": [
       "(5807.7191, 3720.9365)"
      ]
     },
     "execution_count": 248,
     "metadata": {},
     "output_type": "execute_result"
    }
   ],
   "source": [
    "max_price, lowest_price"
   ]
  },
  {
   "cell_type": "code",
   "execution_count": 184,
   "metadata": {},
   "outputs": [
    {
     "name": "stdout",
     "output_type": "stream",
     "text": [
      "2022-10-11\n"
     ]
    }
   ],
   "source": [
    "import datetime\n",
    "today_date = datetime.datetime.now() - datetime.timedelta(days=0) \n",
    "today_date = today_date.strftime(\"%Y-%m-%d\")\n",
    "print(today_date)"
   ]
  },
  {
   "cell_type": "code",
   "execution_count": 189,
   "metadata": {},
   "outputs": [],
   "source": [
    "class Golden_law:\n",
    "    def __init__(self,stock_code,start_date='2021-01-01'):\n",
    "        self.stock_code = stock_code\n",
    "        self.start_date = start_date\n",
    "        stock_info = 'date,code,open,close,high,low'\n",
    "        self.end_date = today_date\n",
    "        rs = bs.query_history_k_data_plus(self.stock_code, stock_info, self.start_date, self.end_date, frequency='d',adjustflag=\"2\") #前复权\n",
    "        data_list = []\n",
    "        while rs.next():\n",
    "            data_list.append(rs.get_row_data())    \n",
    "        df = pd.DataFrame(data_list, columns = rs.fields)\n",
    "        lowest_price,max_price = float(df['low'][0] ),float(df['high'][0] )\n",
    "        for i in range(len(df)):\n",
    "            stock_price = float(df['close'][i] )\n",
    "            max_price = max(max_price,stock_price)\n",
    "            lowest_price = min(lowest_price,stock_price)\n",
    "        self.lowest_price = lowest_price\n",
    "        self.max_price = max_price\n",
    "        self.df = df\n",
    "    def max_price():\n",
    "        return self.max_price\n",
    "    \n",
    "#     def today_price():\n",
    "#         return self.df.loc[len(df)-1,'close']\n",
    "        \n"
   ]
  },
  {
   "cell_type": "code",
   "execution_count": 194,
   "metadata": {},
   "outputs": [
    {
     "data": {
      "text/html": [
       "<div>\n",
       "<style scoped>\n",
       "    .dataframe tbody tr th:only-of-type {\n",
       "        vertical-align: middle;\n",
       "    }\n",
       "\n",
       "    .dataframe tbody tr th {\n",
       "        vertical-align: top;\n",
       "    }\n",
       "\n",
       "    .dataframe thead th {\n",
       "        text-align: right;\n",
       "    }\n",
       "</style>\n",
       "<table border=\"1\" class=\"dataframe\">\n",
       "  <thead>\n",
       "    <tr style=\"text-align: right;\">\n",
       "      <th></th>\n",
       "      <th>date</th>\n",
       "      <th>code</th>\n",
       "      <th>open</th>\n",
       "      <th>close</th>\n",
       "      <th>high</th>\n",
       "      <th>low</th>\n",
       "    </tr>\n",
       "  </thead>\n",
       "  <tbody>\n",
       "    <tr>\n",
       "      <td>0</td>\n",
       "      <td>2021-01-04</td>\n",
       "      <td>sh.601633</td>\n",
       "      <td>35.5295463600</td>\n",
       "      <td>37.4870158300</td>\n",
       "      <td>38.6575629000</td>\n",
       "      <td>35.4213445300</td>\n",
       "    </tr>\n",
       "    <tr>\n",
       "      <td>1</td>\n",
       "      <td>2021-01-05</td>\n",
       "      <td>sh.601633</td>\n",
       "      <td>37.4870158300</td>\n",
       "      <td>37.6640733700</td>\n",
       "      <td>38.1263902800</td>\n",
       "      <td>36.4049975300</td>\n",
       "    </tr>\n",
       "    <tr>\n",
       "      <td>2</td>\n",
       "      <td>2021-01-06</td>\n",
       "      <td>sh.601633</td>\n",
       "      <td>37.5657080700</td>\n",
       "      <td>37.0050258600</td>\n",
       "      <td>38.4411592400</td>\n",
       "      <td>35.9525171500</td>\n",
       "    </tr>\n",
       "    <tr>\n",
       "      <td>3</td>\n",
       "      <td>2021-01-07</td>\n",
       "      <td>sh.601633</td>\n",
       "      <td>36.7886222000</td>\n",
       "      <td>40.7035611400</td>\n",
       "      <td>40.7035611400</td>\n",
       "      <td>36.3853244700</td>\n",
       "    </tr>\n",
       "    <tr>\n",
       "      <td>4</td>\n",
       "      <td>2021-01-08</td>\n",
       "      <td>sh.601633</td>\n",
       "      <td>41.5199931300</td>\n",
       "      <td>41.8052525000</td>\n",
       "      <td>42.3364251200</td>\n",
       "      <td>39.3461200000</td>\n",
       "    </tr>\n",
       "    <tr>\n",
       "      <td>...</td>\n",
       "      <td>...</td>\n",
       "      <td>...</td>\n",
       "      <td>...</td>\n",
       "      <td>...</td>\n",
       "      <td>...</td>\n",
       "      <td>...</td>\n",
       "    </tr>\n",
       "    <tr>\n",
       "      <td>422</td>\n",
       "      <td>2022-09-28</td>\n",
       "      <td>sh.601633</td>\n",
       "      <td>29.3700000000</td>\n",
       "      <td>28.1100000000</td>\n",
       "      <td>29.3800000000</td>\n",
       "      <td>28.1000000000</td>\n",
       "    </tr>\n",
       "    <tr>\n",
       "      <td>423</td>\n",
       "      <td>2022-09-29</td>\n",
       "      <td>sh.601633</td>\n",
       "      <td>28.6500000000</td>\n",
       "      <td>28.1000000000</td>\n",
       "      <td>28.8000000000</td>\n",
       "      <td>28.0200000000</td>\n",
       "    </tr>\n",
       "    <tr>\n",
       "      <td>424</td>\n",
       "      <td>2022-09-30</td>\n",
       "      <td>sh.601633</td>\n",
       "      <td>28.0500000000</td>\n",
       "      <td>27.8000000000</td>\n",
       "      <td>28.3500000000</td>\n",
       "      <td>27.6800000000</td>\n",
       "    </tr>\n",
       "    <tr>\n",
       "      <td>425</td>\n",
       "      <td>2022-10-10</td>\n",
       "      <td>sh.601633</td>\n",
       "      <td>27.0100000000</td>\n",
       "      <td>26.1200000000</td>\n",
       "      <td>27.3600000000</td>\n",
       "      <td>26.0000000000</td>\n",
       "    </tr>\n",
       "    <tr>\n",
       "      <td>426</td>\n",
       "      <td>2022-10-11</td>\n",
       "      <td>sh.601633</td>\n",
       "      <td>26.0700000000</td>\n",
       "      <td>26.0900000000</td>\n",
       "      <td>26.3600000000</td>\n",
       "      <td>25.4900000000</td>\n",
       "    </tr>\n",
       "  </tbody>\n",
       "</table>\n",
       "<p>427 rows × 6 columns</p>\n",
       "</div>"
      ],
      "text/plain": [
       "           date       code           open          close           high  \\\n",
       "0    2021-01-04  sh.601633  35.5295463600  37.4870158300  38.6575629000   \n",
       "1    2021-01-05  sh.601633  37.4870158300  37.6640733700  38.1263902800   \n",
       "2    2021-01-06  sh.601633  37.5657080700  37.0050258600  38.4411592400   \n",
       "3    2021-01-07  sh.601633  36.7886222000  40.7035611400  40.7035611400   \n",
       "4    2021-01-08  sh.601633  41.5199931300  41.8052525000  42.3364251200   \n",
       "..          ...        ...            ...            ...            ...   \n",
       "422  2022-09-28  sh.601633  29.3700000000  28.1100000000  29.3800000000   \n",
       "423  2022-09-29  sh.601633  28.6500000000  28.1000000000  28.8000000000   \n",
       "424  2022-09-30  sh.601633  28.0500000000  27.8000000000  28.3500000000   \n",
       "425  2022-10-10  sh.601633  27.0100000000  26.1200000000  27.3600000000   \n",
       "426  2022-10-11  sh.601633  26.0700000000  26.0900000000  26.3600000000   \n",
       "\n",
       "               low  \n",
       "0    35.4213445300  \n",
       "1    36.4049975300  \n",
       "2    35.9525171500  \n",
       "3    36.3853244700  \n",
       "4    39.3461200000  \n",
       "..             ...  \n",
       "422  28.1000000000  \n",
       "423  28.0200000000  \n",
       "424  27.6800000000  \n",
       "425  26.0000000000  \n",
       "426  25.4900000000  \n",
       "\n",
       "[427 rows x 6 columns]"
      ]
     },
     "execution_count": 194,
     "metadata": {},
     "output_type": "execute_result"
    }
   ],
   "source": [
    "df "
   ]
  },
  {
   "cell_type": "code",
   "execution_count": 227,
   "metadata": {},
   "outputs": [],
   "source": [
    "gl = Golden_law(stock_code='sz.000333')"
   ]
  },
  {
   "cell_type": "code",
   "execution_count": 228,
   "metadata": {},
   "outputs": [
    {
     "data": {
      "text/plain": [
       "101.78095617"
      ]
     },
     "execution_count": 228,
     "metadata": {},
     "output_type": "execute_result"
    }
   ],
   "source": [
    "gl.max_price"
   ]
  },
  {
   "cell_type": "code",
   "execution_count": null,
   "metadata": {},
   "outputs": [],
   "source": [
    "\n",
    "def gloden_law(stock_code,start_date = '2021-01-01'):\n",
    "    \n",
    "    \n",
    "    "
   ]
  }
 ],
 "metadata": {
  "kernelspec": {
   "display_name": "Python 3",
   "language": "python",
   "name": "python3"
  },
  "language_info": {
   "codemirror_mode": {
    "name": "ipython",
    "version": 3
   },
   "file_extension": ".py",
   "mimetype": "text/x-python",
   "name": "python",
   "nbconvert_exporter": "python",
   "pygments_lexer": "ipython3",
   "version": "3.7.4"
  }
 },
 "nbformat": 4,
 "nbformat_minor": 4
}
