{
 "cells": [
  {
   "cell_type": "code",
   "execution_count": 28,
   "metadata": {},
   "outputs": [],
   "source": [
    "import requests\n",
    "import json"
   ]
  },
  {
   "cell_type": "code",
   "execution_count": 29,
   "metadata": {},
   "outputs": [],
   "source": [
    "url = 'https://stock.xueqiu.com/v5/stock/realtime/quotec.json?symbol=SH000300'"
   ]
  },
  {
   "cell_type": "code",
   "execution_count": 39,
   "metadata": {},
   "outputs": [],
   "source": [
    "he = {\n",
    "        \"User-agent\": \"Mozilla/5.0 (Windows NT 10.0; Win64; x64) AppleWebKit/537.36 (KHTML, like Gecko) Chrome/98.0.4758.102 Safari/537.36 Edg/98.0.1108.62\"\n",
    "    } "
   ]
  },
  {
   "cell_type": "code",
   "execution_count": 41,
   "metadata": {},
   "outputs": [],
   "source": [
    "res = requests.get(url,headers=he)"
   ]
  },
  {
   "cell_type": "code",
   "execution_count": 42,
   "metadata": {},
   "outputs": [
    {
     "data": {
      "text/plain": [
       "<Response [200]>"
      ]
     },
     "execution_count": 42,
     "metadata": {},
     "output_type": "execute_result"
    }
   ],
   "source": [
    "res"
   ]
  },
  {
   "cell_type": "code",
   "execution_count": 43,
   "metadata": {},
   "outputs": [
    {
     "data": {
      "text/plain": [
       "200"
      ]
     },
     "execution_count": 43,
     "metadata": {},
     "output_type": "execute_result"
    }
   ],
   "source": [
    "res.status_code"
   ]
  },
  {
   "cell_type": "code",
   "execution_count": 45,
   "metadata": {},
   "outputs": [
    {
     "data": {
      "text/plain": [
       "'{\"data\":[{\"symbol\":\"SH000300\",\"current\":3720.94,\"percent\":-2.21,\"chg\":-83.95,\"timestamp\":1665385200000,\"volume\":10264759500,\"amount\":1.946359040943E11,\"market_capital\":null,\"float_market_capital\":null,\"turnover_rate\":0.36,\"amplitude\":2.41,\"open\":3806.56,\"last_close\":3804.89,\"high\":3807.46,\"low\":3715.71,\"avg_price\":3720.94,\"trade_volume\":null,\"side\":null,\"is_trade\":false,\"level\":3,\"trade_session\":null,\"trade_type\":null,\"current_year_percent\":-24.68,\"trade_unique_id\":null,\"type\":12,\"bid_appl_seq_num\":null,\"offer_appl_seq_num\":null,\"volume_ext\":null,\"traded_amount_ext\":null,\"trade_type_v2\":null}],\"error_code\":0,\"error_description\":null}'"
      ]
     },
     "execution_count": 45,
     "metadata": {},
     "output_type": "execute_result"
    }
   ],
   "source": [
    "res.text"
   ]
  },
  {
   "cell_type": "markdown",
   "metadata": {},
   "source": [
    "### pysnowball\n",
    "https://github.com/uname-yang/pysnowball"
   ]
  },
  {
   "cell_type": "code",
   "execution_count": 53,
   "metadata": {},
   "outputs": [],
   "source": [
    "import pysnowball as sb"
   ]
  },
  {
   "cell_type": "code",
   "execution_count": 74,
   "metadata": {},
   "outputs": [],
   "source": [
    "# get token : chrome - network - XHR - xq_a_token\n",
    "xq_a_token ='xq_a_token=10f1e707105c914c9271e14e0a5285a04ac15342;'\n"
   ]
  },
  {
   "cell_type": "code",
   "execution_count": 75,
   "metadata": {},
   "outputs": [
    {
     "data": {
      "text/plain": [
       "'xq_a_token=10f1e707105c914c9271e14e0a5285a04ac15342;'"
      ]
     },
     "execution_count": 75,
     "metadata": {},
     "output_type": "execute_result"
    }
   ],
   "source": [
    "sb.set_token(xq_a_token)"
   ]
  },
  {
   "cell_type": "code",
   "execution_count": 76,
   "metadata": {},
   "outputs": [
    {
     "data": {
      "text/plain": [
       "{'data': {'cubes': [{'id': -27,\n",
       "    'name': '沪深',\n",
       "    'order_id': 5,\n",
       "    'category': 3,\n",
       "    'include': False,\n",
       "    'symbol_count': 2,\n",
       "    'type': -1,\n",
       "    'created_at': 1662441375596,\n",
       "    'updated_at': 1662441375596},\n",
       "   {'id': -26,\n",
       "    'name': '港股',\n",
       "    'order_id': 8,\n",
       "    'category': 3,\n",
       "    'include': False,\n",
       "    'symbol_count': 0,\n",
       "    'type': -1,\n",
       "    'created_at': 1662441375598,\n",
       "    'updated_at': 1662441375598},\n",
       "   {'id': -120,\n",
       "    'name': '全部',\n",
       "    'order_id': 9,\n",
       "    'category': 3,\n",
       "    'include': False,\n",
       "    'symbol_count': 2,\n",
       "    'type': -1,\n",
       "    'created_at': 1662441375599,\n",
       "    'updated_at': 1662441375599},\n",
       "   {'id': -25,\n",
       "    'name': '美股',\n",
       "    'order_id': 11,\n",
       "    'category': 3,\n",
       "    'include': False,\n",
       "    'symbol_count': 0,\n",
       "    'type': -1,\n",
       "    'created_at': 1662441375600,\n",
       "    'updated_at': 1662441375600},\n",
       "   {'id': -24,\n",
       "    'name': '我的',\n",
       "    'order_id': 14,\n",
       "    'category': 3,\n",
       "    'include': False,\n",
       "    'symbol_count': 1,\n",
       "    'type': -1,\n",
       "    'created_at': 1662441375603,\n",
       "    'updated_at': 1662441375603}],\n",
       "  'funds': [{'id': -17,\n",
       "    'name': '基金',\n",
       "    'order_id': 3,\n",
       "    'category': 2,\n",
       "    'include': False,\n",
       "    'symbol_count': 11,\n",
       "    'type': -1,\n",
       "    'created_at': 1662441375594,\n",
       "    'updated_at': 1662441375594},\n",
       "   {'id': -110,\n",
       "    'name': '全部',\n",
       "    'order_id': 7,\n",
       "    'category': 2,\n",
       "    'include': False,\n",
       "    'symbol_count': 11,\n",
       "    'type': -1,\n",
       "    'created_at': 1662441375597,\n",
       "    'updated_at': 1662441375597},\n",
       "   {'id': -16,\n",
       "    'name': '私募',\n",
       "    'order_id': 17,\n",
       "    'category': 2,\n",
       "    'include': False,\n",
       "    'symbol_count': 0,\n",
       "    'type': -1,\n",
       "    'created_at': 1662441375605,\n",
       "    'updated_at': 1662441375605}],\n",
       "  'stocks': [{'id': -1,\n",
       "    'name': '全部',\n",
       "    'order_id': 1,\n",
       "    'category': 1,\n",
       "    'include': False,\n",
       "    'symbol_count': 66,\n",
       "    'type': -1,\n",
       "    'created_at': 1662441375592,\n",
       "    'updated_at': 1662441375592},\n",
       "   {'id': -5,\n",
       "    'name': '沪深',\n",
       "    'order_id': 2,\n",
       "    'category': 1,\n",
       "    'include': False,\n",
       "    'symbol_count': 40,\n",
       "    'type': -1,\n",
       "    'created_at': 1662441375593,\n",
       "    'updated_at': 1662441375593},\n",
       "   {'id': -7,\n",
       "    'name': '港股',\n",
       "    'order_id': 4,\n",
       "    'category': 1,\n",
       "    'include': False,\n",
       "    'symbol_count': 10,\n",
       "    'type': -1,\n",
       "    'created_at': 1662441375595,\n",
       "    'updated_at': 1662441375595},\n",
       "   {'id': -6,\n",
       "    'name': '美股',\n",
       "    'order_id': 6,\n",
       "    'category': 1,\n",
       "    'include': False,\n",
       "    'symbol_count': 16,\n",
       "    'type': -1,\n",
       "    'created_at': 1662441375596,\n",
       "    'updated_at': 1662441375596},\n",
       "   {'id': 0,\n",
       "    'name': 'ETF',\n",
       "    'order_id': 10,\n",
       "    'category': 1,\n",
       "    'include': False,\n",
       "    'symbol_count': 0,\n",
       "    'type': 1,\n",
       "    'created_at': 1651951105517,\n",
       "    'updated_at': 1651951105517},\n",
       "   {'id': 1,\n",
       "    'name': '高端消费',\n",
       "    'order_id': 12,\n",
       "    'category': 1,\n",
       "    'include': False,\n",
       "    'symbol_count': 0,\n",
       "    'type': 1,\n",
       "    'created_at': 1660288815753,\n",
       "    'updated_at': 1660288815753},\n",
       "   {'id': -4,\n",
       "    'name': '模拟',\n",
       "    'order_id': 16,\n",
       "    'category': 1,\n",
       "    'include': False,\n",
       "    'symbol_count': 1,\n",
       "    'type': -1,\n",
       "    'created_at': 1662441375604,\n",
       "    'updated_at': 1662441375604}]},\n",
       " 'error_code': 0,\n",
       " 'error_description': ''}"
      ]
     },
     "execution_count": 76,
     "metadata": {},
     "output_type": "execute_result"
    }
   ],
   "source": [
    "sb.watch_list()"
   ]
  },
  {
   "cell_type": "code",
   "execution_count": 77,
   "metadata": {},
   "outputs": [],
   "source": [
    "stock_list = sb.watch_stock(-1)['data']['stocks']"
   ]
  },
  {
   "cell_type": "code",
   "execution_count": 78,
   "metadata": {},
   "outputs": [
    {
     "data": {
      "text/plain": [
       "[{'symbol': 'SH513100',\n",
       "  'name': '纳指ETF',\n",
       "  'type': 13,\n",
       "  'remark': '',\n",
       "  'exchange': 'SH',\n",
       "  'created': 1665381740318,\n",
       "  'category': 1},\n",
       " {'symbol': 'SZ300059',\n",
       "  'name': '东方财富',\n",
       "  'type': 11,\n",
       "  'remark': '',\n",
       "  'exchange': 'SZ',\n",
       "  'created': 1664110697420,\n",
       "  'category': 1},\n",
       " {'symbol': 'SH000300',\n",
       "  'name': '沪深300',\n",
       "  'type': 12,\n",
       "  'remark': '',\n",
       "  'exchange': 'SH',\n",
       "  'created': 1663916928461,\n",
       "  'category': 1}]"
      ]
     },
     "execution_count": 78,
     "metadata": {},
     "output_type": "execute_result"
    }
   ],
   "source": [
    "stock_list[:3]"
   ]
  },
  {
   "cell_type": "code",
   "execution_count": 83,
   "metadata": {},
   "outputs": [
    {
     "name": "stdout",
     "output_type": "stream",
     "text": [
      "SH513100 纳指ETF\n",
      "SZ300059 东方财富\n",
      "SH000300 沪深300\n",
      "SH510300 沪深300ETF\n",
      "SZ159938 医药卫生ETF\n",
      "SH512760 芯片ETF\n",
      "SH515790 光伏ETF\n",
      "SZ301071 力量钻石\n",
      "SH603486 科沃斯\n",
      "SZ300119 瑞普生物\n",
      "SH603605 珀莱雅\n",
      "SZ300957 贝泰妮\n",
      "SH601919 中远海控\n",
      "SZ159766 旅游ETF\n",
      "SH601633 长城汽车\n",
      "SZ159605 中概互联ETF\n",
      "SZ002959 小熊电器\n",
      "SZ300146 汤臣倍健\n",
      "SH513330 恒生互联网ETF\n",
      "SZ002891 中宠股份\n",
      "SZ000538 云南白药\n",
      "SZ300015 爱尔眼科\n",
      "SH601995 中金公司\n",
      "SH688363 华熙生物\n",
      "SZ300896 爱美客\n",
      "SZ002415 海康威视\n",
      "SH601012 隆基绿能\n",
      "SH600276 恒瑞医药\n",
      "SH600887 伊利股份\n",
      "SH513050 中概互联网ETF\n",
      "SZ300750 宁德时代\n",
      "SZ002594 比亚迪\n",
      "SZ000895 双汇发展\n",
      "SZ002241 歌尔股份\n",
      "SZ002352 顺丰控股\n",
      "SZ000858 五粮液\n",
      "SZ000333 美的集团\n",
      "SH601888 中国中免\n",
      "SH600036 招商银行\n",
      "SZ002475 立讯精密\n"
     ]
    }
   ],
   "source": [
    "with open('stock_list','w') as fw:\n",
    "    for stock in stock_list:\n",
    "        if stock['exchange'] in ['SZ','SH']:\n",
    "            print(stock['symbol'],stock['name'])\n",
    "            fw.write(stock['symbol'] +'\\t' + stock['name'] +'\\n')"
   ]
  },
  {
   "cell_type": "code",
   "execution_count": 84,
   "metadata": {},
   "outputs": [
    {
     "data": {
      "text/plain": [
       "{'data': {'market': {'status_id': 5,\n",
       "   'region': 'CN',\n",
       "   'status': '交易中',\n",
       "   'time_zone': 'Asia/Shanghai',\n",
       "   'time_zone_desc': None,\n",
       "   'delay_tag': 0},\n",
       "  'quote': {'symbol': 'SH000300',\n",
       "   'flat_count': None,\n",
       "   'code': '000300',\n",
       "   'high52w': 5143.841,\n",
       "   'avg_price': 3685.57,\n",
       "   'delayed': 0,\n",
       "   'type': 12,\n",
       "   'percent': -1.13,\n",
       "   'tick_size': 0.01,\n",
       "   'float_shares': 2868446544066,\n",
       "   'amplitude': 1.37,\n",
       "   'current': 3685.57,\n",
       "   'high': 3723.3627,\n",
       "   'current_year_percent': -25.4,\n",
       "   'float_market_capital': None,\n",
       "   'issue_date': 1104422400000,\n",
       "   'low': 3672.1092,\n",
       "   'sub_type': '',\n",
       "   'market_capital': None,\n",
       "   'currency': 'CNY',\n",
       "   'lot_size': 100,\n",
       "   'lock_set': 0,\n",
       "   'timestamp': 1665543977880,\n",
       "   'fall_count': None,\n",
       "   'rise_count': None,\n",
       "   'amount': 89864013690.9,\n",
       "   'chg': -42.117,\n",
       "   'last_close': 3727.6867,\n",
       "   'volume': 4325612000,\n",
       "   'volume_ratio': 1.25,\n",
       "   'turnover_rate': 0.15,\n",
       "   'low52w': 3672.1092,\n",
       "   'name': '沪深300',\n",
       "   'exchange': 'SH',\n",
       "   'time': 1665543977880,\n",
       "   'total_shares': None,\n",
       "   'open': 3722.8659,\n",
       "   'status': 1},\n",
       "  'others': {'pankou_ratio': None, 'cyb_switch': True},\n",
       "  'tags': []},\n",
       " 'error_code': 0,\n",
       " 'error_description': ''}"
      ]
     },
     "execution_count": 84,
     "metadata": {},
     "output_type": "execute_result"
    }
   ],
   "source": [
    "sb.quote_detail('SH000300')"
   ]
  },
  {
   "cell_type": "code",
   "execution_count": null,
   "metadata": {},
   "outputs": [],
   "source": []
  }
 ],
 "metadata": {
  "kernelspec": {
   "display_name": "Python 3",
   "language": "python",
   "name": "python3"
  },
  "language_info": {
   "codemirror_mode": {
    "name": "ipython",
    "version": 3
   },
   "file_extension": ".py",
   "mimetype": "text/x-python",
   "name": "python",
   "nbconvert_exporter": "python",
   "pygments_lexer": "ipython3",
   "version": "3.7.4"
  }
 },
 "nbformat": 4,
 "nbformat_minor": 4
}
