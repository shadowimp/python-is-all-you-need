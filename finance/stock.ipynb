{
 "cells": [
  {
   "cell_type": "code",
   "execution_count": 78,
   "metadata": {},
   "outputs": [],
   "source": [
    "### pip install baostock\n",
    "### 文档 http://baostock.com/baostock/index.php/Python_API%E6%96%87%E6%A1%A3"
   ]
  },
  {
   "cell_type": "code",
   "execution_count": 1,
   "metadata": {},
   "outputs": [],
   "source": [
    "import baostock as bs \n",
    "import pandas as pd"
   ]
  },
  {
   "cell_type": "code",
   "execution_count": 2,
   "metadata": {},
   "outputs": [
    {
     "name": "stdout",
     "output_type": "stream",
     "text": [
      "login success!\n"
     ]
    }
   ],
   "source": [
    "lg = bs.login()"
   ]
  },
  {
   "cell_type": "code",
   "execution_count": 3,
   "metadata": {},
   "outputs": [
    {
     "name": "stdout",
     "output_type": "stream",
     "text": [
      "Help on package baostock:\n",
      "\n",
      "NAME\n",
      "    baostock\n",
      "\n",
      "DESCRIPTION\n",
      "    发布方法\n",
      "    @author: baostock.com\n",
      "    @group : baostock.com\n",
      "    @contact: baostock@163.com\n",
      "\n",
      "PACKAGE CONTENTS\n",
      "    common (package)\n",
      "    corpreport (package)\n",
      "    data (package)\n",
      "    evaluation (package)\n",
      "    login (package)\n",
      "    macroscopic (package)\n",
      "    metadata (package)\n",
      "    realtime (package)\n",
      "    security (package)\n",
      "    util (package)\n",
      "\n",
      "SUBMODULES\n",
      "    cons\n",
      "\n",
      "VERSION\n",
      "    00.8.80\n",
      "\n",
      "AUTHOR\n",
      "    baostock.com\n",
      "\n",
      "FILE\n",
      "    /Users/yuanbo6/opt/anaconda3/lib/python3.7/site-packages/baostock/__init__.py\n",
      "\n",
      "\n"
     ]
    }
   ],
   "source": [
    "help(bs)"
   ]
  },
  {
   "cell_type": "markdown",
   "metadata": {},
   "source": [
    "```\n",
    "历史行情指标参数\n",
    "日线指标参数（包含停牌证券）\n",
    "参数名称\t参数描述\t说明\n",
    "date\t交易所行情日期\t格式：YYYY-MM-DD\n",
    "code\t证券代码\t格式：sh.600000。sh：上海，sz：深圳\n",
    "open\t今开盘价格\t精度：小数点后4位；单位：人民币元\n",
    "high\t最高价\t精度：小数点后4位；单位：人民币元\n",
    "low\t最低价\t精度：小数点后4位；单位：人民币元\n",
    "close\t今收盘价\t精度：小数点后4位；单位：人民币元\n",
    "preclose\t昨日收盘价\t精度：小数点后4位；单位：人民币元\n",
    "volume\t成交数量\t单位：股\n",
    "amount\t成交金额\t精度：小数点后4位；单位：人民币元\n",
    "adjustflag\t复权状态\t不复权、前复权、后复权\n",
    "turn\t换手率\t精度：小数点后6位；单位：%\n",
    "tradestatus\t交易状态\t1：正常交易 0：停牌\n",
    "pctChg\t涨跌幅（百分比）\t精度：小数点后6位\n",
    "peTTM\t滚动市盈率\t精度：小数点后6位\n",
    "psTTM\t滚动市销率\t精度：小数点后6位\n",
    "pcfNcfTTM\t滚动市现率\t精度：小数点后6位\n",
    "pbMRQ\t市净率\t精度：小数点后6位\n",
    "isST\t是否ST\t1是，0否\n",
    "```"
   ]
  },
  {
   "cell_type": "code",
   "execution_count": 19,
   "metadata": {},
   "outputs": [],
   "source": [
    "stock_code = 'sh.600519'\n",
    "stock_info = 'date,code,open,close,high,low'\n",
    "start_date = '2021-01-01'\n",
    "end_date = '2021-01-31'"
   ]
  },
  {
   "cell_type": "code",
   "execution_count": 20,
   "metadata": {},
   "outputs": [
    {
     "ename": "KeyboardInterrupt",
     "evalue": "",
     "output_type": "error",
     "traceback": [
      "\u001b[0;31m---------------------------------------------------------------------------\u001b[0m",
      "\u001b[0;31mKeyboardInterrupt\u001b[0m                         Traceback (most recent call last)",
      "\u001b[0;32m<ipython-input-20-fd192f30197d>\u001b[0m in \u001b[0;36m<module>\u001b[0;34m\u001b[0m\n\u001b[0;32m----> 1\u001b[0;31m \u001b[0mrs\u001b[0m \u001b[0;34m=\u001b[0m \u001b[0mbs\u001b[0m\u001b[0;34m.\u001b[0m\u001b[0mquery_history_k_data_plus\u001b[0m\u001b[0;34m(\u001b[0m\u001b[0mstock_code\u001b[0m\u001b[0;34m,\u001b[0m \u001b[0mstock_info\u001b[0m\u001b[0;34m,\u001b[0m \u001b[0mstart_date\u001b[0m\u001b[0;34m,\u001b[0m \u001b[0mend_date\u001b[0m\u001b[0;34m,\u001b[0m \u001b[0mfrequency\u001b[0m\u001b[0;34m=\u001b[0m\u001b[0;34m'd'\u001b[0m\u001b[0;34m)\u001b[0m\u001b[0;34m\u001b[0m\u001b[0;34m\u001b[0m\u001b[0m\n\u001b[0m",
      "\u001b[0;32m~/opt/anaconda3/lib/python3.7/site-packages/baostock/security/history.py\u001b[0m in \u001b[0;36mquery_history_k_data_plus\u001b[0;34m(code, fields, start_date, end_date, frequency, adjustflag)\u001b[0m\n\u001b[1;32m     29\u001b[0m     \u001b[0;34m\"\"\"获取历史K线plus\"\"\"\u001b[0m\u001b[0;34m\u001b[0m\u001b[0;34m\u001b[0m\u001b[0m\n\u001b[1;32m     30\u001b[0m     return __query_history_k_data_plus_page(1, cons.BAOSTOCK_PER_PAGE_COUNT, code, fields, start_date,\n\u001b[0;32m---> 31\u001b[0;31m                                             end_date, frequency, adjustflag)\n\u001b[0m\u001b[1;32m     32\u001b[0m \u001b[0;34m\u001b[0m\u001b[0m\n\u001b[1;32m     33\u001b[0m \u001b[0;34m\u001b[0m\u001b[0m\n",
      "\u001b[0;32m~/opt/anaconda3/lib/python3.7/site-packages/baostock/security/history.py\u001b[0m in \u001b[0;36m__query_history_k_data_plus_page\u001b[0;34m(cur_page_num, per_page_count, code, fields, start_date, end_date, frequency, adjustflag)\u001b[0m\n\u001b[1;32m    222\u001b[0m     \u001b[0mcrc32str\u001b[0m \u001b[0;34m=\u001b[0m \u001b[0mzlib\u001b[0m\u001b[0;34m.\u001b[0m\u001b[0mcrc32\u001b[0m\u001b[0;34m(\u001b[0m\u001b[0mbytes\u001b[0m\u001b[0;34m(\u001b[0m\u001b[0mhead_body\u001b[0m\u001b[0;34m,\u001b[0m \u001b[0mencoding\u001b[0m\u001b[0;34m=\u001b[0m\u001b[0;34m'utf-8'\u001b[0m\u001b[0;34m)\u001b[0m\u001b[0;34m)\u001b[0m\u001b[0;34m\u001b[0m\u001b[0;34m\u001b[0m\u001b[0m\n\u001b[1;32m    223\u001b[0m \u001b[0;34m\u001b[0m\u001b[0m\n\u001b[0;32m--> 224\u001b[0;31m     \u001b[0mreceive_data\u001b[0m \u001b[0;34m=\u001b[0m \u001b[0msock\u001b[0m\u001b[0;34m.\u001b[0m\u001b[0msend_msg\u001b[0m\u001b[0;34m(\u001b[0m\u001b[0mhead_body\u001b[0m \u001b[0;34m+\u001b[0m \u001b[0mcons\u001b[0m\u001b[0;34m.\u001b[0m\u001b[0mMESSAGE_SPLIT\u001b[0m \u001b[0;34m+\u001b[0m \u001b[0mstr\u001b[0m\u001b[0;34m(\u001b[0m\u001b[0mcrc32str\u001b[0m\u001b[0;34m)\u001b[0m\u001b[0;34m)\u001b[0m\u001b[0;34m\u001b[0m\u001b[0;34m\u001b[0m\u001b[0m\n\u001b[0m\u001b[1;32m    225\u001b[0m \u001b[0;34m\u001b[0m\u001b[0m\n\u001b[1;32m    226\u001b[0m     \u001b[0;32mif\u001b[0m \u001b[0mreceive_data\u001b[0m \u001b[0;32mis\u001b[0m \u001b[0;32mNone\u001b[0m \u001b[0;32mor\u001b[0m \u001b[0mreceive_data\u001b[0m\u001b[0;34m.\u001b[0m\u001b[0mstrip\u001b[0m\u001b[0;34m(\u001b[0m\u001b[0;34m)\u001b[0m \u001b[0;34m==\u001b[0m \u001b[0;34m\"\"\u001b[0m\u001b[0;34m:\u001b[0m\u001b[0;34m\u001b[0m\u001b[0;34m\u001b[0m\u001b[0m\n",
      "\u001b[0;32m~/opt/anaconda3/lib/python3.7/site-packages/baostock/util/socketutil.py\u001b[0m in \u001b[0;36msend_msg\u001b[0;34m(msg)\u001b[0m\n\u001b[1;32m     66\u001b[0m                 \u001b[0mreceive\u001b[0m \u001b[0;34m=\u001b[0m \u001b[0;34mb\"\"\u001b[0m\u001b[0;34m\u001b[0m\u001b[0;34m\u001b[0m\u001b[0m\n\u001b[1;32m     67\u001b[0m                 \u001b[0;32mwhile\u001b[0m \u001b[0;32mTrue\u001b[0m\u001b[0;34m:\u001b[0m\u001b[0;34m\u001b[0m\u001b[0;34m\u001b[0m\u001b[0m\n\u001b[0;32m---> 68\u001b[0;31m                     \u001b[0mrecv\u001b[0m \u001b[0;34m=\u001b[0m \u001b[0mdefault_socket\u001b[0m\u001b[0;34m.\u001b[0m\u001b[0mrecv\u001b[0m\u001b[0;34m(\u001b[0m\u001b[0;36m8192\u001b[0m\u001b[0;34m)\u001b[0m\u001b[0;34m\u001b[0m\u001b[0;34m\u001b[0m\u001b[0m\n\u001b[0m\u001b[1;32m     69\u001b[0m                     \u001b[0mreceive\u001b[0m \u001b[0;34m+=\u001b[0m \u001b[0mrecv\u001b[0m\u001b[0;34m\u001b[0m\u001b[0;34m\u001b[0m\u001b[0m\n\u001b[1;32m     70\u001b[0m                     \u001b[0;31m# 判断是否读取完\u001b[0m\u001b[0;34m\u001b[0m\u001b[0;34m\u001b[0m\u001b[0;34m\u001b[0m\u001b[0m\n",
      "\u001b[0;31mKeyboardInterrupt\u001b[0m: "
     ]
    }
   ],
   "source": [
    "rs = bs.query_history_k_data_plus(stock_code, stock_info, start_date, end_date, frequency='d')"
   ]
  },
  {
   "cell_type": "code",
   "execution_count": null,
   "metadata": {},
   "outputs": [],
   "source": [
    "type(rs)"
   ]
  },
  {
   "cell_type": "code",
   "execution_count": null,
   "metadata": {},
   "outputs": [],
   "source": [
    "data_list = []\n",
    "while rs.next():\n",
    "    data_list.append(rs.get_row_data())"
   ]
  },
  {
   "cell_type": "code",
   "execution_count": null,
   "metadata": {},
   "outputs": [],
   "source": [
    "df = pd.DataFrame(data_list, columns = rs.fields)"
   ]
  },
  {
   "cell_type": "code",
   "execution_count": null,
   "metadata": {},
   "outputs": [],
   "source": [
    "df "
   ]
  },
  {
   "cell_type": "code",
   "execution_count": null,
   "metadata": {},
   "outputs": [],
   "source": [
    "##  tushare"
   ]
  },
  {
   "cell_type": "code",
   "execution_count": null,
   "metadata": {},
   "outputs": [],
   "source": [
    "## https://waditu.com/document/2?doc_id=14"
   ]
  },
  {
   "cell_type": "code",
   "execution_count": 57,
   "metadata": {},
   "outputs": [],
   "source": [
    "import tushare as ts"
   ]
  },
  {
   "cell_type": "code",
   "execution_count": 59,
   "metadata": {},
   "outputs": [
    {
     "name": "stdout",
     "output_type": "stream",
     "text": [
      "[Getting data:]##############################################"
     ]
    }
   ],
   "source": [
    "data = ts.get_today_all()"
   ]
  },
  {
   "cell_type": "code",
   "execution_count": 60,
   "metadata": {},
   "outputs": [
    {
     "data": {
      "text/plain": [
       "pandas.core.frame.DataFrame"
      ]
     },
     "execution_count": 60,
     "metadata": {},
     "output_type": "execute_result"
    }
   ],
   "source": [
    "type(data)"
   ]
  },
  {
   "cell_type": "code",
   "execution_count": null,
   "metadata": {},
   "outputs": [],
   "source": []
  },
  {
   "cell_type": "code",
   "execution_count": 67,
   "metadata": {},
   "outputs": [],
   "source": [
    "stock_list = list(data['name'])"
   ]
  },
  {
   "cell_type": "code",
   "execution_count": null,
   "metadata": {},
   "outputs": [],
   "source": [
    "116 \t 金融 \t 116103 \t 证券"
   ]
  },
  {
   "cell_type": "code",
   "execution_count": 77,
   "metadata": {},
   "outputs": [],
   "source": [
    "with open('stock_keyword.txt','w') as fw:\n",
    "    for stock in stock_list:\n",
    "        if  \" \" in stock:\n",
    "            stock = \"\".join(stock.split())\n",
    "        new_line = [\"金融\", \"116\",\"证券\", \"116103\",stock]\n",
    "        new_line = \"\\t\".join(new_line)\n",
    "        fw.write(new_line)\n",
    "        fw.write('\\n')"
   ]
  },
  {
   "cell_type": "code",
   "execution_count": null,
   "metadata": {},
   "outputs": [],
   "source": []
  }
 ],
 "metadata": {
  "kernelspec": {
   "display_name": "Python 3",
   "language": "python",
   "name": "python3"
  },
  "language_info": {
   "codemirror_mode": {
    "name": "ipython",
    "version": 3
   },
   "file_extension": ".py",
   "mimetype": "text/x-python",
   "name": "python",
   "nbconvert_exporter": "python",
   "pygments_lexer": "ipython3",
   "version": "3.7.4"
  }
 },
 "nbformat": 4,
 "nbformat_minor": 4
}
