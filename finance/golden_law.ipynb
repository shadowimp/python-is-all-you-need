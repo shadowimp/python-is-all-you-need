{
 "cells": [
  {
   "cell_type": "markdown",
   "metadata": {},
   "source": [
    "### 黄金分割率"
   ]
  },
  {
   "cell_type": "code",
   "execution_count": 214,
   "metadata": {},
   "outputs": [],
   "source": [
    "import baostock as bs \n",
    "import pandas as pd"
   ]
  },
  {
   "cell_type": "code",
   "execution_count": 215,
   "metadata": {},
   "outputs": [
    {
     "name": "stdout",
     "output_type": "stream",
     "text": [
      "login success!\n"
     ]
    }
   ],
   "source": [
    "lg = bs.login()"
   ]
  },
  {
   "cell_type": "code",
   "execution_count": 216,
   "metadata": {},
   "outputs": [
    {
     "name": "stdout",
     "output_type": "stream",
     "text": [
      "2022-10-11\n"
     ]
    }
   ],
   "source": [
    "import datetime\n",
    "today_date = datetime.datetime.now() - datetime.timedelta(days=0) \n",
    "today_date = today_date.strftime(\"%Y-%m-%d\")\n",
    "print(today_date)"
   ]
  },
  {
   "cell_type": "code",
   "execution_count": 222,
   "metadata": {},
   "outputs": [],
   "source": [
    "stock_code = 'sz.000333'\n",
    "stock_info = 'date,code,open,close,high,low'\n",
    "start_date = '2021-01-01'\n",
    "end_date = today_date"
   ]
  },
  {
   "cell_type": "code",
   "execution_count": 223,
   "metadata": {},
   "outputs": [],
   "source": [
    "rs = bs.query_history_k_data_plus(stock_code, stock_info, start_date, end_date, frequency='d',adjustflag=\"2\") #前复权"
   ]
  },
  {
   "cell_type": "code",
   "execution_count": 224,
   "metadata": {},
   "outputs": [],
   "source": [
    "data_list = []\n",
    "while rs.next():\n",
    "    data_list.append(rs.get_row_data())"
   ]
  },
  {
   "cell_type": "code",
   "execution_count": 225,
   "metadata": {},
   "outputs": [],
   "source": [
    "df = pd.DataFrame(data_list, columns = rs.fields)"
   ]
  },
  {
   "cell_type": "code",
   "execution_count": 226,
   "metadata": {},
   "outputs": [
    {
     "data": {
      "text/html": [
       "<div>\n",
       "<style scoped>\n",
       "    .dataframe tbody tr th:only-of-type {\n",
       "        vertical-align: middle;\n",
       "    }\n",
       "\n",
       "    .dataframe tbody tr th {\n",
       "        vertical-align: top;\n",
       "    }\n",
       "\n",
       "    .dataframe thead th {\n",
       "        text-align: right;\n",
       "    }\n",
       "</style>\n",
       "<table border=\"1\" class=\"dataframe\">\n",
       "  <thead>\n",
       "    <tr style=\"text-align: right;\">\n",
       "      <th></th>\n",
       "      <th>date</th>\n",
       "      <th>code</th>\n",
       "      <th>open</th>\n",
       "      <th>close</th>\n",
       "      <th>high</th>\n",
       "      <th>low</th>\n",
       "    </tr>\n",
       "  </thead>\n",
       "  <tbody>\n",
       "    <tr>\n",
       "      <td>0</td>\n",
       "      <td>2021-01-04</td>\n",
       "      <td>sz.000333</td>\n",
       "      <td>93.9794283000</td>\n",
       "      <td>94.0839554700</td>\n",
       "      <td>96.8776816500</td>\n",
       "      <td>93.1527134100</td>\n",
       "    </tr>\n",
       "    <tr>\n",
       "      <td>1</td>\n",
       "      <td>2021-01-05</td>\n",
       "      <td>sz.000333</td>\n",
       "      <td>93.1907232900</td>\n",
       "      <td>96.4880803800</td>\n",
       "      <td>96.8681791800</td>\n",
       "      <td>92.1739590000</td>\n",
       "    </tr>\n",
       "    <tr>\n",
       "      <td>2</td>\n",
       "      <td>2021-01-06</td>\n",
       "      <td>sz.000333</td>\n",
       "      <td>97.8754410000</td>\n",
       "      <td>95.9369371200</td>\n",
       "      <td>99.5858856000</td>\n",
       "      <td>94.6921135500</td>\n",
       "    </tr>\n",
       "    <tr>\n",
       "      <td>3</td>\n",
       "      <td>2021-01-07</td>\n",
       "      <td>sz.000333</td>\n",
       "      <td>96.9251940000</td>\n",
       "      <td>99.6048905400</td>\n",
       "      <td>100.4126004900</td>\n",
       "      <td>96.1649964000</td>\n",
       "    </tr>\n",
       "    <tr>\n",
       "      <td>4</td>\n",
       "      <td>2021-01-08</td>\n",
       "      <td>sz.000333</td>\n",
       "      <td>98.8256880000</td>\n",
       "      <td>97.8849434700</td>\n",
       "      <td>99.4908609000</td>\n",
       "      <td>96.2125087500</td>\n",
       "    </tr>\n",
       "    <tr>\n",
       "      <td>...</td>\n",
       "      <td>...</td>\n",
       "      <td>...</td>\n",
       "      <td>...</td>\n",
       "      <td>...</td>\n",
       "      <td>...</td>\n",
       "      <td>...</td>\n",
       "    </tr>\n",
       "    <tr>\n",
       "      <td>422</td>\n",
       "      <td>2022-09-28</td>\n",
       "      <td>sz.000333</td>\n",
       "      <td>51.5000000000</td>\n",
       "      <td>51.1700000000</td>\n",
       "      <td>51.7700000000</td>\n",
       "      <td>51.1000000000</td>\n",
       "    </tr>\n",
       "    <tr>\n",
       "      <td>423</td>\n",
       "      <td>2022-09-29</td>\n",
       "      <td>sz.000333</td>\n",
       "      <td>51.4700000000</td>\n",
       "      <td>50.5000000000</td>\n",
       "      <td>51.7600000000</td>\n",
       "      <td>50.3000000000</td>\n",
       "    </tr>\n",
       "    <tr>\n",
       "      <td>424</td>\n",
       "      <td>2022-09-30</td>\n",
       "      <td>sz.000333</td>\n",
       "      <td>50.1300000000</td>\n",
       "      <td>49.3100000000</td>\n",
       "      <td>50.5700000000</td>\n",
       "      <td>49.3100000000</td>\n",
       "    </tr>\n",
       "    <tr>\n",
       "      <td>425</td>\n",
       "      <td>2022-10-10</td>\n",
       "      <td>sz.000333</td>\n",
       "      <td>49.3100000000</td>\n",
       "      <td>48.7000000000</td>\n",
       "      <td>49.9900000000</td>\n",
       "      <td>48.4600000000</td>\n",
       "    </tr>\n",
       "    <tr>\n",
       "      <td>426</td>\n",
       "      <td>2022-10-11</td>\n",
       "      <td>sz.000333</td>\n",
       "      <td>48.6900000000</td>\n",
       "      <td>48.3700000000</td>\n",
       "      <td>48.8500000000</td>\n",
       "      <td>48.0000000000</td>\n",
       "    </tr>\n",
       "  </tbody>\n",
       "</table>\n",
       "<p>427 rows × 6 columns</p>\n",
       "</div>"
      ],
      "text/plain": [
       "           date       code           open          close            high  \\\n",
       "0    2021-01-04  sz.000333  93.9794283000  94.0839554700   96.8776816500   \n",
       "1    2021-01-05  sz.000333  93.1907232900  96.4880803800   96.8681791800   \n",
       "2    2021-01-06  sz.000333  97.8754410000  95.9369371200   99.5858856000   \n",
       "3    2021-01-07  sz.000333  96.9251940000  99.6048905400  100.4126004900   \n",
       "4    2021-01-08  sz.000333  98.8256880000  97.8849434700   99.4908609000   \n",
       "..          ...        ...            ...            ...             ...   \n",
       "422  2022-09-28  sz.000333  51.5000000000  51.1700000000   51.7700000000   \n",
       "423  2022-09-29  sz.000333  51.4700000000  50.5000000000   51.7600000000   \n",
       "424  2022-09-30  sz.000333  50.1300000000  49.3100000000   50.5700000000   \n",
       "425  2022-10-10  sz.000333  49.3100000000  48.7000000000   49.9900000000   \n",
       "426  2022-10-11  sz.000333  48.6900000000  48.3700000000   48.8500000000   \n",
       "\n",
       "               low  \n",
       "0    93.1527134100  \n",
       "1    92.1739590000  \n",
       "2    94.6921135500  \n",
       "3    96.1649964000  \n",
       "4    96.2125087500  \n",
       "..             ...  \n",
       "422  51.1000000000  \n",
       "423  50.3000000000  \n",
       "424  49.3100000000  \n",
       "425  48.4600000000  \n",
       "426  48.0000000000  \n",
       "\n",
       "[427 rows x 6 columns]"
      ]
     },
     "execution_count": 226,
     "metadata": {},
     "output_type": "execute_result"
    }
   ],
   "source": [
    "df "
   ]
  },
  {
   "cell_type": "code",
   "execution_count": null,
   "metadata": {},
   "outputs": [],
   "source": [
    "lowest_price,max_price = float(df['low'][0] ),float(df['high'][0] )\n",
    "for i in range(len(df)):\n",
    "    stock_price = float(df['close'][i] )\n",
    "    max_price = max(max_price,stock_price)\n",
    "    lowest_price = min(lowest_price,stock_price)\n",
    "    if stock_price < max_price*0.618:\n",
    "        print(df['date'][i],stock_price)"
   ]
  },
  {
   "cell_type": "code",
   "execution_count": 138,
   "metadata": {},
   "outputs": [
    {
     "data": {
      "text/plain": [
       "(67.866924, 22.26633933)"
      ]
     },
     "execution_count": 138,
     "metadata": {},
     "output_type": "execute_result"
    }
   ],
   "source": [
    "max_price, lowest_price"
   ]
  },
  {
   "cell_type": "code",
   "execution_count": 184,
   "metadata": {},
   "outputs": [
    {
     "name": "stdout",
     "output_type": "stream",
     "text": [
      "2022-10-11\n"
     ]
    }
   ],
   "source": [
    "import datetime\n",
    "today_date = datetime.datetime.now() - datetime.timedelta(days=0) \n",
    "today_date = today_date.strftime(\"%Y-%m-%d\")\n",
    "print(today_date)"
   ]
  },
  {
   "cell_type": "code",
   "execution_count": 189,
   "metadata": {},
   "outputs": [],
   "source": [
    "class Golden_law:\n",
    "    def __init__(self,stock_code,start_date='2021-01-01'):\n",
    "        self.stock_code = stock_code\n",
    "        self.start_date = start_date\n",
    "        stock_info = 'date,code,open,close,high,low'\n",
    "        self.end_date = today_date\n",
    "        rs = bs.query_history_k_data_plus(self.stock_code, stock_info, self.start_date, self.end_date, frequency='d',adjustflag=\"2\") #前复权\n",
    "        data_list = []\n",
    "        while rs.next():\n",
    "            data_list.append(rs.get_row_data())    \n",
    "        df = pd.DataFrame(data_list, columns = rs.fields)\n",
    "        lowest_price,max_price = float(df['low'][0] ),float(df['high'][0] )\n",
    "        for i in range(len(df)):\n",
    "            stock_price = float(df['close'][i] )\n",
    "            max_price = max(max_price,stock_price)\n",
    "            lowest_price = min(lowest_price,stock_price)\n",
    "        self.lowest_price = lowest_price\n",
    "        self.max_price = max_price\n",
    "        self.df = df\n",
    "    def max_price():\n",
    "        return self.max_price\n",
    "    \n",
    "#     def today_price():\n",
    "#         return self.df.loc[len(df)-1,'close']\n",
    "        \n"
   ]
  },
  {
   "cell_type": "code",
   "execution_count": 194,
   "metadata": {},
   "outputs": [
    {
     "data": {
      "text/html": [
       "<div>\n",
       "<style scoped>\n",
       "    .dataframe tbody tr th:only-of-type {\n",
       "        vertical-align: middle;\n",
       "    }\n",
       "\n",
       "    .dataframe tbody tr th {\n",
       "        vertical-align: top;\n",
       "    }\n",
       "\n",
       "    .dataframe thead th {\n",
       "        text-align: right;\n",
       "    }\n",
       "</style>\n",
       "<table border=\"1\" class=\"dataframe\">\n",
       "  <thead>\n",
       "    <tr style=\"text-align: right;\">\n",
       "      <th></th>\n",
       "      <th>date</th>\n",
       "      <th>code</th>\n",
       "      <th>open</th>\n",
       "      <th>close</th>\n",
       "      <th>high</th>\n",
       "      <th>low</th>\n",
       "    </tr>\n",
       "  </thead>\n",
       "  <tbody>\n",
       "    <tr>\n",
       "      <td>0</td>\n",
       "      <td>2021-01-04</td>\n",
       "      <td>sh.601633</td>\n",
       "      <td>35.5295463600</td>\n",
       "      <td>37.4870158300</td>\n",
       "      <td>38.6575629000</td>\n",
       "      <td>35.4213445300</td>\n",
       "    </tr>\n",
       "    <tr>\n",
       "      <td>1</td>\n",
       "      <td>2021-01-05</td>\n",
       "      <td>sh.601633</td>\n",
       "      <td>37.4870158300</td>\n",
       "      <td>37.6640733700</td>\n",
       "      <td>38.1263902800</td>\n",
       "      <td>36.4049975300</td>\n",
       "    </tr>\n",
       "    <tr>\n",
       "      <td>2</td>\n",
       "      <td>2021-01-06</td>\n",
       "      <td>sh.601633</td>\n",
       "      <td>37.5657080700</td>\n",
       "      <td>37.0050258600</td>\n",
       "      <td>38.4411592400</td>\n",
       "      <td>35.9525171500</td>\n",
       "    </tr>\n",
       "    <tr>\n",
       "      <td>3</td>\n",
       "      <td>2021-01-07</td>\n",
       "      <td>sh.601633</td>\n",
       "      <td>36.7886222000</td>\n",
       "      <td>40.7035611400</td>\n",
       "      <td>40.7035611400</td>\n",
       "      <td>36.3853244700</td>\n",
       "    </tr>\n",
       "    <tr>\n",
       "      <td>4</td>\n",
       "      <td>2021-01-08</td>\n",
       "      <td>sh.601633</td>\n",
       "      <td>41.5199931300</td>\n",
       "      <td>41.8052525000</td>\n",
       "      <td>42.3364251200</td>\n",
       "      <td>39.3461200000</td>\n",
       "    </tr>\n",
       "    <tr>\n",
       "      <td>...</td>\n",
       "      <td>...</td>\n",
       "      <td>...</td>\n",
       "      <td>...</td>\n",
       "      <td>...</td>\n",
       "      <td>...</td>\n",
       "      <td>...</td>\n",
       "    </tr>\n",
       "    <tr>\n",
       "      <td>422</td>\n",
       "      <td>2022-09-28</td>\n",
       "      <td>sh.601633</td>\n",
       "      <td>29.3700000000</td>\n",
       "      <td>28.1100000000</td>\n",
       "      <td>29.3800000000</td>\n",
       "      <td>28.1000000000</td>\n",
       "    </tr>\n",
       "    <tr>\n",
       "      <td>423</td>\n",
       "      <td>2022-09-29</td>\n",
       "      <td>sh.601633</td>\n",
       "      <td>28.6500000000</td>\n",
       "      <td>28.1000000000</td>\n",
       "      <td>28.8000000000</td>\n",
       "      <td>28.0200000000</td>\n",
       "    </tr>\n",
       "    <tr>\n",
       "      <td>424</td>\n",
       "      <td>2022-09-30</td>\n",
       "      <td>sh.601633</td>\n",
       "      <td>28.0500000000</td>\n",
       "      <td>27.8000000000</td>\n",
       "      <td>28.3500000000</td>\n",
       "      <td>27.6800000000</td>\n",
       "    </tr>\n",
       "    <tr>\n",
       "      <td>425</td>\n",
       "      <td>2022-10-10</td>\n",
       "      <td>sh.601633</td>\n",
       "      <td>27.0100000000</td>\n",
       "      <td>26.1200000000</td>\n",
       "      <td>27.3600000000</td>\n",
       "      <td>26.0000000000</td>\n",
       "    </tr>\n",
       "    <tr>\n",
       "      <td>426</td>\n",
       "      <td>2022-10-11</td>\n",
       "      <td>sh.601633</td>\n",
       "      <td>26.0700000000</td>\n",
       "      <td>26.0900000000</td>\n",
       "      <td>26.3600000000</td>\n",
       "      <td>25.4900000000</td>\n",
       "    </tr>\n",
       "  </tbody>\n",
       "</table>\n",
       "<p>427 rows × 6 columns</p>\n",
       "</div>"
      ],
      "text/plain": [
       "           date       code           open          close           high  \\\n",
       "0    2021-01-04  sh.601633  35.5295463600  37.4870158300  38.6575629000   \n",
       "1    2021-01-05  sh.601633  37.4870158300  37.6640733700  38.1263902800   \n",
       "2    2021-01-06  sh.601633  37.5657080700  37.0050258600  38.4411592400   \n",
       "3    2021-01-07  sh.601633  36.7886222000  40.7035611400  40.7035611400   \n",
       "4    2021-01-08  sh.601633  41.5199931300  41.8052525000  42.3364251200   \n",
       "..          ...        ...            ...            ...            ...   \n",
       "422  2022-09-28  sh.601633  29.3700000000  28.1100000000  29.3800000000   \n",
       "423  2022-09-29  sh.601633  28.6500000000  28.1000000000  28.8000000000   \n",
       "424  2022-09-30  sh.601633  28.0500000000  27.8000000000  28.3500000000   \n",
       "425  2022-10-10  sh.601633  27.0100000000  26.1200000000  27.3600000000   \n",
       "426  2022-10-11  sh.601633  26.0700000000  26.0900000000  26.3600000000   \n",
       "\n",
       "               low  \n",
       "0    35.4213445300  \n",
       "1    36.4049975300  \n",
       "2    35.9525171500  \n",
       "3    36.3853244700  \n",
       "4    39.3461200000  \n",
       "..             ...  \n",
       "422  28.1000000000  \n",
       "423  28.0200000000  \n",
       "424  27.6800000000  \n",
       "425  26.0000000000  \n",
       "426  25.4900000000  \n",
       "\n",
       "[427 rows x 6 columns]"
      ]
     },
     "execution_count": 194,
     "metadata": {},
     "output_type": "execute_result"
    }
   ],
   "source": [
    "df "
   ]
  },
  {
   "cell_type": "code",
   "execution_count": 227,
   "metadata": {},
   "outputs": [],
   "source": [
    "gl = Golden_law(stock_code='sz.000333')"
   ]
  },
  {
   "cell_type": "code",
   "execution_count": 228,
   "metadata": {},
   "outputs": [
    {
     "data": {
      "text/plain": [
       "101.78095617"
      ]
     },
     "execution_count": 228,
     "metadata": {},
     "output_type": "execute_result"
    }
   ],
   "source": [
    "gl.max_price"
   ]
  },
  {
   "cell_type": "code",
   "execution_count": null,
   "metadata": {},
   "outputs": [],
   "source": [
    "\n",
    "def gloden_law(stock_code,start_date = '2021-01-01'):\n",
    "    \n",
    "    \n",
    "    "
   ]
  }
 ],
 "metadata": {
  "kernelspec": {
   "display_name": "Python 3",
   "language": "python",
   "name": "python3"
  },
  "language_info": {
   "codemirror_mode": {
    "name": "ipython",
    "version": 3
   },
   "file_extension": ".py",
   "mimetype": "text/x-python",
   "name": "python",
   "nbconvert_exporter": "python",
   "pygments_lexer": "ipython3",
   "version": "3.7.4"
  }
 },
 "nbformat": 4,
 "nbformat_minor": 4
}
