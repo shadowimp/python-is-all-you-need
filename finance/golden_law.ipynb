{
 "cells": [
  {
   "cell_type": "markdown",
   "metadata": {},
   "source": [
    "### 黄金分割数\n",
    "一条线分为两段，一段与全部长度之比等于另一部分与该段之比。\n",
    "$$ x=\\frac{\\sqrt{5}-1}{2} $$"
   ]
  },
  {
   "cell_type": "code",
   "execution_count": 390,
   "metadata": {},
   "outputs": [
    {
     "name": "stdout",
     "output_type": "stream",
     "text": [
      "0.6180339887498949\n",
      "1.6180339887498947\n",
      "1.6180339887498951\n"
     ]
    }
   ],
   "source": [
    "import math \n",
    "x = (math.sqrt(5)-1)/2\n",
    "print(x)\n",
    "print(1/x)\n",
    "print(x/(1-x))"
   ]
  },
  {
   "cell_type": "markdown",
   "metadata": {},
   "source": [
    "### 黄金分割率"
   ]
  },
  {
   "cell_type": "code",
   "execution_count": 264,
   "metadata": {},
   "outputs": [],
   "source": [
    "import baostock as bs \n",
    "import pandas as pd"
   ]
  },
  {
   "cell_type": "code",
   "execution_count": 453,
   "metadata": {},
   "outputs": [
    {
     "name": "stdout",
     "output_type": "stream",
     "text": [
      "login success!\n"
     ]
    }
   ],
   "source": [
    "lg = bs.login()"
   ]
  },
  {
   "cell_type": "code",
   "execution_count": 416,
   "metadata": {},
   "outputs": [
    {
     "name": "stdout",
     "output_type": "stream",
     "text": [
      "2022-10-12\n"
     ]
    }
   ],
   "source": [
    "import datetime\n",
    "today_date = datetime.datetime.now() - datetime.timedelta(days=0) \n",
    "today_date = today_date.strftime(\"%Y-%m-%d\")\n",
    "print(today_date)"
   ]
  },
  {
   "cell_type": "code",
   "execution_count": 424,
   "metadata": {},
   "outputs": [],
   "source": [
    "stock_code = 'sh.000300'\n",
    "stock_info = 'date,code,open,close,high,low'\n",
    "start_date = '2020-01-01'\n",
    "end_date = today_date"
   ]
  },
  {
   "cell_type": "code",
   "execution_count": 425,
   "metadata": {},
   "outputs": [],
   "source": [
    "rs = bs.query_history_k_data_plus(stock_code, stock_info, start_date, end_date, frequency='d',adjustflag=\"1\") #前复权"
   ]
  },
  {
   "cell_type": "code",
   "execution_count": 426,
   "metadata": {},
   "outputs": [],
   "source": [
    "data_list = []\n",
    "while rs.next():\n",
    "    data_list.append(rs.get_row_data())"
   ]
  },
  {
   "cell_type": "code",
   "execution_count": 427,
   "metadata": {},
   "outputs": [],
   "source": [
    "df = pd.DataFrame(data_list, columns = rs.fields)"
   ]
  },
  {
   "cell_type": "code",
   "execution_count": 428,
   "metadata": {},
   "outputs": [
    {
     "data": {
      "text/html": [
       "<div>\n",
       "<style scoped>\n",
       "    .dataframe tbody tr th:only-of-type {\n",
       "        vertical-align: middle;\n",
       "    }\n",
       "\n",
       "    .dataframe tbody tr th {\n",
       "        vertical-align: top;\n",
       "    }\n",
       "\n",
       "    .dataframe thead th {\n",
       "        text-align: right;\n",
       "    }\n",
       "</style>\n",
       "<table border=\"1\" class=\"dataframe\">\n",
       "  <thead>\n",
       "    <tr style=\"text-align: right;\">\n",
       "      <th></th>\n",
       "      <th>date</th>\n",
       "      <th>code</th>\n",
       "      <th>open</th>\n",
       "      <th>close</th>\n",
       "      <th>high</th>\n",
       "      <th>low</th>\n",
       "    </tr>\n",
       "  </thead>\n",
       "  <tbody>\n",
       "    <tr>\n",
       "      <td>0</td>\n",
       "      <td>2020-01-02</td>\n",
       "      <td>sh.000300</td>\n",
       "      <td>4121.3480</td>\n",
       "      <td>4152.2400</td>\n",
       "      <td>4172.6550</td>\n",
       "      <td>4121.3480</td>\n",
       "    </tr>\n",
       "    <tr>\n",
       "      <td>1</td>\n",
       "      <td>2020-01-03</td>\n",
       "      <td>sh.000300</td>\n",
       "      <td>4161.2180</td>\n",
       "      <td>4144.9640</td>\n",
       "      <td>4164.2980</td>\n",
       "      <td>4131.8640</td>\n",
       "    </tr>\n",
       "    <tr>\n",
       "      <td>2</td>\n",
       "      <td>2020-01-06</td>\n",
       "      <td>sh.000300</td>\n",
       "      <td>4120.5210</td>\n",
       "      <td>4129.2950</td>\n",
       "      <td>4170.6380</td>\n",
       "      <td>4102.3790</td>\n",
       "    </tr>\n",
       "    <tr>\n",
       "      <td>3</td>\n",
       "      <td>2020-01-07</td>\n",
       "      <td>sh.000300</td>\n",
       "      <td>4137.4010</td>\n",
       "      <td>4160.2270</td>\n",
       "      <td>4161.2500</td>\n",
       "      <td>4135.0970</td>\n",
       "    </tr>\n",
       "    <tr>\n",
       "      <td>4</td>\n",
       "      <td>2020-01-08</td>\n",
       "      <td>sh.000300</td>\n",
       "      <td>4139.6310</td>\n",
       "      <td>4112.3170</td>\n",
       "      <td>4149.8130</td>\n",
       "      <td>4101.9800</td>\n",
       "    </tr>\n",
       "    <tr>\n",
       "      <td>...</td>\n",
       "      <td>...</td>\n",
       "      <td>...</td>\n",
       "      <td>...</td>\n",
       "      <td>...</td>\n",
       "      <td>...</td>\n",
       "      <td>...</td>\n",
       "    </tr>\n",
       "    <tr>\n",
       "      <td>665</td>\n",
       "      <td>2022-09-28</td>\n",
       "      <td>sh.000300</td>\n",
       "      <td>3879.4398</td>\n",
       "      <td>3828.7098</td>\n",
       "      <td>3879.4398</td>\n",
       "      <td>3828.0545</td>\n",
       "    </tr>\n",
       "    <tr>\n",
       "      <td>666</td>\n",
       "      <td>2022-09-29</td>\n",
       "      <td>sh.000300</td>\n",
       "      <td>3864.3160</td>\n",
       "      <td>3827.1434</td>\n",
       "      <td>3873.1823</td>\n",
       "      <td>3808.6496</td>\n",
       "    </tr>\n",
       "    <tr>\n",
       "      <td>667</td>\n",
       "      <td>2022-09-30</td>\n",
       "      <td>sh.000300</td>\n",
       "      <td>3833.3504</td>\n",
       "      <td>3804.8853</td>\n",
       "      <td>3848.6018</td>\n",
       "      <td>3801.2798</td>\n",
       "    </tr>\n",
       "    <tr>\n",
       "      <td>668</td>\n",
       "      <td>2022-10-10</td>\n",
       "      <td>sh.000300</td>\n",
       "      <td>3806.5596</td>\n",
       "      <td>3720.9365</td>\n",
       "      <td>3807.4574</td>\n",
       "      <td>3715.7142</td>\n",
       "    </tr>\n",
       "    <tr>\n",
       "      <td>669</td>\n",
       "      <td>2022-10-11</td>\n",
       "      <td>sh.000300</td>\n",
       "      <td>3732.0191</td>\n",
       "      <td>3727.6867</td>\n",
       "      <td>3739.8084</td>\n",
       "      <td>3706.0629</td>\n",
       "    </tr>\n",
       "  </tbody>\n",
       "</table>\n",
       "<p>670 rows × 6 columns</p>\n",
       "</div>"
      ],
      "text/plain": [
       "           date       code       open      close       high        low\n",
       "0    2020-01-02  sh.000300  4121.3480  4152.2400  4172.6550  4121.3480\n",
       "1    2020-01-03  sh.000300  4161.2180  4144.9640  4164.2980  4131.8640\n",
       "2    2020-01-06  sh.000300  4120.5210  4129.2950  4170.6380  4102.3790\n",
       "3    2020-01-07  sh.000300  4137.4010  4160.2270  4161.2500  4135.0970\n",
       "4    2020-01-08  sh.000300  4139.6310  4112.3170  4149.8130  4101.9800\n",
       "..          ...        ...        ...        ...        ...        ...\n",
       "665  2022-09-28  sh.000300  3879.4398  3828.7098  3879.4398  3828.0545\n",
       "666  2022-09-29  sh.000300  3864.3160  3827.1434  3873.1823  3808.6496\n",
       "667  2022-09-30  sh.000300  3833.3504  3804.8853  3848.6018  3801.2798\n",
       "668  2022-10-10  sh.000300  3806.5596  3720.9365  3807.4574  3715.7142\n",
       "669  2022-10-11  sh.000300  3732.0191  3727.6867  3739.8084  3706.0629\n",
       "\n",
       "[670 rows x 6 columns]"
      ]
     },
     "execution_count": 428,
     "metadata": {},
     "output_type": "execute_result"
    }
   ],
   "source": [
    "df "
   ]
  },
  {
   "cell_type": "code",
   "execution_count": 429,
   "metadata": {},
   "outputs": [],
   "source": [
    "lowest_price,max_price = float(df['low'][0]),float(df['high'][0] )"
   ]
  },
  {
   "cell_type": "code",
   "execution_count": 430,
   "metadata": {},
   "outputs": [],
   "source": [
    "for i in range(len(df)):\n",
    "    stock_price = float(df['close'][i])\n",
    "    low_price = float(df['low'][i])\n",
    "    high_price = float(df['high'][i])\n",
    "    max_price = max(max_price,high_price)\n",
    "    if max_price <= high_price:\n",
    "        max_price = high_price\n",
    "        max_date = df['date'][i]\n",
    "    if lowest_price >= low_price:\n",
    "        lowest_price = low_price\n",
    "        lowest_date = df['date'][i]"
   ]
  },
  {
   "cell_type": "code",
   "execution_count": 431,
   "metadata": {},
   "outputs": [
    {
     "name": "stdout",
     "output_type": "stream",
     "text": [
      "5930.9122 3503.1866\n",
      "2021-02-18 2020-03-19\n"
     ]
    }
   ],
   "source": [
    "print(max_price, lowest_price)\n",
    "print(max_date, lowest_date)"
   ]
  },
  {
   "cell_type": "code",
   "execution_count": 432,
   "metadata": {},
   "outputs": [
    {
     "name": "stdout",
     "output_type": "stream",
     "text": [
      "2022-10-12\n"
     ]
    }
   ],
   "source": [
    "import datetime\n",
    "today_date = datetime.datetime.now() - datetime.timedelta(days=0) \n",
    "today_date = today_date.strftime(\"%Y-%m-%d\")\n",
    "print(today_date)"
   ]
  },
  {
   "cell_type": "code",
   "execution_count": null,
   "metadata": {},
   "outputs": [],
   "source": []
  },
  {
   "cell_type": "code",
   "execution_count": 459,
   "metadata": {},
   "outputs": [],
   "source": [
    "class Golden_law:\n",
    "    def __init__(self,stock_code,start_date='2021-01-01'):\n",
    "        bs.login()\n",
    "        self.stock_code = stock_code\n",
    "        self.start_date = start_date\n",
    "        stock_info = 'date,code,open,close,high,low'\n",
    "        self.end_date = today_date\n",
    "        rs = bs.query_history_k_data_plus(self.stock_code, stock_info, self.start_date, self.end_date, frequency='d',adjustflag=\"2\") #前复权\n",
    "        data_list = []\n",
    "        while rs.next():\n",
    "            data_list.append(rs.get_row_data())    \n",
    "        df = pd.DataFrame(data_list, columns = rs.fields)\n",
    "        lowest_price,max_price = float(df['low'][0] ),float(df['high'][0] )\n",
    "        max_date,lowest_date = df['date'][0], df['date'][0]\n",
    "        for i in range(len(df)):\n",
    "            stock_price = float(df['close'][i])\n",
    "            low_price = float(df['low'][i])\n",
    "            high_price = float(df['high'][i])\n",
    "            max_price = max(max_price,high_price)\n",
    "            if max_price <= high_price:\n",
    "                max_price = high_price\n",
    "                max_date = df['date'][i]\n",
    "            if lowest_price >= low_price:\n",
    "                lowest_price = low_price\n",
    "                lowest_date = df['date'][i]\n",
    "        self.lowest_price = lowest_price\n",
    "        self.max_price = max_price\n",
    "        self.df = df\n",
    "        self.max_date = max_date\n",
    "        self.lowest_date = lowest_date\n",
    "        \n",
    "        \n",
    "    def get_max_price(self):\n",
    "        return self.max_price, self.max_date\n",
    "    \n",
    "    def get_lowest_price(self):\n",
    "        return self.lowest_price, self.lowest_date \n",
    "    \n",
    "    def today_price(self):\n",
    "        return self.df.iloc[-1]['close'],self.df.iloc[-1]['date']\n",
    "\n",
    "    \n",
    "    def get_golden_price(self):\n",
    "        price_618 = self.max_price*0.618034\n",
    "        price_382 = self.max_price*0.618034*0.618034\n",
    "        price_236 = self.max_price*0.618034*0.618034*0.618034\n",
    "        return price_618,price_382,price_236"
   ]
  },
  {
   "cell_type": "code",
   "execution_count": 502,
   "metadata": {},
   "outputs": [
    {
     "name": "stdout",
     "output_type": "stream",
     "text": [
      "login success!\n"
     ]
    }
   ],
   "source": [
    "gl = Golden_law(stock_code='sh.000300',start_date='2015-01-01')"
   ]
  },
  {
   "cell_type": "code",
   "execution_count": 503,
   "metadata": {},
   "outputs": [
    {
     "data": {
      "text/plain": [
       "(5930.9122, '2021-02-18')"
      ]
     },
     "execution_count": 503,
     "metadata": {},
     "output_type": "execute_result"
    }
   ],
   "source": [
    "gl.get_max_price()"
   ]
  },
  {
   "cell_type": "code",
   "execution_count": 510,
   "metadata": {},
   "outputs": [
    {
     "data": {
      "text/plain": [
       "(2821.215, '2016-02-29')"
      ]
     },
     "execution_count": 510,
     "metadata": {},
     "output_type": "execute_result"
    }
   ],
   "source": [
    "gl.get_lowest_price()"
   ]
  },
  {
   "cell_type": "code",
   "execution_count": 512,
   "metadata": {},
   "outputs": [
    {
     "data": {
      "text/plain": [
       "2.1022545959808094"
      ]
     },
     "execution_count": 512,
     "metadata": {},
     "output_type": "execute_result"
    }
   ],
   "source": [
    "gl.max_price/gl.lowest_price"
   ]
  },
  {
   "cell_type": "code",
   "execution_count": 506,
   "metadata": {},
   "outputs": [
    {
     "data": {
      "text/plain": [
       "('3784.3064', '2022-10-12')"
      ]
     },
     "execution_count": 506,
     "metadata": {},
     "output_type": "execute_result"
    }
   ],
   "source": [
    "gl.today_price()"
   ]
  },
  {
   "cell_type": "code",
   "execution_count": 507,
   "metadata": {},
   "outputs": [
    {
     "data": {
      "text/plain": [
       "(3665.5053906147996, 2265.406958583227, 1400.098524241026)"
      ]
     },
     "execution_count": 507,
     "metadata": {},
     "output_type": "execute_result"
    }
   ],
   "source": [
    "gl.get_golden_price()"
   ]
  },
  {
   "cell_type": "code",
   "execution_count": 508,
   "metadata": {},
   "outputs": [
    {
     "data": {
      "text/plain": [
       "4564.821759571035"
      ]
     },
     "execution_count": 508,
     "metadata": {},
     "output_type": "execute_result"
    }
   ],
   "source": [
    "2821.215/x"
   ]
  },
  {
   "cell_type": "code",
   "execution_count": 509,
   "metadata": {},
   "outputs": [
    {
     "data": {
      "text/plain": [
       "7386.036759571034"
      ]
     },
     "execution_count": 509,
     "metadata": {},
     "output_type": "execute_result"
    }
   ],
   "source": [
    "2821.215/x/x"
   ]
  },
  {
   "cell_type": "code",
   "execution_count": null,
   "metadata": {},
   "outputs": [],
   "source": []
  }
 ],
 "metadata": {
  "kernelspec": {
   "display_name": "Python 3",
   "language": "python",
   "name": "python3"
  },
  "language_info": {
   "codemirror_mode": {
    "name": "ipython",
    "version": 3
   },
   "file_extension": ".py",
   "mimetype": "text/x-python",
   "name": "python",
   "nbconvert_exporter": "python",
   "pygments_lexer": "ipython3",
   "version": "3.7.4"
  }
 },
 "nbformat": 4,
 "nbformat_minor": 4
}
