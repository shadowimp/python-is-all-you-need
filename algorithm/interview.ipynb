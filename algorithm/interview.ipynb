{
 "cells": [
  {
   "cell_type": "markdown",
   "metadata": {},
   "source": [
    "### 1. 给定n个数，从其中找3个数，满足这三个数的组合是所有组合中方差最小的。"
   ]
  },
  {
   "cell_type": "code",
   "execution_count": 22,
   "metadata": {},
   "outputs": [
    {
     "name": "stdout",
     "output_type": "stream",
     "text": [
      "6\n",
      "7\n",
      "8\n",
      "9\n"
     ]
    }
   ],
   "source": [
    "from itertools import combinations\n",
    "l = list(combinations([1,2,3,4],3))\n",
    "for i in l :\n",
    "    print(sum(i))"
   ]
  },
  {
   "cell_type": "code",
   "execution_count": 25,
   "metadata": {},
   "outputs": [],
   "source": [
    "import numpy as np"
   ]
  },
  {
   "cell_type": "code",
   "execution_count": 26,
   "metadata": {},
   "outputs": [
    {
     "data": {
      "text/plain": [
       "0.6666666666666666"
      ]
     },
     "execution_count": 26,
     "metadata": {},
     "output_type": "execute_result"
    }
   ],
   "source": [
    "np.var([3,4,5])"
   ]
  },
  {
   "cell_type": "code",
   "execution_count": 24,
   "metadata": {},
   "outputs": [
    {
     "name": "stdout",
     "output_type": "stream",
     "text": [
      "0.67\n"
     ]
    }
   ],
   "source": [
    "import numpy as np \n",
    "def variance(nums):\n",
    "    return np.var(nums)\n",
    "b = variance(l[0])\n",
    "print ('%.2f' %b) "
   ]
  },
  {
   "cell_type": "code",
   "execution_count": null,
   "metadata": {},
   "outputs": [],
   "source": [
    "for c in a :\n",
    "    min_var = min( min_var , variance(c))"
   ]
  },
  {
   "cell_type": "code",
   "execution_count": null,
   "metadata": {},
   "outputs": [],
   "source": [
    "nums =[10, 17 ,17 ,3]"
   ]
  },
  {
   "cell_type": "code",
   "execution_count": 7,
   "metadata": {},
   "outputs": [
    {
     "ename": "NameError",
     "evalue": "name 'nums' is not defined",
     "output_type": "error",
     "traceback": [
      "\u001b[0;31m---------------------------------------------------------------------------\u001b[0m",
      "\u001b[0;31mNameError\u001b[0m                                 Traceback (most recent call last)",
      "\u001b[0;32m<ipython-input-7-3429dccd4faf>\u001b[0m in \u001b[0;36m<module>\u001b[0;34m\u001b[0m\n\u001b[1;32m      1\u001b[0m \u001b[0;32mimport\u001b[0m \u001b[0mstatistics\u001b[0m\u001b[0;34m\u001b[0m\u001b[0;34m\u001b[0m\u001b[0m\n\u001b[0;32m----> 2\u001b[0;31m \u001b[0ma\u001b[0m \u001b[0;34m=\u001b[0m \u001b[0mlist\u001b[0m\u001b[0;34m(\u001b[0m\u001b[0mcombinations\u001b[0m\u001b[0;34m(\u001b[0m\u001b[0mnums\u001b[0m\u001b[0;34m,\u001b[0m\u001b[0;36m3\u001b[0m\u001b[0;34m)\u001b[0m\u001b[0;34m)\u001b[0m\u001b[0;34m\u001b[0m\u001b[0;34m\u001b[0m\u001b[0m\n\u001b[0m\u001b[1;32m      3\u001b[0m \u001b[0;34m\u001b[0m\u001b[0m\n\u001b[1;32m      4\u001b[0m \u001b[0;32mdef\u001b[0m \u001b[0mvariance\u001b[0m\u001b[0;34m(\u001b[0m\u001b[0mnums\u001b[0m\u001b[0;34m)\u001b[0m\u001b[0;34m:\u001b[0m\u001b[0;34m\u001b[0m\u001b[0;34m\u001b[0m\u001b[0m\n\u001b[1;32m      5\u001b[0m     \u001b[0;32mreturn\u001b[0m \u001b[0mstatistics\u001b[0m\u001b[0;34m.\u001b[0m\u001b[0mstdev\u001b[0m\u001b[0;34m(\u001b[0m\u001b[0;34m[\u001b[0m\u001b[0;36m1\u001b[0m\u001b[0;34m,\u001b[0m\u001b[0;36m2\u001b[0m\u001b[0;34m]\u001b[0m\u001b[0;34m)\u001b[0m\u001b[0;34m**\u001b[0m\u001b[0;36m2\u001b[0m\u001b[0;34m\u001b[0m\u001b[0;34m\u001b[0m\u001b[0m\n",
      "\u001b[0;31mNameError\u001b[0m: name 'nums' is not defined"
     ]
    }
   ],
   "source": [
    "import statistics \n",
    "a = list(combinations(nums,3)) \n",
    "\n",
    "def variance(nums):\n",
    "    return statistics.stdev([1,2])**2\n",
    "\n",
    "min_var = variance(a[0])\n",
    "for c in a :\n",
    "    min_var = min( min_var , variance(c))\n",
    "    \n",
    "print ('%.2f' %min_var) "
   ]
  },
  {
   "cell_type": "code",
   "execution_count": 8,
   "metadata": {
    "scrolled": true
   },
   "outputs": [
    {
     "data": {
      "text/plain": [
       "0.7071067811865476"
      ]
     },
     "execution_count": 8,
     "metadata": {},
     "output_type": "execute_result"
    }
   ],
   "source": [
    "statistics.stdev([1,2])"
   ]
  },
  {
   "cell_type": "code",
   "execution_count": 9,
   "metadata": {},
   "outputs": [
    {
     "name": "stdout",
     "output_type": "stream",
     "text": [
      "4\n"
     ]
    }
   ],
   "source": [
    "s= 10\n",
    "n =3\n",
    "nums = [i for i in range(1, s+1)]\n",
    "\n",
    "l = combinations(nums,n)\n",
    "\n",
    "res = 0\n",
    "for c in l :\n",
    "    if sum(c) == s:\n",
    "        res += 1\n",
    "        \n",
    "print(res)"
   ]
  },
  {
   "cell_type": "markdown",
   "metadata": {},
   "source": [
    "### 2. 长度为L的手链，上面有n颗宝石， 我们想要将所有的宝石移动到一起，求最小的移动距离"
   ]
  },
  {
   "cell_type": "code",
   "execution_count": 15,
   "metadata": {},
   "outputs": [],
   "source": [
    "l =1000\n",
    "n = 4\n",
    "nums = [1,4,998,995]"
   ]
  },
  {
   "cell_type": "code",
   "execution_count": 16,
   "metadata": {},
   "outputs": [
    {
     "name": "stdout",
     "output_type": "stream",
     "text": [
      "8\n"
     ]
    }
   ],
   "source": [
    "l =10\n",
    "n = 5\n",
    "nums = [1,3,5,7,9]\n",
    "m = []\n",
    "for num in nums:\n",
    "    if num<l //2:\n",
    "        m.append(num)\n",
    "    else:\n",
    "        m.append(-(l-num))\n",
    "        \n",
    "m =sorted(m)\n",
    "p = m[n//2]\n",
    "\n",
    "left, right = 0, 0\n",
    "for i in range(n//2):\n",
    "    left += p - m[i] -1 - i\n",
    "for i in range(n//2+ 1 ,n):\n",
    "    right += m[i] - p -1 - (i- n//2 -1)\n",
    "\n",
    "print(left + right)"
   ]
  },
  {
   "cell_type": "markdown",
   "metadata": {},
   "source": [
    "### 2.异或求密码"
   ]
  },
  {
   "cell_type": "code",
   "execution_count": 29,
   "metadata": {},
   "outputs": [
    {
     "data": {
      "text/plain": [
       "0"
      ]
     },
     "execution_count": 29,
     "metadata": {},
     "output_type": "execute_result"
    }
   ],
   "source": [
    "1^1^1^1"
   ]
  },
  {
   "cell_type": "code",
   "execution_count": 193,
   "metadata": {},
   "outputs": [],
   "source": [
    "n = 7 \n",
    "k = 4 \n",
    "s = '1110100110'\n",
    "\n",
    "a = [0 for i in range(n)]"
   ]
  },
  {
   "cell_type": "code",
   "execution_count": 12,
   "metadata": {},
   "outputs": [],
   "source": [
    "n = 6\n",
    "k = 2\n",
    "s = '1110001'\n",
    "a = [0 for i in range(n)]"
   ]
  },
  {
   "cell_type": "code",
   "execution_count": 13,
   "metadata": {},
   "outputs": [],
   "source": [
    "n = 2\n",
    "k = 1\n",
    "s = '11110'"
   ]
  },
  {
   "cell_type": "code",
   "execution_count": 14,
   "metadata": {},
   "outputs": [
    {
     "name": "stdout",
     "output_type": "stream",
     "text": [
      "11\n"
     ]
    }
   ],
   "source": [
    "a = [0 for i in range(n)]\n",
    "for i in range(n):\n",
    "    if i == 0 :\n",
    "        a[i] = int(s[i])\n",
    "    elif i< k:\n",
    "        a[i] = a[i] ^int(s[i])\n",
    "        t = i \n",
    "        for j in range(t):\n",
    "            a[i] ^= a[j]\n",
    "    else: # i>= 4 \n",
    "        a[i] = a[i] ^int(s[i])\n",
    "        for j in range(i-k+1, i): # k =4 \n",
    "            a[i] ^= a[j]   \n",
    "print(''.join(map(str,a)))"
   ]
  },
  {
   "cell_type": "markdown",
   "metadata": {},
   "source": [
    "### 8.17 腾讯"
   ]
  },
  {
   "cell_type": "markdown",
   "metadata": {},
   "source": [
    "1. 连续长度为k的子串，sum值最小\n",
    "输出：子串的起始index"
   ]
  },
  {
   "cell_type": "code",
   "execution_count": null,
   "metadata": {},
   "outputs": [],
   "source": [
    "def subtree(t1, t2):\n",
    "    if not t1: \n",
    "        return t2 \n",
    "        \n",
    "    "
   ]
  },
  {
   "cell_type": "code",
   "execution_count": 69,
   "metadata": {},
   "outputs": [
    {
     "name": "stdout",
     "output_type": "stream",
     "text": [
      "1 2 \n",
      "12\n",
      "4\n"
     ]
    }
   ],
   "source": [
    "n , k = map(int, input().split())  # 7,3 \n",
    "nums = map(int, input().split())  # 1,2,6,1,1,7,1\n",
    "\n",
    "for i in range(k,n):\n",
    "    cur_sum = cur_sum + nums[i] - nums[i-k] \n",
    "    if cur_sum < min_sum :\n",
    "        min_index = i\n",
    "        min_sum = cur_sum\n",
    "print(min_index-k+2)"
   ]
  },
  {
   "cell_type": "code",
   "execution_count": 59,
   "metadata": {},
   "outputs": [],
   "source": [
    "nums = [1,2,6,1,1,7,1]\n",
    "k = 3\n",
    "n = 7"
   ]
  },
  {
   "cell_type": "code",
   "execution_count": 60,
   "metadata": {},
   "outputs": [],
   "source": [
    "cur_sum , min_sum = sum(nums[0:k]) , sum(nums[0:k]) \n",
    "min_index = 0"
   ]
  },
  {
   "cell_type": "code",
   "execution_count": 61,
   "metadata": {},
   "outputs": [
    {
     "data": {
      "text/plain": [
       "9"
      ]
     },
     "execution_count": 61,
     "metadata": {},
     "output_type": "execute_result"
    }
   ],
   "source": [
    "cur_sum"
   ]
  },
  {
   "cell_type": "code",
   "execution_count": 62,
   "metadata": {},
   "outputs": [
    {
     "name": "stdout",
     "output_type": "stream",
     "text": [
      "8\n",
      "4\n"
     ]
    }
   ],
   "source": [
    "for i in range(k,n):\n",
    "    cur_sum = cur_sum + nums[i] - nums[i-k] # +nums[3] - nums[3-k]\n",
    "    if cur_sum < min_sum :\n",
    "        min_index = i\n",
    "        min_sum = cur_sum\n",
    "        print(min_sum)\n",
    "        print(min_index)"
   ]
  },
  {
   "cell_type": "code",
   "execution_count": null,
   "metadata": {},
   "outputs": [],
   "source": [
    "dp[n-1][m-1] = dp[n-1][m-2] , dp[n-2][m-1] "
   ]
  },
  {
   "cell_type": "code",
   "execution_count": null,
   "metadata": {},
   "outputs": [],
   "source": []
  },
  {
   "cell_type": "markdown",
   "metadata": {},
   "source": [
    "### billibili"
   ]
  },
  {
   "cell_type": "markdown",
   "metadata": {},
   "source": [
    "### 1. 26进制"
   ]
  },
  {
   "cell_type": "code",
   "execution_count": null,
   "metadata": {},
   "outputs": [],
   "source": [
    "def problem1(s):\n",
    "    length = len(s)\n",
    "    if not s or s[0] == '0':\n",
    "        return 0\n",
    "    dp = [0]*(length+1)\n",
    "    dp[0] = 1\n",
    "    dp[1] = 1\n",
    "    for i in range(2, length+1):\n",
    "        if int(s[i-1]) >= 1 and int(s[i-1]) <= 9:\n",
    "            dp[i] += dp[i-1]\n",
    "        if int(s[i-2]) == 1 or (int(s[i-2]) == 2 and int(s[i-1]) >= 0 and int(s[i-1]) <= 6):\n",
    "            dp[i] += dp[i-2]\n",
    "    return dp[length]\n",
    "\n",
    "\n",
    "s = input()\n",
    "res = problem1(s)\n",
    "print(res)\n"
   ]
  },
  {
   "cell_type": "markdown",
   "metadata": {},
   "source": [
    "###  2.定义卷积"
   ]
  },
  {
   "cell_type": "code",
   "execution_count": 42,
   "metadata": {},
   "outputs": [
    {
     "ename": "ValueError",
     "evalue": "not enough values to unpack (expected 2, got 1)",
     "output_type": "error",
     "traceback": [
      "\u001b[0;31m---------------------------------------------------------------------------\u001b[0m",
      "\u001b[0;31mValueError\u001b[0m                                Traceback (most recent call last)",
      "Cell \u001b[0;32mIn[42], line 17\u001b[0m\n\u001b[1;32m     13\u001b[0m             res[i][j] \u001b[38;5;241m=\u001b[39m \u001b[38;5;28mmin\u001b[39m(\u001b[38;5;28mint\u001b[39m(tmp), \u001b[38;5;241m255\u001b[39m)\n\u001b[1;32m     14\u001b[0m     \u001b[38;5;28;01mreturn\u001b[39;00m row, col, res\n\u001b[0;32m---> 17\u001b[0m h, w \u001b[38;5;241m=\u001b[39m \u001b[38;5;28minput\u001b[39m()\u001b[38;5;241m.\u001b[39mstrip()\u001b[38;5;241m.\u001b[39msplit(\u001b[38;5;124m'\u001b[39m\u001b[38;5;124m \u001b[39m\u001b[38;5;124m'\u001b[39m)\n\u001b[1;32m     18\u001b[0m img \u001b[38;5;241m=\u001b[39m []\n\u001b[1;32m     19\u001b[0m \u001b[38;5;28;01mfor\u001b[39;00m i \u001b[38;5;129;01min\u001b[39;00m \u001b[38;5;28mrange\u001b[39m(\u001b[38;5;28mint\u001b[39m(h)):\n",
      "\u001b[0;31mValueError\u001b[0m: not enough values to unpack (expected 2, got 1)"
     ]
    }
   ],
   "source": [
    "def problem2(h, w, img, m, kernel):\n",
    "    if not img or not kernel or h < m or w < m:\n",
    "        return 0\n",
    "    row = h-m+1\n",
    "    col = w-m+1\n",
    "    res = [[0 for i in range(col)] for j in range(col)]\n",
    "    for i in range(row):\n",
    "        for j in range(col):\n",
    "            tmp = 0\n",
    "            for x in range(m):\n",
    "                for y in range(m):\n",
    "                    tmp = tmp+img[i+x][j+y]*kernel[x][y]\n",
    "            res[i][j] = min(int(tmp), 255)\n",
    "    return row, col, res\n",
    "\n",
    "\n",
    "h, w = input().strip().split(' ')\n",
    "img = []\n",
    "for i in range(int(h)):\n",
    "    tmp = input().strip().split(' ')\n",
    "    img.append([int(x) for x in tmp])\n",
    "m = input().strip().split(' ')\n",
    "m = m[0]\n",
    "kernel = []\n",
    "for i in range(int(m)):\n",
    "    tmp = input().strip().split(' ')\n",
    "    kernel.append([float(x) for x in tmp])\n",
    "\n",
    "row, col, res = problem2(int(h), int(w), img, int(m), kernel)\n",
    "for i in range(row):\n",
    "    s=''\n",
    "    for j in range(col):\n",
    "        s+=str(res[i][j])+str(' ')\n",
    "    print(s.strip())\n",
    "\n",
    "\n",
    "# print(img)\n",
    "# print(kernel)\n",
    "'''\n",
    "3 3\n",
    "40 24 135\n",
    "200 239 238\n",
    "90 34 94\n",
    "2\n",
    "0.0 0.6\n",
    "0.1 0.3\n",
    "'''\n",
    "\n",
    "'''\n",
    "106 176\n",
    "162 174\n",
    "'''\n"
   ]
  },
  {
   "cell_type": "markdown",
   "metadata": {},
   "source": [
    "### 作业帮面试8.21\n"
   ]
  },
  {
   "cell_type": "markdown",
   "metadata": {},
   "source": [
    "#### 1.已知一颗二叉树的前序序列，\n",
    "```\n",
    "         a\n",
    "       /    \\\n",
    "      b       d\n",
    "     / \\     /   \\ \n",
    "    c   *   e     f\n",
    "   /  \\    / \\   /  \\\n",
    "  *    *  *   * *    *\n",
    "1 构造树节点\n",
    "2 写一个tree_create函数构造树返回根节点，\n",
    "3 写一个post_order函数返回后序序列 \n",
    "```"
   ]
  },
  {
   "cell_type": "code",
   "execution_count": 4,
   "metadata": {},
   "outputs": [
    {
     "ename": "SyntaxError",
     "evalue": "invalid syntax (<ipython-input-4-a6c379b4c3f1>, line 1)",
     "output_type": "error",
     "traceback": [
      "\u001b[0;36m  File \u001b[0;32m\"<ipython-input-4-a6c379b4c3f1>\"\u001b[0;36m, line \u001b[0;32m1\u001b[0m\n\u001b[0;31m    nums = [a,b,c,*,*,*,d,e,*,*,f,*,*]\u001b[0m\n\u001b[0m                   ^\u001b[0m\n\u001b[0;31mSyntaxError\u001b[0m\u001b[0;31m:\u001b[0m invalid syntax\n"
     ]
    }
   ],
   "source": [
    "nums = [a,b,c,b*,*,*,d,e,*,*,f,*,*]"
   ]
  },
  {
   "cell_type": "code",
   "execution_count": 3,
   "metadata": {},
   "outputs": [],
   "source": [
    "class TreeNode:\n",
    "    def __init__(self,val):\n",
    "        self.val = val\n",
    "        self.left = None\n",
    "        self.right = None"
   ]
  },
  {
   "cell_type": "code",
   "execution_count": null,
   "metadata": {},
   "outputs": [],
   "source": [
    "def create_tree(self,nums):\n",
    "    \n",
    "    "
   ]
  },
  {
   "cell_type": "code",
   "execution_count": null,
   "metadata": {},
   "outputs": [],
   "source": []
  },
  {
   "cell_type": "code",
   "execution_count": null,
   "metadata": {},
   "outputs": [],
   "source": []
  }
 ],
 "metadata": {
  "kernelspec": {
   "display_name": "Python 3",
   "language": "python",
   "name": "python3"
  },
  "language_info": {
   "codemirror_mode": {
    "name": "ipython",
    "version": 3
   },
   "file_extension": ".py",
   "mimetype": "text/x-python",
   "name": "python",
   "nbconvert_exporter": "python",
   "pygments_lexer": "ipython3",
   "version": "3.8.2"
  }
 },
 "nbformat": 4,
 "nbformat_minor": 4
}
