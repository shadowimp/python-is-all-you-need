{
 "cells": [
  {
   "cell_type": "markdown",
   "metadata": {},
   "source": [
    "### 2. 两数相加\n",
    "```\n",
    "输入：(2 -> 4 -> 3) + (5 -> 6 -> 4)\n",
    "输出：7 -> 0 -> 8\n",
    "原因：342 + 465 = 807\n",
    "\n",
    "复杂度：O(n)\n",
    "2+5 = 0, 7 \n",
    "4+6 = 1, 0 \n",
    "3+4+1 = 8\n",
    "```"
   ]
  },
  {
   "cell_type": "code",
   "execution_count": 13,
   "metadata": {},
   "outputs": [],
   "source": [
    "class ListNode:\n",
    "\tdef __init__(self,x):\n",
    "\t\tself.val = x \n",
    "\t\tself.next = None "
   ]
  },
  {
   "cell_type": "code",
   "execution_count": 14,
   "metadata": {},
   "outputs": [],
   "source": [
    "class Solution(object):\n",
    "    def addTwoNumbers(self, l1, l2):\n",
    "        \"\"\"\n",
    "        :type l1: ListNode\n",
    "        :type l2: ListNode\n",
    "        :rtype: ListNode\n",
    "        \"\"\"\n",
    "        carry = 0    # 进位符\n",
    "        root = n = ListNode(0)\n",
    "        while l1 or l2 or carry:\n",
    "        # 只要 l1 l2 都不为空才进行操作，否则直接返回 0\n",
    "            v1 = v2 = 0\n",
    "            if l1:\n",
    "                v1 = l1.val\n",
    "                l1 = l1.next\n",
    "            if l2:\n",
    "                v2 = l2.val\n",
    "                l2 = l2.next\n",
    "            carry, val = divmod(v1+v2+carry, 10)\n",
    "            n.next = ListNode(val)\n",
    "            n = n.next\n",
    "        return root.next   # 这步一定要仔细理解"
   ]
  },
  {
   "cell_type": "code",
   "execution_count": 15,
   "metadata": {},
   "outputs": [
    {
     "name": "stdout",
     "output_type": "stream",
     "text": [
      "<__main__.ListNode object at 0x104a5e710>\n"
     ]
    }
   ],
   "source": [
    "l1 = ListNode(2)\n",
    "l1.next = ListNode(4)\n",
    "l1.next.next = ListNode(3)\n",
    "\n",
    "\n",
    "l2 = ListNode(5)\n",
    "l2.next = ListNode(6)\n",
    "l2.next.next = ListNode(4)\n",
    "\n",
    "S1 = Solution() \n",
    "print(S1.addTwoNumbers(l1,l2))"
   ]
  },
  {
   "cell_type": "markdown",
   "metadata": {},
   "source": [
    "### 3. 无重复字符的最长子串\n",
    "给定一个字符串，请你找出其中不含有重复字符的 最长子串 的长度。\n",
    "```\n",
    "输入: \"abcabcbb\"\n",
    "输出: 3 \n",
    "解释: 因为无重复字符的最长子串是 \"abc\"，所以其长度为 3。\n",
    "```"
   ]
  },
  {
   "cell_type": "code",
   "execution_count": 10,
   "metadata": {},
   "outputs": [
    {
     "data": {
      "text/plain": [
       "2"
      ]
     },
     "execution_count": 10,
     "metadata": {},
     "output_type": "execute_result"
    }
   ],
   "source": [
    "# 滑动窗口\n",
    "def lengthOfLongestSubstring(s):\n",
    "    \"\"\"\n",
    "    :type s: str\n",
    "    :rtype: int\n",
    "    \"\"\"\n",
    "    if not s:\n",
    "        return 0 \n",
    "    window = [ ]\n",
    "    max_len = 0\n",
    "    for i, x in enumerate(s):\n",
    "        if x not in window:\n",
    "            window.append(x)\n",
    "        else:\n",
    "            max_len = max(max_len, len(window))\n",
    "            new_index = window.index(x)\n",
    "            window = window[new_index+1:]\n",
    "            window.append(x)\n",
    "    max_len = max(max_len, len(window))\n",
    "    return max_len\n",
    "\n",
    "lengthOfLongestSubstring('abbaa')"
   ]
  },
  {
   "cell_type": "markdown",
   "metadata": {},
   "source": [
    "### 4. 寻找两个有序数组的中位数"
   ]
  },
  {
   "cell_type": "code",
   "execution_count": null,
   "metadata": {},
   "outputs": [],
   "source": [
    "def find(nums1,nums2):\n",
    "\ti = 0 \n",
    "\tj = 0 \n",
    "\tnums3 = []\n",
    "\n",
    "\twhile i<len(nums1) and j<len(nums2):\n",
    "\t\tif (nums1[i]<nums2[j]):\n",
    "\t\t\tnums3.append(nums1[i])\n",
    "\t\t\ti = i + 1\n",
    "\t\telse:\n",
    "\t\t\tnums3.append(nums2[j])\n",
    "\t\t\tj = j + 1\n",
    "\tif ( i == len(nums1)):\n",
    "\t\tnums3.extend(nums2[j:])\n",
    "\telse:\n",
    "\t\tnums3.extend(nums1[i:])\n",
    "\n",
    "\n",
    "\tif len(nums3)%2 == 1 :\n",
    "\t\treturn nums3[len(nums3)//2]\n",
    "\telse:\n",
    "\t\treturn ((nums3[len(nums3)/2])+nums3[len(nums3)/2-1])/2.0\n",
    "\n",
    "print find([1,4,7],[2,5,8])"
   ]
  },
  {
   "cell_type": "markdown",
   "metadata": {},
   "source": [
    "### 5 LPS"
   ]
  },
  {
   "cell_type": "code",
   "execution_count": 3,
   "metadata": {
    "scrolled": true
   },
   "outputs": [
    {
     "name": "stdout",
     "output_type": "stream",
     "text": [
      "bab\n",
      "bb\n"
     ]
    }
   ],
   "source": [
    "# 中间扩散法 ，遍历每个元素， 每个元素都从中间向两遍走\n",
    "def longestPalindrome(s):\n",
    "    res = \"\" #初值，相当于max_sum = 0 \n",
    "    for i in range(len(s)):        \n",
    "        odd  = palindromeAt(s, i, i) # abcba \n",
    "        even = palindromeAt(s, i, i+1) # baccab\n",
    "        res = max(res, odd, even, key=len) #以长度作为key比较\n",
    "    return res\n",
    " \n",
    "# 返回一个回文子串\n",
    "def palindromeAt( s, left, right):    \n",
    "    while left >= 0 and right < len(s) and s[left] == s[right]:  \n",
    "        #如果中间是两个数，第一次就要判断 , 两个如果不等，就return s[i:i] 为空字符\n",
    "        left -= 1\n",
    "        right += 1\n",
    "    return s[left+1:right]\n",
    "\n",
    "print(longestPalindrome(\"babad\"))\n",
    "print(longestPalindrome(\"cbbd\"))"
   ]
  },
  {
   "cell_type": "code",
   "execution_count": 17,
   "metadata": {},
   "outputs": [
    {
     "name": "stdout",
     "output_type": "stream",
     "text": [
      "False\n",
      "True\n",
      "True\n",
      "False\n",
      "['a', 'd', 'f', 'ad', 'df', 'adf']\n",
      "**********(main)**********\n",
      "bab\n",
      "bb\n",
      "None\n"
     ]
    }
   ],
   "source": [
    "#-*-coding:utf-8-*- \n",
    "def fun(s):  #检测一个字符串是否是回文字符串，时间复杂度为n\n",
    "\tif (len(s)<2): \n",
    "\t\treturn False\n",
    "\tfor i in range(len(s)//2): \n",
    "\t\tif s[i] != s[len(s)-1-i]: \n",
    "\t\t\treturn False \n",
    "\treturn True \n",
    "\n",
    "print(fun('abc'))\n",
    "print(fun('absdfdsba'))\n",
    "print(fun('asfhiihfsa'))\n",
    "print(fun('a'))\n",
    "\n",
    "\n",
    "#获得一个字符串的所有子串\n",
    "def get_SubString(s): \n",
    "\treturn [s[j:j+i+1]for i in range(len(s)) for j in range(len(s)-i)]\n",
    "\n",
    "print(get_SubString('adf'))\n",
    "\n",
    "print('*'*10+'(main)'+'*'*10)\n",
    "\n",
    "#longest palindromic substing 最大回文子串 蛮力破解 Time:O(n^3) Space:O(n^2)\n",
    "def lmp_BruteForce(s):\n",
    "\tnums = get_SubString(s)\n",
    "\tfor item in nums: \n",
    "\t\tif fun(item): \n",
    "\t\t\treturn item \n",
    "\treturn None \n",
    "\n",
    "print(lmp_BruteForce('babad'))\n",
    "print(lmp_BruteForce('cbbd'))\n",
    "print(lmp_BruteForce('adf'))"
   ]
  },
  {
   "cell_type": "markdown",
   "metadata": {
    "collapsed": true
   },
   "source": [
    "### 15. 3Sum \n",
    "Given an array nums of n integers, are there elements a, b, c in nums such that a + b + c = 0? Find all unique triplets in the array which gives the sum of zero.\n",
    "\n",
    "The solution set must not contain duplicate triplets.\n",
    "\n",
    "a,b,c三个数之和为0，不包含重复数组。\n",
    "\n",
    "Given array nums = [-1, 0, 1, 2, -1, -4],\n",
    "\n",
    "A solution set is:\n",
    "[\n",
    "  [-1, 0, 1],\n",
    "  [-1, -1, 2]\n",
    "]"
   ]
  },
  {
   "cell_type": "code",
   "execution_count": 7,
   "metadata": {},
   "outputs": [],
   "source": [
    "def threesum(nums):\n",
    "    if len(nums) < 3:\n",
    "        return []\n",
    "    nums.sort()\n",
    "    result = []\n",
    "    i = 0 \n",
    "    for a in nums:\n",
    "        i = i+1 \n",
    "        nums_dict = {}\n",
    "        for b in nums[i:] :\n",
    "            if b not in nums_dict:\n",
    "                nums_dict[-a-b] = 1 \n",
    "            else:\n",
    "                result.append([a,b,-a-b])\n",
    "    result = set(map(tuple , result))\n",
    "    return list(result) "
   ]
  },
  {
   "cell_type": "code",
   "execution_count": 8,
   "metadata": {},
   "outputs": [
    {
     "data": {
      "text/plain": [
       "[(-1, 1, 0), (-1, 2, -1)]"
      ]
     },
     "execution_count": 8,
     "metadata": {},
     "output_type": "execute_result"
    }
   ],
   "source": [
    "nums = [-1, 0, 1, 2, -1, -4]\n",
    "threesum(nums)"
   ]
  },
  {
   "cell_type": "code",
   "execution_count": null,
   "metadata": {},
   "outputs": [],
   "source": [
    "def threeSum(nums):\n",
    "    \"\"\"\n",
    "    :type nums: List[int]\n",
    "    :rtype: List[List[int]]\n",
    "    \"\"\"\n",
    "    nums.sort()\n",
    "    res =[]\n",
    "    i = 0\n",
    "    for i in range(len(nums)):\n",
    "        if i == 0 or nums[i]>nums[i-1]:\n",
    "            l = i+1   # 左\n",
    "            r = len(nums)-1  # 右\n",
    "            while l < r:\n",
    "                s = nums[i] + nums[l] +nums[r]  \n",
    "                if s ==0:\n",
    "                    res.append([nums[i],nums[l],nums[r]])\n",
    "                    l +=1\n",
    "                    r -=1\n",
    "                    while l < r and nums[l] == nums[l-1]:\n",
    "                        l += 1\n",
    "                    while r > l and nums[r] == nums[r+1]:\n",
    "                        r -= 1\n",
    "                elif s>0:\n",
    "                    r -=1\n",
    "                else :\n",
    "                    l +=1\n",
    "    return res  "
   ]
  },
  {
   "cell_type": "code",
   "execution_count": null,
   "metadata": {},
   "outputs": [],
   "source": [
    "nums = [-1, 0, 1, 2, -1, -4]\n",
    "threesum(nums)"
   ]
  },
  {
   "cell_type": "markdown",
   "metadata": {},
   "source": [
    "### 34 重复元素边界的二分查找"
   ]
  },
  {
   "cell_type": "markdown",
   "metadata": {},
   "source": [
    "```\n",
    "寻找左侧边界的二分查找：\n",
    "当 nums[mid] == target, 只找到一个target时不要立即返回\n",
    "而要继续找， 改变下标为right = mid -1\n",
    "如果右边的值都小于target ， 则相当于只有left在动，right 不动，最后会， left = mid +1 , 返回左边界\n",
    "如果右边有值等于target ， 则相当于与原问题相同， \n",
    "最后返回left\n",
    "\n",
    "寻找右侧边界的二分查找：\n",
    "当 nums[mid] == target, 只找到一个target时不要立即返回\n",
    "而要继续找， 改变下标为left = mid + 1\n",
    "如果右边的值都大于target ，  则相当于 只有right 在移动， left不动， \n",
    "最后right =mid -1 ， 即是我们的右边界，\n",
    "如果右边有值等于target ，则相当于与原问题相同.\n",
    "最后返回right\n",
    "```"
   ]
  },
  {
   "cell_type": "code",
   "execution_count": 1,
   "metadata": {},
   "outputs": [],
   "source": [
    "def leetcode34(nums, target):\n",
    "    if not nums :\n",
    "        return [-1, -1]\n",
    "                \n",
    "    #找左边界\n",
    "    left, right = 0, len(nums)-1 \n",
    "    # 1,2,5,5,5,9\n",
    "    while left <= right:\n",
    "        mid = (left+right)//2\n",
    "\n",
    "        if target == nums[mid]:\n",
    "            right = mid - 1\n",
    "        elif target < nums[mid]:\n",
    "            right = mid - 1\n",
    "        else: # traget > nums[mid]\n",
    "            left = mid + 1 \n",
    "    res_left = left\n",
    "    \n",
    "    left, right = 0, len(nums)-1 \n",
    "    while left <= right:\n",
    "        mid = (left+right)//2\n",
    "        \n",
    "        if target ==nums[mid]:\n",
    "            left = mid +1 \n",
    "        elif target < nums[mid]:\n",
    "            right = mid-1\n",
    "        else:\n",
    "            left = mid +1 \n",
    "    res_right = right\n",
    "    \n",
    "    return [res_left, res_right] if res_left <= res_right else [-1,-1]"
   ]
  },
  {
   "cell_type": "code",
   "execution_count": 3,
   "metadata": {},
   "outputs": [
    {
     "name": "stdout",
     "output_type": "stream",
     "text": [
      "[2, 5]\n"
     ]
    }
   ],
   "source": [
    "nums = [1,2,5,5,5,5,9]\n",
    "target = 5\n",
    "print( leetcode34(nums, target) )"
   ]
  },
  {
   "cell_type": "markdown",
   "metadata": {
    "collapsed": true
   },
   "source": [
    "### 50. Pow(x, n)\n",
    "```\n",
    "Input: 2.00000, 10\n",
    "Output: 1024.00000\n",
    "\n",
    "Input: 2.00000, -2\n",
    "Output: 0.25000\n",
    "\n",
    "```\n"
   ]
  },
  {
   "cell_type": "markdown",
   "metadata": {},
   "source": [
    "分治思想求指数 ，T(n) = logn"
   ]
  },
  {
   "cell_type": "code",
   "execution_count": 20,
   "metadata": {
    "collapsed": true
   },
   "outputs": [],
   "source": [
    "def pow(x,n):\n",
    "    if n == 0 :\n",
    "        return 1\n",
    "    if n == 1 :\n",
    "        return x \n",
    "    if n < 1 :\n",
    "        return 1 / pow(x,-n)\n",
    "    if n % 2 == 0:\n",
    "        return pow(x*x,n/2)\n",
    "    else:\n",
    "        return x * pow(x , n-1 )"
   ]
  },
  {
   "cell_type": "code",
   "execution_count": 22,
   "metadata": {
    "scrolled": true
   },
   "outputs": [
    {
     "data": {
      "text/plain": [
       "512"
      ]
     },
     "execution_count": 22,
     "metadata": {},
     "output_type": "execute_result"
    }
   ],
   "source": [
    "pow(2,9)"
   ]
  },
  {
   "cell_type": "markdown",
   "metadata": {},
   "source": [
    "### 54 螺旋矩阵"
   ]
  },
  {
   "cell_type": "code",
   "execution_count": 16,
   "metadata": {},
   "outputs": [],
   "source": [
    "def spiralOrder( matrix):\n",
    "    \"\"\"\n",
    "    :type matrix: List[List[int]]\n",
    "    :rtype: List[int]\n",
    "    \"\"\"\n",
    "    # 取首行，去除首行后，对矩阵翻转来创建新的矩阵，\n",
    "    # 再递归直到新矩阵为[],退出并将取到的数据返回\n",
    "    ret = []\n",
    "    if matrix == []:\n",
    "        return ret\n",
    "    ret.extend(matrix[0]) # 上侧\n",
    "    new = [reversed(i) for i in matrix[1:]]\n",
    "    if new == []:\n",
    "        return ret\n",
    "    r = spiralOrder([i for i in zip(*new)])\n",
    "    ret.extend(r)\n",
    "    return ret"
   ]
  },
  {
   "cell_type": "code",
   "execution_count": 17,
   "metadata": {
    "scrolled": false
   },
   "outputs": [
    {
     "data": {
      "text/plain": [
       "[1, 2, 3, 6, 9, 8, 7, 4, 5]"
      ]
     },
     "execution_count": 17,
     "metadata": {},
     "output_type": "execute_result"
    }
   ],
   "source": [
    "m= [[1,2,3],[4,5,6],[7,8,9]]\n",
    "spiralOrder(m)"
   ]
  },
  {
   "cell_type": "markdown",
   "metadata": {},
   "source": [
    "### 105 根据二叉树的前序和中序构造二叉树\n",
    "```\n",
    "你可以假设树中没有重复的元素。\n",
    "例如，给出\n",
    "前序遍历 preorder = [3,9,20,15,7]\n",
    "中序遍历 inorder = [9,3,15,20,7]\n",
    "解法：\n",
    "前序的第一个元素是根节点， 中序中，从第一个节点到根节点为左子树，后面为右子树\n",
    "```\n",
    "链接：https://leetcode-cn.com/problems/construct-binary-tree-from-preorder-and-inorder-traversal\n",
    "\n",
    " "
   ]
  },
  {
   "cell_type": "code",
   "execution_count": 4,
   "metadata": {},
   "outputs": [
    {
     "data": {
      "text/plain": [
       "1"
      ]
     },
     "execution_count": 4,
     "metadata": {},
     "output_type": "execute_result"
    }
   ],
   "source": [
    "preorder = [3,9,20,15,7]\n",
    "preorder.index(9)"
   ]
  },
  {
   "cell_type": "code",
   "execution_count": 35,
   "metadata": {},
   "outputs": [],
   "source": [
    "inorder = [9,3,15,20,7]\n",
    "preorder = [3,9,20,15,7]"
   ]
  },
  {
   "cell_type": "code",
   "execution_count": 36,
   "metadata": {},
   "outputs": [],
   "source": [
    "class TreeNode:\n",
    "    def __init__(self,val):\n",
    "        self.val = val\n",
    "        self.left = None \n",
    "        self.right = None\n",
    "        \n",
    "def buildTree( preorder, inorder):\n",
    "    if not preorder or not inorder:\n",
    "        return None\n",
    "\n",
    "    root = TreeNode(preorder.pop(0))\n",
    "    mid = inorder.index(root.val)\n",
    "\n",
    "    inorder_l, inorder_r = inorder[:mid] , inorder[mid+1:]\n",
    "\n",
    "    left_len = len(inorder_l)\n",
    "\n",
    "    preorder_l = preorder[:left_len]\n",
    "    preorder_r = preorder[left_len:]\n",
    "\n",
    "\n",
    "    root.left = buildTree( preorder_l , inorder_l)\n",
    "    root.right = buildTree(preorder_r, inorder_r)\n",
    "\n",
    "    return root "
   ]
  },
  {
   "cell_type": "code",
   "execution_count": 37,
   "metadata": {},
   "outputs": [
    {
     "data": {
      "text/plain": [
       "3"
      ]
     },
     "execution_count": 37,
     "metadata": {},
     "output_type": "execute_result"
    }
   ],
   "source": [
    "t = buildTree(preorder,inorder)\n",
    "t.val"
   ]
  },
  {
   "cell_type": "markdown",
   "metadata": {},
   "source": [
    "### 152. Maximum Product Subarray\n",
    "连续子串乘积最大,有正数也有负数"
   ]
  },
  {
   "cell_type": "code",
   "execution_count": 8,
   "metadata": {},
   "outputs": [],
   "source": [
    "def max_product_subarray(nums):\n",
    "    cur_max , cur_min , res = nums[0] , nums[0] ,nums[0]\n",
    "    for num in nums[1:]:\n",
    "        cur_max = cur_max*num\n",
    "        cur_min = cur_min*num\n",
    "        temp = cur_max\n",
    "        cur_max = max(cur_max , cur_min, num)\n",
    "        cur_min = min(temp , cur_min, num)\n",
    "        res = max(res , cur_max)\n",
    "    return res"
   ]
  },
  {
   "cell_type": "code",
   "execution_count": 9,
   "metadata": {},
   "outputs": [
    {
     "data": {
      "text/plain": [
       "108"
      ]
     },
     "execution_count": 9,
     "metadata": {},
     "output_type": "execute_result"
    }
   ],
   "source": [
    "nums = [-1, -2 ,-9 , -6]\n",
    "max_product_subarray(nums)"
   ]
  },
  {
   "cell_type": "markdown",
   "metadata": {
    "collapsed": true
   },
   "source": [
    "### 347. 前 K 个高频元素"
   ]
  },
  {
   "cell_type": "code",
   "execution_count": 1,
   "metadata": {},
   "outputs": [
    {
     "data": {
      "text/plain": [
       "1"
      ]
     },
     "execution_count": 1,
     "metadata": {},
     "output_type": "execute_result"
    }
   ],
   "source": [
    "a = 1\n",
    "1"
   ]
  },
  {
   "cell_type": "markdown",
   "metadata": {},
   "source": [
    "### 76 最小覆盖子串 "
   ]
  },
  {
   "cell_type": "code",
   "execution_count": 6,
   "metadata": {},
   "outputs": [],
   "source": [
    "from collections import Counter\n",
    "def minWindow( s, t):\n",
    "    \"\"\"\n",
    "    :type s: str\n",
    "    :type t: str\n",
    "    :rtype: str\n",
    "    \"\"\"\n",
    "\n",
    "    if not t or not s:\n",
    "        return \"\"\n",
    "\n",
    "    # Dictionary which keeps a count of all the unique characters in t.\n",
    "    dict_t = Counter(t)\n",
    "\n",
    "    # Number of unique characters in t, which need to be present in the desired window.\n",
    "    required = len(dict_t)\n",
    "\n",
    "    # left and right pointer\n",
    "    l, r = 0, 0\n",
    "\n",
    "    # formed is used to keep track of how many unique characters in t are present in the current window in its desired frequency.\n",
    "    # e.g. if t is \"AABC\" then the window must have two A's, one B and one C. Thus formed would be = 3 when all these conditions are met.\n",
    "    formed = 0\n",
    "\n",
    "    # Dictionary which keeps a count of all the unique characters in the current window.\n",
    "    window_counts = {}\n",
    "\n",
    "    # ans tuple of the form (window length, left, right)\n",
    "    ans = float(\"inf\"), None, None\n",
    "\n",
    "    while r < len(s):\n",
    "\n",
    "        # Add one character from the right to the window\n",
    "        character = s[r]\n",
    "        window_counts[character] = window_counts.get(character, 0) + 1\n",
    "\n",
    "        # If the frequency of the current character added equals to the desired count in t then increment the formed count by 1.\n",
    "        if character in dict_t and window_counts[character] == dict_t[character]:\n",
    "            formed += 1\n",
    "\n",
    "        # Try and co***act the window till the point where it ceases to be 'desirable'.\n",
    "        while l <= r and formed == required:\n",
    "            character = s[l]\n",
    "\n",
    "            # Save the smallest window until now.\n",
    "            if r - l + 1 < ans[0]:\n",
    "                ans = (r - l + 1, l, r)\n",
    "\n",
    "            # The character at the position pointed by the `left` pointer is no longer a part of the window.\n",
    "            window_counts[character] -= 1\n",
    "            if character in dict_t and window_counts[character] < dict_t[character]:\n",
    "                formed -= 1\n",
    "\n",
    "            # Move the left pointer ahead, this would help to look for a new window.\n",
    "            l += 1    \n",
    "\n",
    "        # Keep expanding the window once we are done co***acting.\n",
    "        r += 1    \n",
    "    return \"\" if ans[0] == float(\"inf\") else s[ans[1] : ans[2] + 1]\n"
   ]
  },
  {
   "cell_type": "code",
   "execution_count": 7,
   "metadata": {},
   "outputs": [
    {
     "data": {
      "text/plain": [
       "'BANC'"
      ]
     },
     "execution_count": 7,
     "metadata": {},
     "output_type": "execute_result"
    }
   ],
   "source": [
    "s = \"ADOBECODEBANC\"\n",
    "t = \"ABC\"\n",
    "minWindow(s,t)"
   ]
  },
  {
   "cell_type": "code",
   "execution_count": 11,
   "metadata": {},
   "outputs": [],
   "source": [
    "def minWindow2( s, t):\n",
    "    ls = len(s)\n",
    "    lt = len(t)\n",
    "    if not s or not t or ls<lt:\n",
    "        return ''\n",
    "    min_size = ls + 1\n",
    "    l = r = 0\n",
    "    start=0\n",
    "    end = ls-1\n",
    "    map = {}\n",
    "    #对t中的字符计数\n",
    "    for c in t:\n",
    "        map[c] = map.get(c,0)+1\n",
    "    match = 0\n",
    "    while r<ls:\n",
    "        map[s[r]] = map.get(s[r],0)-1\n",
    "        #如果当前遇到的字符在map中出现过，则匹配数+1\n",
    "        match = match+1 if map[s[r]]>=0  else match\n",
    "        #当匹配完成时窗口左滑\n",
    "        if match==lt:\n",
    "            #尝试左滑窗口 对之前遇到的字符出窗口\n",
    "            while map[s[l]]<0:\n",
    "                map[s[l]]+=1\n",
    "                l+=1\n",
    "            if min_size > r - l + 1:\n",
    "                min_size = r - l +1\n",
    "                start = l\n",
    "                end = r\n",
    "        r+=1\n",
    "    return '' if min_size>ls else s[start:end+1]"
   ]
  },
  {
   "cell_type": "code",
   "execution_count": 12,
   "metadata": {},
   "outputs": [
    {
     "data": {
      "text/plain": [
       "'BANC'"
      ]
     },
     "execution_count": 12,
     "metadata": {},
     "output_type": "execute_result"
    }
   ],
   "source": [
    "s = \"ADOBECODEBANC\"\n",
    "t = \"ABC\"\n",
    "minWindow2(s,t)"
   ]
  },
  {
   "cell_type": "markdown",
   "metadata": {},
   "source": [
    "### 215.找第k大的数 "
   ]
  },
  {
   "cell_type": "code",
   "execution_count": 2,
   "metadata": {},
   "outputs": [],
   "source": [
    "class Solution(object):\n",
    "    def findKthLargest(self, nums, k):\n",
    "        \"\"\"\n",
    "        :type nums: List[int]\n",
    "        :type k: int\n",
    "        :rtype: int\n",
    "        \"\"\"\n",
    "        # 冒泡k次\n",
    "        for i in range(k):\n",
    "            j =0 \n",
    "            while j < len(nums)-1-i:\n",
    "                if nums[j] > nums[j+1]:\n",
    "                    nums[j] ,nums[j+1] = nums[j+1] , nums[j]\n",
    "                j += 1\n",
    "        return nums[-k]"
   ]
  },
  {
   "cell_type": "code",
   "execution_count": 1,
   "metadata": {},
   "outputs": [],
   "source": [
    "import heapq\n",
    "def kthLargestElement(k, nums):\n",
    "    if len(nums) <k :\n",
    "        return \n",
    "    nums_k = nums[0:k] \n",
    "    heapq.heapify(nums_k)\n",
    "    for num in nums[k : len(nums) ]:\n",
    "        item = max(num , heapq.heappop(nums_k))\n",
    "        heapq.heappush(nums_k,item)\n",
    "    return nums_k[0]"
   ]
  },
  {
   "cell_type": "markdown",
   "metadata": {},
   "source": [
    "### 1008. 先序遍历构造二叉树\n",
    "```\n",
    "给定二叉搜索树的先序遍历：\n",
    "[8,5,1,7,10,12]\n",
    "构建二叉树，返回根节点\n",
    "```\n"
   ]
  },
  {
   "cell_type": "code",
   "execution_count": 1,
   "metadata": {},
   "outputs": [],
   "source": [
    "class TreeNode:\n",
    "    def __init__(self,val):\n",
    "        self.val = val\n",
    "        self.left = None \n",
    "        self.right = None\n",
    "        \n",
    "    def create_tree(self,nums):\n",
    "        if not nums:\n",
    "            return None\n",
    "        root = TreeNode(nums.pop())\n",
    "        left, right = [] , []\n",
    "        for num in nums: # 已经pop出了第一个元素，所以遍历所有的\n",
    "            if num <= root.val:\n",
    "                left.append(num)\n",
    "            else:\n",
    "                right.append(num)\n",
    "        \n",
    "        root.left = self.create_tree(left)\n",
    "        root.right = self.create_tree(right)\n",
    "        \n",
    "        return root"
   ]
  },
  {
   "cell_type": "code",
   "execution_count": null,
   "metadata": {},
   "outputs": [],
   "source": []
  }
 ],
 "metadata": {
  "kernelspec": {
   "display_name": "Python 3",
   "language": "python",
   "name": "python3"
  },
  "language_info": {
   "codemirror_mode": {
    "name": "ipython",
    "version": 3
   },
   "file_extension": ".py",
   "mimetype": "text/x-python",
   "name": "python",
   "nbconvert_exporter": "python",
   "pygments_lexer": "ipython3",
   "version": "3.7.3"
  }
 },
 "nbformat": 4,
 "nbformat_minor": 2
}
