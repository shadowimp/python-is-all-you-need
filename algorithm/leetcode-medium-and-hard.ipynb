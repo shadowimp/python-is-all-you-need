{
 "cells": [
  {
   "cell_type": "markdown",
   "metadata": {},
   "source": [
    "### 2. 两数相加\n",
    "```\n",
    "输入：(2 -> 4 -> 3) + (5 -> 6 -> 4)\n",
    "输出：7 -> 0 -> 8\n",
    "原因：342 + 465 = 807\n",
    "\n",
    "复杂度：O(n)\n",
    "2+5 = 0, 7 \n",
    "4+6 = 1, 0 \n",
    "3+4+1 = 8\n",
    "```"
   ]
  },
  {
   "cell_type": "code",
   "execution_count": 13,
   "metadata": {},
   "outputs": [],
   "source": [
    "class ListNode:\n",
    "\tdef __init__(self,x):\n",
    "\t\tself.val = x \n",
    "\t\tself.next = None "
   ]
  },
  {
   "cell_type": "code",
   "execution_count": 68,
   "metadata": {},
   "outputs": [],
   "source": [
    "# Definition for singly-linked list.\n",
    "# class ListNode:\n",
    "#     def __init__(self, val=0, next=None):\n",
    "#         self.val = val\n",
    "#         self.next = next\n",
    "\n",
    "def addTwoNumbers(self,l1,l2):\n",
    "    s1 = ''\n",
    "    s2 = ''\n",
    "    while l1:\n",
    "        n1 = str(l1.val)\n",
    "        s1 = s1+n1\n",
    "        l1 = l1.next\n",
    "    while l2 :\n",
    "        n2 = str(l2.val)\n",
    "        s2 = s2+n2\n",
    "        l2 = l2.next \n",
    "    s = int(s1[::-1]) + int(s2[::-1])\n",
    "    s = str(s)[::-1]\n",
    "    new_head = ListNode(0)\n",
    "    temp_node = new_head\n",
    "    for c in s:\n",
    "        temp_node.next = ListNode(int(c))\n",
    "        temp_node = temp_node.next\n",
    "    return new_head.next "
   ]
  },
  {
   "cell_type": "code",
   "execution_count": 14,
   "metadata": {},
   "outputs": [],
   "source": [
    "class Solution(object):\n",
    "    def addTwoNumbers(self, l1, l2):\n",
    "        \"\"\"\n",
    "        :type l1: ListNode\n",
    "        :type l2: ListNode\n",
    "        :rtype: ListNode\n",
    "        \"\"\"\n",
    "        carry = 0    # 进位符\n",
    "        root = n = ListNode(0)\n",
    "        while l1 or l2 or carry:\n",
    "        # 只要 l1 l2 都不为空才进行操作，否则直接返回 0\n",
    "            v1 = v2 = 0\n",
    "            if l1:\n",
    "                v1 = l1.val\n",
    "                l1 = l1.next\n",
    "            if l2:\n",
    "                v2 = l2.val\n",
    "                l2 = l2.next\n",
    "            carry, val = divmod(v1+v2+carry, 10)\n",
    "            n.next = ListNode(val)\n",
    "            n = n.next\n",
    "        return root.next   # 这步一定要仔细理解"
   ]
  },
  {
   "cell_type": "code",
   "execution_count": 15,
   "metadata": {},
   "outputs": [
    {
     "name": "stdout",
     "output_type": "stream",
     "text": [
      "<__main__.ListNode object at 0x104a5e710>\n"
     ]
    }
   ],
   "source": [
    "l1 = ListNode(2)\n",
    "l1.next = ListNode(4)\n",
    "l1.next.next = ListNode(3)\n",
    "\n",
    "\n",
    "l2 = ListNode(5)\n",
    "l2.next = ListNode(6)\n",
    "l2.next.next = ListNode(4)\n",
    "\n",
    "S1 = Solution() \n",
    "print(S1.addTwoNumbers(l1,l2))"
   ]
  },
  {
   "cell_type": "markdown",
   "metadata": {},
   "source": [
    "### 3. 无重复字符的最长子串 （ 字典+左指针\n",
    "给定一个字符串，请你找出其中不含有重复字符的 最长子串 的长度。\n",
    "```\n",
    "输入: \"abcabcbb\"\n",
    "输出: 3 \n",
    "解释: 因为无重复字符的最长子串是 \"abc\"，所以其长度为 3。\n",
    "```"
   ]
  },
  {
   "cell_type": "markdown",
   "metadata": {},
   "source": [
    "```\n",
    "思路：\n",
    "\n",
    "滑动窗口， 记录左右指针（index）。\n",
    "2. 建立 字典， 记录每个字符对应的下标位置。\n",
    "\n",
    "3. 记录最大长度值res，每次进行和当前长度值的对比 max(res , right - left + 1 )\n",
    "\n",
    "4。 如果当前字符不在字典： right = i\n",
    "\n",
    "如果当前字符在字典 : left = max(left , dic[ i ] +1 ) , right = i\n",
    "\n",
    "```"
   ]
  },
  {
   "cell_type": "code",
   "execution_count": 63,
   "metadata": {},
   "outputs": [],
   "source": [
    "def lengthOfLongestSubstring( s: str) -> int:\n",
    "    if not s :\n",
    "        return 0 \n",
    "    res = 1 \n",
    "    left = 0\n",
    "    dic = {}  #  x:index\n",
    "    for i, c in enumerate(s):\n",
    "        if c not in dic:\n",
    "            dic[c] = i \n",
    "        else:\n",
    "            left = max(left,dic[c]+1)# 关键的一步，需要记录左指针的位置, 不然abba会报错\n",
    "            dic[c] = i \n",
    "        right = i \n",
    "        sl = right - left + 1 # substring len\n",
    "        print(left ,right , s[left:right+1],sl,dic)\n",
    "        res = max(res ,sl)\n",
    "    return res "
   ]
  },
  {
   "cell_type": "code",
   "execution_count": 64,
   "metadata": {},
   "outputs": [
    {
     "name": "stdout",
     "output_type": "stream",
     "text": [
      "0 0 a 1 {'a': 0}\n",
      "0 1 ab 2 {'a': 0, 'b': 1}\n",
      "2 2 b 1 {'a': 0, 'b': 2}\n",
      "3 3 b 1 {'a': 0, 'b': 3}\n",
      "3 4 ba 2 {'a': 4, 'b': 3}\n"
     ]
    },
    {
     "data": {
      "text/plain": [
       "2"
      ]
     },
     "execution_count": 64,
     "metadata": {},
     "output_type": "execute_result"
    }
   ],
   "source": [
    "lengthOfLongestSubstring('abbba')"
   ]
  },
  {
   "cell_type": "code",
   "execution_count": 46,
   "metadata": {},
   "outputs": [],
   "source": [
    "def fun(s):\n",
    "    dic = {}\n",
    "    left ,right  = 0,0 \n",
    "    res= 0 \n",
    "    for i, c in enumerate(s):\n",
    "        if c not in dic:\n",
    "            dic[c] = i\n",
    "            right = i\n",
    "        else:\n",
    "            right = i \n",
    "            left = max(dic[c] + 1, left ) \n",
    "            dic[c]  = i \n",
    "        length  = right - left + 1 \n",
    "        print(s[left:right+1],left,right,length)\n",
    "        res = max(length, res )\n",
    "    return res \n"
   ]
  },
  {
   "cell_type": "code",
   "execution_count": 47,
   "metadata": {},
   "outputs": [
    {
     "name": "stdout",
     "output_type": "stream",
     "text": [
      "a 0 0 1\n",
      "ab 0 1 2\n",
      "abc 0 2 3\n",
      "bca 1 3 3\n",
      "cab 2 4 3\n",
      "abc 3 5 3\n",
      "cb 5 6 2\n",
      "b 7 7 1\n"
     ]
    },
    {
     "data": {
      "text/plain": [
       "3"
      ]
     },
     "execution_count": 47,
     "metadata": {},
     "output_type": "execute_result"
    }
   ],
   "source": [
    "fun('abcabcbb')"
   ]
  },
  {
   "cell_type": "code",
   "execution_count": 10,
   "metadata": {},
   "outputs": [
    {
     "data": {
      "text/plain": [
       "2"
      ]
     },
     "execution_count": 10,
     "metadata": {},
     "output_type": "execute_result"
    }
   ],
   "source": [
    "# 滑动窗口\n",
    "def lengthOfLongestSubstring(s):\n",
    "    \"\"\"\n",
    "    :type s: str\n",
    "    :rtype: int\n",
    "    \"\"\"\n",
    "    if not s:\n",
    "        return 0 \n",
    "    window = [ ]\n",
    "    max_len = 0\n",
    "    for i, x in enumerate(s):\n",
    "        if x not in window:\n",
    "            window.append(x)\n",
    "        else:\n",
    "            max_len = max(max_len, len(window))\n",
    "            new_index = window.index(x)\n",
    "            window = window[new_index+1:]\n",
    "            window.append(x)\n",
    "    max_len = max(max_len, len(window))\n",
    "    return max_len\n",
    "\n",
    "lengthOfLongestSubstring('abbaa')"
   ]
  },
  {
   "cell_type": "markdown",
   "metadata": {},
   "source": [
    "### 4. 寻找两个有序数组的中位数"
   ]
  },
  {
   "cell_type": "code",
   "execution_count": null,
   "metadata": {},
   "outputs": [],
   "source": [
    "def find(nums1,nums2):\n",
    "\ti = 0 \n",
    "\tj = 0 \n",
    "\tnums3 = []\n",
    "\n",
    "\twhile i<len(nums1) and j<len(nums2):\n",
    "\t\tif (nums1[i]<nums2[j]):\n",
    "\t\t\tnums3.append(nums1[i])\n",
    "\t\t\ti = i + 1\n",
    "\t\telse:\n",
    "\t\t\tnums3.append(nums2[j])\n",
    "\t\t\tj = j + 1\n",
    "\tif ( i == len(nums1)):\n",
    "\t\tnums3.extend(nums2[j:])\n",
    "\telse:\n",
    "\t\tnums3.extend(nums1[i:])\n",
    "\n",
    "\n",
    "\tif len(nums3)%2 == 1 :\n",
    "\t\treturn nums3[len(nums3)//2]\n",
    "\telse:\n",
    "\t\treturn ((nums3[len(nums3)/2])+nums3[len(nums3)/2-1])/2.0\n",
    "\n",
    "print find([1,4,7],[2,5,8])"
   ]
  },
  {
   "cell_type": "markdown",
   "metadata": {},
   "source": [
    "### 5 LPS最长回文子串  （中心扩展法，或 动态规划，） \n",
    "```\n",
    "给你一个字符串 s，找到 s 中最长的回文子串\n",
    "\n",
    "\n",
    "示例 1：\n",
    "\n",
    "输入：s = \"babad\"\n",
    "输出：\"bab\"\n",
    "解释：\"aba\" 同样是符合题意的答案。\n",
    "示例 2：\n",
    "\n",
    "输入：s = \"cbbd\"\n",
    "输出：\"bb\"\n",
    "```"
   ]
  },
  {
   "cell_type": "code",
   "execution_count": 73,
   "metadata": {
    "scrolled": true
   },
   "outputs": [
    {
     "name": "stdout",
     "output_type": "stream",
     "text": [
      "bab\n",
      "bb\n"
     ]
    }
   ],
   "source": [
    "\n",
    "# 中间扩散法 ，遍历每个元素， 每个元素都从中间向两遍走\n",
    "class Solution:\n",
    "    def longestPalindrome(self, s: str) -> str:\n",
    "        if len(s) == 1:\n",
    "            return s \n",
    "        res = \"\" #初值，\n",
    "        for i in range(len(s)):\n",
    "            one_lps = self.lps(s, i, i)\n",
    "            if len(one_lps) > len(res):\n",
    "                res = one_lps\n",
    "            two_lps = self.lps(s, i , i+1) \n",
    "            if len(two_lps) > len(res):\n",
    "                res = two_lps\n",
    "        return res    \n",
    "\n",
    "    def lps(self, s, left , right):\n",
    "    # 辅助函数，返回确定中心的最长回文子串\n",
    "    #  如果两边元素相同，则从中心扩展\n",
    "    #如果中间是两个数，第一次就要判断 , 两个如果不等，就return s[i:i] 为空字符\n",
    "        while left >= 0 and right < len(s) and s[left] == s[right]:\n",
    "            left = left-1\n",
    "            right = right +1  \n",
    "        return s[left+1:right]\n",
    "\n",
    "s = Solution()\n",
    "print(s.longestPalindrome(\"babad\"))\n",
    "print(s.longestPalindrome(\"cbbd\"))"
   ]
  },
  {
   "cell_type": "markdown",
   "metadata": {},
   "source": [
    "### 11. 盛最多水的容器 [双指针，从两边向中间靠拢,宽为r-l ,高为min(l,r)  ]\n",
    "```\n",
    "给定一个长度为 n 的整数数组 height 。有 n 条垂线，第 i 条线的两个端点是 (i, 0) 和 (i, height[i]) 。\n",
    "找出其中的两条线，使得它们与 x 轴共同构成的容器可以容纳最多的水。\n",
    "返回容器可以储存的最大水量。\n",
    "\n",
    "输入：[1,8,6,2,5,4,8,3,7]\n",
    "输出：49 \n",
    "解释：图中垂直线代表输入数组 [1,8,6,2,5,4,8,3,7]。在此情况下，容器能够容纳水（表示为蓝色部分）的最大值为 49。\n",
    "示例 2：\n",
    "\n",
    "输入：height = [1,1]\n",
    "输出：1\n",
    "```\n",
    "https://aliyun-lc-upload.oss-cn-hangzhou.aliyuncs.com/aliyun-lc-upload/uploads/2018/07/25/question_11.jpg"
   ]
  },
  {
   "cell_type": "code",
   "execution_count": 74,
   "metadata": {},
   "outputs": [],
   "source": [
    "def max_area(height):\n",
    "    l ,r = 0, len(height) -1 \n",
    "    max_vol = 0 \n",
    "    while l <r :\n",
    "        vol = min(height[l], height[r]) * (r-l)\n",
    "        max_vol = max(max_vol ,vol)\n",
    "        if height[l] <= height[r]:\n",
    "            l = l + 1 \n",
    "        else:\n",
    "            r = r - 1 \n",
    "    return max_vol\n"
   ]
  },
  {
   "cell_type": "markdown",
   "metadata": {
    "collapsed": true
   },
   "source": [
    "### 15. 3Sum \n",
    "Given an array nums of n integers, are there elements a, b, c in nums such that a + b + c = 0? Find all unique triplets in the array which gives the sum of zero.\n",
    "\n",
    "The solution set must not contain duplicate triplets.\n",
    "\n",
    "a,b,c三个数之和为0，不包含重复数组。\n",
    "\n",
    "Given array nums = [-1, 0, 1, 2, -1, -4],\n",
    "\n",
    "A solution set is:\n",
    "[\n",
    "  [-1, 0, 1],\n",
    "  [-1, -1, 2]\n",
    "]"
   ]
  },
  {
   "cell_type": "code",
   "execution_count": 182,
   "metadata": {},
   "outputs": [],
   "source": [
    "def threesum(nums):\n",
    "    if len(nums) < 3:\n",
    "        return []\n",
    "    nums.sort()\n",
    "    result = []\n",
    "    i = 0 \n",
    "    for a in nums:\n",
    "        i = i+1 \n",
    "        nums_dict = {}\n",
    "        for b in nums[i:] :\n",
    "            if b not in nums_dict:\n",
    "                nums_dict[-a-b] = 1 \n",
    "            else:\n",
    "                result.append([a,b,-a-b])\n",
    "    result = set(map(tuple , result))\n",
    "    return list(result) "
   ]
  },
  {
   "cell_type": "code",
   "execution_count": 183,
   "metadata": {},
   "outputs": [
    {
     "data": {
      "text/plain": [
       "[(-1, 2, -1), (-1, 1, 0)]"
      ]
     },
     "execution_count": 183,
     "metadata": {},
     "output_type": "execute_result"
    }
   ],
   "source": [
    "nums = [-1, 0, 1, 2, -1, -4]\n",
    "threesum(nums)"
   ]
  },
  {
   "cell_type": "code",
   "execution_count": 184,
   "metadata": {},
   "outputs": [],
   "source": [
    "def threeSum(nums):\n",
    "    \"\"\"\n",
    "    :type nums: List[int]\n",
    "    :rtype: List[List[int]]\n",
    "    \"\"\"\n",
    "    nums.sort()\n",
    "    res =[]\n",
    "    i = 0\n",
    "    for i in range(len(nums)):\n",
    "        if i == 0 or nums[i]>nums[i-1]:\n",
    "            l = i+1   # 左\n",
    "            r = len(nums)-1  # 右\n",
    "            while l < r:\n",
    "                s = nums[i] + nums[l] +nums[r]  \n",
    "                if s ==0:\n",
    "                    res.append([nums[i],nums[l],nums[r]])\n",
    "                    l +=1\n",
    "                    r -=1\n",
    "                    while l < r and nums[l] == nums[l-1]:\n",
    "                        l += 1\n",
    "                    while r > l and nums[r] == nums[r+1]:\n",
    "                        r -= 1\n",
    "                elif s>0:\n",
    "                    r -=1\n",
    "                else :\n",
    "                    l +=1\n",
    "    return res  "
   ]
  },
  {
   "cell_type": "code",
   "execution_count": 185,
   "metadata": {},
   "outputs": [
    {
     "data": {
      "text/plain": [
       "[(-1, 2, -1), (-1, 1, 0)]"
      ]
     },
     "execution_count": 185,
     "metadata": {},
     "output_type": "execute_result"
    }
   ],
   "source": [
    "nums = [-1, 0, 1, 2, -1, -4]\n",
    "threesum(nums)"
   ]
  },
  {
   "cell_type": "markdown",
   "metadata": {},
   "source": [
    "### 22. 括号生成\n",
    "数字 n 代表生成括号的对数，请你设计一个函数，用于能够生成所有可能的并且 有效的 括号组合。\n",
    "输入：n = 3\n",
    "输出：[\"((()))\",\"(()())\",\"(())()\",\"()(())\",\"()()()\"]"
   ]
  },
  {
   "cell_type": "code",
   "execution_count": null,
   "metadata": {},
   "outputs": [],
   "source": [
    "class Solution:\n",
    "    def generateParenthesis(self, n: int):\n",
    "        l ,r = '(',')'\n",
    "        if n==0:\n",
    "            return ['']\n",
    "        if n==1:\n",
    "            return ['()']\n",
    "        if n==2 :\n",
    "            return ['()()','(())']\n",
    "        dp = [[]for i in range(n+1)] \n",
    "        dp[0] = ['']\n",
    "        dp[1] = ['()']\n",
    "        dp[2] = ['()()','(())']\n",
    "        # dp[3] = dp[1]+dp[2] , dp[3] = l+dp[2]+r \n",
    "        for i in range(3,n+1):\n",
    "            for s in dp[i-1]: \n",
    "                dp[i].append(l+s+r) \n",
    "            for j in range(1,i):\n",
    "                # dp[j], dp[i-j]\n",
    "                dp[i] = dp[i] +  [ a+b for a in dp[j] for b in dp[i-j] ]\n",
    "            dp[i] = list(set(dp[i]))  \n",
    "        return dp[n]"
   ]
  },
  {
   "cell_type": "markdown",
   "metadata": {},
   "source": [
    "### 34 重复元素边界的二分查找"
   ]
  },
  {
   "cell_type": "markdown",
   "metadata": {},
   "source": [
    "```\n",
    "寻找左侧边界的二分查找：\n",
    "当 nums[mid] == target, 只找到一个target时不要立即返回\n",
    "而要继续找， 改变下标为right = mid -1\n",
    "如果右边的值都小于target ， 则相当于只有left在动，right 不动，最后会， left = mid +1 , 返回左边界\n",
    "如果右边有值等于target ， 则相当于与原问题相同， \n",
    "最后返回left\n",
    "\n",
    "寻找右侧边界的二分查找：\n",
    "当 nums[mid] == target, 只找到一个target时不要立即返回\n",
    "而要继续找， 改变下标为left = mid + 1\n",
    "如果右边的值都大于target ，  则相当于 只有right 在移动， left不动， \n",
    "最后right =mid -1 ， 即是我们的右边界，\n",
    "如果右边有值等于target ，则相当于与原问题相同.\n",
    "最后返回right\n",
    "```"
   ]
  },
  {
   "cell_type": "code",
   "execution_count": 1,
   "metadata": {},
   "outputs": [],
   "source": [
    "def leetcode34(nums, target):\n",
    "    if not nums :\n",
    "        return [-1, -1]\n",
    "                \n",
    "    #找左边界\n",
    "    left, right = 0, len(nums)-1 \n",
    "    # 1,2,5,5,5,9\n",
    "    while left <= right:\n",
    "        mid = (left+right)//2\n",
    "\n",
    "        if target == nums[mid]:\n",
    "            right = mid - 1\n",
    "        elif target < nums[mid]:\n",
    "            right = mid - 1\n",
    "        else: # traget > nums[mid]\n",
    "            left = mid + 1 \n",
    "    res_left = left\n",
    "    \n",
    "    left, right = 0, len(nums)-1 \n",
    "    while left <= right:\n",
    "        mid = (left+right)//2\n",
    "        \n",
    "        if target ==nums[mid]:\n",
    "            left = mid +1 \n",
    "        elif target < nums[mid]:\n",
    "            right = mid-1\n",
    "        else:\n",
    "            left = mid +1 \n",
    "    res_right = right\n",
    "    \n",
    "    return [res_left, res_right] if res_left <= res_right else [-1,-1]"
   ]
  },
  {
   "cell_type": "code",
   "execution_count": 3,
   "metadata": {},
   "outputs": [
    {
     "name": "stdout",
     "output_type": "stream",
     "text": [
      "[2, 5]\n"
     ]
    }
   ],
   "source": [
    "nums = [1,2,5,5,5,5,9]\n",
    "target = 5\n",
    "print( leetcode34(nums, target) )"
   ]
  },
  {
   "cell_type": "markdown",
   "metadata": {},
   "source": [
    "### 42接雨水（双指针向中间靠拢， 记录左右边界最大高度， 累计储水量\n",
    "```\n",
    "给定 n 个非负整数表示每个宽度为 1 的柱子的高度图，计算按此排列的柱子，下雨之后能接多少雨水。\n",
    "输入：height = [0,1,0,2,1,0,1,3,2,1,2,1]\n",
    "输出：6\n",
    "```"
   ]
  },
  {
   "cell_type": "code",
   "execution_count": 114,
   "metadata": {},
   "outputs": [],
   "source": [
    "def trap(height):\n",
    "    res = 0 \n",
    "    l,r = 0 , len(height) - 1 \n",
    "    l_m , r_m = 0 , 0\n",
    "    while l < r:\n",
    "        l_m = max(l_m,height[l])\n",
    "        r_m = max(r_m,height[r])\n",
    "        if height[l] < height[r]:\n",
    "            res += l_m - height[l]\n",
    "            l += 1 \n",
    "        else:\n",
    "            res += r_m - height[r]\n",
    "            r -= 1 \n",
    "    return res\n"
   ]
  },
  {
   "cell_type": "code",
   "execution_count": 115,
   "metadata": {},
   "outputs": [
    {
     "data": {
      "text/plain": [
       "6"
      ]
     },
     "execution_count": 115,
     "metadata": {},
     "output_type": "execute_result"
    }
   ],
   "source": [
    "nums =[0,1,0,2,1,0,1,3,2,1,2,1]\n",
    "trap(nums)"
   ]
  },
  {
   "cell_type": "markdown",
   "metadata": {},
   "source": [
    "### 全排列\n",
    "```\n",
    "给定一个不含重复数字的数组 nums ，返回其 所有可能的全排列 。你可以 按任意顺序 返回答案。\n",
    "\n",
    "输入：nums = [1,2,3]\n",
    "输出：[[1,2,3],[1,3,2],[2,1,3],[2,3,1],[3,1,2],[3,2,1]]\n",
    "```\n",
    "\n",
    "\n"
   ]
  },
  {
   "cell_type": "code",
   "execution_count": 175,
   "metadata": {},
   "outputs": [],
   "source": [
    "\n",
    "def permute( nums):\n",
    "    if not nums:\n",
    "        return []\n",
    "    if len(nums)<=1 :\n",
    "        return [nums]\n",
    "    res = []\n",
    "    for i in range(len(nums)):\n",
    "        nums_rs  = permute(nums[:i]+nums[i+1:])\n",
    "        for nums_r in nums_rs:\n",
    "            r = [nums[i]] + nums_r\n",
    "            res.append(r)\n",
    "    return res\n",
    "    "
   ]
  },
  {
   "cell_type": "code",
   "execution_count": 177,
   "metadata": {},
   "outputs": [
    {
     "data": {
      "text/plain": [
       "[[1, 2, 3], [1, 3, 2], [2, 1, 3], [2, 3, 1], [3, 1, 2], [3, 2, 1]]"
      ]
     },
     "execution_count": 177,
     "metadata": {},
     "output_type": "execute_result"
    }
   ],
   "source": [
    "permute([1,2,3])"
   ]
  },
  {
   "cell_type": "code",
   "execution_count": null,
   "metadata": {},
   "outputs": [],
   "source": []
  },
  {
   "cell_type": "code",
   "execution_count": null,
   "metadata": {},
   "outputs": [],
   "source": []
  },
  {
   "cell_type": "markdown",
   "metadata": {
    "collapsed": true
   },
   "source": [
    "### 50. Pow(x, n)\n",
    "```\n",
    "Input: 2.00000, 10\n",
    "Output: 1024.00000\n",
    "\n",
    "Input: 2.00000, -2\n",
    "Output: 0.25000\n",
    "\n",
    "```\n"
   ]
  },
  {
   "cell_type": "markdown",
   "metadata": {},
   "source": [
    "分治思想求指数 ，T(n) = logn"
   ]
  },
  {
   "cell_type": "code",
   "execution_count": 10,
   "metadata": {
    "collapsed": true
   },
   "outputs": [],
   "source": [
    "def pow(x,n):\n",
    "    if n == 0 :\n",
    "        return 1\n",
    "    if n == 1 :\n",
    "        return x \n",
    "    if n < 1 :\n",
    "        return 1 / pow(x,-n)\n",
    "    if n % 2 == 0:\n",
    "        return pow(x*x,n/2)\n",
    "    else:\n",
    "        return x * pow(x , n-1 )"
   ]
  },
  {
   "cell_type": "code",
   "execution_count": 11,
   "metadata": {
    "scrolled": true
   },
   "outputs": [
    {
     "data": {
      "text/plain": [
       "512"
      ]
     },
     "execution_count": 11,
     "metadata": {},
     "output_type": "execute_result"
    }
   ],
   "source": [
    "pow(2,9)"
   ]
  },
  {
   "cell_type": "markdown",
   "metadata": {},
   "source": [
    "### 54 螺旋矩阵"
   ]
  },
  {
   "cell_type": "code",
   "execution_count": 16,
   "metadata": {},
   "outputs": [],
   "source": [
    "def spiralOrder( matrix):\n",
    "    \"\"\"\n",
    "    :type matrix: List[List[int]]\n",
    "    :rtype: List[int]\n",
    "    \"\"\"\n",
    "    # 取首行，去除首行后，对矩阵翻转来创建新的矩阵，\n",
    "    # 再递归直到新矩阵为[],退出并将取到的数据返回\n",
    "    ret = []\n",
    "    if matrix == []:\n",
    "        return ret\n",
    "    ret.extend(matrix[0]) # 上侧\n",
    "    new = [reversed(i) for i in matrix[1:]]\n",
    "    if new == []:\n",
    "        return ret\n",
    "    r = spiralOrder([i for i in zip(*new)])\n",
    "    ret.extend(r)\n",
    "    return ret"
   ]
  },
  {
   "cell_type": "code",
   "execution_count": 17,
   "metadata": {
    "scrolled": false
   },
   "outputs": [
    {
     "data": {
      "text/plain": [
       "[1, 2, 3, 6, 9, 8, 7, 4, 5]"
      ]
     },
     "execution_count": 17,
     "metadata": {},
     "output_type": "execute_result"
    }
   ],
   "source": [
    "m= [[1,2,3],[4,5,6],[7,8,9]]\n",
    "spiralOrder(m)"
   ]
  },
  {
   "cell_type": "markdown",
   "metadata": {},
   "source": [
    "### 72 .编辑距离 edit distance ， 动态规划\n",
    "```\n",
    "衡量两个字符串差异。\n",
    "插入，删除或替换的最小次数\n",
    "动态规划\n",
    "定义二维数组， dp[i][j] \n",
    "\n",
    "dp[i][0] , \n",
    "\n",
    "最右下角元素 dp[len(s1)][len(s2)] 即为编辑距离 \n",
    "\n",
    "示例 1：\n",
    "\n",
    "输入：word1 = \"horse\", word2 = \"ros\"\n",
    "输出：3\n",
    "解释：\n",
    "horse -> rorse (将 'h' 替换为 'r')\n",
    "rorse -> rose (删除 'r')\n",
    "rose -> ros (删除 'e')\n",
    "\n",
    "思路： 动态规划\n",
    "D[i][j] 表示 ： A的前i个字母和 B的前j个字母之间的编辑距离。 \n",
    "如果 A 和 B 的最后一个字母相同： cost = 0 , 不同：cost=1 \n",
    "D[i][j] =min(dp[i][j-1]+1, dp[i-1][j]+1 , dp[i-1][j-1]+cost)\n",
    "```\n"
   ]
  },
  {
   "cell_type": "code",
   "execution_count": 122,
   "metadata": {},
   "outputs": [
    {
     "name": "stdout",
     "output_type": "stream",
     "text": [
      "1\n"
     ]
    }
   ],
   "source": [
    "def edit_distance(s1, s2):\n",
    "    # 初始化一个(len(s1)+1) x (len(s2)+1)的二维数组\n",
    "    dp = [[0 for _ in range(len(s2) + 1)] for _ in range(len(s1) + 1)]\n",
    "\n",
    "    # 初始化第一行和第一列\n",
    "    for i in range(len(s1) + 1):\n",
    "        dp[i][0] = i\n",
    "    for j in range(len(s2) + 1):    \n",
    "        dp[0][j] = j\n",
    "\n",
    "    # 动态规划填充表格  \n",
    "    for i in range(1, len(s1) + 1):\n",
    "        for j in range(1, len(s2) + 1):\n",
    "            # 如果字符相同，则无需操作，否则需要替换操作\n",
    "            cost = 0 if s1[i-1] == s2[j-1] else 1\n",
    "            dp[i][j] = min(dp[i-1][j] + 1,      # 删除\n",
    "                           dp[i][j-1] + 1,      # 插入\n",
    "                           dp[i-1][j-1] + cost)  # 替换\n",
    "\n",
    "    return dp[-1][-1]  # 返回右下角的值，即编辑距离\n",
    "\n",
    "\n",
    "# 示例\n",
    "s1 = \"kitten\"\n",
    "s2 = \"sitting\"\n",
    "s1 = 'abc'\n",
    "s2 = 'abd'\n",
    "s1 = 'abc'\n",
    "s2 = 'abd'\n",
    "print(edit_distance(s1, s2))  # 输出编辑距离"
   ]
  },
  {
   "cell_type": "markdown",
   "metadata": {},
   "source": [
    "### 75. 颜色分类\n",
    "```\n",
    "提示\n",
    "给定一个包含红色、白色和蓝色、共 n 个元素的数组 nums ，原地 对它们进行排序，使得相同颜色的元素相邻，并按照红色、白色、蓝色顺序排列。\n",
    "\n",
    "我们使用整数 0、 1 和 2 分别表示红色、白色和蓝色。\n",
    "\n",
    "必须在不使用库内置的 sort 函数的情况下解决这个问题\n",
    "输入：nums = [2,0,2,1,1,0]\n",
    "输出：[0,0,1,1,2,2]\n",
    "```"
   ]
  },
  {
   "cell_type": "code",
   "execution_count": null,
   "metadata": {},
   "outputs": [],
   "source": [
    "class Solution:\n",
    "    def sortColors(self, nums: List[int]) -> None:\n",
    "        \"\"\"\n",
    "        Do not return anything, modify nums in-place instead.\n",
    "        \"\"\"\n",
    "        l ,r = 0 ,len(nums)-1 \n",
    "        i = 0  \n",
    "        while i <= r:\n",
    "            if  nums[i] == 0:x\n",
    "                nums[l] , nums[i] = nums[i] ,nums[l]\n",
    "                l = l +1 \n",
    "            if  nums[i]==2:\n",
    "                nums[i] ,nums[r] = nums[r] ,nums[i]\n",
    "                r = r -1 \n",
    "            else:\n",
    "                i = i +1 \n",
    "        return nums\n",
    "        "
   ]
  },
  {
   "cell_type": "code",
   "execution_count": null,
   "metadata": {},
   "outputs": [],
   "source": [
    "class Solution:\n",
    "    def sortColors(self, nums: List[int]) -> None:\n",
    "        \"\"\"\n",
    "        Do not return anything, modify nums in-place instead.\n",
    "        \"\"\"\n",
    "        l ,r = 0 ,len(nums)-1 \n",
    "        i = 0 \n",
    "        # 先把2 移到后面， \n",
    "        while i <= r:\n",
    "            while i<=r and nums[i]==2:\n",
    "                nums[i] ,nums[r] = nums[r] ,nums[i]\n",
    "                r = r -1 \n",
    "            if  nums[i] == 0:\n",
    "                nums[l] , nums[i] = nums[i] ,nums[l]\n",
    "                l = l +1 \n",
    "            i = i + 1 \n",
    "        return nums\n",
    "        "
   ]
  },
  {
   "cell_type": "markdown",
   "metadata": {},
   "source": [
    "### 105 根据二叉树的前序和中序构造二叉树\n",
    "```\n",
    "你可以假设树中没有重复的元素。\n",
    "例如，给出\n",
    "前序遍历 preorder = [3,9,20,15,7]\n",
    "中序遍历 inorder = [9,3,15,20,7]\n",
    "解法：\n",
    "前序的第一个元素是根节点， 中序中，从第一个节点到根节点为左子树，后面为右子树\n",
    "```\n",
    "链接：https://leetcode-cn.com/problems/construct-binary-tree-from-preorder-and-inorder-traversal\n",
    "\n",
    " "
   ]
  },
  {
   "cell_type": "code",
   "execution_count": 127,
   "metadata": {},
   "outputs": [
    {
     "data": {
      "text/plain": [
       "1"
      ]
     },
     "execution_count": 127,
     "metadata": {},
     "output_type": "execute_result"
    }
   ],
   "source": [
    "preorder = [3,9,20,15,7]\n",
    "preorder.index(9)"
   ]
  },
  {
   "cell_type": "code",
   "execution_count": 128,
   "metadata": {},
   "outputs": [],
   "source": [
    "inorder = [9,3,15,20,7]\n",
    "preorder = [3,9,20,15,7]"
   ]
  },
  {
   "cell_type": "code",
   "execution_count": 129,
   "metadata": {},
   "outputs": [],
   "source": [
    "class TreeNode:\n",
    "    def __init__(self,val):\n",
    "        self.val = val\n",
    "        self.left = None \n",
    "        self.right = None\n",
    "        \n",
    "def buildTree( preorder, inorder):\n",
    "    if not preorder or not inorder:\n",
    "        return None\n",
    "\n",
    "    root = TreeNode(preorder.pop(0))\n",
    "    mid = inorder.index(root.val)\n",
    "\n",
    "    inorder_l, inorder_r = inorder[:mid] , inorder[mid+1:]\n",
    "\n",
    "    left_len = len(inorder_l)\n",
    "\n",
    "    preorder_l = preorder[:left_len]\n",
    "    preorder_r = preorder[left_len:]\n",
    "\n",
    "\n",
    "    root.left = buildTree( preorder_l , inorder_l)\n",
    "    root.right = buildTree(preorder_r, inorder_r)\n",
    "\n",
    "    return root "
   ]
  },
  {
   "cell_type": "code",
   "execution_count": 130,
   "metadata": {},
   "outputs": [
    {
     "data": {
      "text/plain": [
       "3"
      ]
     },
     "execution_count": 130,
     "metadata": {},
     "output_type": "execute_result"
    }
   ],
   "source": [
    "t = buildTree(preorder,inorder)\n",
    "t.val"
   ]
  },
  {
   "cell_type": "markdown",
   "metadata": {},
   "source": [
    "### 152. Maximum Product Subarray\n",
    "连续子串乘积最大,有正数也有负数"
   ]
  },
  {
   "cell_type": "code",
   "execution_count": 8,
   "metadata": {},
   "outputs": [],
   "source": [
    "def max_product_subarray(nums):\n",
    "    cur_max , cur_min , res = nums[0] , nums[0] ,nums[0]\n",
    "    for num in nums[1:]:\n",
    "        cur_max = cur_max*num\n",
    "        cur_min = cur_min*num\n",
    "        temp = cur_max\n",
    "        cur_max = max(cur_max , cur_min, num)\n",
    "        cur_min = min(temp , cur_min, num)\n",
    "        res = max(res , cur_max)\n",
    "    return res"
   ]
  },
  {
   "cell_type": "code",
   "execution_count": 9,
   "metadata": {},
   "outputs": [
    {
     "data": {
      "text/plain": [
       "108"
      ]
     },
     "execution_count": 9,
     "metadata": {},
     "output_type": "execute_result"
    }
   ],
   "source": [
    "nums = [-1, -2 ,-9 , -6]\n",
    "max_product_subarray(nums)"
   ]
  },
  {
   "cell_type": "markdown",
   "metadata": {
    "collapsed": true
   },
   "source": [
    "### 347. 前 K 个高频元素"
   ]
  },
  {
   "cell_type": "code",
   "execution_count": 1,
   "metadata": {},
   "outputs": [
    {
     "data": {
      "text/plain": [
       "1"
      ]
     },
     "execution_count": 1,
     "metadata": {},
     "output_type": "execute_result"
    }
   ],
   "source": [
    "a = 1\n",
    "1"
   ]
  },
  {
   "cell_type": "markdown",
   "metadata": {},
   "source": [
    "### 76 最小覆盖子串 "
   ]
  },
  {
   "cell_type": "code",
   "execution_count": 6,
   "metadata": {},
   "outputs": [],
   "source": [
    "from collections import Counter\n",
    "def minWindow( s, t):\n",
    "    \"\"\"\n",
    "    :type s: str\n",
    "    :type t: str\n",
    "    :rtype: str\n",
    "    \"\"\"\n",
    "\n",
    "    if not t or not s:\n",
    "        return \"\"\n",
    "\n",
    "    # Dictionary which keeps a count of all the unique characters in t.\n",
    "    dict_t = Counter(t)\n",
    "\n",
    "    # Number of unique characters in t, which need to be present in the desired window.\n",
    "    required = len(dict_t)\n",
    "\n",
    "    # left and right pointer\n",
    "    l, r = 0, 0\n",
    "\n",
    "    # formed is used to keep track of how many unique characters in t are present in the current window in its desired frequency.\n",
    "    # e.g. if t is \"AABC\" then the window must have two A's, one B and one C. Thus formed would be = 3 when all these conditions are met.\n",
    "    formed = 0\n",
    "\n",
    "    # Dictionary which keeps a count of all the unique characters in the current window.\n",
    "    window_counts = {}\n",
    "\n",
    "    # ans tuple of the form (window length, left, right)\n",
    "    ans = float(\"inf\"), None, None\n",
    "\n",
    "    while r < len(s):\n",
    "\n",
    "        # Add one character from the right to the window\n",
    "        character = s[r]\n",
    "        window_counts[character] = window_counts.get(character, 0) + 1\n",
    "\n",
    "        # If the frequency of the current character added equals to the desired count in t then increment the formed count by 1.\n",
    "        if character in dict_t and window_counts[character] == dict_t[character]:\n",
    "            formed += 1\n",
    "\n",
    "        # Try and co***act the window till the point where it ceases to be 'desirable'.\n",
    "        while l <= r and formed == required:\n",
    "            character = s[l]\n",
    "\n",
    "            # Save the smallest window until now.\n",
    "            if r - l + 1 < ans[0]:\n",
    "                ans = (r - l + 1, l, r)\n",
    "\n",
    "            # The character at the position pointed by the `left` pointer is no longer a part of the window.\n",
    "            window_counts[character] -= 1\n",
    "            if character in dict_t and window_counts[character] < dict_t[character]:\n",
    "                formed -= 1\n",
    "\n",
    "            # Move the left pointer ahead, this would help to look for a new window.\n",
    "            l += 1    \n",
    "\n",
    "        # Keep expanding the window once we are done co***acting.\n",
    "        r += 1    \n",
    "    return \"\" if ans[0] == float(\"inf\") else s[ans[1] : ans[2] + 1]\n"
   ]
  },
  {
   "cell_type": "code",
   "execution_count": 7,
   "metadata": {},
   "outputs": [
    {
     "data": {
      "text/plain": [
       "'BANC'"
      ]
     },
     "execution_count": 7,
     "metadata": {},
     "output_type": "execute_result"
    }
   ],
   "source": [
    "s = \"ADOBECODEBANC\"\n",
    "t = \"ABC\"\n",
    "minWindow(s,t)"
   ]
  },
  {
   "cell_type": "code",
   "execution_count": 11,
   "metadata": {},
   "outputs": [],
   "source": [
    "def minWindow2( s, t):\n",
    "    ls = len(s)\n",
    "    lt = len(t)\n",
    "    if not s or not t or ls<lt:\n",
    "        return ''\n",
    "    min_size = ls + 1\n",
    "    l = r = 0\n",
    "    start=0\n",
    "    end = ls-1\n",
    "    map = {}\n",
    "    #对t中的字符计数\n",
    "    for c in t:\n",
    "        map[c] = map.get(c,0)+1\n",
    "    match = 0\n",
    "    while r<ls:\n",
    "        map[s[r]] = map.get(s[r],0)-1\n",
    "        #如果当前遇到的字符在map中出现过，则匹配数+1\n",
    "        match = match+1 if map[s[r]]>=0  else match\n",
    "        #当匹配完成时窗口左滑\n",
    "        if match==lt:\n",
    "            #尝试左滑窗口 对之前遇到的字符出窗口\n",
    "            while map[s[l]]<0:\n",
    "                map[s[l]]+=1\n",
    "                l+=1\n",
    "            if min_size > r - l + 1:\n",
    "                min_size = r - l +1\n",
    "                start = l\n",
    "                end = r\n",
    "        r+=1\n",
    "    return '' if min_size>ls else s[start:end+1]"
   ]
  },
  {
   "cell_type": "code",
   "execution_count": 12,
   "metadata": {},
   "outputs": [
    {
     "data": {
      "text/plain": [
       "'BANC'"
      ]
     },
     "execution_count": 12,
     "metadata": {},
     "output_type": "execute_result"
    }
   ],
   "source": [
    "s = \"ADOBECODEBANC\"\n",
    "t = \"ABC\"\n",
    "minWindow2(s,t)"
   ]
  },
  {
   "cell_type": "markdown",
   "metadata": {},
   "source": [
    "### 215.找第k大的数 "
   ]
  },
  {
   "cell_type": "code",
   "execution_count": 2,
   "metadata": {},
   "outputs": [],
   "source": [
    "class Solution(object):\n",
    "    def findKthLargest(self, nums, k):\n",
    "        \"\"\"\n",
    "        :type nums: List[int]\n",
    "        :type k: int\n",
    "        :rtype: int\n",
    "        \"\"\"\n",
    "        # 冒泡k次\n",
    "        for i in range(k):\n",
    "            j =0 \n",
    "            while j < len(nums)-1-i:\n",
    "                if nums[j] > nums[j+1]:\n",
    "                    nums[j] ,nums[j+1] = nums[j+1] , nums[j]\n",
    "                j += 1\n",
    "        return nums[-k]"
   ]
  },
  {
   "cell_type": "code",
   "execution_count": 1,
   "metadata": {},
   "outputs": [],
   "source": [
    "import heapq\n",
    "def kthLargestElement(k, nums):\n",
    "    if len(nums) <k :\n",
    "        return \n",
    "    nums_k = nums[0:k] \n",
    "    heapq.heapify(nums_k)\n",
    "    for num in nums[k : len(nums) ]:\n",
    "        item = max(num , heapq.heappop(nums_k))\n",
    "        heapq.heappush(nums_k,item)\n",
    "    return nums_k[0]"
   ]
  },
  {
   "cell_type": "markdown",
   "metadata": {},
   "source": [
    "### 1008. 先序遍历构造二叉树\n",
    "```\n",
    "给定二叉搜索树的先序遍历：\n",
    "[8,5,1,7,10,12]\n",
    "构建二叉树，返回根节点\n",
    "```\n"
   ]
  },
  {
   "cell_type": "code",
   "execution_count": 1,
   "metadata": {},
   "outputs": [],
   "source": [
    "class TreeNode:\n",
    "    def __init__(self,val):\n",
    "        self.val = val\n",
    "        self.left = None \n",
    "        self.right = None\n",
    "        \n",
    "    def create_tree(self,nums):\n",
    "        if not nums:\n",
    "            return None\n",
    "        root = TreeNode(nums.pop())\n",
    "        left, right = [] , []\n",
    "        for num in nums: # 已经pop出了第一个元素，所以遍历所有的\n",
    "            if num <= root.val:\n",
    "                left.append(num)\n",
    "            else:\n",
    "                right.append(num)\n",
    "        \n",
    "        root.left = self.create_tree(left)\n",
    "        root.right = self.create_tree(right)\n",
    "        \n",
    "        return root"
   ]
  },
  {
   "cell_type": "markdown",
   "metadata": {},
   "source": [
    "### 674.最长连续递增序列\n",
    "给定一个未经排序的整数数组，找到最长且 连续递增的子序列，并返回该序列的长度。\n",
    "\n",
    "连续递增的子序列 可以由两个下标 l 和 r（l < r）确定，如果对于每个 l <= i < r，都有 nums[i] < nums[i + 1] ，那么子序列 [nums[l], nums[l + 1], ..., nums[r - 1], nums[r]] 就是连续递增子序列。\n",
    "\n",
    " \n",
    "\n",
    "示例 1：\n",
    "\n",
    "输入：nums = [1,3,5,4,7]\n",
    "输出：3\n",
    "解释：最长连续递增序列是 [1,3,5], 长度为3。\n",
    "尽管 [1,3,5,7] 也是升序的子序列, 但它不是连续的，因为 5 和 7 在原数组里被 4 隔开。 \n",
    "示例 2：\n",
    "\n",
    "输入：nums = [2,2,2,2,2]\n",
    "输出：1\n",
    "解释：最长连续递增序列是 [2], 长度为1"
   ]
  },
  {
   "cell_type": "code",
   "execution_count": 3,
   "metadata": {},
   "outputs": [],
   "source": [
    "def lcis(nums):\n",
    "    if not nums:\n",
    "        return 0 \n",
    "    max_len = 1 \n",
    "    lcis_len = 1 \n",
    "    for i in range(1,len(nums)):\n",
    "        if nums[i] > nums[i-1]:\n",
    "            lcis_len += 1 \n",
    "        else:\n",
    "            lcis_len =1 \n",
    "        max_len = max(max_len, lcis_len)\n",
    "    return max_len\n",
    "    "
   ]
  },
  {
   "cell_type": "code",
   "execution_count": 4,
   "metadata": {},
   "outputs": [
    {
     "data": {
      "text/plain": [
       "3"
      ]
     },
     "execution_count": 4,
     "metadata": {},
     "output_type": "execute_result"
    }
   ],
   "source": [
    "nums = [1,3,5,4,7]\n",
    "lcis(nums)"
   ]
  },
  {
   "cell_type": "code",
   "execution_count": null,
   "metadata": {},
   "outputs": [],
   "source": []
  },
  {
   "cell_type": "markdown",
   "metadata": {},
   "source": [
    "### 128. 最长连续序列\n",
    "\n",
    "给定一个未排序的整数数组 nums ，找出数字连续的最长序列（不要求序列元素在原数组中连续）的长度。\n",
    "\n",
    "请你设计并实现时间复杂度为 O(n) 的算法解决此问题。\n",
    "\n",
    "\n",
    "示例 1：\n",
    "\n",
    "输入：nums = [100,4,200,1,3,2]\n",
    "输出：4\n",
    "解释：最长数字连续序列是 [1, 2, 3, 4]。它的长度为 4。\n",
    "示例 2：\n",
    "\n",
    "输入：nums = [0,3,7,2,5,8,4,6,0,1]\n",
    "输出：9\n"
   ]
  },
  {
   "cell_type": "code",
   "execution_count": 158,
   "metadata": {},
   "outputs": [],
   "source": [
    "\n",
    "def longestConsecutive(nums):\n",
    "    if not nums:\n",
    "        return 0\n",
    "    dic = {num:1 for num in nums}\n",
    "    res = 1\n",
    "    for num in dic:\n",
    "        if num-1 not in dic: # 筛选掉很多元素\n",
    "            cur_num = num\n",
    "            cur_len = 1 \n",
    "            while cur_num+1 in dic: # 时间复杂度也不会很高\n",
    "                cur_num = cur_num + 1 \n",
    "                cur_len = cur_len+1 \n",
    "                res= max(res,cur_num)\n",
    "    return res \n"
   ]
  },
  {
   "cell_type": "code",
   "execution_count": 159,
   "metadata": {},
   "outputs": [
    {
     "data": {
      "text/plain": [
       "4"
      ]
     },
     "execution_count": 159,
     "metadata": {},
     "output_type": "execute_result"
    }
   ],
   "source": [
    "nums = [100,4,200,1,3,2]\n",
    "longestConsecutive(nums)"
   ]
  },
  {
   "cell_type": "markdown",
   "metadata": {},
   "source": [
    "### 1143. 最长公共子序列  ( 动态规划  \n",
    "```\n",
    "给定两个字符串 text1 和 text2，返回这两个字符串的最长 公共子序列 的长度。如果不存在 公共子序列 ，返回 0 。\n",
    "输入：text1 = \"abcde\", text2 = \"ace\" \n",
    "输出：3  \n",
    "解释：最长公共子序列是 \"ace\" ，它的长度为 3 。\n",
    "\n",
    "\n",
    "思路： 动态规划\n",
    "建立二维数组dp[i][j] , s1的前i个字符串，和 s2的前j个字符串的lcs.   dp数组的 shape 为 (len(text1) +1 ,len(text2)+1)\n",
    "初始状态： dp[0][0]= 0  , dp[i][0]==0 , dp[j][0]  == 0 \n",
    "状态转移方程： \n",
    "if s1[i] == s2[j] : dp[i+1][j+1] == dp[i]dp[j] + 1\n",
    "if s1[i] != s2[j] : dp[i+1][j+1] = max(dp[i+1][j], dp[i][j+1])\n",
    "最终结果： \n",
    "dp[len(s1)][len(s2)]   (dp[-1][-1] )\n",
    "``` "
   ]
  },
  {
   "cell_type": "code",
   "execution_count": 126,
   "metadata": {},
   "outputs": [],
   "source": [
    "class Solution:\n",
    "    def longestCommonSubsequence(self, text1: str, text2: str) -> int:\n",
    "        # dp[i][j] , s1的前i个字符串，和 s2的前j个字符串的lcs. (len(text1) +1 ,len(text2)+1)\n",
    "        dp = [[0 for _ in range(len(text2)+1)] for _ in range(len(text1)+1)]\n",
    "        # 初始状态dp[i][0]==0 , dp[j][0]  == 0 \n",
    "        for i in range(len(text1)+1):\n",
    "            dp[i][0] = 0\n",
    "        for j in range(len(text2)+1):\n",
    "            dp[0][j] = 0 \n",
    "        # if s1[i]== s2[j]   ; dp[i][j] = dp[i-1][j-1] +1  \n",
    "        # if s1[i] != s2[j]  ;  dp[i][j] = max(dp[i-1][j] , dp[i][j-1])\n",
    "        for i in range(len(text1)):\n",
    "            for j in range(len(text2)):\n",
    "                if text1[i] == text2[j]:\n",
    "                    dp[i+1][j+1] = dp[i][j] +1\n",
    "                else:\n",
    "                    dp[i+1][j+1] = max(dp[i+1][j], dp[i][j+1])\n",
    "        return dp[-1][-1]\n",
    "\n",
    "        \n",
    "        "
   ]
  },
  {
   "cell_type": "code",
   "execution_count": null,
   "metadata": {},
   "outputs": [],
   "source": []
  }
 ],
 "metadata": {
  "kernelspec": {
   "display_name": "Python 3",
   "language": "python",
   "name": "python3"
  },
  "language_info": {
   "codemirror_mode": {
    "name": "ipython",
    "version": 3
   },
   "file_extension": ".py",
   "mimetype": "text/x-python",
   "name": "python",
   "nbconvert_exporter": "python",
   "pygments_lexer": "ipython3",
   "version": "3.8.2"
  }
 },
 "nbformat": 4,
 "nbformat_minor": 2
}
