{
 "cells": [
  {
   "cell_type": "markdown",
   "metadata": {},
   "source": [
    "## 递归 recursive"
   ]
  },
  {
   "cell_type": "code",
   "execution_count": 38,
   "metadata": {},
   "outputs": [],
   "source": [
    "# 递归函数计算数列的和 f(n) = f(n-1) + nums[n]\n",
    "def sum_recursive(nums):\n",
    "    if not nums:\n",
    "        return 0    \n",
    "    else:\n",
    "        x = nums.pop() # 默认pop最后一个元素 index: len(nums) -1 \n",
    "        return x + sum_recursive(nums)"
   ]
  },
  {
   "cell_type": "code",
   "execution_count": 43,
   "metadata": {},
   "outputs": [],
   "source": [
    "def sum_recur(nums):\n",
    "    if not nums:\n",
    "        return \n",
    "    if len(nums) == 1 :\n",
    "        return nums[0]\n",
    "    return nums[0] + sum_recur(nums[1:])"
   ]
  },
  {
   "cell_type": "code",
   "execution_count": 44,
   "metadata": {},
   "outputs": [
    {
     "name": "stdout",
     "output_type": "stream",
     "text": [
      "16\n"
     ]
    }
   ],
   "source": [
    "nums = [4,5,7]\n",
    "print (sum_recur(nums))"
   ]
  },
  {
   "cell_type": "markdown",
   "metadata": {},
   "source": [
    "### 链表\n"
   ]
  },
  {
   "cell_type": "code",
   "execution_count": 17,
   "metadata": {},
   "outputs": [],
   "source": [
    "# def listnode \n",
    "class ListNode:\n",
    "    def __init__(self,val=0,next=None ):\n",
    "        self.val = val \n",
    "        self.next = next \n"
   ]
  },
  {
   "cell_type": "code",
   "execution_count": 15,
   "metadata": {},
   "outputs": [],
   "source": [
    "l = ListNode(0)\n",
    "l1 = ListNode(1)\n",
    "l.next = l1\n",
    "l2 = ListNode(2)\n",
    "l1.next = l2"
   ]
  },
  {
   "cell_type": "code",
   "execution_count": 16,
   "metadata": {},
   "outputs": [
    {
     "name": "stdout",
     "output_type": "stream",
     "text": [
      "0\n",
      "1\n",
      "2\n"
     ]
    },
    {
     "ename": "AttributeError",
     "evalue": "'NoneType' object has no attribute 'val'",
     "output_type": "error",
     "traceback": [
      "\u001b[0;31m---------------------------------------------------------------------------\u001b[0m",
      "\u001b[0;31mAttributeError\u001b[0m                            Traceback (most recent call last)",
      "Cell \u001b[0;32mIn[16], line 4\u001b[0m\n\u001b[1;32m      2\u001b[0m \u001b[38;5;28mprint\u001b[39m(l\u001b[38;5;241m.\u001b[39mnext\u001b[38;5;241m.\u001b[39mval)\n\u001b[1;32m      3\u001b[0m \u001b[38;5;28mprint\u001b[39m(l\u001b[38;5;241m.\u001b[39mnext\u001b[38;5;241m.\u001b[39mnext\u001b[38;5;241m.\u001b[39mval) \n\u001b[0;32m----> 4\u001b[0m \u001b[38;5;28mprint\u001b[39m(\u001b[43ml\u001b[49m\u001b[38;5;241;43m.\u001b[39;49m\u001b[43mnext\u001b[49m\u001b[38;5;241;43m.\u001b[39;49m\u001b[43mnext\u001b[49m\u001b[38;5;241;43m.\u001b[39;49m\u001b[43mnext\u001b[49m\u001b[38;5;241;43m.\u001b[39;49m\u001b[43mval\u001b[49m)\n",
      "\u001b[0;31mAttributeError\u001b[0m: 'NoneType' object has no attribute 'val'"
     ]
    }
   ],
   "source": [
    "print(l.val)\n",
    "print(l.next.val)\n",
    "print(l.next.next.val) \n",
    "print(l.next.next.next.val)\n"
   ]
  },
  {
   "cell_type": "code",
   "execution_count": null,
   "metadata": {},
   "outputs": [],
   "source": [
    "class Node:\n",
    "    def __init__(self,val):\n",
    "        self.val = val\n",
    "        self.next = None\n",
    "\n",
    "class LinkList:\n",
    "    def __init__(self):\n",
    "        self.head = None\n",
    "        \n",
    "    def is_empty(self):\n",
    "        if not self.head:\n",
    "            return True\n",
    "        else:\n",
    "            return False\n",
    "    \n",
    "    def traversal(self):\n",
    "        temp = head.next\n",
    "        while temp is not None:\n",
    "            print(temp.val)\n",
    "            temp = temp.next\n",
    "    \n",
    "    def insert_tail(self,item):\n",
    "        if self.head is None:\n",
    "            self.head = Node(item)\n",
    "        temp = self.head\n",
    "        while temp.next :\n",
    "            temp = temp.next\n",
    "        t = Node(item)\n",
    "        temp.next = t\n",
    "    \n",
    "    def insert_head(self,item):\n",
    "        if self.head is None:\n",
    "            self.head = Node(item)\n",
    "        h = Node(item)\n",
    "        h.next = self.head \n",
    "        self.head = h\n",
    "    \n",
    "    def delete_tail(self):\n",
    "        if not self.head :\n",
    "            return \n",
    "        if not self.head.next :\n",
    "            data= self.head.val\n",
    "            self.head = None\n",
    "            return data\n",
    "        temp = self.head \n",
    "        while temp.next :\n",
    "            temp = temp.next\n",
    "        temp.next = None       "
   ]
  },
  {
   "cell_type": "code",
   "execution_count": null,
   "metadata": {},
   "outputs": [],
   "source": []
  },
  {
   "cell_type": "markdown",
   "metadata": {},
   "source": [
    "### 找数组中第k大的数\n",
    "```\n",
    "维护一个k大的最小堆，堆中是数组中最大的k个数。\n",
    "第一个元素（nums[0])是堆顶元素\n",
    "```"
   ]
  },
  {
   "cell_type": "code",
   "execution_count": 1,
   "metadata": {},
   "outputs": [],
   "source": [
    "import heapq\n",
    "def kthLargestElement( k, nums):\n",
    "    if len(nums) <k :\n",
    "        return \n",
    "    nums_k = nums[0:k] \n",
    "    heapq.heapify(nums_k)\n",
    "    for num in nums[k : len(nums) ]:\n",
    "        item = max(num , heapq.heappop(nums_k))\n",
    "        heapq.heappush(nums_k,item)\n",
    "    return nums_k[0]"
   ]
  },
  {
   "cell_type": "code",
   "execution_count": null,
   "metadata": {},
   "outputs": [],
   "source": [
    "import heapq\n",
    "def topk(nums,k):\n",
    "    if len(nums) < k:\n",
    "        return\n",
    "    nums_k = nums[0:k]\n",
    "    heapq.heapify(nums_k)\n",
    "    for num in nums[k:len(nums)]:\n",
    "        item = max(num , heapq.heappop(nums_k))\n",
    "        heapq.heappush(nums_k , item)\n",
    "    return nums_k[0]"
   ]
  },
  {
   "cell_type": "code",
   "execution_count": 2,
   "metadata": {
    "scrolled": true
   },
   "outputs": [
    {
     "data": {
      "text/plain": [
       "4"
      ]
     },
     "execution_count": 2,
     "metadata": {},
     "output_type": "execute_result"
    }
   ],
   "source": [
    "k = 3\n",
    "nums = [9,3,2,4,8]\n",
    "kthLargestElement(k, nums)"
   ]
  },
  {
   "cell_type": "markdown",
   "metadata": {},
   "source": [
    "### 海量数据中取topk小的数\n",
    "```\n",
    "维护一个k大的大顶堆\n",
    "新元素和堆顶元素比较，如果小于堆顶元素则入堆\n",
    "```"
   ]
  },
  {
   "cell_type": "code",
   "execution_count": 14,
   "metadata": {},
   "outputs": [],
   "source": [
    "class Solution:\n",
    "    def topK(self,nums,k):\n",
    "        if not nums or len(nums)<k :\n",
    "            return None \n",
    "        nums_k = nums[:k]\n",
    "        self.build_heap(nums_k)\n",
    "        for num in nums[k:]: \n",
    "            heap_top = nums_k[0]\n",
    "            if num < heap_top:\n",
    "                nums_k[0] = num\n",
    "                self.heapify(nums_k,0)\n",
    "        return nums_k\n",
    "    \n",
    "    def build_heap(self, arr):\n",
    "        for i in range((len(arr)//2)-1, -1, -1):\n",
    "            self.heapify(arr, i)\n",
    "    \n",
    "    def heapify(self, arr, index):\n",
    "        # 大顶堆\n",
    "        left = 2*index+1\n",
    "        right = 2*index+2\n",
    "        max_index = index\n",
    "        if (left < len(arr)) and (arr[left] > arr[max_index]):\n",
    "            max_index = left\n",
    "        if (right < len(arr)) and (arr[right] > arr[max_index]):\n",
    "            max_index = right\n",
    "        if max_index != index:\n",
    "            arr[index], arr[max_index] = arr[max_index], arr[index]\n",
    "            self.heapify(arr, max_index)"
   ]
  },
  {
   "cell_type": "code",
   "execution_count": 16,
   "metadata": {},
   "outputs": [
    {
     "data": {
      "text/plain": [
       "[3, 2]"
      ]
     },
     "execution_count": 16,
     "metadata": {},
     "output_type": "execute_result"
    }
   ],
   "source": [
    "nums = [3,4,6,7,5,10,100,2]\n",
    "k =2 \n",
    "s = Solution()\n",
    "s.topK(nums,k) "
   ]
  },
  {
   "cell_type": "markdown",
   "metadata": {},
   "source": [
    "### 调整数组顺序使奇数位于偶数前面"
   ]
  },
  {
   "cell_type": "code",
   "execution_count": 6,
   "metadata": {
    "scrolled": false
   },
   "outputs": [
    {
     "name": "stdout",
     "output_type": "stream",
     "text": [
      "a\n",
      "[1, 3, 2, 4]\n"
     ]
    }
   ],
   "source": [
    "def reOrderArray(nums):\n",
    "    left , right =  0  , len(nums)-1\n",
    "    while left < right:\n",
    "        if nums[left] %2 == 0 and nums[right] %2 ==1 :\n",
    "            nums[left] , nums[right] = nums[right] , nums[left]\n",
    "            left += 1\n",
    "            right -= 1\n",
    "        if nums[left] % 2 == 1:\n",
    "            left += 1\n",
    "        if nums[right] %2 == 0:\n",
    "            right -= 1\n",
    "    return nums\n",
    "\n",
    "print('a')\n",
    "print(reOrderArray([1,2,3,4]) )"
   ]
  },
  {
   "cell_type": "markdown",
   "metadata": {},
   "source": [
    "### 构建一个stack"
   ]
  },
  {
   "cell_type": "code",
   "execution_count": 7,
   "metadata": {},
   "outputs": [],
   "source": [
    "class Stack(object):\n",
    "    def __init__(self):\n",
    "        self._items=deque()\n",
    "    def push(self,value):\n",
    "        return self._items.append(value)\n",
    "    def pop(self):\n",
    "        return self._items.pop()\n",
    "    def empty(self):\n",
    "        return len(self._items)==0"
   ]
  },
  {
   "cell_type": "markdown",
   "metadata": {},
   "source": [
    "# 二叉树"
   ]
  },
  {
   "cell_type": "markdown",
   "metadata": {},
   "source": [
    "### 前序遍历(非递归）\n",
    "```\n",
    "从根节点开始，每次迭代弹出当前栈顶元素，并将其孩子节点压入栈中，\n",
    "先压右孩子 -> 再压左孩子。\n",
    "将出栈的元素依次append到 结果数组中。\n",
    "```"
   ]
  },
  {
   "cell_type": "code",
   "execution_count": 6,
   "metadata": {},
   "outputs": [],
   "source": [
    "def pre_order(root):\n",
    "    if not root:\n",
    "        return None \n",
    "    res = []\n",
    "    stack = []\n",
    "    stack.append(root)\n",
    "    while stack:\n",
    "        node = stack.pop()\n",
    "        res.append(node.val)\n",
    "        if root.right:\n",
    "            stack.append(root.right)\n",
    "        if root.left:\n",
    "            stack.append(root.left)\n",
    "    return res"
   ]
  },
  {
   "cell_type": "markdown",
   "metadata": {},
   "source": [
    "### 中序遍历(递归）"
   ]
  },
  {
   "cell_type": "code",
   "execution_count": 1,
   "metadata": {},
   "outputs": [],
   "source": [
    "def inorder(root):\n",
    "    if not root:\n",
    "        return []\n",
    "    left = inorder(root.left)\n",
    "    right = inorder(root.right)\n",
    "    return left + [root.val] + right "
   ]
  },
  {
   "cell_type": "markdown",
   "metadata": {},
   "source": [
    "### 中序遍历(非递归）"
   ]
  },
  {
   "cell_type": "code",
   "execution_count": null,
   "metadata": {},
   "outputs": [],
   "source": [
    "def inorder2(root):\n",
    "    if not root:\n",
    "        return None \n",
    "    res = []\n",
    "    stack = []\n",
    "    node = root\n",
    "    while stack and node:\n",
    "        if node:  # 节点存在 ， 将节点入栈， 遍历左孩子\n",
    "            stack.append(node)\n",
    "            node = node.left \n",
    "        else:  # 节点不存在，但是栈中有元素， 则出栈，输出当前元素的值，遍历右孩子\n",
    "            node = stack.pop()\n",
    "            res.append(node.val)\n",
    "            node = node.right \n",
    "    return res"
   ]
  },
  {
   "cell_type": "markdown",
   "metadata": {},
   "source": [
    "### 后序遍历（递归）"
   ]
  },
  {
   "cell_type": "code",
   "execution_count": 8,
   "metadata": {},
   "outputs": [],
   "source": [
    "def post_order(root):\n",
    "    if not root :\n",
    "        return []\n",
    "    left = post_order(root.left)\n",
    "    right = post_order(root.right)\n",
    "    return left + right + [root.val]\n"
   ]
  },
  {
   "cell_type": "code",
   "execution_count": null,
   "metadata": {},
   "outputs": [],
   "source": [
    "# post-order : left - right - root \n",
    "# pre-order : root - left - right\n",
    "# root - right - left [::-1 ]"
   ]
  },
  {
   "cell_type": "code",
   "execution_count": 17,
   "metadata": {},
   "outputs": [],
   "source": [
    "# 非递归\n",
    "def pre_order_not_recur(root_node):\n",
    "    top_node = root_node\n",
    "    nums = []\n",
    "    stack = []\n",
    "    while top_node or stack:\n",
    "        if top_node:\n",
    "            nums.append(top_node.val)\n",
    "            if top_node.right:\n",
    "                stack.append(top_node.right)\n",
    "            top_node = top_node.left \n",
    "        else:\n",
    "            top_node = stack.pop()\n",
    "    return nums\n",
    "            \n",
    "\n"
   ]
  },
  {
   "cell_type": "code",
   "execution_count": 13,
   "metadata": {},
   "outputs": [],
   "source": [
    "def pre_order(root):\n",
    "    if not root:\n",
    "        return []\n",
    "    nums = [ ]\n",
    "    stack = [ ]\n",
    "    while root or stack:\n",
    "        if root:\n",
    "            nums.append(root.val)\n",
    "            if root.right:\n",
    "                stack.append(root.right)\n",
    "            root = root.left\n",
    "        else:\n",
    "            root = stack.pop()\n",
    "    return nums\n",
    "        \n",
    "    \n",
    "    "
   ]
  },
  {
   "cell_type": "code",
   "execution_count": 23,
   "metadata": {},
   "outputs": [],
   "source": [
    "### 非递归\n",
    "# \n",
    "def post_order(root):\n",
    "    if not root:\n",
    "        return []\n",
    "    nums,stack = [], []\n",
    "    while root or stack:\n",
    "        if root:\n",
    "            nums.append(root.val)\n",
    "            if root.left:\n",
    "                stack.append(root.left)\n",
    "            root = root.right\n",
    "        else:\n",
    "            root = stack.pop()\n",
    "    return nums[::-1]\n",
    "    "
   ]
  },
  {
   "cell_type": "code",
   "execution_count": 19,
   "metadata": {},
   "outputs": [],
   "source": [
    "class TreeNode:\n",
    "    def __init__(self,val=0,left=None,right=None):\n",
    "        self.left = left\n",
    "        self.right = right \n",
    "        self.val = val"
   ]
  },
  {
   "cell_type": "code",
   "execution_count": 20,
   "metadata": {},
   "outputs": [],
   "source": [
    "# test \n",
    "root = TreeNode(1)\n",
    "root.left = TreeNode(2)\n",
    "root.right = TreeNode(3)\n",
    "root.left.left = TreeNode(4)\n",
    "root.left.right = TreeNode(5)\n",
    "root.left.left.left = TreeNode(6)\n",
    "root.left.left.left.right = TreeNode(7)\n"
   ]
  },
  {
   "cell_type": "code",
   "execution_count": 21,
   "metadata": {},
   "outputs": [
    {
     "data": {
      "text/plain": [
       "[1, 2, 4, 6, 7, 5, 3]"
      ]
     },
     "execution_count": 21,
     "metadata": {},
     "output_type": "execute_result"
    }
   ],
   "source": [
    "pre_order_not_recur(root)"
   ]
  },
  {
   "cell_type": "code",
   "execution_count": 24,
   "metadata": {},
   "outputs": [
    {
     "data": {
      "text/plain": [
       "[7, 6, 4, 5, 2, 3, 1]"
      ]
     },
     "execution_count": 24,
     "metadata": {},
     "output_type": "execute_result"
    }
   ],
   "source": [
    "post_order(root)"
   ]
  },
  {
   "cell_type": "markdown",
   "metadata": {},
   "source": [
    "### 位运算"
   ]
  },
  {
   "cell_type": "markdown",
   "metadata": {},
   "source": [
    "### n & (n-1) \n",
    "n 与 n-1 做与运算相当于： 去掉最低位的1 （优先去掉最后一位， 若最后一位为0则去掉往前一位的1 ） ， 反正总能去掉一个1 "
   ]
  },
  {
   "cell_type": "markdown",
   "metadata": {},
   "source": [
    "```\n",
    "6: 0110  5: 0101\n",
    "6&5 -> 0100（4） \n",
    "```"
   ]
  },
  {
   "cell_type": "code",
   "execution_count": 7,
   "metadata": {},
   "outputs": [
    {
     "data": {
      "text/plain": [
       "4"
      ]
     },
     "execution_count": 7,
     "metadata": {},
     "output_type": "execute_result"
    }
   ],
   "source": [
    "6&5  # 0110 & 0101 -> 0110 "
   ]
  },
  {
   "cell_type": "code",
   "execution_count": 6,
   "metadata": {},
   "outputs": [
    {
     "data": {
      "text/plain": [
       "0"
      ]
     },
     "execution_count": 6,
     "metadata": {},
     "output_type": "execute_result"
    }
   ],
   "source": [
    "4&3 # 0100 & 0011 -> 0000"
   ]
  },
  {
   "cell_type": "code",
   "execution_count": null,
   "metadata": {},
   "outputs": [],
   "source": []
  },
  {
   "cell_type": "code",
   "execution_count": null,
   "metadata": {},
   "outputs": [],
   "source": []
  },
  {
   "cell_type": "code",
   "execution_count": null,
   "metadata": {},
   "outputs": [],
   "source": []
  },
  {
   "cell_type": "markdown",
   "metadata": {},
   "source": [
    "### 461. 汉明距离\n",
    "```\n",
    "两个整数之间的汉明距离指的是这两个数字对应二进制位不同的位置的数目。\n",
    "给出两个整数 x 和 y，计算它们之间的汉明距离。\n",
    "\n",
    "输入: x = 1, y = 4\n",
    "\n",
    "输出: 2\n",
    "\n",
    "解释:\n",
    "1   (0 0 0 1)\n",
    "4   (0 1 0 0)\n",
    "       ↑   ↑\n",
    "\n",
    "解法：\n",
    "二进制中两个不同的数，异或的结果为1 \n",
    "所以我们需要只需要计算两个数异或结果中1的个数\n",
    "```"
   ]
  },
  {
   "cell_type": "code",
   "execution_count": 9,
   "metadata": {},
   "outputs": [],
   "source": [
    "def p461(a,b):\n",
    "    return bin(a^b).count('1')"
   ]
  },
  {
   "cell_type": "code",
   "execution_count": 10,
   "metadata": {},
   "outputs": [
    {
     "data": {
      "text/plain": [
       "2"
      ]
     },
     "execution_count": 10,
     "metadata": {},
     "output_type": "execute_result"
    }
   ],
   "source": [
    "p461(1,4)"
   ]
  },
  {
   "cell_type": "code",
   "execution_count": 11,
   "metadata": {},
   "outputs": [],
   "source": [
    "def p461_2(a,b):\n",
    "    c = a^b\n",
    "    res = 0 \n",
    "    while c>0:\n",
    "        res +=1 \n",
    "        c = c&(c-1)\n",
    "    return res"
   ]
  },
  {
   "cell_type": "code",
   "execution_count": 12,
   "metadata": {},
   "outputs": [
    {
     "data": {
      "text/plain": [
       "2"
      ]
     },
     "execution_count": 12,
     "metadata": {},
     "output_type": "execute_result"
    }
   ],
   "source": [
    "p461_2(1,4)"
   ]
  },
  {
   "cell_type": "code",
   "execution_count": null,
   "metadata": {},
   "outputs": [],
   "source": []
  }
 ],
 "metadata": {
  "kernelspec": {
   "display_name": "Python 3",
   "language": "python",
   "name": "python3"
  },
  "language_info": {
   "codemirror_mode": {
    "name": "ipython",
    "version": 3
   },
   "file_extension": ".py",
   "mimetype": "text/x-python",
   "name": "python",
   "nbconvert_exporter": "python",
   "pygments_lexer": "ipython3",
   "version": "3.8.2"
  }
 },
 "nbformat": 4,
 "nbformat_minor": 2
}
