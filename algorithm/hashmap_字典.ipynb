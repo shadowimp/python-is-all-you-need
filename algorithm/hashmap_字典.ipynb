{
 "cells": [
  {
   "cell_type": "markdown",
   "metadata": {},
   "source": [
    "### 1. Two Sum\n",
    "\n",
    "Given an array of integers, return indices of the two numbers such that they add up to a specific target.\n",
    "\n",
    "You may assume that each input would have exactly one solution, and you may not use the same element twice.\n",
    "\n",
    "Example:\n",
    "\n",
    "Given nums = [2, 7, 11, 15], target = 9,\n",
    "\n",
    "Because nums[0] + nums[1] = 2 + 7 = 9,\n",
    "return [0, 1].\n",
    "\n",
    "```\n",
    "Two Sum: 一个数组中的两个数相加等于一个给定数，返回数组中两个数的下标。\n",
    "输入： 一个数组，一个数字\n",
    "输出： 两个数字\n",
    "\n",
    "\n",
    "- 时间复杂度： O(n)\n",
    "- 空间复杂度： O(n)\n",
    "```"
   ]
  },
  {
   "cell_type": "code",
   "execution_count": 1,
   "metadata": {},
   "outputs": [],
   "source": [
    "def two_sum(nums,target):\n",
    "    nums_dict = { }  #创建一个空字典,将target-num1作为key，num1的下标作为value。\n",
    "    for i in range(len(nums)):\n",
    "        if nums[i] not in nums_dict: #如果没有，则将 target-nums1 和 nums1的下标 存入字典nums_dict\n",
    "            nums_dict[target-nums[i]]  = i\n",
    "        else:       #遍历字典看其中是否有x，如果有说明两个数找到了\n",
    "            return [nums_dict[nums[i]],i]"
   ]
  },
  {
   "cell_type": "code",
   "execution_count": 2,
   "metadata": {},
   "outputs": [
    {
     "data": {
      "text/plain": [
       "[2, 3]"
      ]
     },
     "execution_count": 2,
     "metadata": {},
     "output_type": "execute_result"
    }
   ],
   "source": [
    "two_sum([2,5,7,11,15],18)"
   ]
  },
  {
   "cell_type": "markdown",
   "metadata": {},
   "source": [
    "### 3. 无重复字符的最长子串 （ 字典+左指针\n",
    "给定一个字符串，请你找出其中不含有重复字符的 最长子串 的长度。\n",
    "```\n",
    "输入: \"abcabcbb\"\n",
    "输出: 3 \n",
    "解释: 因为无重复字符的最长子串是 \"abc\"，所以其长度为 3。\n",
    "```"
   ]
  },
  {
   "cell_type": "markdown",
   "metadata": {},
   "source": [
    "```\n",
    "思路：\n",
    "\n",
    "滑动窗口， 记录左右指针（index）。\n",
    "2. 建立 字典， 记录每个字符对应的下标位置。\n",
    "\n",
    "3. 记录最大长度值res，每次进行和当前长度值的对比 max(res , right - left + 1 )\n",
    "\n",
    "4。 如果当前字符不在字典： right = i\n",
    "\n",
    "如果当前字符在字典 : left = max(left , dic[ i ] +1 ) , right = i\n",
    "\n",
    "```"
   ]
  },
  {
   "cell_type": "code",
   "execution_count": 63,
   "metadata": {},
   "outputs": [],
   "source": [
    "def lengthOfLongestSubstring( s: str) -> int:\n",
    "    if not s :\n",
    "        return 0 \n",
    "    res = 1 \n",
    "    left = 0\n",
    "    dic = {}  #  x:index\n",
    "    for i, c in enumerate(s):\n",
    "        if c not in dic:\n",
    "            dic[c] = i \n",
    "        else:\n",
    "            left = max(left,dic[c]+1)# 关键的一步，需要记录左指针的位置, 不然abba会报错\n",
    "            dic[c] = i \n",
    "        right = i \n",
    "        sl = right - left + 1 # substring len\n",
    "        print(left ,right , s[left:right+1],sl,dic)\n",
    "        res = max(res ,sl)\n",
    "    return res "
   ]
  },
  {
   "cell_type": "code",
   "execution_count": 64,
   "metadata": {},
   "outputs": [
    {
     "name": "stdout",
     "output_type": "stream",
     "text": [
      "0 0 a 1 {'a': 0}\n",
      "0 1 ab 2 {'a': 0, 'b': 1}\n",
      "2 2 b 1 {'a': 0, 'b': 2}\n",
      "3 3 b 1 {'a': 0, 'b': 3}\n",
      "3 4 ba 2 {'a': 4, 'b': 3}\n"
     ]
    },
    {
     "data": {
      "text/plain": [
       "2"
      ]
     },
     "execution_count": 64,
     "metadata": {},
     "output_type": "execute_result"
    }
   ],
   "source": [
    "lengthOfLongestSubstring('abbba')"
   ]
  },
  {
   "cell_type": "code",
   "execution_count": 46,
   "metadata": {},
   "outputs": [],
   "source": [
    "def fun(s):\n",
    "    dic = {}\n",
    "    left ,right  = 0,0 \n",
    "    res= 0 \n",
    "    for i, c in enumerate(s):\n",
    "        if c not in dic:\n",
    "            dic[c] = i\n",
    "            right = i\n",
    "        else:\n",
    "            right = i \n",
    "            left = max(dic[c] + 1, left ) \n",
    "            dic[c]  = i \n",
    "        length  = right - left + 1 \n",
    "        print(s[left:right+1],left,right,length)\n",
    "        res = max(length, res )\n",
    "    return res \n"
   ]
  },
  {
   "cell_type": "code",
   "execution_count": 47,
   "metadata": {},
   "outputs": [
    {
     "name": "stdout",
     "output_type": "stream",
     "text": [
      "a 0 0 1\n",
      "ab 0 1 2\n",
      "abc 0 2 3\n",
      "bca 1 3 3\n",
      "cab 2 4 3\n",
      "abc 3 5 3\n",
      "cb 5 6 2\n",
      "b 7 7 1\n"
     ]
    },
    {
     "data": {
      "text/plain": [
       "3"
      ]
     },
     "execution_count": 47,
     "metadata": {},
     "output_type": "execute_result"
    }
   ],
   "source": [
    "fun('abcabcbb')"
   ]
  },
  {
   "cell_type": "code",
   "execution_count": 10,
   "metadata": {},
   "outputs": [
    {
     "data": {
      "text/plain": [
       "2"
      ]
     },
     "execution_count": 10,
     "metadata": {},
     "output_type": "execute_result"
    }
   ],
   "source": [
    "# 滑动窗口\n",
    "def lengthOfLongestSubstring(s):\n",
    "    \"\"\"\n",
    "    :type s: str\n",
    "    :rtype: int\n",
    "    \"\"\"\n",
    "    if not s:\n",
    "        return 0 \n",
    "    window = [ ]\n",
    "    max_len = 0\n",
    "    for i, x in enumerate(s):\n",
    "        if x not in window:\n",
    "            window.append(x)\n",
    "        else:\n",
    "            max_len = max(max_len, len(window))\n",
    "            new_index = window.index(x)\n",
    "            window = window[new_index+1:]\n",
    "            window.append(x)\n",
    "    max_len = max(max_len, len(window))\n",
    "    return max_len\n",
    "\n",
    "lengthOfLongestSubstring('abbaa')"
   ]
  },
  {
   "cell_type": "markdown",
   "metadata": {},
   "source": [
    "### 4. 寻找两个有序数组的中位数"
   ]
  },
  {
   "cell_type": "code",
   "execution_count": null,
   "metadata": {},
   "outputs": [],
   "source": [
    "def find(nums1,nums2):\n",
    "\ti = 0 \n",
    "\tj = 0 \n",
    "\tnums3 = []\n",
    "\n",
    "\twhile i<len(nums1) and j<len(nums2):\n",
    "\t\tif (nums1[i]<nums2[j]):\n",
    "\t\t\tnums3.append(nums1[i])\n",
    "\t\t\ti = i + 1\n",
    "\t\telse:\n",
    "\t\t\tnums3.append(nums2[j])\n",
    "\t\t\tj = j + 1\n",
    "\tif ( i == len(nums1)):\n",
    "\t\tnums3.extend(nums2[j:])\n",
    "\telse:\n",
    "\t\tnums3.extend(nums1[i:])\n",
    "\n",
    "\n",
    "\tif len(nums3)%2 == 1 :\n",
    "\t\treturn nums3[len(nums3)//2]\n",
    "\telse:\n",
    "\t\treturn ((nums3[len(nums3)/2])+nums3[len(nums3)/2-1])/2.0\n",
    "\n",
    "print find([1,4,7],[2,5,8])"
   ]
  },
  {
   "cell_type": "markdown",
   "metadata": {
    "collapsed": true
   },
   "source": [
    "### 15. 3Sum \n",
    "Given an array nums of n integers, are there elements a, b, c in nums such that a + b + c = 0? Find all unique triplets in the array which gives the sum of zero.\n",
    "\n",
    "The solution set must not contain duplicate triplets.\n",
    "\n",
    "a,b,c三个数之和为0，不包含重复数组。\n",
    "\n",
    "Given array nums = [-1, 0, 1, 2, -1, -4],\n",
    "\n",
    "A solution set is:\n",
    "[\n",
    "  [-1, 0, 1],\n",
    "  [-1, -1, 2]\n",
    "]"
   ]
  },
  {
   "cell_type": "code",
   "execution_count": 182,
   "metadata": {},
   "outputs": [],
   "source": [
    "def threesum(nums):\n",
    "    if len(nums) < 3:\n",
    "        return []\n",
    "    nums.sort()\n",
    "    result = []\n",
    "    i = 0 \n",
    "    for a in nums:\n",
    "        i = i+1 \n",
    "        nums_dict = {}\n",
    "        for b in nums[i:] :\n",
    "            if b not in nums_dict:\n",
    "                nums_dict[-a-b] = 1 \n",
    "            else:\n",
    "                result.append([a,b,-a-b])\n",
    "    result = set(map(tuple , result))\n",
    "    return list(result) "
   ]
  },
  {
   "cell_type": "code",
   "execution_count": 183,
   "metadata": {},
   "outputs": [
    {
     "data": {
      "text/plain": [
       "[(-1, 2, -1), (-1, 1, 0)]"
      ]
     },
     "execution_count": 183,
     "metadata": {},
     "output_type": "execute_result"
    }
   ],
   "source": [
    "nums = [-1, 0, 1, 2, -1, -4]\n",
    "threesum(nums)"
   ]
  },
  {
   "cell_type": "code",
   "execution_count": 184,
   "metadata": {},
   "outputs": [],
   "source": [
    "def threeSum(nums):\n",
    "    \"\"\"\n",
    "    :type nums: List[int]\n",
    "    :rtype: List[List[int]]\n",
    "    \"\"\"\n",
    "    nums.sort()\n",
    "    res =[]\n",
    "    i = 0\n",
    "    for i in range(len(nums)):\n",
    "        if i == 0 or nums[i]>nums[i-1]:\n",
    "            l = i+1   # 左\n",
    "            r = len(nums)-1  # 右\n",
    "            while l < r:\n",
    "                s = nums[i] + nums[l] +nums[r]  \n",
    "                if s ==0:\n",
    "                    res.append([nums[i],nums[l],nums[r]])\n",
    "                    l +=1\n",
    "                    r -=1\n",
    "                    while l < r and nums[l] == nums[l-1]:\n",
    "                        l += 1\n",
    "                    while r > l and nums[r] == nums[r+1]:\n",
    "                        r -= 1\n",
    "                elif s>0:\n",
    "                    r -=1\n",
    "                else :\n",
    "                    l +=1\n",
    "    return res  "
   ]
  },
  {
   "cell_type": "markdown",
   "metadata": {
    "collapsed": true
   },
   "source": [
    "### 347. 前 K 个高频元素"
   ]
  },
  {
   "cell_type": "code",
   "execution_count": 1,
   "metadata": {},
   "outputs": [
    {
     "data": {
      "text/plain": [
       "1"
      ]
     },
     "execution_count": 1,
     "metadata": {},
     "output_type": "execute_result"
    }
   ],
   "source": [
    "a = 1\n",
    "1"
   ]
  },
  {
   "cell_type": "markdown",
   "metadata": {},
   "source": [
    "### 76 最小覆盖子串 "
   ]
  },
  {
   "cell_type": "code",
   "execution_count": 6,
   "metadata": {},
   "outputs": [],
   "source": [
    "from collections import Counter\n",
    "def minWindow( s, t):\n",
    "    \"\"\"\n",
    "    :type s: str\n",
    "    :type t: str\n",
    "    :rtype: str\n",
    "    \"\"\"\n",
    "\n",
    "    if not t or not s:\n",
    "        return \"\"\n",
    "\n",
    "    # Dictionary which keeps a count of all the unique characters in t.\n",
    "    dict_t = Counter(t)\n",
    "\n",
    "    # Number of unique characters in t, which need to be present in the desired window.\n",
    "    required = len(dict_t)\n",
    "\n",
    "    # left and right pointer\n",
    "    l, r = 0, 0\n",
    "\n",
    "    # formed is used to keep track of how many unique characters in t are present in the current window in its desired frequency.\n",
    "    # e.g. if t is \"AABC\" then the window must have two A's, one B and one C. Thus formed would be = 3 when all these conditions are met.\n",
    "    formed = 0\n",
    "\n",
    "    # Dictionary which keeps a count of all the unique characters in the current window.\n",
    "    window_counts = {}\n",
    "\n",
    "    # ans tuple of the form (window length, left, right)\n",
    "    ans = float(\"inf\"), None, None\n",
    "\n",
    "    while r < len(s):\n",
    "\n",
    "        # Add one character from the right to the window\n",
    "        character = s[r]\n",
    "        window_counts[character] = window_counts.get(character, 0) + 1\n",
    "\n",
    "        # If the frequency of the current character added equals to the desired count in t then increment the formed count by 1.\n",
    "        if character in dict_t and window_counts[character] == dict_t[character]:\n",
    "            formed += 1\n",
    "\n",
    "        # Try and co***act the window till the point where it ceases to be 'desirable'.\n",
    "        while l <= r and formed == required:\n",
    "            character = s[l]\n",
    "\n",
    "            # Save the smallest window until now.\n",
    "            if r - l + 1 < ans[0]:\n",
    "                ans = (r - l + 1, l, r)\n",
    "\n",
    "            # The character at the position pointed by the `left` pointer is no longer a part of the window.\n",
    "            window_counts[character] -= 1\n",
    "            if character in dict_t and window_counts[character] < dict_t[character]:\n",
    "                formed -= 1\n",
    "\n",
    "            # Move the left pointer ahead, this would help to look for a new window.\n",
    "            l += 1    \n",
    "\n",
    "        # Keep expanding the window once we are done co***acting.\n",
    "        r += 1    \n",
    "    return \"\" if ans[0] == float(\"inf\") else s[ans[1] : ans[2] + 1]\n"
   ]
  },
  {
   "cell_type": "code",
   "execution_count": 7,
   "metadata": {},
   "outputs": [
    {
     "data": {
      "text/plain": [
       "'BANC'"
      ]
     },
     "execution_count": 7,
     "metadata": {},
     "output_type": "execute_result"
    }
   ],
   "source": [
    "s = \"ADOBECODEBANC\"\n",
    "t = \"ABC\"\n",
    "minWindow(s,t)"
   ]
  },
  {
   "cell_type": "code",
   "execution_count": 11,
   "metadata": {},
   "outputs": [],
   "source": [
    "def minWindow2( s, t):\n",
    "    ls = len(s)\n",
    "    lt = len(t)\n",
    "    if not s or not t or ls<lt:\n",
    "        return ''\n",
    "    min_size = ls + 1\n",
    "    l = r = 0\n",
    "    start=0\n",
    "    end = ls-1\n",
    "    map = {}\n",
    "    #对t中的字符计数\n",
    "    for c in t:\n",
    "        map[c] = map.get(c,0)+1\n",
    "    match = 0\n",
    "    while r<ls:\n",
    "        map[s[r]] = map.get(s[r],0)-1\n",
    "        #如果当前遇到的字符在map中出现过，则匹配数+1\n",
    "        match = match+1 if map[s[r]]>=0  else match\n",
    "        #当匹配完成时窗口左滑\n",
    "        if match==lt:\n",
    "            #尝试左滑窗口 对之前遇到的字符出窗口\n",
    "            while map[s[l]]<0:\n",
    "                map[s[l]]+=1\n",
    "                l+=1\n",
    "            if min_size > r - l + 1:\n",
    "                min_size = r - l +1\n",
    "                start = l\n",
    "                end = r\n",
    "        r+=1\n",
    "    return '' if min_size>ls else s[start:end+1]"
   ]
  },
  {
   "cell_type": "code",
   "execution_count": 12,
   "metadata": {},
   "outputs": [
    {
     "data": {
      "text/plain": [
       "'BANC'"
      ]
     },
     "execution_count": 12,
     "metadata": {},
     "output_type": "execute_result"
    }
   ],
   "source": [
    "s = \"ADOBECODEBANC\"\n",
    "t = \"ABC\"\n",
    "minWindow2(s,t)"
   ]
  },
  {
   "cell_type": "markdown",
   "metadata": {},
   "source": [
    "### 215.找第k大的数 "
   ]
  },
  {
   "cell_type": "code",
   "execution_count": 2,
   "metadata": {},
   "outputs": [],
   "source": [
    "class Solution(object):\n",
    "    def findKthLargest(self, nums, k):\n",
    "        \"\"\"\n",
    "        :type nums: List[int]\n",
    "        :type k: int\n",
    "        :rtype: int\n",
    "        \"\"\"\n",
    "        # 冒泡k次\n",
    "        for i in range(k):\n",
    "            j =0 \n",
    "            while j < len(nums)-1-i:\n",
    "                if nums[j] > nums[j+1]:\n",
    "                    nums[j] ,nums[j+1] = nums[j+1] , nums[j]\n",
    "                j += 1\n",
    "        return nums[-k]"
   ]
  },
  {
   "cell_type": "code",
   "execution_count": 1,
   "metadata": {},
   "outputs": [],
   "source": [
    "import heapq\n",
    "def kthLargestElement(k, nums):\n",
    "    if len(nums) <k :\n",
    "        return \n",
    "    nums_k = nums[0:k] \n",
    "    heapq.heapify(nums_k)\n",
    "    for num in nums[k : len(nums) ]:\n",
    "        item = max(num , heapq.heappop(nums_k))\n",
    "        heapq.heappush(nums_k,item)\n",
    "    return nums_k[0]"
   ]
  },
  {
   "cell_type": "markdown",
   "metadata": {},
   "source": []
  },
  {
   "cell_type": "code",
   "execution_count": 1,
   "metadata": {},
   "outputs": [],
   "source": []
  },
  {
   "cell_type": "markdown",
   "metadata": {},
   "source": [
    "### 128. 最长连续序列\n",
    "\n",
    "给定一个未排序的整数数组 nums ，找出数字连续的最长序列（不要求序列元素在原数组中连续）的长度。\n",
    "\n",
    "请你设计并实现时间复杂度为 O(n) 的算法解决此问题。\n",
    "\n",
    "\n",
    "示例 1：\n",
    "\n",
    "输入：nums = [100,4,200,1,3,2]\n",
    "输出：4\n",
    "解释：最长数字连续序列是 [1, 2, 3, 4]。它的长度为 4。\n",
    "示例 2：\n",
    "\n",
    "输入：nums = [0,3,7,2,5,8,4,6,0,1]\n",
    "输出：9\n"
   ]
  },
  {
   "cell_type": "code",
   "execution_count": 158,
   "metadata": {},
   "outputs": [],
   "source": [
    "\n",
    "def longestConsecutive(nums):\n",
    "    if not nums:\n",
    "        return 0\n",
    "    dic = {num:1 for num in nums}\n",
    "    res = 1\n",
    "    for num in dic:\n",
    "        if num-1 not in dic: # 筛选掉很多元素\n",
    "            cur_num = num\n",
    "            cur_len = 1 \n",
    "            while cur_num+1 in dic: # 时间复杂度也不会很高\n",
    "                cur_num = cur_num + 1 \n",
    "                cur_len = cur_len+1 \n",
    "                res= max(res,cur_num)\n",
    "    return res \n"
   ]
  },
  {
   "cell_type": "code",
   "execution_count": 159,
   "metadata": {},
   "outputs": [
    {
     "data": {
      "text/plain": [
       "4"
      ]
     },
     "execution_count": 159,
     "metadata": {},
     "output_type": "execute_result"
    }
   ],
   "source": [
    "nums = [100,4,200,1,3,2]\n",
    "longestConsecutive(nums)"
   ]
  },
  {
   "cell_type": "code",
   "execution_count": null,
   "metadata": {},
   "outputs": [],
   "source": []
  }
 ],
 "metadata": {
  "kernelspec": {
   "display_name": "Python 3",
   "language": "python",
   "name": "python3"
  },
  "language_info": {
   "codemirror_mode": {
    "name": "ipython",
    "version": 3
   },
   "file_extension": ".py",
   "mimetype": "text/x-python",
   "name": "python",
   "nbconvert_exporter": "python",
   "pygments_lexer": "ipython3",
   "version": "3.8.2"
  }
 },
 "nbformat": 4,
 "nbformat_minor": 2
}
