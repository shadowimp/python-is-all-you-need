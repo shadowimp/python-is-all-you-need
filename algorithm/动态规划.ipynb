{
 "cells": [
  {
   "cell_type": "markdown",
   "metadata": {},
   "source": [
    "## 动态规划\n",
    "```\n",
    "有同样的子问题被重复计算， 一次计算，重复使用\n",
    "空间复杂度：计算所需存储的状态数\n",
    "时间复杂度：初始状态到最终状态经历的步数\n",
    "\n",
    "有时只需保留前一个状态，有时需要保留前面的所有状态\n",
    "\n",
    "\n",
    "```"
   ]
  },
  {
   "cell_type": "markdown",
   "metadata": {},
   "source": [
    "### 斐波那契数\n",
    "```\n",
    "1 1 2 3 5 8 13 \n",
    "a[i] = a[i-1] + a[i-2]\n",
    "Input : index \n",
    "Output：对应的斐波那契数\n",
    "空间复杂度：2\n",
    "时间复杂度：O(N)\n",
    "```"
   ]
  },
  {
   "cell_type": "code",
   "execution_count": 17,
   "metadata": {},
   "outputs": [],
   "source": [
    "# 递归写法\n",
    "def fab(n):\n",
    "    if n==0 :\n",
    "        return 1 \n",
    "    if n==1 :\n",
    "        return 1 \n",
    "    return fab(n-1) + fab(n-2)"
   ]
  },
  {
   "cell_type": "code",
   "execution_count": 18,
   "metadata": {},
   "outputs": [
    {
     "data": {
      "text/plain": [
       "8"
      ]
     },
     "execution_count": 18,
     "metadata": {},
     "output_type": "execute_result"
    }
   ],
   "source": [
    "fab(5)"
   ]
  },
  {
   "cell_type": "code",
   "execution_count": 12,
   "metadata": {},
   "outputs": [],
   "source": [
    "# 初始状态 f(1) = 1 , f(2) = 2 \n",
    "# 状态转移方程： f(n) = f(n-1) + f(n-2)\n",
    "# 最终状态 f(n)"
   ]
  },
  {
   "cell_type": "code",
   "execution_count": 43,
   "metadata": {},
   "outputs": [],
   "source": [
    "def fun(n):\n",
    "    if n ==1 or n==2 :\n",
    "        return 1 \n",
    "    v1,v2 = 1,1 \n",
    "    for i in range(2,n):\n",
    "        # v1,v2 = v2, v1+v2\n",
    "        v2 = v1 + v2\n",
    "        v1 = v2\n",
    "    return v2"
   ]
  },
  {
   "cell_type": "code",
   "execution_count": 45,
   "metadata": {},
   "outputs": [
    {
     "data": {
      "text/plain": [
       "4"
      ]
     },
     "execution_count": 45,
     "metadata": {},
     "output_type": "execute_result"
    }
   ],
   "source": [
    "fun(4)"
   ]
  },
  {
   "cell_type": "markdown",
   "metadata": {},
   "source": [
    "### 背包问题\n",
    "```\n",
    "v[i,w]表示容量为w，i个物品所能达到的最大价值\n",
    "\n",
    "```\n",
    "目标： $$max \\sum V_i  , st \\sum W_i < W $$\n",
    "$$max(V[i] + V[i-1, W-W_{i} ], V[i-1,W]  ) $$ "
   ]
  },
  {
   "cell_type": "code",
   "execution_count": null,
   "metadata": {},
   "outputs": [],
   "source": []
  },
  {
   "cell_type": "markdown",
   "metadata": {},
   "source": [
    "### 5.最长回文子串\n",
    "```\n",
    "给定一个字符串，找他的最长回文子串\n",
    "输入： \"babab\"\n",
    "输出： \"bab\"\n",
    "思路：回文串的去掉头尾也是回文串, 用dp数组记录回文串的长度。\n",
    "状态初始条件：dp[i][i] = 1 \n",
    "状态转移方程：\n",
    "dp[i][j] = dp[i+1][j-1] + 2 , if s[i] == s[j]\n",
    "dp[i][j] = max(dp[i+1][j], dp[i][j-1]),if s[i] != s[j]\n",
    "```"
   ]
  },
  {
   "cell_type": "code",
   "execution_count": 1,
   "metadata": {},
   "outputs": [],
   "source": [
    "class Solution(object):\n",
    "    def longestPalindrome(self, s):\n",
    "        \"\"\"\n",
    "        :type s: str\n",
    "        :rtype: str\n",
    "        \"\"\"\n",
    "        if (not s) or (len(s) == 0):\n",
    "            return \"\"\n",
    "        left = len(s) - 1\n",
    "        res = s[0]\n",
    "        dp = [[0] * len(s) for _ in range(len(s))]\n",
    "        while left >= 0:\n",
    "            right = left\n",
    "            while right < len(s):\n",
    "                if left == right:\n",
    "                    dp[left][right] = 1\n",
    "                elif right - left == 1 and s[left] == s[right]:\n",
    "                    dp[left][right] = 1\n",
    "                elif dp[left+1][right-1] and s[left] == s[right]:\n",
    "                    dp[left][right] = 1\n",
    "                \n",
    "                if dp[left][right] and (right - left + 1 > len(res)):\n",
    "                    res = s[left:right+1]\n",
    "                    \n",
    "                right += 1\n",
    "            left -= 1\n",
    "        return res"
   ]
  },
  {
   "cell_type": "code",
   "execution_count": null,
   "metadata": {},
   "outputs": [],
   "source": [
    "def lps(nums):\n",
    "    i , j = 0 , len(nums)-1 \n",
    "    if s[i] == s[j] :\n",
    "        dp[i][j] = dp[i+1][j-1] + 2 \n",
    "    else:\n",
    "        dp[i][j] = max(dp[i+1][j], dp[i][j-1])"
   ]
  },
  {
   "cell_type": "markdown",
   "metadata": {},
   "source": [
    "### 53.连续子数组的最大和\n",
    "```\n",
    "输入: [-2,1,-3,4,-1,2,1,-5,4],\n",
    "输出: 6\n",
    "解释: 连续子数组 [4,-1,2,1] 的和最大，为 6。\n",
    "```"
   ]
  },
  {
   "cell_type": "markdown",
   "metadata": {},
   "source": [
    "```\n",
    "思路： 动态规划， 创建一个同原数组相同的dp一位数组,记录当前位置的最大连续子数组和\n",
    "初始状态： 同原数组相同\n",
    "状态转移方程: dp[i]= max(dp[i], dp[i]+dp[i-1])\n",
    "最终状态: max(dp)\n",
    "```\n"
   ]
  },
  {
   "cell_type": "code",
   "execution_count": 15,
   "metadata": {},
   "outputs": [],
   "source": [
    "# 可简化为只保留上一个状态和最大值\n",
    "def max_sub_arr(nums):\n",
    "    if not nums:\n",
    "        return 0 \n",
    "    cur_max, res_max = nums[0], nums[0]\n",
    "    for num in nums[1:]:\n",
    "        cur_max = max( cur_max+num, num) #如果为正则保留，如果为负则只取最大的\n",
    "        res_max = max(res_max, cur_max)\n",
    "    return res_max "
   ]
  },
  {
   "cell_type": "code",
   "execution_count": 16,
   "metadata": {},
   "outputs": [],
   "source": [
    "\n",
    "def maxSubArray( nums):\n",
    "    if not nums:\n",
    "        return 0\n",
    "    res = nums[0]\n",
    "    dp = [num for num in nums]\n",
    "    for i in range(1,len(nums)):\n",
    "        dp[i] = max(dp[i] , dp[i] + dp[i-1])\n",
    "        res = max(res , dp[i])\n",
    "    return res "
   ]
  },
  {
   "cell_type": "code",
   "execution_count": 18,
   "metadata": {},
   "outputs": [
    {
     "name": "stdout",
     "output_type": "stream",
     "text": [
      "6\n"
     ]
    }
   ],
   "source": [
    "nums = [-2,1,-3,4,-1,2,1,-5,4]\n",
    "print(maxSubArray(nums))"
   ]
  },
  {
   "cell_type": "markdown",
   "metadata": {},
   "source": [
    "### 64.网格最短路径和 , 最小路径和\n",
    "```\n",
    "左上角走到右下角,路径和最短, 只能向右或者向下走\n",
    "输入:\n",
    "[\n",
    "  [1,3,1],\n",
    "  [1,5,1],\n",
    "  [4,2,1]\n",
    "]\n",
    "输出: 7\n",
    "解释: 因为路径 1→3→1→1→1 的总和最小。\n",
    "\n",
    "```"
   ]
  },
  {
   "cell_type": "markdown",
   "metadata": {},
   "source": [
    "``` \n",
    "思路：  建立同grid 相同大小的dp二维数组（m，n），全部置0 \n",
    "初始状态: \n",
    "dp[0][0] = grid[0][0]\n",
    "dp[0][j] = dp[0][j-1] + grid[0][j-1]\n",
    "dp[i][0] = dp[i][0] + grid[i-1][0]\n",
    "\n",
    "状态转移方程:\n",
    "dp[i][j] = min(dp[i-1][j], dp[i][j-1]) +1 \n",
    "最终状态： dp[-1][-1]\n",
    "```"
   ]
  },
  {
   "cell_type": "code",
   "execution_count": 13,
   "metadata": {},
   "outputs": [],
   "source": [
    "def min_path_sum(grid):\n",
    "    m, n = len(grid), len(grid[0]) #m行n列\n",
    "    dp = [[0 for _ in range(n)] for _ in range(m)]#构建同样大小的二维列表\n",
    "    for i in range(n):\n",
    "        for j in range(m):\n",
    "            if i==0 and j==0 :\n",
    "                dp[i][j] = grid[i][j]\n",
    "            elif i==0: #第一行\n",
    "                dp[i][j] = grid[i][j] + dp[i][j-1]\n",
    "            elif j==0:\n",
    "                dp[i][j] = grid[i][j] + dp[i-1][j]\n",
    "            else:\n",
    "                dp[i][j] = grid[i][j] + min(dp[i-1][j], dp[i][j-1])\n",
    "    print(dp)\n",
    "    return dp[-1][-1]"
   ]
  },
  {
   "cell_type": "code",
   "execution_count": 32,
   "metadata": {},
   "outputs": [
    {
     "name": "stdout",
     "output_type": "stream",
     "text": [
      "[[1, 4, 5], [2, 7, 6], [6, 8, 7]]\n",
      "7\n"
     ]
    }
   ],
   "source": [
    "grid = [[1,3,1],[1,5,1],[4,2,1]]\n",
    "print(min_path_sum(grid))"
   ]
  },
  {
   "cell_type": "markdown",
   "metadata": {},
   "source": [
    "### 72 .编辑距离 edit distance ， 动态规划\n",
    "```\n",
    "衡量两个字符串差异。\n",
    "插入，删除或替换的最小次数\n",
    "动态规划\n",
    "定义二维数组， dp[i][j] \n",
    "\n",
    "dp[i][0] , \n",
    "\n",
    "最右下角元素 dp[len(s1)][len(s2)] 即为编辑距离 \n",
    "\n",
    "示例 1：\n",
    "\n",
    "输入：word1 = \"horse\", word2 = \"ros\"\n",
    "输出：3\n",
    "解释：\n",
    "horse -> rorse (将 'h' 替换为 'r')\n",
    "rorse -> rose (删除 'r')\n",
    "rose -> ros (删除 'e')\n",
    "\n",
    "思路： 动态规划\n",
    "dp[i][j]的定义，表示的是word1 的前i个字符串转化成word2的前j个字符串 所需的最小的操作次数。\n",
    "\n",
    "初始状态 ：\n",
    "dp[0][0] = 0\n",
    "dp[i][0] = i  # 因为i个字符 到 0个字符，最少需要i次操作。\n",
    "dp[0][j] = j\n",
    "\n",
    "状态转移方程:\n",
    "如果s1和s2 最后一位相同时：   dp[i][j] = dp[i-1][j-1] \n",
    "如果s1和s2 最后一位不同时（替换）：dp[i][j] = dp[i-1][j-1]  + 1 \n",
    "如果s1 插入一个字符变为s2 ： dp[i][j] = dp[i][j-1] + 1 \n",
    "如果s1 删除一个字符变为s2:   dp[i][j] = d[i-1][j] + 1 \n",
    "\n",
    "\n",
    "最终状态：\n",
    "\n",
    "最右下角元素 dp[len(s1)][len(s2)] 也就是 dp[-1] [-1] 即为编辑距离\n",
    "```\n"
   ]
  },
  {
   "cell_type": "code",
   "execution_count": 3,
   "metadata": {},
   "outputs": [],
   "source": [
    "class Solution:\n",
    "    def minDistance(self, word1: str, word2: str) -> int:\n",
    "        l1, l2 = len(word1) , len(word2)\n",
    "        dp = [[0 for _ in range(l2+1)] for _ in range(l1+1)]\n",
    "        for i in range(l1+1):\n",
    "            dp[i][0] = i\n",
    "        for j in range(l2+1):\n",
    "            dp[0][j] = j\n",
    "        for i in range(l1):\n",
    "            for j in range(l2):\n",
    "                if word1[i] == word2[j] :\n",
    "                    dp[i+1][j+1] = dp[i][j]\n",
    "                else:\n",
    "                    dp[i+1][j+1] = min(dp[i][j] , dp[i][j+1], dp[i+1][j]) +1 \n",
    "        return dp[-1][-1]\n",
    "\n",
    "\n",
    "        "
   ]
  },
  {
   "cell_type": "code",
   "execution_count": null,
   "metadata": {},
   "outputs": [],
   "source": []
  },
  {
   "cell_type": "markdown",
   "metadata": {},
   "source": [
    "### 152. 乘积最大连续子序列\n",
    "```\n",
    "给定一个整数数组 nums ，找出一个序列中乘积最大的连续子序列（该序列至少包含一个数）。\n",
    "输入: [2,3,-2,4]\n",
    "输出: 6\n",
    "解释: 子数组 [2,3] 有最大乘积 6。\n",
    "思路：由于有负数的存在，所以同时记录两个值：一个最大值，一个最小值\n",
    "```"
   ]
  },
  {
   "cell_type": "code",
   "execution_count": 23,
   "metadata": {},
   "outputs": [],
   "source": [
    "def maxProduct(nums):\n",
    "    res, cur_max , cur_min =nums[0], nums[0], nums[0]\n",
    "    for num in nums[1:]:\n",
    "        cur_max,cur_min = cur_max*num, cur_min*num\n",
    "        cur_max,cur_min = max(cur_max,cur_min,num),\\\n",
    "        min(cur_max,cur_min,num)\n",
    "        res = max(res, cur_max)\n",
    "        return res"
   ]
  },
  {
   "cell_type": "code",
   "execution_count": null,
   "metadata": {},
   "outputs": [],
   "source": [
    "class Solution:\n",
    "    def maxProduct(self, nums: List[int]) -> int:\n",
    "        if not nums:\n",
    "            return 0\n",
    "        dp = [[num,num] for num in nums]\n",
    "        res = nums[0]\n",
    "        for i in range(1,len(nums)):\n",
    "            dp[i][0] = max(dp[i-1][0]*nums[i], dp[i-1][1]*nums[i], nums[i])\n",
    "            dp[i][1] = min(dp[i-1][0]*nums[i], dp[i-1][1]*nums[i], nums[i])\n",
    "            res = max(res, dp[i][0], dp[i][1],nums[i])\n",
    "        return res"
   ]
  },
  {
   "cell_type": "code",
   "execution_count": 24,
   "metadata": {},
   "outputs": [
    {
     "name": "stdout",
     "output_type": "stream",
     "text": [
      "0\n"
     ]
    }
   ],
   "source": [
    "nums = [-2,0,-1]\n",
    "print(maxProduct(nums))"
   ]
  },
  {
   "cell_type": "markdown",
   "metadata": {},
   "source": [
    "### 300.最长递增子序列 (max(dp) )\n",
    "```\n",
    "输入: [10,9,2,5,3,7,101,18]\n",
    "输出: 4 \n",
    "解释: 最长的上升子序列是 [2,3,7,101]，它的长度是 4\n",
    "\n",
    "思路：动态规划\n",
    "初始状态： dp[i] = 1  ,全都是1 \n",
    "状态转移方程: dp[i] = max(dp[i], dp[j]+1) , j in range(i)\n",
    "最终状态:  max(dp) \n",
    "```"
   ]
  },
  {
   "cell_type": "code",
   "execution_count": 32,
   "metadata": {},
   "outputs": [],
   "source": [
    "def LIS(nums):\n",
    "    if not nums:\n",
    "        return 0\n",
    "    dp = [1 for i in range(len(nums))]\n",
    "    for i in range(len(nums)):\n",
    "        for j in range(i):\n",
    "            if nums[i] > nums[j]:\n",
    "                dp[i] = max(dp[i], dp[j]+1)\n",
    "            else:\n",
    "                pass\n",
    "    return max(dp)"
   ]
  },
  {
   "cell_type": "code",
   "execution_count": 9,
   "metadata": {},
   "outputs": [
    {
     "data": {
      "text/plain": [
       "6"
      ]
     },
     "execution_count": 9,
     "metadata": {},
     "output_type": "execute_result"
    }
   ],
   "source": [
    "nums = [10,9,2,5,3,7,101,18]\n",
    "nums = [1,3,6,7,9,4,10,5,6]\n",
    "LIS(nums)"
   ]
  },
  {
   "cell_type": "code",
   "execution_count": 8,
   "metadata": {},
   "outputs": [],
   "source": [
    "\n",
    "def lengthOfLIS(nums):\n",
    "    if not nums:\n",
    "        return 0 \n",
    "    res = 1 \n",
    "    dp = [1 for _ in range(len(nums))]\n",
    "    for i in range(1, len(nums)):\n",
    "        for j in range(i):\n",
    "            if nums[i] > nums[j]:\n",
    "                dp[i] = max(dp[i], dp[j]+1)\n",
    "                res = max(res, dp[i])\n",
    "    return res"
   ]
  },
  {
   "cell_type": "markdown",
   "metadata": {},
   "source": [
    "### 674.最长连续递增序列\n",
    "```\n",
    "给定一个未经排序的整数数组，找到最长且 连续递增的子序列，并返回该序列的长度。\n",
    "\n",
    "连续递增的子序列 可以由两个下标 l 和 r（l < r）确定，如果对于每个 l <= i < r，都有 nums[i] < nums[i + 1] ，那么子序列 [nums[l], nums[l + 1], ..., nums[r - 1], nums[r]] 就是连续递增子序列。\n",
    "\n",
    " \n",
    "\n",
    "示例 1：\n",
    "\n",
    "输入：nums = [1,3,5,4,7]\n",
    "输出：3\n",
    "解释：最长连续递增序列是 [1,3,5], 长度为3。\n",
    "尽管 [1,3,5,7] 也是升序的子序列, 但它不是连续的，因为 5 和 7 在原数组里被 4 隔开。 \n",
    "示例 2：\n",
    "\n",
    "输入：nums = [2,2,2,2,2]\n",
    "输出：1\n",
    "解释：最长连续递增序列是 [2], 长度为1\n",
    "```"
   ]
  },
  {
   "cell_type": "code",
   "execution_count": 29,
   "metadata": {},
   "outputs": [],
   "source": [
    "def lcis(nums):\n",
    "    if not nums:\n",
    "        return 0 \n",
    "    max_len = 1 \n",
    "    lcis_len = 1 \n",
    "    for i in range(1,len(nums)):\n",
    "        if nums[i] > nums[i-1]:\n",
    "            lcis_len += 1 \n",
    "        else:\n",
    "            lcis_len =1 \n",
    "        max_len = max(max_len, lcis_len)\n",
    "    return max_len\n",
    "    "
   ]
  },
  {
   "cell_type": "code",
   "execution_count": 30,
   "metadata": {},
   "outputs": [
    {
     "data": {
      "text/plain": [
       "3"
      ]
     },
     "execution_count": 30,
     "metadata": {},
     "output_type": "execute_result"
    }
   ],
   "source": [
    "nums = [1,3,5,4,7]\n",
    "lcis(nums)"
   ]
  },
  {
   "cell_type": "markdown",
   "metadata": {},
   "source": [
    "### 718. 最长重复子数组\n",
    "```\n",
    "给两个整数数组 nums1 和 nums2 ，返回 两个数组中 公共的 、长度最长的子数组的长度 。\n",
    "输入：nums1 = [1,2,3,2,1], nums2 = [3,2,1,4,7]\n",
    "输出：3\n",
    "解释：长度最长的公共子数组是 [3,2,1] 。\n",
    "```"
   ]
  },
  {
   "cell_type": "code",
   "execution_count": null,
   "metadata": {},
   "outputs": [],
   "source": [
    "class Solution:\n",
    "    def findLength(self, nums1: List[int], nums2: List[int]) -> int:\n",
    "        res = 0\n",
    "        l1, l2 = len(nums1) ,len(nums2)\n",
    "        dp = [[0 for _ in range(l2+1)] for _ in range(l1+1)] \n",
    "        for i in range(l1):\n",
    "            for j in range(l2):\n",
    "                if nums1[i] == nums2[j]:\n",
    "                    dp[i+1][j+1] = dp[i][j] + 1 \n",
    "                res = max(res, dp[i+1][j+1] )\n",
    "        return res "
   ]
  },
  {
   "cell_type": "code",
   "execution_count": null,
   "metadata": {},
   "outputs": [],
   "source": []
  },
  {
   "cell_type": "markdown",
   "metadata": {},
   "source": [
    "### 最长公共子串"
   ]
  },
  {
   "cell_type": "code",
   "execution_count": 25,
   "metadata": {},
   "outputs": [],
   "source": [
    "def longest_common_substr(s1, s2):\n",
    "    if (not s1) or (not s2):\n",
    "        return \"\"\n",
    "    dp = [[0] * len(s2) for _ in range(len(s1))]\n",
    "    end = 0; max_len = 0\n",
    "    for i in range(len(s1)):\n",
    "        for j in range(len(s2)):\n",
    "            if i == 0 or j == 0:\n",
    "                if s1[i] == s2[j]:\n",
    "                    dp[i][j] = 1\n",
    "            else:\n",
    "                if s1[i] == s2[j]:\n",
    "                    dp[i][j] = dp[i-1][j-1] + 1\n",
    "            if dp[i][j] > max_len:\n",
    "                max_len = dp[i][j]\n",
    "                end = i\n",
    "    return s1[end-max_len+1:end+1]"
   ]
  },
  {
   "cell_type": "markdown",
   "metadata": {},
   "source": [
    "### 1143. 最长公共子序列  ( 动态规划  \n",
    "```\n",
    "给定两个字符串 text1 和 text2，返回这两个字符串的最长 公共子序列 的长度。如果不存在 公共子序列 ，返回 0 。\n",
    "输入：text1 = \"abcde\", text2 = \"ace\" \n",
    "输出：3  \n",
    "解释：最长公共子序列是 \"ace\" ，它的长度为 3 。\n",
    "\n",
    "\n",
    "思路： 动态规划\n",
    "建立二维数组dp[i][j] , s1的前i个字符串，和 s2的前j个字符串的lcs.   dp数组的 shape 为 (len(text1) +1 ,len(text2)+1)\n",
    "初始状态： dp[0][0]= 0  , dp[i][0]==0 , dp[j][0]  == 0 \n",
    "状态转移方程： \n",
    "if s1[i] == s2[j] : dp[i+1][j+1] == dp[i]dp[j] + 1\n",
    "if s1[i] != s2[j] : dp[i+1][j+1] = max(dp[i+1][j], dp[i][j+1])\n",
    "最终结果： \n",
    "dp[len(s1)][len(s2)]   (dp[-1][-1] )\n",
    "``` "
   ]
  },
  {
   "cell_type": "code",
   "execution_count": 26,
   "metadata": {},
   "outputs": [],
   "source": [
    "class Solution:\n",
    "    def longestCommonSubsequence(self, text1: str, text2: str) -> int:\n",
    "        # dp[i][j] , s1的前i个字符串，和 s2的前j个字符串的lcs. (len(text1) +1 ,len(text2)+1)\n",
    "        dp = [[0 for _ in range(len(text2)+1)] for _ in range(len(text1)+1)]\n",
    "        # 初始状态dp[i][0]==0 , dp[j][0]  == 0 \n",
    "        for i in range(len(text1)+1):\n",
    "            dp[i][0] = 0\n",
    "        for j in range(len(text2)+1):\n",
    "            dp[0][j] = 0 \n",
    "        # if s1[i]== s2[j]   ; dp[i][j] = dp[i-1][j-1] +1  \n",
    "        # if s1[i] != s2[j]  ;  dp[i][j] = max(dp[i-1][j] , dp[i][j-1])\n",
    "        for i in range(len(text1)):\n",
    "            for j in range(len(text2)):\n",
    "                if text1[i] == text2[j]:\n",
    "                    dp[i+1][j+1] = dp[i][j] +1\n",
    "                else:\n",
    "                    dp[i+1][j+1] = max(dp[i+1][j], dp[i][j+1])\n",
    "        return dp[-1][-1]\n",
    "\n",
    "        \n",
    "        "
   ]
  },
  {
   "cell_type": "code",
   "execution_count": null,
   "metadata": {},
   "outputs": [],
   "source": []
  }
 ],
 "metadata": {
  "kernelspec": {
   "display_name": "Python 3",
   "language": "python",
   "name": "python3"
  },
  "language_info": {
   "codemirror_mode": {
    "name": "ipython",
    "version": 3
   },
   "file_extension": ".py",
   "mimetype": "text/x-python",
   "name": "python",
   "nbconvert_exporter": "python",
   "pygments_lexer": "ipython3",
   "version": "3.8.2"
  }
 },
 "nbformat": 4,
 "nbformat_minor": 2
}
