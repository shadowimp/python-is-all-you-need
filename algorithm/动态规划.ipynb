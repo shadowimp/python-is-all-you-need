{
 "cells": [
  {
   "cell_type": "markdown",
   "metadata": {},
   "source": [
    "## 动态规划\n",
    "```\n",
    "有同样的子问题被重复计算， 一次计算，重复使用\n",
    "空间复杂度：计算所需存储的状态数\n",
    "时间复杂度：初始状态到最终状态经历的步数\n",
    "```"
   ]
  },
  {
   "cell_type": "markdown",
   "metadata": {},
   "source": [
    "### 斐波那契数\n",
    "```\n",
    "1 1 2 3 5 8 13 \n",
    "a[i] = a[i-1] + a[i-2]\n",
    "空间复杂度：2\n",
    "时间复杂度：o(N)\n",
    "```"
   ]
  },
  {
   "cell_type": "code",
   "execution_count": 10,
   "metadata": {},
   "outputs": [],
   "source": [
    "def fun(n):\n",
    "    if n ==1 or n==2 :\n",
    "        return 1 \n",
    "    v1,v2 = 1,1 \n",
    "    for i in range(2,n):\n",
    "        v1,v2 = v2, v1+v2\n",
    "    return v2"
   ]
  },
  {
   "cell_type": "code",
   "execution_count": 15,
   "metadata": {},
   "outputs": [
    {
     "data": {
      "text/plain": [
       "5"
      ]
     },
     "execution_count": 15,
     "metadata": {},
     "output_type": "execute_result"
    }
   ],
   "source": [
    "fun(5)"
   ]
  },
  {
   "cell_type": "markdown",
   "metadata": {},
   "source": [
    "### 背包问题\n",
    "```\n",
    "v[i,w]表示容量为w，i个物品所能达到的最大价值\n",
    "\n",
    "```\n",
    "目标： $$max \\sum V_i  , st \\sum W_i < W $$\n",
    "$$max(V[i] + V[i-1, W-W_{i} ], V[i-1,W]  ) $$ "
   ]
  },
  {
   "cell_type": "code",
   "execution_count": null,
   "metadata": {},
   "outputs": [],
   "source": []
  },
  {
   "cell_type": "markdown",
   "metadata": {},
   "source": [
    "### 最长回文子串\n",
    "```\n",
    "给定一个字符串，找他的最长回文子串\n",
    "输入： \"babab\"\n",
    "输出： \"bab\"\n",
    "思路：回文串的去掉头尾也是回文串, 用dp数组记录回文串的长度。\n",
    "状态初始条件：dp[i][i] = 1 \n",
    "状态转移方程：\n",
    "dp[i][j] = dp[i+1][j-1] + 2 , if s[i] == s[j]\n",
    "dp[i][j] = max(dp[i+1][j], dp[i][j-1]),if s[i] != s[j]\n",
    "```"
   ]
  },
  {
   "cell_type": "code",
   "execution_count": 1,
   "metadata": {},
   "outputs": [],
   "source": [
    "class Solution(object):\n",
    "    def longestPalindrome(self, s):\n",
    "        \"\"\"\n",
    "        :type s: str\n",
    "        :rtype: str\n",
    "        \"\"\"\n",
    "        if (not s) or (len(s) == 0):\n",
    "            return \"\"\n",
    "        left = len(s) - 1\n",
    "        res = s[0]\n",
    "        dp = [[0] * len(s) for _ in range(len(s))]\n",
    "        while left >= 0:\n",
    "            right = left\n",
    "            while right < len(s):\n",
    "                if left == right:\n",
    "                    dp[left][right] = 1\n",
    "                elif right - left == 1 and s[left] == s[right]:\n",
    "                    dp[left][right] = 1\n",
    "                elif dp[left+1][right-1] and s[left] == s[right]:\n",
    "                    dp[left][right] = 1\n",
    "                \n",
    "                if dp[left][right] and (right - left + 1 > len(res)):\n",
    "                    res = s[left:right+1]\n",
    "                    \n",
    "                right += 1\n",
    "            left -= 1\n",
    "        return res"
   ]
  },
  {
   "cell_type": "code",
   "execution_count": null,
   "metadata": {},
   "outputs": [],
   "source": [
    "def lps(nums):\n",
    "    i , j = 0 , len(nums)-1 \n",
    "    if s[i] == s[j] :\n",
    "        dp[i][j] = dp[i+1][j-1] + 2 \n",
    "    else:\n",
    "        dp[i][j] = max(dp[i+1][j], dp[i][j-1])"
   ]
  },
  {
   "cell_type": "markdown",
   "metadata": {},
   "source": [
    "### 53.连续子数组的最大和\n",
    "```\n",
    "输入: [-2,1,-3,4,-1,2,1,-5,4],\n",
    "输出: 6\n",
    "解释: 连续子数组 [4,-1,2,1] 的和最大，为 6。\n",
    "```"
   ]
  },
  {
   "cell_type": "code",
   "execution_count": 16,
   "metadata": {},
   "outputs": [],
   "source": [
    "def max_sub_arr(nums):\n",
    "    if not nums:\n",
    "        return 0 \n",
    "    cur_max, res_max = nums[0], nums[0]\n",
    "    for num in nums[1:]:\n",
    "        cur_max = max( cur_max+num, num) #如果为正则保留，如果为负则只取最大的\n",
    "        res_max = max(res_max, cur_max)\n",
    "    return res_max "
   ]
  },
  {
   "cell_type": "code",
   "execution_count": 17,
   "metadata": {},
   "outputs": [
    {
     "name": "stdout",
     "output_type": "stream",
     "text": [
      "6\n"
     ]
    }
   ],
   "source": [
    "nums = [-2,1,-3,4,-1,2,1,-5,4]\n",
    "print(max_sub_arr(nums))"
   ]
  },
  {
   "cell_type": "markdown",
   "metadata": {},
   "source": [
    "### 64.网格最短路径和\n",
    "```\n",
    "左上角走到右下角,路径和最短, 只能向右或者向下走\n",
    "输入:\n",
    "[\n",
    "  [1,3,1],\n",
    "  [1,5,1],\n",
    "  [4,2,1]\n",
    "]\n",
    "输出: 7\n",
    "解释: 因为路径 1→3→1→1→1 的总和最小。\n",
    "```"
   ]
  },
  {
   "cell_type": "code",
   "execution_count": 31,
   "metadata": {},
   "outputs": [],
   "source": [
    "def min_path_sum(grid):\n",
    "    m, n = len(grid), len(grid[0]) #m行n列\n",
    "    dp = [[0 for _ in range(n)] for _ in range(m)]#构建同样大小的二维列表\n",
    "    for i in range(n):\n",
    "        for j in range(m):\n",
    "            if i==0 and j==0 :\n",
    "                dp[i][j] = grid[i][j]\n",
    "            elif i==0: #第一行\n",
    "                dp[i][j] = grid[i][j] + dp[i][j-1]\n",
    "            elif j==0:\n",
    "                dp[i][j] = grid[i][j] + dp[i-1][j]\n",
    "            else:\n",
    "                dp[i][j] = grid[i][j] + min(dp[i-1][j], dp[i][j-1])\n",
    "    print(dp)\n",
    "    return dp[-1][-1]"
   ]
  },
  {
   "cell_type": "code",
   "execution_count": 32,
   "metadata": {},
   "outputs": [
    {
     "name": "stdout",
     "output_type": "stream",
     "text": [
      "[[1, 4, 5], [2, 7, 6], [6, 8, 7]]\n",
      "7\n"
     ]
    }
   ],
   "source": [
    "grid = [[1,3,1],[1,5,1],[4,2,1]]\n",
    "print(min_path_sum(grid))"
   ]
  },
  {
   "cell_type": "markdown",
   "metadata": {},
   "source": [
    "### 152. 乘积最大连续子序列\n",
    "```\n",
    "给定一个整数数组 nums ，找出一个序列中乘积最大的连续子序列（该序列至少包含一个数）。\n",
    "输入: [2,3,-2,4]\n",
    "输出: 6\n",
    "解释: 子数组 [2,3] 有最大乘积 6。\n",
    "思路：由于有负数的存在，所以同时记录两个值：一个最大值，一个最小值\n",
    "```"
   ]
  },
  {
   "cell_type": "code",
   "execution_count": 33,
   "metadata": {},
   "outputs": [],
   "source": [
    "def maxProduct(nums):\n",
    "    res, cur_max , cur_min =nums[0], nums[0], nums[0]\n",
    "    for num in nums[1:]:\n",
    "        cur_max,cur_min = cur_max*num, cur_min*num\n",
    "        cur_max,cur_min = max(cur_max,cur_min,num),\\\n",
    "        min(cur_max,cur_min,num)\n",
    "        res = max(res, cur_max)\n",
    "        return res"
   ]
  },
  {
   "cell_type": "code",
   "execution_count": 34,
   "metadata": {},
   "outputs": [
    {
     "name": "stdout",
     "output_type": "stream",
     "text": [
      "0\n"
     ]
    }
   ],
   "source": [
    "nums = [-2,0,-1]\n",
    "print(maxProduct(nums))"
   ]
  },
  {
   "cell_type": "markdown",
   "metadata": {},
   "source": [
    "### 300.最长递增子序列\n",
    "```\n",
    "输入: [10,9,2,5,3,7,101,18]\n",
    "输出: 4 \n",
    "解释: 最长的上升子序列是 [2,3,7,101]，它的长度是 4\n",
    "状态转移方程: dp[i] = max(dp[i], dp[j]+1) , j in range(i)\n",
    "```"
   ]
  },
  {
   "cell_type": "code",
   "execution_count": 3,
   "metadata": {},
   "outputs": [],
   "source": [
    "def LIS(nums):\n",
    "    if not nums:\n",
    "        return 0\n",
    "    dp = [1 for i in range(len(nums))]\n",
    "    for i in range(len(nums)):\n",
    "        for j in range(i):\n",
    "            if nums[i] > nums[j]:\n",
    "                dp[i] = max(dp[i], dp[j]+1)\n",
    "            else:\n",
    "                pass\n",
    "    return max(dp)"
   ]
  },
  {
   "cell_type": "code",
   "execution_count": 4,
   "metadata": {},
   "outputs": [
    {
     "data": {
      "text/plain": [
       "4"
      ]
     },
     "execution_count": 4,
     "metadata": {},
     "output_type": "execute_result"
    }
   ],
   "source": [
    "nums = [10,9,2,5,3,7,101,18]\n",
    "LIS(nums)"
   ]
  },
  {
   "cell_type": "markdown",
   "metadata": {},
   "source": [
    "### 最长公共子串"
   ]
  },
  {
   "cell_type": "code",
   "execution_count": 2,
   "metadata": {},
   "outputs": [],
   "source": [
    "def longest_common_substr(s1, s2):\n",
    "    if (not s1) or (not s2):\n",
    "        return \"\"\n",
    "    dp = [[0] * len(s2) for _ in range(len(s1))]\n",
    "    end = 0; max_len = 0\n",
    "    for i in range(len(s1)):\n",
    "        for j in range(len(s2)):\n",
    "            if i == 0 or j == 0:\n",
    "                if s1[i] == s2[j]:\n",
    "                    dp[i][j] = 1\n",
    "            else:\n",
    "                if s1[i] == s2[j]:\n",
    "                    dp[i][j] = dp[i-1][j-1] + 1\n",
    "            if dp[i][j] > max_len:\n",
    "                max_len = dp[i][j]\n",
    "                end = i\n",
    "    return s1[end-max_len+1:end+1]"
   ]
  },
  {
   "cell_type": "markdown",
   "metadata": {},
   "source": [
    "###  最长公共子序列\n",
    "```\n",
    "输入: [10,9,2,5,3,7,101,18] ， \n",
    "输出: 4 \n",
    "解释: 最长的上升子序列是 [2,3,7,101]，它的长度是 4\n",
    "```"
   ]
  },
  {
   "cell_type": "code",
   "execution_count": null,
   "metadata": {},
   "outputs": [],
   "source": []
  },
  {
   "cell_type": "code",
   "execution_count": null,
   "metadata": {},
   "outputs": [],
   "source": []
  }
 ],
 "metadata": {
  "kernelspec": {
   "display_name": "Python 3",
   "language": "python",
   "name": "python3"
  },
  "language_info": {
   "codemirror_mode": {
    "name": "ipython",
    "version": 3
   },
   "file_extension": ".py",
   "mimetype": "text/x-python",
   "name": "python",
   "nbconvert_exporter": "python",
   "pygments_lexer": "ipython3",
   "version": "3.7.3"
  }
 },
 "nbformat": 4,
 "nbformat_minor": 2
}
