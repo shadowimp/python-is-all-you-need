{
 "cells": [
  {
   "cell_type": "markdown",
   "metadata": {},
   "source": [
    "### 1. Two Sum\n",
    "\n",
    "Given an array of integers, return indices of the two numbers such that they add up to a specific target.\n",
    "\n",
    "You may assume that each input would have exactly one solution, and you may not use the same element twice.\n",
    "\n",
    "Example:\n",
    "\n",
    "Given nums = [2, 7, 11, 15], target = 9,\n",
    "\n",
    "Because nums[0] + nums[1] = 2 + 7 = 9,\n",
    "return [0, 1].\n",
    "\n",
    "```\n",
    "Two Sum: 一个数组中的两个数相加等于一个给定数，返回数组中两个数的下标。\n",
    "输入： 一个数组，一个数字\n",
    "输出： 两个数字\n",
    "```"
   ]
  },
  {
   "cell_type": "markdown",
   "metadata": {},
   "source": [
    "- 时间复杂度： O(n)\n",
    "- 空间复杂度： O(n)"
   ]
  },
  {
   "cell_type": "code",
   "execution_count": 5,
   "metadata": {},
   "outputs": [],
   "source": [
    "def two_sum(nums,target):\n",
    "    nums_dict = { }  #创建一个空字典,将target-num1作为key，num1的下标作为value。\n",
    "    for i in range(len(nums)):\n",
    "        if nums[i] not in nums_dict: #如果没有，则将 target-nums1 和 nums1的下标 存入字典nums_dict\n",
    "            nums_dict[target-nums[i]]  = i\n",
    "        else:       #遍历字典看其中是否有x，如果有说明两个数找到了\n",
    "            return [nums_dict[nums[i]],i]"
   ]
  },
  {
   "cell_type": "code",
   "execution_count": 6,
   "metadata": {
    "scrolled": true
   },
   "outputs": [
    {
     "data": {
      "text/plain": [
       "[2, 3]"
      ]
     },
     "execution_count": 6,
     "metadata": {},
     "output_type": "execute_result"
    }
   ],
   "source": [
    "two_sum([2,5,7,11,15],18)"
   ]
  },
  {
   "cell_type": "markdown",
   "metadata": {},
   "source": [
    "### 20.Valid Parentheses  \n",
    "Given a string containing just the characters '(', ')', '{', '}', '[' and ']', determine if the input string is valid."
   ]
  },
  {
   "cell_type": "markdown",
   "metadata": {},
   "source": [
    "1.  if 元素为左： 入栈\n",
    "2. else : 与栈中弹出的元素比较，能不能构成一对。\n",
    "3. 最后栈中元素为空， 返回True \n",
    "- 时间复杂度： O(n)\n",
    "- 空间复杂度： O(n)"
   ]
  },
  {
   "cell_type": "code",
   "execution_count": 7,
   "metadata": {},
   "outputs": [],
   "source": [
    "def valid_parent(s):\n",
    "    stack = []\n",
    "    dic = {'(':')','[':']','{':'}'}\n",
    "    \n",
    "    for c in s:\n",
    "        if c in dic:\n",
    "            stack.append(c)\n",
    "        else:\n",
    "            if not stack or dic[stack.pop()] != c:\n",
    "                return False \n",
    "    return not stack "
   ]
  },
  {
   "cell_type": "code",
   "execution_count": 8,
   "metadata": {},
   "outputs": [
    {
     "data": {
      "text/plain": [
       "False"
      ]
     },
     "execution_count": 8,
     "metadata": {},
     "output_type": "execute_result"
    }
   ],
   "source": [
    "valid_parent('()()(')"
   ]
  },
  {
   "cell_type": "markdown",
   "metadata": {
    "collapsed": true
   },
   "source": [
    "### 21. Merge Two Sorted Lists  合并两个有序链表"
   ]
  },
  {
   "cell_type": "code",
   "execution_count": 19,
   "metadata": {},
   "outputs": [],
   "source": [
    "class LinkNode:\n",
    "    def __init__(self,x):\n",
    "        self.val = x\n",
    "        self.next = None\n",
    "\n",
    "def merge_list(l1,l2):\n",
    "    s = l = LinkNode(0) #初始化一个头节点， 最后返回头节点的next\n",
    "    while l1 and l2 :\n",
    "        if l1.val < l2.val:\n",
    "            l.next = LinkNode(l1.val)\n",
    "            l1 = l1.next \n",
    "        else:\n",
    "            l.next = LinkNode(l2.val)\n",
    "            l2 = l2.next \n",
    "        l = l.next \n",
    "    \n",
    "    while l1:\n",
    "        l.next = LinkNode(l1.val)\n",
    "        l = l.next \n",
    "        l1 = l1.next\n",
    "    while l2:\n",
    "        l.next = LinkNode(l2.val)\n",
    "        l = l.next \n",
    "        l2 = l2.next \n",
    "    return s.next \n"
   ]
  },
  {
   "cell_type": "code",
   "execution_count": 20,
   "metadata": {
    "scrolled": false
   },
   "outputs": [
    {
     "data": {
      "text/plain": [
       "1"
      ]
     },
     "execution_count": 20,
     "metadata": {},
     "output_type": "execute_result"
    }
   ],
   "source": [
    "l1 = LinkNode(1)\n",
    "l1.next = LinkNode(4)\n",
    "l2 = LinkNode(2)\n",
    "l2.next = LinkNode(3)\n",
    "\n",
    "merge_list(l1,l2).val"
   ]
  },
  {
   "cell_type": "markdown",
   "metadata": {},
   "source": [
    "### 24. 两两交换链表中的节点"
   ]
  },
  {
   "cell_type": "code",
   "execution_count": 1,
   "metadata": {},
   "outputs": [
    {
     "name": "stdout",
     "output_type": "stream",
     "text": [
      "2\n",
      "1\n",
      "4\n",
      "3\n"
     ]
    }
   ],
   "source": [
    "#-*-coding:utf-8-*-\n",
    "\n",
    "'''\n",
    "链表成对调换。 1->2->3->4 调换成 2->1->4->3\n",
    "输入： 链表头结点\n",
    "输出： 调换后的链表头节点\n",
    "\n",
    "'''\n",
    "class ListNode: \n",
    "\tdef __init__(self,val):\n",
    "\t\tself.val = val \n",
    "\t\tself.next = None \n",
    "\n",
    "class Solution: \n",
    "\tdef swap(self,head): \n",
    "\t\tif head != None and head.next != None : #如果有一对以上的节点继续操作\n",
    "\t\t\tnext = head.next \n",
    "\t\t\thead.next = self.swap(next.next) #重新建立除第一个节点外其他节点的逻辑\n",
    "\t\t\tnext.next = head # 调换两个节点的关系\n",
    "\t\t\treturn next #返回第二个节点\n",
    "\t\treturn head # 链表只有一个元素或者没有元素，返回头结点本身\n",
    "\n",
    "#建立一个链表\n",
    "a = ListNode(1)\n",
    "b = ListNode(2)\n",
    "c = ListNode(3)\n",
    "d = ListNode(4)\n",
    "a.next = b\n",
    "b.next = c\n",
    "c.next = d \n",
    "\n",
    "#执行函数\n",
    "s1 = Solution() \n",
    "new_head = s1.swap(a)\n",
    "\n",
    "#遍历链表的值\n",
    "while new_head != None : \n",
    "\tprint(new_head.val)\n",
    "\tnew_head = new_head.next"
   ]
  },
  {
   "cell_type": "markdown",
   "metadata": {},
   "source": [
    "### 53. Maximum Subarray\n",
    "```\n",
    "Given an integer array nums, find the contiguous subarray (containing at least one number) which has the largest sum and return its sum.\n",
    "\n",
    "Input: [-2,1,-3,4,-1,2,1,-5,4]\n",
    "\n",
    "Output: 6\n",
    "\n",
    "Explanation: [4,-1,2,1] has the largest sum = 6.\n",
    "```"
   ]
  },
  {
   "cell_type": "code",
   "execution_count": 21,
   "metadata": {},
   "outputs": [],
   "source": [
    "def max_subarray(nums):\n",
    "    if not nums:\n",
    "        return None \n",
    "    max_sum = current_sum = nums[0]\n",
    "    for num in nums[1:]: \n",
    "        current_sum = max(current_sum+num,num)  #连续和加当前元素，与当前元素比较\n",
    "        max_sum = max(current_sum,max_sum)\n",
    "    return max_sum   "
   ]
  },
  {
   "cell_type": "code",
   "execution_count": 22,
   "metadata": {
    "scrolled": true
   },
   "outputs": [
    {
     "data": {
      "text/plain": [
       "6"
      ]
     },
     "execution_count": 22,
     "metadata": {},
     "output_type": "execute_result"
    }
   ],
   "source": [
    "nums= [ -2,1,-3,4,-1,2,1,-5,4]\n",
    "max_subarray(nums)"
   ]
  },
  {
   "cell_type": "markdown",
   "metadata": {},
   "source": [
    "### 70. Climbing Stairs\n",
    "You are climbing a stair case. It takes n steps to reach to the top.\n",
    "\n",
    "Each time you can either climb 1 or 2 steps. In how many distinct ways can you climb to the top?"
   ]
  },
  {
   "cell_type": "code",
   "execution_count": 26,
   "metadata": {},
   "outputs": [],
   "source": [
    "def climb_stairs(n):\n",
    "    if n == 1 :\n",
    "        return 1 \n",
    "    if n == 2 :\n",
    "        return 2 \n",
    "    \n",
    "    steps = [ 0 for i in range(n) ]\n",
    "    steps[0] , steps[1] = 1,2\n",
    "    for i in range(2,n):\n",
    "        steps[i] = steps[i-1] + steps[i-2]\n",
    "    return steps[-1] \n"
   ]
  },
  {
   "cell_type": "code",
   "execution_count": 32,
   "metadata": {},
   "outputs": [],
   "source": [
    "# 只需要保留两个状态\n",
    "def climb_stairs2(n):\n",
    "    a , b = 1,2  \n",
    "    for i in range(2,n):\n",
    "        a , b =  b , a+b \n",
    "    return b"
   ]
  },
  {
   "cell_type": "code",
   "execution_count": 33,
   "metadata": {},
   "outputs": [
    {
     "data": {
      "text/plain": [
       "89"
      ]
     },
     "execution_count": 33,
     "metadata": {},
     "output_type": "execute_result"
    }
   ],
   "source": [
    "climb_stairs(10)"
   ]
  },
  {
   "cell_type": "code",
   "execution_count": 34,
   "metadata": {},
   "outputs": [
    {
     "data": {
      "text/plain": [
       "89"
      ]
     },
     "execution_count": 34,
     "metadata": {},
     "output_type": "execute_result"
    }
   ],
   "source": [
    "climb_stairs2(10)"
   ]
  },
  {
   "cell_type": "markdown",
   "metadata": {},
   "source": [
    "### 101. Symmetric Tree\n",
    "```\n",
    "判断一个树是不是对称的。\n",
    "Given a binary tree, check whether it is a mirror of itself (ie, symmetric around its center).\n",
    "For example, this binary tree [1,2,2,3,4,4,3] is symmetric:\n",
    "     1\n",
    "   /   \\\n",
    "  2     2\n",
    " / \\   / \\ \n",
    "3   4 4   3\n",
    "```"
   ]
  },
  {
   "cell_type": "code",
   "execution_count": 35,
   "metadata": {},
   "outputs": [],
   "source": [
    "class TreeNode:\n",
    "    def __init__(self,x):\n",
    "        self.val = x\n",
    "        self.left = None \n",
    "        self.right = None"
   ]
  },
  {
   "cell_type": "code",
   "execution_count": 46,
   "metadata": {},
   "outputs": [],
   "source": [
    "def symmetric_tree(root):\n",
    "    if root is None :\n",
    "        return True \n",
    "    else :\n",
    "        return fun(root.left,root.right)\n",
    "def fun(left,right):\n",
    "    \"\"\"\n",
    "    判断两边是否是镜像，必须传入两个参数\n",
    "    \"\"\"\n",
    "    if left is None and right is None :\n",
    "        return True \n",
    "    if left is None or right is None:\n",
    "        return False\n",
    "    if left.val != right.val:\n",
    "        return False\n",
    "    else:\n",
    "        flag1 = fun(left.left,right.right)\n",
    "        flag2 = fun(left.right,right.left)\n",
    "        return flag1 and flag2"
   ]
  },
  {
   "cell_type": "code",
   "execution_count": 40,
   "metadata": {},
   "outputs": [],
   "source": [
    "t = TreeNode(1)\n",
    "t.left , t.right  = TreeNode(2),TreeNode(2)\n",
    "t.left.left , t.left.right , t.right.left , t.right.right = \\\n",
    "TreeNode(3),TreeNode(4),TreeNode(4),TreeNode(3)"
   ]
  },
  {
   "cell_type": "code",
   "execution_count": 41,
   "metadata": {},
   "outputs": [
    {
     "data": {
      "text/plain": [
       "True"
      ]
     },
     "execution_count": 41,
     "metadata": {},
     "output_type": "execute_result"
    }
   ],
   "source": [
    "symmetric_tree(t)"
   ]
  },
  {
   "cell_type": "markdown",
   "metadata": {
    "collapsed": true
   },
   "source": [
    "### 104. Maximum Depth of Binary Tree\n",
    "Given a binary tree, find its maximum depth.\n",
    "\n",
    "The maximum depth is the number of nodes along the longest path from the root node down to the farthest leaf node."
   ]
  },
  {
   "cell_type": "markdown",
   "metadata": {},
   "source": [
    "当前父亲节点的Maximum Depth = 最大的子节点的Maximum Depth +1"
   ]
  },
  {
   "cell_type": "code",
   "execution_count": 8,
   "metadata": {
    "collapsed": true
   },
   "outputs": [],
   "source": [
    "class TreeNode:\n",
    "    def __init__(self,x):\n",
    "        self.val = x\n",
    "        self.left = None \n",
    "        self.right = None "
   ]
  },
  {
   "cell_type": "code",
   "execution_count": 10,
   "metadata": {
    "collapsed": true
   },
   "outputs": [],
   "source": [
    "def max_depth(root): \n",
    "    if root:\n",
    "        return 1+ max( max_depth(root.left) , max_depth(root.right) )\n",
    "    else:\n",
    "        return 0   "
   ]
  },
  {
   "cell_type": "code",
   "execution_count": 12,
   "metadata": {},
   "outputs": [
    {
     "data": {
      "text/plain": [
       "3"
      ]
     },
     "execution_count": 12,
     "metadata": {},
     "output_type": "execute_result"
    }
   ],
   "source": [
    "max_depth(t)"
   ]
  },
  {
   "cell_type": "markdown",
   "metadata": {},
   "source": [
    "### 121. Best Time to Buy and Sell Stock\n",
    "Say you have an array for which the ith element is the price of a given stock on day i.\n",
    "\n",
    "If you were only permitted to complete at most one transaction (i.e., buy one and sell one share of the stock), design an algorithm to find the maximum profit.\n",
    "\n",
    "Note that you cannot sell a stock before you buy one.\n",
    "\n",
    "Input: [7,1,5,3,6,4]\n",
    "\n",
    "Output: 5\n"
   ]
  },
  {
   "cell_type": "code",
   "execution_count": 24,
   "metadata": {
    "collapsed": true
   },
   "outputs": [],
   "source": [
    "def max_profit(nums):\n",
    "    if not nums:\n",
    "        return 0\n",
    "    max_profit = 0 \n",
    "    min_price = nums[0]\n",
    "    for price in nums[1:]:\n",
    "        current_profit = max(0,price - min_price )\n",
    "        min_price = min(min_price,price)\n",
    "        max_profit = max(max_profit, current_profit)\n",
    "    return max_profit"
   ]
  },
  {
   "cell_type": "code",
   "execution_count": 28,
   "metadata": {},
   "outputs": [
    {
     "data": {
      "text/plain": [
       "0"
      ]
     },
     "execution_count": 28,
     "metadata": {},
     "output_type": "execute_result"
    }
   ],
   "source": [
    "nums = []\n",
    "max_profit(nums)"
   ]
  },
  {
   "cell_type": "markdown",
   "metadata": {},
   "source": [
    "### 136. Single Number\n",
    "Given a non-empty array of integers, every element appears twice except for one. Find that single one."
   ]
  },
  {
   "cell_type": "code",
   "execution_count": null,
   "metadata": {
    "collapsed": true
   },
   "outputs": [],
   "source": [
    "def single_number(nums):\n",
    "    a = nums[0]\n",
    "    for num in nums[1:]:\n",
    "        a = num^a\n",
    "    return a \n",
    "    "
   ]
  },
  {
   "cell_type": "markdown",
   "metadata": {},
   "source": [
    "### 141. Linked List Cycle\n",
    "Given a linked list, determine if it has a cycle in it.\n",
    "\n",
    "To represent a cycle in the given linked list, we use an integer pos which represents the position (0-indexed) in the linked list where tail connects to. If pos is -1, then there is no cycle in the linked list."
   ]
  },
  {
   "cell_type": "code",
   "execution_count": 6,
   "metadata": {
    "collapsed": true
   },
   "outputs": [],
   "source": [
    "class LinkNode:\n",
    "    def __init__(self,x):\n",
    "        self.val = x\n",
    "        self.next = None\n",
    "\n",
    "def has_cycle(head):\n",
    "    try:\n",
    "        slower = head \n",
    "        faster = head.next \n",
    "        while slower is not faster: #可以理解为，只要无环一定会到最后报错，从而跳出循环， 只要有环while条件一定会终止，从而跳出循环。\n",
    "            slower = slower.next \n",
    "            faster = faster.next.next \n",
    "        return True \n",
    "    except:\n",
    "        return False "
   ]
  },
  {
   "cell_type": "code",
   "execution_count": 7,
   "metadata": {
    "scrolled": true
   },
   "outputs": [
    {
     "data": {
      "text/plain": [
       "False"
      ]
     },
     "execution_count": 7,
     "metadata": {},
     "output_type": "execute_result"
    }
   ],
   "source": [
    "l1 = LinkNode(1)\n",
    "has_cycle(l1)"
   ]
  },
  {
   "cell_type": "markdown",
   "metadata": {},
   "source": [
    "### 155. Min Stack\n",
    "Design a stack that supports push, pop, top, and retrieving the minimum element in constant time."
   ]
  },
  {
   "cell_type": "code",
   "execution_count": 8,
   "metadata": {
    "collapsed": true
   },
   "outputs": [],
   "source": [
    "class MinStack:\n",
    "    def __init__(self):\n",
    "        self.s = []\n",
    "    \n",
    "    def push(self,x):\n",
    "        if not self.s or x<self.s[-1][1]:  # 栈中的每个元素存储两个值，一个是入栈的元素值，一个是当前栈中的最小值\n",
    "            self.s.append((x,x))\n",
    "        else:\n",
    "            self.s.append((x,self.s[-1][1]))\n",
    "            \n",
    "    def pop(self):\n",
    "        return self.s.pop()\n",
    "    \n",
    "    def top(self):  #栈是后进先出，所以栈顶元素就是我们构建的列表中最后的元素\n",
    "        return self.s[-1][0]\n",
    "    \n",
    "    def getMin(self):\n",
    "        return self.s[-1][1]\n",
    "    "
   ]
  },
  {
   "cell_type": "markdown",
   "metadata": {
    "collapsed": true
   },
   "source": [
    "### 160. Intersection of Two Linked Lists\n",
    "Write a program to find the node at which the intersection of two singly linked lists begins.\n",
    "\n",
    "找到两个单向链表的交点"
   ]
  },
  {
   "cell_type": "code",
   "execution_count": 9,
   "metadata": {
    "collapsed": true
   },
   "outputs": [],
   "source": [
    "class LinkNode:\n",
    "    def __init__(self,x):\n",
    "        self.val = x\n",
    "        self.next = None"
   ]
  },
  {
   "cell_type": "code",
   "execution_count": 69,
   "metadata": {
    "collapsed": true
   },
   "outputs": [],
   "source": [
    "def get_Intersection1(headA, headB):\n",
    "    \"\"\"\n",
    "    :type head1, head1: ListNode\n",
    "    :rtype: ListNode\n",
    "    \"\"\"\n",
    "    flag1 = flag2 =0  #找到最后一个节点，\n",
    "    A , B = headA , headB\n",
    "\n",
    "    while headA :\n",
    "        headA = headA.next\n",
    "        flag1 += 1 \n",
    "    while headB :\n",
    "        headB = headB.next\n",
    "        flag2 += 1 \n",
    "    if headA is not headB :\n",
    "        return null\n",
    "    if flag1> flag2:\n",
    "        i = 0\n",
    "        while i < abs(flag1-flag2):\n",
    "            A = A.next\n",
    "            i += 1 \n",
    "    else:\n",
    "        i = 0\n",
    "        while i < abs(flag2-flag1):\n",
    "            B = B.next\n",
    "            i += 1 \n",
    "    while A is not B :\n",
    "        A = A.next\n",
    "        B = B.next \n",
    "    return A"
   ]
  },
  {
   "cell_type": "code",
   "execution_count": null,
   "metadata": {
    "collapsed": true
   },
   "outputs": [],
   "source": [
    "def get_intersection2(headA,headB):\n",
    "    if not headA or not headB :\n",
    "        return None    \n",
    "    A , B = headA , headB  \n",
    "    while A is not  B:  # A和 B 相等时，说明找到交点\n",
    "        A = A.next if A else headB #哪一个多走的在下一轮少走，\n",
    "        B = B.next if B else headA  \n",
    "    return A "
   ]
  },
  {
   "cell_type": "code",
   "execution_count": null,
   "metadata": {
    "collapsed": true
   },
   "outputs": [],
   "source": []
  },
  {
   "cell_type": "markdown",
   "metadata": {
    "collapsed": true
   },
   "source": [
    "### 169. Majority Element\n",
    "找到数组中出现次数大于n/2的数组 ， 数组非空且majority element一定存在"
   ]
  },
  {
   "cell_type": "code",
   "execution_count": 15,
   "metadata": {
    "collapsed": true
   },
   "outputs": [],
   "source": [
    "from collections import Counter\n",
    "def majority_element(nums):\n",
    "    count = Counter(nums)\n",
    "    for i , j in count.items() :\n",
    "        if j > len(nums)/2:\n",
    "            return i"
   ]
  },
  {
   "cell_type": "code",
   "execution_count": 16,
   "metadata": {},
   "outputs": [
    {
     "data": {
      "text/plain": [
       "2"
      ]
     },
     "execution_count": 16,
     "metadata": {},
     "output_type": "execute_result"
    }
   ],
   "source": [
    "nums = [2,2,1,1,1,2,2]\n",
    "majority_element(nums)"
   ]
  },
  {
   "cell_type": "code",
   "execution_count": 18,
   "metadata": {
    "collapsed": true
   },
   "outputs": [],
   "source": [
    "def majority_element_2(nums):\n",
    "    nums_dict = {}\n",
    "    for num in nums:\n",
    "        try:\n",
    "            nums_dict[num] += 1  #dict记录元素出现的次数\n",
    "        except:\n",
    "            nums_dict[num] =  1   \n",
    "\n",
    "        if nums_dict[num] > len(nums)//2 :\n",
    "            return num"
   ]
  },
  {
   "cell_type": "code",
   "execution_count": 19,
   "metadata": {},
   "outputs": [
    {
     "data": {
      "text/plain": [
       "2"
      ]
     },
     "execution_count": 19,
     "metadata": {},
     "output_type": "execute_result"
    }
   ],
   "source": [
    "majority_element_2(nums)"
   ]
  },
  {
   "cell_type": "markdown",
   "metadata": {},
   "source": [
    "### 198. House Robber\n",
    "数组代表商店价值，不能抢相邻的商店。\n",
    "```\n",
    "Input: [1,2,3,1]\n",
    "Output: 4\n",
    "Explanation: Rob house 1 (money = 1) and then rob house 3 (money = 3).\n",
    "             Total amount you can rob = 1 + 3 = 4.\n",
    "             \n",
    "Input: [2,7,9,3,1]\n",
    "Output: 12\n",
    "Explanation: Rob house 1 (money = 2), rob house 3 (money = 9) and rob house 5 (money = 1).\n",
    "             Total amount you can rob = 2 + 9 + 1 = 12.\n",
    "\n",
    "```\n"
   ]
  },
  {
   "cell_type": "code",
   "execution_count": 33,
   "metadata": {
    "collapsed": true
   },
   "outputs": [],
   "source": [
    "def rob_recursion(nums): #递归写法\n",
    "    if not nums:\n",
    "        return 0 \n",
    "    if len(nums) == 1 :\n",
    "        return nums[0]\n",
    "    if len(nums) ==2 :\n",
    "        return max(nums[0],nums[1])\n",
    "    return max( nums[-1] + rob(nums[:-2]) , rob(nums[:-1])) "
   ]
  },
  {
   "cell_type": "code",
   "execution_count": 34,
   "metadata": {},
   "outputs": [
    {
     "data": {
      "text/plain": [
       "12"
      ]
     },
     "execution_count": 34,
     "metadata": {},
     "output_type": "execute_result"
    }
   ],
   "source": [
    "nums = [2,7,9,3,1]\n",
    "rob_recursion(nums)"
   ]
  },
  {
   "cell_type": "code",
   "execution_count": 43,
   "metadata": {
    "collapsed": true
   },
   "outputs": [],
   "source": [
    "def rob(nums):  # 递归是从最后写的， 但是运行顺序是先递推到最开始运行的，所以不递推的写法是从前向后\n",
    "    v1,v2 = 0 , 0 \n",
    "    for num in nums:\n",
    "        v1 , v2 = v2 , max(v1+num,v2) #每个元素处的最大价值=max（ v(k) + f(k-2) , f(k-1) ) \n",
    "        print(v1,v2)\n",
    "    return v2"
   ]
  },
  {
   "cell_type": "code",
   "execution_count": 42,
   "metadata": {},
   "outputs": [
    {
     "name": "stdout",
     "output_type": "stream",
     "text": [
      "0 2\n",
      "2 7\n",
      "7 11\n",
      "11 11\n",
      "11 12\n"
     ]
    },
    {
     "data": {
      "text/plain": [
       "12"
      ]
     },
     "execution_count": 42,
     "metadata": {},
     "output_type": "execute_result"
    }
   ],
   "source": [
    "rob(nums)"
   ]
  },
  {
   "cell_type": "markdown",
   "metadata": {},
   "source": [
    "### 206. Reverse Linked List 反转链表\n",
    "```\n",
    "Input: 1->2->3->4->5->NULL\n",
    "Output: 5->4->3->2->1->NULL\n",
    "```"
   ]
  },
  {
   "cell_type": "code",
   "execution_count": 44,
   "metadata": {
    "collapsed": true
   },
   "outputs": [],
   "source": [
    "class LinkNode:\n",
    "    def __init__(self,x):\n",
    "        self.val = val\n",
    "        self.next = None "
   ]
  },
  {
   "cell_type": "code",
   "execution_count": 45,
   "metadata": {
    "collapsed": true
   },
   "outputs": [],
   "source": [
    "def reverse_list(head):\n",
    "    if not head :\n",
    "        return None  \n",
    "    new_head = None # 作为最后一个元素的next\n",
    "    while head:\n",
    "        temp = head \n",
    "        head = head.next \n",
    "        temp.next = new_head\n",
    "        new_head = temp\n",
    "    return new_head"
   ]
  },
  {
   "cell_type": "markdown",
   "metadata": {},
   "source": [
    "### 226. Invert Binary Tree\n",
    "```\n",
    "before:\n",
    "     4\n",
    "   /   \\\n",
    "  2     7\n",
    " / \\   / \\ \n",
    "1   3 6   9\n",
    "\n",
    "after:\n",
    "     4\n",
    "   /   \\\n",
    "  7     2\n",
    " / \\   / \\\n",
    "9   6 3   1\n",
    "```"
   ]
  },
  {
   "cell_type": "code",
   "execution_count": null,
   "metadata": {
    "collapsed": true
   },
   "outputs": [],
   "source": [
    "class TreeNode:\n",
    "    def __init__(self,val):\n",
    "        self.val = val\n",
    "        self.left = None \n",
    "        self.right = None \n",
    "def invert_binary_tree(root):\n",
    "    if not root :\n",
    "        return \n",
    "    if root.left:\n",
    "        invert_binary_tree(root.left)\n",
    "    if root.right:\n",
    "        invert_binary_tree(root.right)\n",
    "    root.left , root.right = root.right , root.left \n",
    "    return root \n",
    "    "
   ]
  },
  {
   "cell_type": "markdown",
   "metadata": {},
   "source": [
    "### 234. Palindrome Linked List\n",
    "判断一个链表是否是回文，用 O(1) 空间复杂度解决\n",
    "```\n",
    "Example 1:\n",
    "Input: 1->2\n",
    "Output: false\n",
    "\n",
    "Example 2:\n",
    "Input: 1->2->2->1\n",
    "Output: true\n",
    "\n",
    "```"
   ]
  },
  {
   "cell_type": "code",
   "execution_count": 50,
   "metadata": {},
   "outputs": [],
   "source": [
    "def palindrome_list(head):\n",
    "    \"\"\"\n",
    "    快慢指针 + 反转链表\n",
    "    \"\"\"\n",
    "    slow = fast = head \n",
    "    \n",
    "    #find the middle \n",
    "    while fast and fast.next :\n",
    "        fast = fast.next.next \n",
    "        slow = slow.next \n",
    "    \n",
    "    # reverse the second half \n",
    "    new = None \n",
    "    while slow :\n",
    "        temp = slow \n",
    "        slow = slow.next\n",
    "        temp.next = new\n",
    "        new = temp \n",
    "    # compare the two half \n",
    "    while head :\n",
    "        if head.val != new.val :\n",
    "            return False \n",
    "        head = head.next \n",
    "        new = new.next\n",
    "    return True \n",
    "    "
   ]
  },
  {
   "cell_type": "markdown",
   "metadata": {},
   "source": [
    "### 283. Move Zeroes\n",
    "将数组中的0元素移至最后，其他元素顺序不变\n",
    "```\n",
    "Input: [0,1,0,3,12]\n",
    "Output: [1,3,12,0,0]\n",
    "```"
   ]
  },
  {
   "cell_type": "code",
   "execution_count": 58,
   "metadata": {},
   "outputs": [],
   "source": [
    "def move_zeros(nums):\n",
    "    # mark the '0' position \n",
    "    zero = 0 \n",
    "    \n",
    "    # repalce the '0' element  ,zero 始终记录着0的位置， \n",
    "    \n",
    "    for i in range(len(nums)):\n",
    "        if i != 0 :\n",
    "            nums[i] , nums[zero] = nums[zero] , nums[i]\n",
    "            zero += 1 "
   ]
  },
  {
   "cell_type": "code",
   "execution_count": 59,
   "metadata": {},
   "outputs": [
    {
     "data": {
      "text/plain": [
       "[1, 0, 3, 12, 0]"
      ]
     },
     "execution_count": 59,
     "metadata": {},
     "output_type": "execute_result"
    }
   ],
   "source": [
    "nums = [0,1,0,3,12]\n",
    "move_zeros(nums)\n",
    "nums"
   ]
  },
  {
   "cell_type": "markdown",
   "metadata": {},
   "source": [
    "### 437. Path Sum III\n",
    "a binary tree in which each node contains an integer value.The path does not need to start or end at the root or a leaf, but it must go downwards (traveling only from parent nodes to child nodes).\n",
    "```\n",
    "root = [10,5,-3,3,2,null,11,3,-2,null,1], sum = 8\n",
    "\n",
    "      10\n",
    "     /  \\\n",
    "    5   -3\n",
    "   / \\    \\\n",
    "  3   2   11\n",
    " / \\   \\\n",
    "3  -2   1\n",
    "\n",
    "Return 3. The paths that sum to 8 are:\n",
    "\n",
    "1.  5 -> 3\n",
    "2.  5 -> 2 -> 1\n",
    "3. -3 -> 11\n",
    "```"
   ]
  },
  {
   "cell_type": "code",
   "execution_count": 60,
   "metadata": {},
   "outputs": [],
   "source": [
    "def path_sum(root , sum ) :\n",
    "    if not root :\n",
    "        return 0 \n",
    "    return path_find(root,sum) + path_find(root.left,sum) + path_find(root.right,sum) # 每个节点都需要重新算一遍\n",
    "\n",
    "def path_find(root , target):\n",
    "    if not root : # 此时的root有可能是叶子节点的left or right， 所以需要判断是否为空\n",
    "        return 0 \n",
    "    # 判断一条线下去所有可能性的加和\n",
    "    return int(root.val == target) + \\\n",
    "path_find(root.left , target-root.val)+ \\\n",
    "path_find(root.right , target-root.val)"
   ]
  },
  {
   "cell_type": "markdown",
   "metadata": {
    "collapsed": true
   },
   "source": [
    "### 438. Find All Anagrams in a String 找一个字符串中一个单词的所有同字母异序词\n",
    "Given a string s and a non-empty string p, find all the start indices of p's anagrams in s.\n",
    "```\n",
    "Example 1:\n",
    "\n",
    "Input:\n",
    "s: \"cbaebabacd\" p: \"abc\"\n",
    "\n",
    "Output:\n",
    "[0, 6]\n",
    "\n",
    "Explanation:\n",
    "The substring with start index = 0 is \"cba\", which is an anagram of \"abc\".\n",
    "The substring with start index = 6 is \"bac\", which is an anagram of \"abc\".\n",
    "\n",
    "Example 2:\n",
    "\n",
    "Input:\n",
    "s: \"abab\" p: \"ab\"\n",
    "\n",
    "Output:\n",
    "[0, 1, 2]\n",
    "\n",
    "Explanation:\n",
    "The substring with start index = 0 is \"ab\", which is an anagram of \"ab\".\n",
    "The substring with start index = 1 is \"ba\", which is an anagram of \"ab\".\n",
    "The substring with start index = 2 is \"ab\", which is an anagram of \"ab\".\n",
    "```"
   ]
  },
  {
   "cell_type": "code",
   "execution_count": 2,
   "metadata": {
    "collapsed": true
   },
   "outputs": [],
   "source": [
    "from collections import Counter\n",
    "def find_anagram(s,p):\n",
    "    res_list = []\n",
    "    for i in range(len(s) - len(p) +1 ):\n",
    "        if Counter(s[i:i+len(p)]) == Counter(p):\n",
    "            res_list.append(i)\n",
    "    return res_list "
   ]
  },
  {
   "cell_type": "markdown",
   "metadata": {},
   "source": [
    "### 448. Find All Numbers Disappeared in an Array\n",
    "Given an array of integers where 1 ≤ a[i] ≤ n (n = size of array), some elements appear twice and others appear once.\n",
    "\n",
    "Find all the elements of [1, n] inclusive that do not appear in this array.\n",
    "```\n",
    "Input:\n",
    "[4,3,2,7,8,2,3,1]\n",
    "\n",
    "Output:\n",
    "[5,6]\n",
    "```"
   ]
  },
  {
   "cell_type": "code",
   "execution_count": 3,
   "metadata": {
    "collapsed": true
   },
   "outputs": [],
   "source": [
    "def disappeared_array(nums):\n",
    "    l = [x for i in range(1 , len(nums)+1)]\n",
    "    return list( set(l) - set(nums))"
   ]
  },
  {
   "cell_type": "markdown",
   "metadata": {},
   "source": [
    "### 461. Hamming Distance\n",
    "The Hamming distance between two integers is the number of positions at which the corresponding bits are different.\n",
    "\n",
    "有几个二进制位不同就返回几"
   ]
  },
  {
   "cell_type": "code",
   "execution_count": null,
   "metadata": {
    "collapsed": true
   },
   "outputs": [],
   "source": [
    "def hamming_distance(a,b):\n",
    "    return bin(a^b).count('1')"
   ]
  },
  {
   "cell_type": "markdown",
   "metadata": {},
   "source": [
    "### 538. Convert BST to Greater Tree\n",
    "Given a Binary Search Tree (BST), convert it to a Greater Tree such that every key of the original BST is changed to the original key plus sum of all keys greater than the original key in BST.\n",
    "节点的原始值+比其大的所有节点的值之和 。 \n",
    "```\n",
    "Input: The root of a Binary Search Tree like this:\n",
    "              5\n",
    "            /   \\\n",
    "           2     13\n",
    "\n",
    "Output: The root of a Greater Tree like this:\n",
    "             18\n",
    "            /   \\\n",
    "          20     13 #20 = 2+5+13。\n",
    "```"
   ]
  },
  {
   "cell_type": "code",
   "execution_count": 6,
   "metadata": {
    "collapsed": true
   },
   "outputs": [],
   "source": [
    "def greater_tree(root):\n",
    "    sum_value = 0\n",
    "    \n",
    "    def visit(root):\n",
    "        if not root: return \n",
    "        \n",
    "        visit(root.right)\n",
    "        sum_value += root.val #此时的sum_value为当前节点右边所有节点的value之和\n",
    "        root.val = sum_value\n",
    "        visit(root.left)\n",
    "        return root  \n",
    "        \n",
    "    return visit(root)\n",
    "        \n",
    "            "
   ]
  },
  {
   "cell_type": "markdown",
   "metadata": {},
   "source": [
    "### 543. Diameter of Binary Tree\n",
    "Compute the length of the diameter of the tree. The diameter of a binary tree is the length of the longest path between any two nodes in a tree. This path may or may not pass through the root.\n",
    "```\n",
    "          1\n",
    "         / \\\n",
    "        2   3\n",
    "       / \\     \n",
    "      4   5    \n",
    "Return 3, which is the length of the path [4,2,1,3] or [5,2,1,3].\n",
    "\n",
    "```"
   ]
  },
  {
   "cell_type": "code",
   "execution_count": 77,
   "metadata": {},
   "outputs": [],
   "source": [
    "\"\"\"\n",
    "树的最大直径 = max（左子树的高度 + 右子树的高度 + 1 ，\n",
    "    左子树中的最大直径，\n",
    "    右子树中的最大直径）\n",
    "树的高度 = max（左子树高度 ， 右子树高度 ） +1\n",
    "\"\"\"\n",
    "class Solution(object):\n",
    "    def diameterOfBinaryTree(self, root):\n",
    "        \"\"\"\n",
    "        :type root: TreeNode\n",
    "        :rtype: int\n",
    "        \"\"\"\n",
    "        if not root :\n",
    "            return 0 \n",
    "        return self.numofNode(root) -1 \n",
    "    \n",
    "    def numofNode(self, root):\n",
    "        if not root:\n",
    "            return 0 \n",
    "        return max(self.numofNode(root.left), \\\n",
    "                  self.numofNode(root.right),\\\n",
    "                  self.hight(root.left)+ self.hight(root.right)+1)\n",
    "    \n",
    "    def hight(self,root):\n",
    "        if not root:\n",
    "            return 0 \n",
    "        return max(self.hight(root.left)  , self.hight(root.right))+1"
   ]
  },
  {
   "cell_type": "code",
   "execution_count": 78,
   "metadata": {},
   "outputs": [],
   "source": [
    "t = TreeNode(1)\n",
    "t.left , t.right  = TreeNode(2),TreeNode(2)\n",
    "t.left.left , t.left.right , t.right.left , t.right.right = \\\n",
    "TreeNode(3),TreeNode(4),TreeNode(4),TreeNode(3)"
   ]
  },
  {
   "cell_type": "code",
   "execution_count": 80,
   "metadata": {},
   "outputs": [
    {
     "data": {
      "text/plain": [
       "4"
      ]
     },
     "execution_count": 80,
     "metadata": {},
     "output_type": "execute_result"
    }
   ],
   "source": [
    "s = Solution()\n",
    "s.diameterOfBinaryTree(t)"
   ]
  },
  {
   "cell_type": "markdown",
   "metadata": {},
   "source": [
    "### 581. Shortest Unsorted Continuous Subarray\n",
    "找到尚未排序的最短连续数组的长度\n",
    "```\n",
    "Input: [2, 6, 4, 8, 10, 9, 15]\n",
    "Output: 5\n",
    "Explanation: You need to sort [6, 4, 8, 10, 9] in ascending order to make the whole array sorted in ascending order.\n",
    "```"
   ]
  },
  {
   "cell_type": "code",
   "execution_count": 11,
   "metadata": {
    "collapsed": true
   },
   "outputs": [],
   "source": [
    "def unsoted_subarray(nums):\n",
    "    # 排序之后， 与原数组从两端进行比较， \n",
    "    nums_sorted = sorted(nums)\n",
    "    i , j = 0 , len(nums) -1 \n",
    "    \n",
    "    # 确定左端点\n",
    "    while i< len(nums) and nums[i] == nums_sorted[i]:\n",
    "        i += 1 \n",
    "    # 确定右端点\n",
    "    while j> 0 and nums[j] == nums_soted[j]:\n",
    "        j -=1 \n",
    "    \n",
    "    #i和j 不相交时，长度为 j-i+1 ， 相交时 为0 \n",
    "    return j-i+1 if j> i else 0 "
   ]
  },
  {
   "cell_type": "markdown",
   "metadata": {},
   "source": [
    "### 617. Merge Two Binary Trees\n",
    "将两颗二叉树合并， 如果同一个位置，两颗树都有值，则两值相加， 否则用原来不空的值代替\n",
    "```\n",
    "Input: \n",
    "\tTree 1                     Tree 2                  \n",
    "          1                         2                             \n",
    "         / \\                       / \\                            \n",
    "        3   2                     1   3                        \n",
    "       /                           \\   \\                      \n",
    "      5                             4   7                  \n",
    "Output: \n",
    "Merged tree:\n",
    "\t     3\n",
    "\t    / \\\n",
    "\t   4   5\n",
    "\t  / \\   \\ \n",
    "\t 5   4   7\n",
    "```"
   ]
  },
  {
   "cell_type": "code",
   "execution_count": 13,
   "metadata": {
    "collapsed": true
   },
   "outputs": [],
   "source": [
    "def merge_tree(t1, t2):\n",
    "    # 将树t2上的值加到树t1的值上 ， 最后返回t1\n",
    "    if not t2 : \n",
    "        return t1\n",
    "    if not t1 :\n",
    "        return t2\n",
    "    \n",
    "    t1.val += t2.val \n",
    "    t1.left = merge_tree(t1.left, t2.left)\n",
    "    t2.right = merge_tree(t1.right, t2.right)\n",
    "    \n",
    "    return t1 \n",
    "    "
   ]
  },
  {
   "cell_type": "markdown",
   "metadata": {
    "collapsed": true
   },
   "source": [
    "### 771. Jewels and Stones"
   ]
  },
  {
   "cell_type": "code",
   "execution_count": null,
   "metadata": {
    "collapsed": true
   },
   "outputs": [],
   "source": []
  },
  {
   "cell_type": "markdown",
   "metadata": {},
   "source": [
    "### 88. 合并两个有序数组"
   ]
  },
  {
   "cell_type": "code",
   "execution_count": 42,
   "metadata": {},
   "outputs": [],
   "source": [
    "def fun(nums1 , m , nums2 , n):\n",
    "    for j in range(n):\n",
    "        i = 0\n",
    "        while i <  m +j :\n",
    "            if nums2[j] > nums1[i]:\n",
    "                i = i+1 \n",
    "            else:\n",
    "                for _ in range(m+j-1, i-1, -1):\n",
    "                    nums1[i+1] = nums1[i]\n",
    "                nums1[i] = nums2[j]\n",
    "                break"
   ]
  },
  {
   "cell_type": "code",
   "execution_count": 43,
   "metadata": {},
   "outputs": [],
   "source": [
    "nums1 = [1,2,3,0,0,0]\n",
    "m = 3\n",
    "nums2 = [2,5,6]\n",
    "n = 3"
   ]
  },
  {
   "cell_type": "code",
   "execution_count": 44,
   "metadata": {},
   "outputs": [],
   "source": [
    "fun(nums1, m , nums2, n)"
   ]
  },
  {
   "cell_type": "code",
   "execution_count": null,
   "metadata": {},
   "outputs": [],
   "source": []
  },
  {
   "cell_type": "code",
   "execution_count": null,
   "metadata": {},
   "outputs": [],
   "source": []
  }
 ],
 "metadata": {
  "kernelspec": {
   "display_name": "Python 3",
   "language": "python",
   "name": "python3"
  },
  "language_info": {
   "codemirror_mode": {
    "name": "ipython",
    "version": 3
   },
   "file_extension": ".py",
   "mimetype": "text/x-python",
   "name": "python",
   "nbconvert_exporter": "python",
   "pygments_lexer": "ipython3",
   "version": "3.7.3"
  }
 },
 "nbformat": 4,
 "nbformat_minor": 2
}
