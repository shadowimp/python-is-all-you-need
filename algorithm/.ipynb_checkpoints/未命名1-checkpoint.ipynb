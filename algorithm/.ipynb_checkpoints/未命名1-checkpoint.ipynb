{
 "cells": [
  {
   "cell_type": "code",
   "execution_count": 4,
   "metadata": {},
   "outputs": [
    {
     "ename": "TabError",
     "evalue": "inconsistent use of tabs and spaces in indentation (<ipython-input-4-f1f1af0b9e40>, line 15)",
     "output_type": "error",
     "traceback": [
      "\u001b[0;36m  File \u001b[0;32m\"<ipython-input-4-f1f1af0b9e40>\"\u001b[0;36m, line \u001b[0;32m15\u001b[0m\n\u001b[0;31m    for i in range(len(res_list) - 1):\u001b[0m\n\u001b[0m                                      ^\u001b[0m\n\u001b[0;31mTabError\u001b[0m\u001b[0;31m:\u001b[0m inconsistent use of tabs and spaces in indentation\n"
     ]
    }
   ],
   "source": [
    "def no_repeat_str(s):\n",
    "    '''找出来一个字符串中最长不重复子串'''\n",
    "    res_list = []\n",
    "    length = len(s)\n",
    "    for i in range(length):\n",
    "        tmp = s[i]\n",
    "        for j in range(i + 1, length):  # 遍历，不存在则拼接，已存在则打断循环\n",
    "            if s[j] not in tmp:\n",
    "                tmp += s[j]  \n",
    "            else:\n",
    "                break\n",
    "        res_list.append(tmp)  # 构造子串列表\n",
    "\t# 以下代码目的是取子串列表中长度最大的元素,方法很多，以下是两种思路：\n",
    "\t# 方法一（冒泡排序）：\n",
    "\tfor i in range(len(res_list) - 1):\n",
    "        for j in range(len(res_list) - i - 1):\n",
    "            if len(res_list[j]) > len(res_list[j + 1]):\n",
    "                res_list[j], res_list[j + 1] = res_list[j + 1], res_list[j]\n",
    "\n",
    "    return res_list[-1]"
   ]
  },
  {
   "cell_type": "code",
   "execution_count": null,
   "metadata": {},
   "outputs": [],
   "source": [
    "def p2(s):\n",
    "    if (len(s)<=1):\n",
    "        return len(s)\n",
    "\n",
    "    cur_str = [s[0]]\n",
    "    cur_len = max_len= 1\n",
    "\n",
    "    for i in range(1,len(s)):\n",
    "        if s[i] in cur_str:\n",
    "            cur_str = [s[i]] #有重复的字符了，重新更新\n",
    "            max_len = max(max_len, cur_len)\n",
    "            cur_len = 1\n",
    "        else:\n",
    "            cur_len = cur_len + 1  # 无重复的字符就加一\n",
    "            cur_str.append(s[i])\n",
    "            \n",
    "    max_len=max(max_len, cur_len) \n",
    "    return max_len\n",
    "\n",
    "print(p2(\"dvdfs\"))"
   ]
  },
  {
   "cell_type": "code",
   "execution_count": 10,
   "metadata": {},
   "outputs": [],
   "source": [
    "\n",
    "def p4( equation):\n",
    "    e=equation.replace('-x','-1x').replace(\"-\",\"+-\")\n",
    "    left,right=e.split('=')\n",
    "    xs,vs=0,0\n",
    "    for i,f in enumerate(e.split('=')):\n",
    "        if f[:1]!='+':f='+'+f\n",
    "        f=f.replace('+x','+1x')\n",
    "        for t in f.split('+'):\n",
    "            if len(t)==0:continue\n",
    "            if 'x' in t:\n",
    "                xs+=(1-2*i)*int(t[:len(t)-1])\n",
    "            else:\n",
    "                vs-=(1-2*i)*int(t)        \n",
    "    if xs!=0:return str(vs/xs)\n",
    "    if vs==0:return -1\n",
    "    return -1"
   ]
  },
  {
   "cell_type": "code",
   "execution_count": 18,
   "metadata": {},
   "outputs": [],
   "source": [
    "s= '2*X=6'"
   ]
  },
  {
   "cell_type": "code",
   "execution_count": 19,
   "metadata": {},
   "outputs": [],
   "source": [
    "s = s.replace('*','').replace('X','x')"
   ]
  },
  {
   "cell_type": "code",
   "execution_count": 20,
   "metadata": {},
   "outputs": [
    {
     "data": {
      "text/plain": [
       "'2x=6'"
      ]
     },
     "execution_count": 20,
     "metadata": {},
     "output_type": "execute_result"
    }
   ],
   "source": [
    "s"
   ]
  },
  {
   "cell_type": "code",
   "execution_count": 21,
   "metadata": {},
   "outputs": [
    {
     "data": {
      "text/plain": [
       "'3.0'"
      ]
     },
     "execution_count": 21,
     "metadata": {},
     "output_type": "execute_result"
    }
   ],
   "source": [
    "p4(s)"
   ]
  },
  {
   "cell_type": "code",
   "execution_count": null,
   "metadata": {},
   "outputs": [],
   "source": [
    "n = int(input())\n",
    "m = int(input())\n",
    "\n",
    "V = []\n",
    "V_index = []\n",
    "P = []\n",
    "P_index = []\n",
    "for i in range(m):\n",
    "    tmp = input()\n",
    "    tmp_type = tmp.split('_')[0]\n",
    "    tmp_index = int(tmp.split('_')[1])\n",
    "    if tmp_type == 'V':\n",
    "        V.append(tmp)\n",
    "        V_index.append(tmp_index)\n",
    "    else:\n",
    "        P.append(tmp)\n",
    "        P_index.append(tmp_index)\n",
    "res = []\n",
    "v_cnt = 0\n",
    "p_cnt = 0\n",
    "for i in range(len(V)):\n",
    "    res.append(V[i])\n",
    "    v_cnt += 1\n",
    "    if v_cnt >= n:\n",
    "        v = V_index[i]\n",
    "        p = V_index[p_cnt]\n",
    "        if p <= v:\n",
    "            p_cnt += 1\n",
    "            res.append(P[p])\n",
    "            v_cnt = 0\n",
    "\n",
    "print(len(res))\n",
    "for tmp_res in res:\n",
    "    print(tmp_res)"
   ]
  },
  {
   "cell_type": "code",
   "execution_count": 22,
   "metadata": {},
   "outputs": [
    {
     "name": "stdout",
     "output_type": "stream",
     "text": [
      "11\n",
      "12\n",
      "13\n",
      "14\n",
      "15\n"
     ]
    }
   ],
   "source": [
    "\n",
    "for i in range(11,16):\n",
    "    print(i)"
   ]
  },
  {
   "cell_type": "code",
   "execution_count": 37,
   "metadata": {},
   "outputs": [],
   "source": [
    "def p4( equation):        \n",
    "    num_of_x = 0\n",
    "    num = 0\n",
    "    pointer = 0\n",
    "    operation = None\n",
    "    first_part = True\n",
    "    while pointer < len(equation):\n",
    "        char = equation[pointer]\n",
    "        if char == '-' or char == '+':\n",
    "            operation = char\n",
    "        elif char == '=':\n",
    "            first_part = False\n",
    "        elif char == 'x':\n",
    "            num_of_x += 1 if ((first_part and (operation is\n",
    "                                               None or operation == '+')) or (not first_part and operation == '-')) else -1\n",
    "            operation = None\n",
    "        else:\n",
    "            number = ord(char) - ord('0')\n",
    "            while pointer + 1 < len(equation) and 0 <= ord(equation[pointer+1]) - ord('0') <= 9:\n",
    "                number = 10*number + ord(equation[pointer+1]) - ord('0')\n",
    "                pointer += 1\n",
    "            if pointer < len(equation)-1 and equation[pointer+1] == 'x':\n",
    "                pointer += 1\n",
    "                num_of_x += number if ((first_part and (operation is\n",
    "                                                        None or operation == '+')) or (not first_part and operation == '-')) else -number\n",
    "                operation = None\n",
    "            else:\n",
    "                num += number if ((first_part and (operation is\n",
    "                                                   None or operation == '+')) or (not first_part and operation == '-')) else -number\n",
    "                operation = None\n",
    "        pointer += 1\n",
    "    if num_of_x == num == 0:\n",
    "        return \"Infinite solutions\"\n",
    "    elif num_of_x == 0 and num != 0:\n",
    "        return -1\n",
    "    else:\n",
    "        return \"x=\"+str(int(num/-num_of_x))"
   ]
  },
  {
   "cell_type": "code",
   "execution_count": 38,
   "metadata": {},
   "outputs": [],
   "source": [
    "s = '2*X=6'\n",
    "s = s.replace('*','').replace('X','x')"
   ]
  },
  {
   "cell_type": "code",
   "execution_count": 39,
   "metadata": {},
   "outputs": [
    {
     "data": {
      "text/plain": [
       "'2x=6'"
      ]
     },
     "execution_count": 39,
     "metadata": {},
     "output_type": "execute_result"
    }
   ],
   "source": [
    "s"
   ]
  },
  {
   "cell_type": "code",
   "execution_count": 40,
   "metadata": {},
   "outputs": [
    {
     "data": {
      "text/plain": [
       "3"
      ]
     },
     "execution_count": 40,
     "metadata": {},
     "output_type": "execute_result"
    }
   ],
   "source": [
    "p4(s)"
   ]
  },
  {
   "cell_type": "code",
   "execution_count": null,
   "metadata": {},
   "outputs": [],
   "source": [
    "n = int(input())\n",
    "m = int(input())\n"
   ]
  },
  {
   "cell_type": "code",
   "execution_count": 41,
   "metadata": {},
   "outputs": [
    {
     "ename": "ValueError",
     "evalue": "not enough values to unpack (expected 2, got 0)",
     "output_type": "error",
     "traceback": [
      "\u001b[0;31m---------------------------------------------------------------------------\u001b[0m",
      "\u001b[0;31mValueError\u001b[0m                                Traceback (most recent call last)",
      "\u001b[0;32m<ipython-input-41-9bb259e72746>\u001b[0m in \u001b[0;36m<module>\u001b[0;34m\u001b[0m\n\u001b[0;32m----> 1\u001b[0;31m \u001b[0mres\u001b[0m \u001b[0;34m=\u001b[0m \u001b[0;34m[\u001b[0m\u001b[0;34m]\u001b[0m \u001b[0;34m,\u001b[0m \u001b[0mv\u001b[0m \u001b[0;34m=\u001b[0m \u001b[0;34m[\u001b[0m\u001b[0;34m]\u001b[0m \u001b[0;34m,\u001b[0m \u001b[0mp\u001b[0m\u001b[0;34m=\u001b[0m\u001b[0;34m[\u001b[0m\u001b[0;34m]\u001b[0m\u001b[0;34m\u001b[0m\u001b[0;34m\u001b[0m\u001b[0m\n\u001b[0m",
      "\u001b[0;31mValueError\u001b[0m: not enough values to unpack (expected 2, got 0)"
     ]
    }
   ],
   "source": [
    "res = [] , v = [] , p=[]"
   ]
  },
  {
   "cell_type": "code",
   "execution_count": null,
   "metadata": {},
   "outputs": [],
   "source": [
    "flag = False \n",
    "for i in range(m):\n",
    "    s = input()\n",
    "    if flag:\n",
    "        if s.startswith('p'):\n",
    "            p.append(s)\n",
    "        else:\n",
    "            v.append(s)\n",
    "    else:\n",
    "        if s.startswith('p'):\n",
    "            flag = True\n",
    "        res.append(s)\n",
    "def p1(res,v,p):\n",
    "    while v and p :\n",
    "        while cnt > 0 :\n",
    "            if v :\n",
    "                res.append(v.pip(0))\n",
    "                cnt -= 1\n",
    "            else:\n",
    "                if cnt > 0 :\n",
    "                    return res \n",
    "                if cnt == 0:\n",
    "                    res.append(p.pop(0))\n",
    "                    return res\n",
    "        res.append(p.pop(0))\n",
    "    return res \n",
    "res = p1(res,v,p)\n",
    "print(len(res))\n",
    "for c in res:\n",
    "    print(c)"
   ]
  },
  {
   "cell_type": "code",
   "execution_count": null,
   "metadata": {},
   "outputs": [],
   "source": [
    "n = int(input())\n",
    "m = int(input())\n",
    "res = []; v =[]; p =[]\n",
    "flag = False\n",
    "for _ in range(m):\n",
    "    s = input()\n",
    "    if n == 1:\n",
    "        res.append(s)\n",
    "    else:\n",
    "        if flag:\n",
    "            if s.startswith('P'):\n",
    "                p.append(s)\n",
    "            else:\n",
    "                v.append(s)\n",
    "        else:\n",
    "            if s.startswith('P'):\n",
    "                flag = True\n",
    "            res.append(s)\n",
    "def get_res(res, v, p):\n",
    "    if n == 1:\n",
    "        return res\n",
    "    while v and p:\n",
    "        cnt = n-1\n",
    "        while cnt > 0:\n",
    "            if v:\n",
    "                res.append(v.pop(0))\n",
    "                cnt -= 1\n",
    "            else:\n",
    "                if cnt > 0:\n",
    "                    return res\n",
    "                if cnt == 0:\n",
    "                    res.append(p.pop(0))\n",
    "                    return res\n",
    "        res.append(p.pop(0))\n",
    "    return res\n",
    "res = get_res(res, v, p)\n",
    "print(len(res))\n",
    "for s in res:\n",
    "    print(s)"
   ]
  },
  {
   "cell_type": "code",
   "execution_count": null,
   "metadata": {},
   "outputs": [],
   "source": [
    "\n",
    "\n",
    "while True:\n",
    "    try:\n",
    "        s = input().strip()\n",
    "        \n",
    "        def solve(eq, var='X'):\n",
    "            eqi = eq.replace('=', '-(') + ')'\n",
    "            c = eval(eqi, {var: 1j})\n",
    "            return -c.real / c.imag if c.imag else -1\n",
    "        print(int(solve(s)))\n",
    "    except:\n",
    "        break"
   ]
  }
 ],
 "metadata": {
  "kernelspec": {
   "display_name": "Python 3",
   "language": "python",
   "name": "python3"
  },
  "language_info": {
   "codemirror_mode": {
    "name": "ipython",
    "version": 3
   },
   "file_extension": ".py",
   "mimetype": "text/x-python",
   "name": "python",
   "nbconvert_exporter": "python",
   "pygments_lexer": "ipython3",
   "version": "3.7.3"
  }
 },
 "nbformat": 4,
 "nbformat_minor": 2
}
