{
 "cells": [
  {
   "cell_type": "code",
   "execution_count": 22,
   "metadata": {},
   "outputs": [],
   "source": [
    "# def listnode \n",
    "class ListNode:\n",
    "    def __init__(self,val=0,next=None ):\n",
    "        self.val = val \n",
    "        self.next = next \n"
   ]
  },
  {
   "cell_type": "code",
   "execution_count": 24,
   "metadata": {},
   "outputs": [
    {
     "name": "stdout",
     "output_type": "stream",
     "text": [
      "0\n",
      "1\n",
      "2\n"
     ]
    }
   ],
   "source": [
    "l = ListNode(0)\n",
    "l1 = ListNode(1)\n",
    "l.next = l1\n",
    "l2 = ListNode(2)\n",
    "l1.next = l2\n",
    "\n",
    "print(l.val)\n",
    "print(l.next.val)\n",
    "print(l.next.next.val) \n"
   ]
  },
  {
   "cell_type": "code",
   "execution_count": 14,
   "metadata": {},
   "outputs": [],
   "source": [
    "class Node:\n",
    "    def __init__(self,val):\n",
    "        self.val = val\n",
    "        self.next = None\n",
    "\n",
    "class LinkList:\n",
    "    def __init__(self):\n",
    "        self.head = None\n",
    "        \n",
    "    def is_empty(self):\n",
    "        if not self.head:\n",
    "            return True\n",
    "        else:\n",
    "            return False\n",
    "    \n",
    "    def traversal(self):\n",
    "        temp = head.next\n",
    "        while temp is not None:\n",
    "            print(temp.val)\n",
    "            temp = temp.next\n",
    "    \n",
    "    def insert_tail(self,item):\n",
    "        if self.head is None:\n",
    "            self.head = Node(item)\n",
    "        temp = self.head\n",
    "        while temp.next :\n",
    "            temp = temp.next\n",
    "        t = Node(item)\n",
    "        temp.next = t\n",
    "    \n",
    "    def insert_head(self,item):\n",
    "        if self.head is None:\n",
    "            self.head = Node(item)\n",
    "        h = Node(item)\n",
    "        h.next = self.head \n",
    "        self.head = h\n",
    "    \n",
    "    def delete_tail(self):\n",
    "        if not self.head :\n",
    "            return \n",
    "        if not self.head.next :\n",
    "            data= self.head.val\n",
    "            self.head = None\n",
    "            return data\n",
    "        temp = self.head \n",
    "        while temp.next :\n",
    "            temp = temp.next\n",
    "        temp.next = None       "
   ]
  },
  {
   "cell_type": "markdown",
   "metadata": {},
   "source": [
    "### 数组转链表"
   ]
  },
  {
   "cell_type": "code",
   "execution_count": 25,
   "metadata": {},
   "outputs": [],
   "source": [
    "def set_linklist(nums):\n",
    "    if not nums:\n",
    "        return None\n",
    "    head = ListNode(nums[0])\n",
    "    cur_node = head\n",
    "    for num in nums[1:]:\n",
    "        cur_node.next = ListNode(num)\n",
    "        cur_node = cur_node.next\n",
    "    return head\n"
   ]
  },
  {
   "cell_type": "code",
   "execution_count": 26,
   "metadata": {},
   "outputs": [
    {
     "name": "stdout",
     "output_type": "stream",
     "text": [
      "1 2\n"
     ]
    }
   ],
   "source": [
    "l = set_linklist([1,2,4])\n",
    "print(l.val, l.next.val)"
   ]
  },
  {
   "cell_type": "markdown",
   "metadata": {},
   "source": [
    "### 16 反转链表"
   ]
  },
  {
   "cell_type": "code",
   "execution_count": 20,
   "metadata": {},
   "outputs": [],
   "source": [
    "# 反转链表 \n",
    "def reverseList( head):\n",
    "    new_head = None\n",
    "    # head = head.next \n",
    "    while head:\n",
    "        tmp = head\n",
    "        head = head.next \n",
    "        tmp.next = new_head\n",
    "        new_head  = tmp\n",
    "        print(new_head.val)\n",
    "    return new_head"
   ]
  },
  {
   "cell_type": "code",
   "execution_count": 6,
   "metadata": {},
   "outputs": [
    {
     "name": "stdout",
     "output_type": "stream",
     "text": [
      "0\n",
      "1\n",
      "2\n"
     ]
    }
   ],
   "source": [
    "r = reverseList(l)"
   ]
  },
  {
   "cell_type": "code",
   "execution_count": 82,
   "metadata": {},
   "outputs": [
    {
     "name": "stdout",
     "output_type": "stream",
     "text": [
      "2\n",
      "1\n",
      "0\n"
     ]
    },
    {
     "ename": "AttributeError",
     "evalue": "'NoneType' object has no attribute 'val'",
     "output_type": "error",
     "traceback": [
      "\u001b[0;31m---------------------------------------------------------------------------\u001b[0m",
      "\u001b[0;31mAttributeError\u001b[0m                            Traceback (most recent call last)",
      "Cell \u001b[0;32mIn[82], line 4\u001b[0m\n\u001b[1;32m      2\u001b[0m \u001b[38;5;28mprint\u001b[39m(r\u001b[38;5;241m.\u001b[39mnext\u001b[38;5;241m.\u001b[39mval)\n\u001b[1;32m      3\u001b[0m \u001b[38;5;28mprint\u001b[39m(r\u001b[38;5;241m.\u001b[39mnext\u001b[38;5;241m.\u001b[39mnext\u001b[38;5;241m.\u001b[39mval)\n\u001b[0;32m----> 4\u001b[0m \u001b[38;5;28mprint\u001b[39m(\u001b[43mr\u001b[49m\u001b[38;5;241;43m.\u001b[39;49m\u001b[43mnext\u001b[49m\u001b[38;5;241;43m.\u001b[39;49m\u001b[43mnext\u001b[49m\u001b[38;5;241;43m.\u001b[39;49m\u001b[43mnext\u001b[49m\u001b[38;5;241;43m.\u001b[39;49m\u001b[43mval\u001b[49m)\n\u001b[1;32m      5\u001b[0m \u001b[38;5;28mprint\u001b[39m(r\u001b[38;5;241m.\u001b[39mnext\u001b[38;5;241m.\u001b[39mnext\u001b[38;5;241m.\u001b[39mnext\u001b[38;5;241m.\u001b[39mnext\u001b[38;5;241m.\u001b[39mnext\u001b[38;5;241m.\u001b[39mval)\n\u001b[1;32m      6\u001b[0m \u001b[38;5;28mprint\u001b[39m(r\u001b[38;5;241m.\u001b[39mnext\u001b[38;5;241m.\u001b[39mnext\u001b[38;5;241m.\u001b[39mnext\u001b[38;5;241m.\u001b[39mnext\u001b[38;5;241m.\u001b[39mnext\u001b[38;5;241m.\u001b[39mnext\u001b[38;5;241m.\u001b[39mval)\n",
      "\u001b[0;31mAttributeError\u001b[0m: 'NoneType' object has no attribute 'val'"
     ]
    }
   ],
   "source": [
    "print(r.val)\n",
    "print(r.next.val)\n",
    "print(r.next.next.val)\n",
    "print(r.next.next.next.val)\n",
    "print(r.next.next.next.next.next.val)\n",
    "print(r.next.next.next.next.next.next.val)"
   ]
  },
  {
   "cell_type": "code",
   "execution_count": 18,
   "metadata": {},
   "outputs": [],
   "source": [
    "class LinkNode:\n",
    "    def __init__(self,val):\n",
    "        self.val = val\n",
    "        self.next = None\n",
    "def linknode_reverse(head):\n",
    "    if not head :\n",
    "        return None\n",
    "    new_head = None # 这个None最后是 最后一个节点的next\n",
    "    while head :\n",
    "        temp = head\n",
    "        head = head.next\n",
    "        temp.next = new_head\n",
    "        new_head = temp\n",
    "    return new_head"
   ]
  },
  {
   "cell_type": "code",
   "execution_count": 19,
   "metadata": {},
   "outputs": [
    {
     "ename": "AttributeError",
     "evalue": "'NoneType' object has no attribute 'val'",
     "output_type": "error",
     "traceback": [
      "\u001b[0;31m---------------------------------------------------------------------------\u001b[0m",
      "\u001b[0;31mAttributeError\u001b[0m                            Traceback (most recent call last)",
      "Cell \u001b[0;32mIn[19], line 6\u001b[0m\n\u001b[1;32m      3\u001b[0m l1\u001b[38;5;241m.\u001b[39mnext\u001b[38;5;241m.\u001b[39mnext \u001b[38;5;241m=\u001b[39m LinkNode(\u001b[38;5;241m6\u001b[39m) \n\u001b[1;32m      5\u001b[0m l \u001b[38;5;241m=\u001b[39m linknode_reverse(l1)\n\u001b[0;32m----> 6\u001b[0m \u001b[43ml\u001b[49m\u001b[38;5;241;43m.\u001b[39;49m\u001b[43mnext\u001b[49m\u001b[38;5;241;43m.\u001b[39;49m\u001b[43mnext\u001b[49m\u001b[38;5;241;43m.\u001b[39;49m\u001b[43mnext\u001b[49m\u001b[38;5;241;43m.\u001b[39;49m\u001b[43mval\u001b[49m\n",
      "\u001b[0;31mAttributeError\u001b[0m: 'NoneType' object has no attribute 'val'"
     ]
    }
   ],
   "source": [
    "l1 = LinkNode(3)\n",
    "l1.next = LinkNode(4)\n",
    "l1.next.next = LinkNode(6) \n",
    "\n",
    "l = linknode_reverse(l1)\n",
    "l.next.next.next.val"
   ]
  },
  {
   "cell_type": "code",
   "execution_count": 21,
   "metadata": {},
   "outputs": [],
   "source": [
    "### 17 合并两个排序的链表\n",
    "def merge_linklist(l1, l2):\n",
    "    if not l1 :\n",
    "        return l2 \n",
    "    if not l2 :\n",
    "        return l1\n",
    "    new_head = l3 = LinkNode(0)\n",
    "    while l1 and l2:\n",
    "        if l1.val < l2.val:\n",
    "            l3.next = LinkNode(l1.val)\n",
    "            l3 = l3.next\n",
    "            l1 = l1.next\n",
    "        else:\n",
    "            l3.next = LinkNode(l2.val)\n",
    "            l3 = l3.next\n",
    "            l2 = l2.next\n",
    "    if l1:\n",
    "        l3.next = l1\n",
    "    if  l2:\n",
    "        l3.next = l2\n",
    "    return new_head.next\n"
   ]
  },
  {
   "cell_type": "code",
   "execution_count": null,
   "metadata": {},
   "outputs": [],
   "source": [
    "l1 = LinkNode(3)\n",
    "l1.next = LinkNode(4)\n",
    "l1.next.next = LinkNode(6) \n",
    "l2 = LinkNode(5)\n",
    "l3 = merge_linklist(l1,l2)"
   ]
  },
  {
   "cell_type": "code",
   "execution_count": null,
   "metadata": {},
   "outputs": [],
   "source": []
  },
  {
   "cell_type": "markdown",
   "metadata": {},
   "source": [
    "### 2. 两数相加\n",
    "```\n",
    "输入：(2 -> 4 -> 3) + (5 -> 6 -> 4)\n",
    "输出：7 -> 0 -> 8\n",
    "原因：342 + 465 = 807\n",
    "\n",
    "复杂度：O(n)\n",
    "2+5 = 0, 7 \n",
    "4+6 = 1, 0 \n",
    "3+4+1 = 8\n",
    "```"
   ]
  },
  {
   "cell_type": "code",
   "execution_count": 28,
   "metadata": {},
   "outputs": [],
   "source": [
    "class ListNode:\n",
    "\tdef __init__(self,x):\n",
    "\t\tself.val = x \n",
    "\t\tself.next = None "
   ]
  },
  {
   "cell_type": "code",
   "execution_count": null,
   "metadata": {},
   "outputs": [],
   "source": [
    "# Definition for singly-linked list.\n",
    "# class ListNode:\n",
    "#     def __init__(self, val=0, next=None):\n",
    "#         self.val = val\n",
    "#         self.next = next\n",
    "\n",
    "def addTwoNumbers(self,l1,l2):\n",
    "    s1 = ''\n",
    "    s2 = ''\n",
    "    while l1:\n",
    "        n1 = str(l1.val)\n",
    "        s1 = s1+n1\n",
    "        l1 = l1.next\n",
    "    while l2 :\n",
    "        n2 = str(l2.val)\n",
    "        s2 = s2+n2\n",
    "        l2 = l2.next \n",
    "    s = int(s1[::-1]) + int(s2[::-1])\n",
    "    s = str(s)[::-1]\n",
    "    new_head = ListNode(0)\n",
    "    temp_node = new_head\n",
    "    for c in s:\n",
    "        temp_node.next = ListNode(int(c))\n",
    "        temp_node = temp_node.next\n",
    "    return new_head.next "
   ]
  },
  {
   "cell_type": "code",
   "execution_count": null,
   "metadata": {},
   "outputs": [],
   "source": [
    "class Solution(object):\n",
    "    def addTwoNumbers(self, l1, l2):\n",
    "        \"\"\"\n",
    "        :type l1: ListNode\n",
    "        :type l2: ListNode\n",
    "        :rtype: ListNode\n",
    "        \"\"\"\n",
    "        carry = 0    # 进位符\n",
    "        root = n = ListNode(0)\n",
    "        while l1 or l2 or carry:\n",
    "        # 只要 l1 l2 都不为空才进行操作，否则直接返回 0\n",
    "            v1 = v2 = 0\n",
    "            if l1:\n",
    "                v1 = l1.val\n",
    "                l1 = l1.next\n",
    "            if l2:\n",
    "                v2 = l2.val\n",
    "                l2 = l2.next\n",
    "            carry, val = divmod(v1+v2+carry, 10)\n",
    "            n.next = ListNode(val)\n",
    "            n = n.next\n",
    "        return root.next   # 这步一定要仔细理解"
   ]
  },
  {
   "cell_type": "code",
   "execution_count": null,
   "metadata": {},
   "outputs": [],
   "source": [
    "l1 = ListNode(2)\n",
    "l1.next = ListNode(4)\n",
    "l1.next.next = ListNode(3)\n",
    "\n",
    "\n",
    "l2 = ListNode(5)\n",
    "l2.next = ListNode(6)\n",
    "l2.next.next = ListNode(4)\n",
    "\n",
    "S1 = Solution() \n",
    "print(S1.addTwoNumbers(l1,l2))"
   ]
  },
  {
   "cell_type": "markdown",
   "metadata": {},
   "source": [
    "### 21. Merge Two Sorted Lists  合并两个有序链表"
   ]
  },
  {
   "cell_type": "code",
   "execution_count": 30,
   "metadata": {},
   "outputs": [],
   "source": [
    "class LinkNode:\n",
    "    def __init__(self,x):\n",
    "        self.val = x\n",
    "        self.next = None\n",
    "\n",
    "def merge_list(l1,l2):\n",
    "    s = l = LinkNode(0) #初始化一个头节点， 最后返回头节点的next\n",
    "    while l1 and l2 :\n",
    "        if l1.val < l2.val:\n",
    "            l.next = LinkNode(l1.val)\n",
    "            l1 = l1.next \n",
    "        else:\n",
    "            l.next = LinkNode(l2.val)\n",
    "            l2 = l2.next \n",
    "        l = l.next \n",
    "    \n",
    "    while l1:\n",
    "        l.next = LinkNode(l1.val)\n",
    "        l = l.next \n",
    "        l1 = l1.next\n",
    "    while l2:\n",
    "        l.next = LinkNode(l2.val)\n",
    "        l = l.next \n",
    "        l2 = l2.next \n",
    "    return s.next \n"
   ]
  },
  {
   "cell_type": "code",
   "execution_count": 31,
   "metadata": {},
   "outputs": [
    {
     "data": {
      "text/plain": [
       "1"
      ]
     },
     "execution_count": 31,
     "metadata": {},
     "output_type": "execute_result"
    }
   ],
   "source": [
    "l1 = LinkNode(1)\n",
    "l1.next = LinkNode(4)\n",
    "l2 = LinkNode(2)\n",
    "l2.next = LinkNode(3)\n",
    "\n",
    "merge_list(l1,l2).val"
   ]
  }
 ],
 "metadata": {
  "kernelspec": {
   "display_name": "Python 3",
   "language": "python",
   "name": "python3"
  },
  "language_info": {
   "codemirror_mode": {
    "name": "ipython",
    "version": 3
   },
   "file_extension": ".py",
   "mimetype": "text/x-python",
   "name": "python",
   "nbconvert_exporter": "python",
   "pygments_lexer": "ipython3",
   "version": "3.8.2"
  }
 },
 "nbformat": 4,
 "nbformat_minor": 2
}
