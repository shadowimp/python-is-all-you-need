{
 "cells": [
  {
   "cell_type": "markdown",
   "metadata": {},
   "source": [
    "### 找数组中第k大的数\n",
    "```\n",
    "维护一个k大的最小堆，堆中是数组中最大的k个数。\n",
    "第一个元素（nums[0])是堆顶元素\n",
    "```"
   ]
  },
  {
   "cell_type": "code",
   "execution_count": 1,
   "metadata": {},
   "outputs": [],
   "source": [
    "import heapq\n",
    "def kthLargestElement( k, nums):\n",
    "    if len(nums) <k :\n",
    "        return \n",
    "    nums_k = nums[0:k] \n",
    "    heapq.heapify(nums_k)\n",
    "    for num in nums[k : len(nums) ]:\n",
    "        item = max(num , heapq.heappop(nums_k))\n",
    "        heapq.heappush(nums_k,item)\n",
    "    return nums_k[0]"
   ]
  },
  {
   "cell_type": "code",
   "execution_count": null,
   "metadata": {},
   "outputs": [],
   "source": [
    "import heapq\n",
    "def topk(nums,k):\n",
    "    if len(nums) < k:\n",
    "        return\n",
    "    nums_k = nums[0:k]\n",
    "    heapq.heapify(nums_k)\n",
    "    for num in nums[k:len(nums)]:\n",
    "        item = max(num , heapq.heappop(nums_k))\n",
    "        heapq.heappush(nums_k , item)\n",
    "    return nums_k[0]"
   ]
  },
  {
   "cell_type": "code",
   "execution_count": 2,
   "metadata": {
    "scrolled": true
   },
   "outputs": [
    {
     "data": {
      "text/plain": [
       "4"
      ]
     },
     "execution_count": 2,
     "metadata": {},
     "output_type": "execute_result"
    }
   ],
   "source": [
    "k = 3\n",
    "nums = [9,3,2,4,8]\n",
    "kthLargestElement(k, nums)"
   ]
  },
  {
   "cell_type": "markdown",
   "metadata": {},
   "source": [
    "### 海量数据中取topk小的数\n",
    "```\n",
    "维护一个k大的大顶堆\n",
    "新元素和堆顶元素比较，如果小于堆顶元素则入堆\n",
    "```"
   ]
  },
  {
   "cell_type": "code",
   "execution_count": 14,
   "metadata": {},
   "outputs": [],
   "source": [
    "class Solution:\n",
    "    def topK(self,nums,k):\n",
    "        if not nums or len(nums)<k :\n",
    "            return None \n",
    "        nums_k = nums[:k]\n",
    "        self.build_heap(nums_k)\n",
    "        for num in nums[k:]: \n",
    "            heap_top = nums_k[0]\n",
    "            if num < heap_top:\n",
    "                nums_k[0] = num\n",
    "                self.heapify(nums_k,0)\n",
    "        return nums_k\n",
    "    \n",
    "    def build_heap(self, arr):\n",
    "        for i in range((len(arr)//2)-1, -1, -1):\n",
    "            self.heapify(arr, i)\n",
    "    \n",
    "    def heapify(self, arr, index):\n",
    "        # 大顶堆\n",
    "        left = 2*index+1\n",
    "        right = 2*index+2\n",
    "        max_index = index\n",
    "        if (left < len(arr)) and (arr[left] > arr[max_index]):\n",
    "            max_index = left\n",
    "        if (right < len(arr)) and (arr[right] > arr[max_index]):\n",
    "            max_index = right\n",
    "        if max_index != index:\n",
    "            arr[index], arr[max_index] = arr[max_index], arr[index]\n",
    "            self.heapify(arr, max_index)"
   ]
  },
  {
   "cell_type": "code",
   "execution_count": 16,
   "metadata": {},
   "outputs": [
    {
     "data": {
      "text/plain": [
       "[3, 2]"
      ]
     },
     "execution_count": 16,
     "metadata": {},
     "output_type": "execute_result"
    }
   ],
   "source": [
    "nums = [3,4,6,7,5,10,100,2]\n",
    "k =2 \n",
    "s = Solution()\n",
    "s.topK(nums,k) "
   ]
  },
  {
   "cell_type": "markdown",
   "metadata": {},
   "source": [
    "### 调整数组顺序使奇数位于偶数前面"
   ]
  },
  {
   "cell_type": "code",
   "execution_count": 6,
   "metadata": {
    "scrolled": false
   },
   "outputs": [
    {
     "name": "stdout",
     "output_type": "stream",
     "text": [
      "a\n",
      "[1, 3, 2, 4]\n"
     ]
    }
   ],
   "source": [
    "def reOrderArray(nums):\n",
    "    left , right =  0  , len(nums)-1\n",
    "    while left < right:\n",
    "        if nums[left] %2 == 0 and nums[right] %2 ==1 :\n",
    "            nums[left] , nums[right] = nums[right] , nums[left]\n",
    "            left += 1\n",
    "            right -= 1\n",
    "        if nums[left] % 2 == 1:\n",
    "            left += 1\n",
    "        if nums[right] %2 == 0:\n",
    "            right -= 1\n",
    "    return nums\n",
    "\n",
    "print('a')\n",
    "print(reOrderArray([1,2,3,4]) )"
   ]
  },
  {
   "cell_type": "markdown",
   "metadata": {},
   "source": [
    "### 构建一个stack"
   ]
  },
  {
   "cell_type": "code",
   "execution_count": 7,
   "metadata": {},
   "outputs": [],
   "source": [
    "class Stack(object):\n",
    "    def __init__(self):\n",
    "        self._items=deque()\n",
    "    def push(self,value):\n",
    "        return self._items.append(value)\n",
    "    def pop(self):\n",
    "        return self._items.pop()\n",
    "    def empty(self):\n",
    "        return len(self._items)==0"
   ]
  },
  {
   "cell_type": "markdown",
   "metadata": {},
   "source": [
    "# 二叉树"
   ]
  },
  {
   "cell_type": "markdown",
   "metadata": {},
   "source": [
    "### 前序遍历(非递归）\n",
    "```\n",
    "从根节点开始，每次迭代弹出当前栈顶元素，并将其孩子节点压入栈中，\n",
    "先压右孩子 -> 再压左孩子。\n",
    "将出栈的元素依次append到 结果数组中。\n",
    "```"
   ]
  },
  {
   "cell_type": "code",
   "execution_count": 6,
   "metadata": {},
   "outputs": [],
   "source": [
    "def pre_order(root):\n",
    "    if not root:\n",
    "        return None \n",
    "    res = []\n",
    "    stack = []\n",
    "    stack.append(root)\n",
    "    while stack:\n",
    "        node = stack.pop()\n",
    "        res.append(node.val)\n",
    "        if root.right:\n",
    "            stack.append(root.right)\n",
    "        if root.left:\n",
    "            stack.append(root.left)\n",
    "    return res"
   ]
  },
  {
   "cell_type": "markdown",
   "metadata": {},
   "source": [
    "### 中序遍历(递归）"
   ]
  },
  {
   "cell_type": "code",
   "execution_count": 1,
   "metadata": {},
   "outputs": [],
   "source": [
    "def inorder(root):\n",
    "    if not root:\n",
    "        return []\n",
    "    left = inorder(root.left)\n",
    "    right = inorder(root.right)\n",
    "    return left + [root.val] + right "
   ]
  },
  {
   "cell_type": "markdown",
   "metadata": {},
   "source": [
    "### 中序遍历(非递归）"
   ]
  },
  {
   "cell_type": "code",
   "execution_count": null,
   "metadata": {},
   "outputs": [],
   "source": [
    "def inorder2(root):\n",
    "    if not root:\n",
    "        return None \n",
    "    res = []\n",
    "    stack = []\n",
    "    node = root\n",
    "    while stack and node:\n",
    "        if node:  # 节点存在 ， 将节点入栈， 遍历左孩子\n",
    "            stack.append(node)\n",
    "            node = node.left \n",
    "        else:  # 节点不存在，但是栈中有元素， 则出栈，输出当前元素的值，遍历右孩子\n",
    "            node = stack.pop()\n",
    "            res.append(node.val)\n",
    "            node = node.right \n",
    "    return res"
   ]
  },
  {
   "cell_type": "markdown",
   "metadata": {},
   "source": [
    "### 中序遍历(非递归）"
   ]
  },
  {
   "cell_type": "code",
   "execution_count": null,
   "metadata": {},
   "outputs": [],
   "source": [
    "def post_order(root):\n",
    "    if not root:\n",
    "        return None \n",
    "    node = root\n",
    "    stack , out_stack = [], []\n",
    "    while stack or node :\n",
    "        if node :\n",
    "            out_stack.append(node)\n",
    "            stack.append(node)\n",
    "            node = node.right\n",
    "        else:\n",
    "            node = stack"
   ]
  },
  {
   "cell_type": "markdown",
   "metadata": {},
   "source": [
    "### 后序遍历（递归）"
   ]
  },
  {
   "cell_type": "code",
   "execution_count": 8,
   "metadata": {},
   "outputs": [],
   "source": [
    "def post_order(root):\n",
    "    if not root :\n",
    "        return []\n",
    "    left = post_order(root.left)\n",
    "    right = post_order(root.right)\n",
    "    return left + right + [root.val]\n"
   ]
  },
  {
   "cell_type": "markdown",
   "metadata": {},
   "source": []
  },
  {
   "cell_type": "code",
   "execution_count": null,
   "metadata": {},
   "outputs": [],
   "source": []
  }
 ],
 "metadata": {
  "kernelspec": {
   "display_name": "Python 3",
   "language": "python",
   "name": "python3"
  },
  "language_info": {
   "codemirror_mode": {
    "name": "ipython",
    "version": 3
   },
   "file_extension": ".py",
   "mimetype": "text/x-python",
   "name": "python",
   "nbconvert_exporter": "python",
   "pygments_lexer": "ipython3",
   "version": "3.7.3"
  }
 },
 "nbformat": 4,
 "nbformat_minor": 2
}
