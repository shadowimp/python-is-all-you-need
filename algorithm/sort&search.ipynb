{
 "cells": [
  {
   "cell_type": "markdown",
   "metadata": {},
   "source": [
    "### 1.binary search"
   ]
  },
  {
   "cell_type": "code",
   "execution_count": 1,
   "metadata": {},
   "outputs": [],
   "source": [
    "def binary_search(nums, target) : \n",
    "    left , right = 0 , len(nums)-1 \n",
    "    #left == right时 就是数组中仅剩一个元素，mid==left==right 其必然被返回    \n",
    "    while left <= right :\n",
    "        mid = (left + right)//2 \n",
    "        if nums[mid] == target:\n",
    "            return mid\n",
    "        elif nums[mid] < target:\n",
    "            left = mid + 1 \n",
    "        else: \n",
    "            right = mid - 1 \n",
    "    return -1 "
   ]
  },
  {
   "cell_type": "code",
   "execution_count": 2,
   "metadata": {},
   "outputs": [
    {
     "data": {
      "text/plain": [
       "-1"
      ]
     },
     "execution_count": 2,
     "metadata": {},
     "output_type": "execute_result"
    }
   ],
   "source": [
    "binary_search( [1,2,4,7,8] , 9)"
   ]
  },
  {
   "cell_type": "markdown",
   "metadata": {},
   "source": [
    "### insert sort\n",
    "\n",
    "1. 待插入元素从后向前逐个比较  \n",
    "2. 如果比列表中的元素小，则序列中的元素后移一位\n",
    "3. 直到大于或等于序列中的前一个元素为止。"
   ]
  },
  {
   "cell_type": "code",
   "execution_count": 2,
   "metadata": {},
   "outputs": [],
   "source": [
    "def insert_sort(nums_list):\n",
    "    for j in range(len(nums_list)-1):\n",
    "        for i in range(len(nums_list)-1-j):\n",
    "            if nums_list[i] > nums_list[i+1]:\n",
    "                nums_list[i],nums_list[i+1] = nums_list[i+1],nums_list[i]\n",
    "    return nums_list"
   ]
  },
  {
   "cell_type": "code",
   "execution_count": 3,
   "metadata": {},
   "outputs": [
    {
     "data": {
      "text/plain": [
       "[3, 3, 5, 7, 22, 101]"
      ]
     },
     "execution_count": 3,
     "metadata": {},
     "output_type": "execute_result"
    }
   ],
   "source": [
    "nums_list = [101,3,5,7,22,3]\n",
    "insert_sort(nums_list)"
   ]
  },
  {
   "cell_type": "markdown",
   "metadata": {},
   "source": [
    "### 2.bubble sort"
   ]
  },
  {
   "cell_type": "code",
   "execution_count": 10,
   "metadata": {},
   "outputs": [
    {
     "name": "stdout",
     "output_type": "stream",
     "text": [
      "[6, 5, 3, 2, 7, 1, 8]\n",
      "[5, 3, 2, 6, 1, 7, 8]\n",
      "[3, 2, 5, 1, 6, 7, 8]\n",
      "[2, 3, 1, 5, 6, 7, 8]\n",
      "[2, 1, 3, 5, 6, 7, 8]\n",
      "[1, 2, 3, 5, 6, 7, 8]\n",
      "[1, 2, 3, 5, 6, 7, 8]\n",
      "[1]\n",
      "[]\n"
     ]
    }
   ],
   "source": [
    "def bubble_sort(nums): \n",
    "\tfor i in range(len(nums)-1): #并不需要n趟， 只需要n-1趟。 只剩一个元素的时候可以直接返回\n",
    "\t\tfor j in range(len(nums)-1-i):  #注意不要取nums[j+1]时下标不要超出范围\n",
    "\t\t\tif nums[j] > nums[j+1]:\n",
    "\t\t\t\tnums[j],nums[j+1] = nums[j+1],nums[j]\n",
    "\t\tprint(nums)\n",
    "\treturn nums \n",
    "\n",
    "\n",
    "a = [8,6,5,3,2,7,1]\n",
    "b = [1]\n",
    "c = []\n",
    "\n",
    "print(bubble_sort(a))\n",
    "print(bubble_sort(b))\n",
    "print(bubble_sort(c))\n",
    "\n"
   ]
  },
  {
   "cell_type": "code",
   "execution_count": 1,
   "metadata": {
    "collapsed": true
   },
   "outputs": [],
   "source": [
    "def bubble_sort(nums):\n",
    "    for j in range(0,len(nums)-1):\n",
    "        for i in range(0 ,len(nums)-1-j):\n",
    "            if nums[i] > nums[i+1]:\n",
    "                nums[i] , nums[i+1] = nums[i+1] , nums[i]\n",
    "    return nums"
   ]
  },
  {
   "cell_type": "code",
   "execution_count": 12,
   "metadata": {},
   "outputs": [
    {
     "data": {
      "text/plain": [
       "[1, 2, 2, 3, 4, 6, 6]"
      ]
     },
     "execution_count": 12,
     "metadata": {},
     "output_type": "execute_result"
    }
   ],
   "source": [
    "bubble_sort( [2,4,6,6,3,1,2])"
   ]
  },
  {
   "cell_type": "markdown",
   "metadata": {},
   "source": [
    "### 4.merge sort"
   ]
  },
  {
   "cell_type": "code",
   "execution_count": 81,
   "metadata": {
    "collapsed": true
   },
   "outputs": [],
   "source": [
    "def merge_sort(nums):\n",
    "    if len(nums) < 2 :\n",
    "        return nums\n",
    "    mid = len(nums)//2\n",
    "    return merge(merge_sort(nums[:mid]),  merge_sort(nums[mid:]) ) \n",
    "\n",
    "def merge(nums1 , nums2):\n",
    "    nums3 = []\n",
    "    i , j = 0 ,0 \n",
    "    while  i<len(nums1) and j<len(nums2) :\n",
    "        if nums1[i] < nums2[j]:\n",
    "            nums3.append(nums1[i])\n",
    "            i += 1 \n",
    "        else:\n",
    "            nums3.append(nums2[j])\n",
    "            j += 1 \n",
    "    if i < len(nums1):\n",
    "        nums3.extend(nums1[i:])\n",
    "        return nums3\n",
    "    if j < len(nums2):\n",
    "        nums3.extend(nums2[j:])\n",
    "    return nums3     "
   ]
  },
  {
   "cell_type": "code",
   "execution_count": 83,
   "metadata": {},
   "outputs": [
    {
     "data": {
      "text/plain": [
       "[1, 1, 2, 2, 2, 3, 4, 6, 6, 8]"
      ]
     },
     "execution_count": 83,
     "metadata": {},
     "output_type": "execute_result"
    }
   ],
   "source": [
    "merge_sort( [2,4,6,6,3,1,2,1,8,2])"
   ]
  },
  {
   "cell_type": "markdown",
   "metadata": {},
   "source": [
    "将一个大列表分成两个较小的子列表，然后分别对这两个子列表进行排序，最后再合并这两个排序后的子列表得到最终的排序结果。\n",
    "- 分解（Divide）：将问题划分成更小的子问题。在 merge sort 中，这个过程会一直持续到不能再分割（即每个子列表只包含一个元素）为止。\n",
    "- 解决（Conquer）：独立地解决每个小的子问题。在 merge sort 中，这一步是通过递归地对子列表进行 merge sort 来实现的。\n",
    "- 合并（Combine）：将这些子问题的解决方案合并为原始问题的解决方案。在 merge sort 中，最后的合并步骤是将已排序的子列表合并成一个有序的大列表"
   ]
  },
  {
   "cell_type": "code",
   "execution_count": 5,
   "metadata": {},
   "outputs": [],
   "source": [
    "def merge_sort(nums):\n",
    "    if len(nums) <2: \n",
    "        return nums\n",
    "    mid = len(nums)//2\n",
    "    nums1 = merge_sort(nums[:mid])  # 将数组不断地拆分，递归使函数从最底部一个元素的时候进行操作\n",
    "    nums2 = merge_sort(nums[mid:])\n",
    "    return merge(nums1,nums2)"
   ]
  },
  {
   "cell_type": "code",
   "execution_count": 4,
   "metadata": {},
   "outputs": [],
   "source": [
    "def merge(nums1,nums2):\n",
    "    \"\"\"\n",
    "    合并两个有序的数组，产生一个新的有序数组\n",
    "    \"\"\"\n",
    "    nums3 = []\n",
    "    i ,j = 0,0\n",
    "    while i < len(nums1) and j < len(nums2):\n",
    "        if nums1[i] < nums2[j]:\n",
    "            nums3.append(nums1[i])\n",
    "            i += 1\n",
    "        else:\n",
    "            nums3.append(nums2[j])\n",
    "            j += 1\n",
    "    nums3 += nums1[i:] #多余的元素直接加到结果的后面\n",
    "    nums3 += nums2[j:]\n",
    "    return nums3"
   ]
  },
  {
   "cell_type": "code",
   "execution_count": 6,
   "metadata": {},
   "outputs": [
    {
     "name": "stdout",
     "output_type": "stream",
     "text": [
      "[1, 2, 3, 4, 5, 6, 7, 8]\n"
     ]
    }
   ],
   "source": [
    "print(merge_sort([8,2,3,5,7,6,1,4]))"
   ]
  },
  {
   "cell_type": "markdown",
   "metadata": {},
   "source": [
    "### 5. quick sort"
   ]
  },
  {
   "cell_type": "code",
   "execution_count": 5,
   "metadata": {},
   "outputs": [
    {
     "data": {
      "text/plain": [
       "[1, 3, 4, 5, 6, 7]"
      ]
     },
     "execution_count": 5,
     "metadata": {},
     "output_type": "execute_result"
    }
   ],
   "source": [
    "def QuickSort(nums ,left,right):\n",
    "\tif left >=right :\n",
    "\t\treturn nums \n",
    "\titem = nums[left]\n",
    "\ti = left\n",
    "\tj = right  \n",
    "\twhile (i < j):\n",
    "\t\twhile(nums[j]>=item and i <j):\n",
    "\t\t\tj  = j -1 \n",
    "\t\twhile(nums[i]<=item and i <j):\n",
    "\t\t\ti = i + 1\n",
    "\t\tnums[i],nums[j] = nums[j],nums[i]\n",
    "\n",
    "\tnums[left] = nums[i]\n",
    "\tnums[i] = item\n",
    "\n",
    "\n",
    "\tQuickSort(nums,left,i-1)\n",
    "\tQuickSort(nums,i+1,right)\n",
    "\n",
    "\n",
    "A = [6,4,5,1,7,3]\n",
    "QuickSort (A,0,5)\n",
    "A"
   ]
  },
  {
   "cell_type": "code",
   "execution_count": 92,
   "metadata": {
    "collapsed": true
   },
   "outputs": [],
   "source": [
    "def quick_sort(nums):\n",
    "    if len(nums) <2 :\n",
    "        return nums\n",
    "    left = [num for num in nums if num<nums[0]]\n",
    "    right = [num for num in nums if num> nums[0]]\n",
    "    middle = [num for num in nums if num == nums[0]]\n",
    "    return quick_sort(left) + middle + quick_sort(right)"
   ]
  },
  {
   "cell_type": "code",
   "execution_count": 93,
   "metadata": {},
   "outputs": [
    {
     "data": {
      "text/plain": [
       "[2, 2, 3, 4, 6, 6]"
      ]
     },
     "execution_count": 93,
     "metadata": {},
     "output_type": "execute_result"
    }
   ],
   "source": [
    "quick_sort( [2,4,6,6,3,2])"
   ]
  },
  {
   "cell_type": "code",
   "execution_count": 5,
   "metadata": {},
   "outputs": [],
   "source": [
    "def quick_sort(nums):\n",
    "    if len(nums)< 2:\n",
    "        return nums\n",
    "    left = [num for num in nums if num< nums[0]]\n",
    "    right = [num for num in nums if num> nums[0]]\n",
    "    middle = [num for num in nums if num ==nums[0]]\n",
    "    return quick_sort(left) + middle + quick_sort(right)"
   ]
  },
  {
   "cell_type": "code",
   "execution_count": 6,
   "metadata": {},
   "outputs": [
    {
     "data": {
      "text/plain": [
       "[2, 2, 3, 4, 6, 6]"
      ]
     },
     "execution_count": 6,
     "metadata": {},
     "output_type": "execute_result"
    }
   ],
   "source": [
    "quick_sort( [2,4,6,6,3,2])"
   ]
  },
  {
   "cell_type": "markdown",
   "metadata": {},
   "source": [
    "### 6.select sort"
   ]
  },
  {
   "cell_type": "code",
   "execution_count": 153,
   "metadata": {
    "collapsed": true
   },
   "outputs": [],
   "source": [
    "def select_sort(nums):\n",
    "    for i in range(1,len(nums)):\n",
    "        max_index = 0\n",
    "        for j in range(1,len(nums)-i):  \n",
    "            if nums[j]> nums[max_index] :\n",
    "                max_index = j \n",
    "        nums[max_index] , nums[-i] = nums[-i] , nums[max_index]\n",
    "    return nums"
   ]
  },
  {
   "cell_type": "code",
   "execution_count": 154,
   "metadata": {},
   "outputs": [
    {
     "data": {
      "text/plain": [
       "[1, 2, 2, 3, 4, 6, 6]"
      ]
     },
     "execution_count": 154,
     "metadata": {},
     "output_type": "execute_result"
    }
   ],
   "source": [
    "select_sort([2,4,6,1,6,3,2])"
   ]
  },
  {
   "cell_type": "markdown",
   "metadata": {},
   "source": [
    "### 7.Insert sort"
   ]
  },
  {
   "cell_type": "code",
   "execution_count": 177,
   "metadata": {
    "collapsed": true
   },
   "outputs": [],
   "source": [
    "def insert_sort(nums):\n",
    "    for i in range(1,len(nums)):\n",
    "        j = i\n",
    "        while j > 0 and nums[j] < nums[j-1]:\n",
    "            nums[j] , nums[j-1] = nums[j-1] , nums[j]\n",
    "            j -= 1 \n",
    "    return nums       "
   ]
  },
  {
   "cell_type": "code",
   "execution_count": 178,
   "metadata": {},
   "outputs": [
    {
     "data": {
      "text/plain": [
       "[1, 2, 2, 3, 4, 6, 6]"
      ]
     },
     "execution_count": 178,
     "metadata": {},
     "output_type": "execute_result"
    }
   ],
   "source": [
    "insert_sort([2,4,6,1,6,3,2])"
   ]
  },
  {
   "cell_type": "markdown",
   "metadata": {},
   "source": [
    "### 8 heap sort\n",
    "```\n",
    "堆排序的方法如下，把最大堆堆顶的最大数取出，将剩余的堆继续调整为最大堆，再次将堆顶的最大数取出，这个过程持续到剩余数只有一个时结束。\n",
    "\n",
    "最大堆：\n",
    "-最大堆中的最大元素值出现在根结点（堆顶）\n",
    "-堆中每个父节点的元素值都大于等于其孩子结点\n",
    "\n",
    "```"
   ]
  },
  {
   "cell_type": "markdown",
   "metadata": {},
   "source": [
    "#### (1) 使用heapq 库函数"
   ]
  },
  {
   "cell_type": "code",
   "execution_count": 15,
   "metadata": {},
   "outputs": [],
   "source": [
    "import heapq\n",
    "def heap_sort(nums):\n",
    "    res = []\n",
    "    heapq.heapify(nums)\n",
    "    while nums:\n",
    "        item = heapq.heappop(nums)\n",
    "        res.append(item)\n",
    "    return res"
   ]
  },
  {
   "cell_type": "code",
   "execution_count": 16,
   "metadata": {},
   "outputs": [
    {
     "data": {
      "text/plain": [
       "[1, 2, 3, 3, 4, 5, 6, 8]"
      ]
     },
     "execution_count": 16,
     "metadata": {},
     "output_type": "execute_result"
    }
   ],
   "source": [
    "nums = [4,1,3,5,6,3,2,8]\n",
    "heap_sort(nums)"
   ]
  },
  {
   "cell_type": "markdown",
   "metadata": {},
   "source": [
    "#### （2） 自建堆"
   ]
  },
  {
   "cell_type": "code",
   "execution_count": 33,
   "metadata": {},
   "outputs": [],
   "source": [
    "def heapify(arr, index):\n",
    "    left = 2*index+1\n",
    "    right = 2*index+2\n",
    "    max_index = index\n",
    "    if (left < len(arr)) and (arr[left] > arr[max_index]):\n",
    "        max_index = left\n",
    "    if (right < len(arr)) and (arr[right] > arr[max_index]):\n",
    "        max_index = right\n",
    "    if max_index != index:\n",
    "        arr[index], arr[max_index] = arr[max_index], arr[index]\n",
    "        heapify(arr, max_index)\n",
    "\n",
    "def heap_sort(nums):\n",
    "    n = len(nums)\n",
    "    res = []\n",
    "    # 建堆\n",
    "    for i in range(n,-1,-1):\n",
    "        heapify(nums , i )\n",
    "\n",
    "    # 从堆顶取元素\n",
    "    for i in range(n-1, 0 ,-1):\n",
    "        nums[i] , nums[0] = nums[0] , nums[i]\n",
    "        heapify(nums, 0 ) "
   ]
  },
  {
   "cell_type": "code",
   "execution_count": 34,
   "metadata": {},
   "outputs": [
    {
     "data": {
      "text/plain": [
       "[8, 4, 6, 2, 3, 5, 3, 1]"
      ]
     },
     "execution_count": 34,
     "metadata": {},
     "output_type": "execute_result"
    }
   ],
   "source": [
    "nums = [4,1,3,5,6,3,2,8]\n",
    "heap_sort(nums)\n",
    "nums"
   ]
  },
  {
   "cell_type": "markdown",
   "metadata": {
    "collapsed": true
   },
   "source": [
    "### 9. linklist "
   ]
  },
  {
   "cell_type": "code",
   "execution_count": 180,
   "metadata": {},
   "outputs": [],
   "source": [
    "class Node:\n",
    "    def __init__(self,val):\n",
    "        self.val = val\n",
    "        self.next = None\n",
    "\n",
    "class LinkList:\n",
    "    def __init__(self):\n",
    "        self.head = None\n",
    "        \n",
    "    def is_empty(self):\n",
    "        if not self.head:\n",
    "            return True\n",
    "        else:\n",
    "            return False\n",
    "    \n",
    "    def traversal(self):\n",
    "        temp = head.next\n",
    "        while temp is not None:\n",
    "            print(temp.val)\n",
    "            temp = temp.next\n",
    "    \n",
    "    def insert_tail(self,item):\n",
    "        if self.head is None:\n",
    "            self.head = Node(item)\n",
    "        temp = self.head\n",
    "        while temp.next :\n",
    "            temp = temp.next\n",
    "        t = Node(item)\n",
    "        temp.next = t\n",
    "    \n",
    "    def insert_head(self,item):\n",
    "        if self.head is None:\n",
    "            self.head = Node(item)\n",
    "        h = Node(item)\n",
    "        h.next = self.head \n",
    "        self.head = h\n",
    "    \n",
    "    def delete_tail(self):\n",
    "        if not self.head :\n",
    "            return \n",
    "        if not self.head.next :\n",
    "            data= self.head.val\n",
    "            self.head = None\n",
    "            return data\n",
    "        temp = self.head \n",
    "        while temp.next :\n",
    "            temp = temp.next\n",
    "        temp.next = None       "
   ]
  },
  {
   "cell_type": "markdown",
   "metadata": {},
   "source": [
    "### bfs"
   ]
  },
  {
   "cell_type": "code",
   "execution_count": 6,
   "metadata": {},
   "outputs": [],
   "source": [
    "def bfs(name):\n",
    "\tsearch_queue = deque()\n",
    "\tsearch_queue += graph[name]\n",
    "\tsearched = []\n",
    "\twhile search_queue: \n",
    "\t\tperson = search_queue.popleft()\n",
    "\t\tif not person in searched:\n",
    "\t\t\tif person_is_seller(person):\n",
    "\t\t\t\tprint(person+\"is the right person\")\n",
    "\t\t\t\treturn True \n",
    "\t\t\telse: \n",
    "\t\t\t\tsearch_queue += graph[person]\n",
    "\t\t\t\tsearched.append(person)\n",
    "\treturn False\n"
   ]
  },
  {
   "cell_type": "markdown",
   "metadata": {},
   "source": [
    "### 字典"
   ]
  },
  {
   "cell_type": "code",
   "execution_count": 8,
   "metadata": {},
   "outputs": [
    {
     "name": "stdout",
     "output_type": "stream",
     "text": [
      "T\n",
      "N\n"
     ]
    }
   ],
   "source": [
    "voted = {}\n",
    "def check_voter(name):\n",
    "\tif voted.get(name):\n",
    "\t\tprint(\"N\")\n",
    "\telse :\n",
    "\t\tvoted[name] = True \n",
    "\t\tprint(\"T\")\n",
    "\n",
    "check_voter(\"tom\")\n",
    "check_voter(\"tom\")"
   ]
  },
  {
   "cell_type": "code",
   "execution_count": 13,
   "metadata": {},
   "outputs": [
    {
     "name": "stdout",
     "output_type": "stream",
     "text": [
      "0.7\n",
      "{'apple': 0.7, 'milk': 0.8}\n"
     ]
    }
   ],
   "source": [
    "book = dict()\n",
    "\n",
    "book[\"apple\"] = 0.7\n",
    "book[\"milk\"] = 0.8\n",
    "\n",
    "print(book[\"apple\"])\n",
    "print(book)"
   ]
  },
  {
   "cell_type": "code",
   "execution_count": 14,
   "metadata": {},
   "outputs": [
    {
     "name": "stdout",
     "output_type": "stream",
     "text": [
      "8\n",
      "99\n"
     ]
    }
   ],
   "source": [
    "def list_count(nums):\n",
    "\tif nums == []:\n",
    "\t\treturn 0\n",
    "\treturn list_count(nums[1:])+1\n",
    "\n",
    "def find_max(nums):\n",
    "\tif len(nums) == 1 :\n",
    "\t\treturn nums[0]\n",
    "\tmax = nums[1]\n",
    "\tif max < find_max(nums[1:]):\n",
    "\t\tmax = find_max(nums[1:])\n",
    "\treturn max \n",
    "\n",
    " \n",
    "A = [3,4,5,6,7,99,2,1]\n",
    "print(list_count(A))\n",
    "\n",
    "print(find_max(A))"
   ]
  },
  {
   "cell_type": "code",
   "execution_count": 16,
   "metadata": {},
   "outputs": [
    {
     "data": {
      "text/plain": [
       "[True, True, True]"
      ]
     },
     "execution_count": 16,
     "metadata": {},
     "output_type": "execute_result"
    }
   ],
   "source": []
  },
  {
   "cell_type": "code",
   "execution_count": null,
   "metadata": {},
   "outputs": [],
   "source": []
  }
 ],
 "metadata": {
  "kernelspec": {
   "display_name": "Python 3",
   "language": "python",
   "name": "python3"
  },
  "language_info": {
   "codemirror_mode": {
    "name": "ipython",
    "version": 3
   },
   "file_extension": ".py",
   "mimetype": "text/x-python",
   "name": "python",
   "nbconvert_exporter": "python",
   "pygments_lexer": "ipython3",
   "version": "3.8.2"
  }
 },
 "nbformat": 4,
 "nbformat_minor": 2
}
