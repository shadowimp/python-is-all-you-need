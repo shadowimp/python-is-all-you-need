{
 "cells": [
  {
   "cell_type": "markdown",
   "metadata": {},
   "source": [
    "### 二叉树前序遍历\n",
    "非递归:  \n",
    "先输出头节点 ， 将右孩子入栈, 头结点等于左孩子， node = node.left \n",
    "如果头节点的左孩子为空，，则 node = stack.pop()\n"
   ]
  },
  {
   "cell_type": "code",
   "execution_count": 28,
   "metadata": {},
   "outputs": [],
   "source": [
    "class TreeNode:\n",
    "    def __init__(self,val=0,left=None,right=None):\n",
    "        self.left = left\n",
    "        self.right = right "
   ]
  },
  {
   "cell_type": "code",
   "execution_count": 35,
   "metadata": {},
   "outputs": [],
   "source": [
    "# 前序遍历\n",
    "def pre_order(root_node):\n",
    "    if not root_node:\n",
    "        return []    \n",
    "    nums = []\n",
    "    nums.append(root_node.val)\n",
    "    nums.extend(pre_order(root_node.left))\n",
    "    nums.extend(pre_order(root_node.right))\n",
    "    return nums \n",
    "    "
   ]
  },
  {
   "cell_type": "code",
   "execution_count": 63,
   "metadata": {},
   "outputs": [],
   "source": [
    "# test \n",
    "root = TreeNode(1)\n",
    "root.left = TreeNode(2)\n",
    "root.right = TreeNode(3)\n",
    "root.left.left = TreeNode(4)\n",
    "root.left.right = TreeNode(5)\n",
    "root.left.left.left = TreeNode(6)\n",
    "root.left.left.left.right = TreeNode(7)\n"
   ]
  },
  {
   "cell_type": "code",
   "execution_count": 64,
   "metadata": {},
   "outputs": [
    {
     "data": {
      "text/plain": [
       "[1, 2, 4, 6, 7, 5, 3]"
      ]
     },
     "execution_count": 64,
     "metadata": {},
     "output_type": "execute_result"
    }
   ],
   "source": [
    "pre_order(root)"
   ]
  },
  {
   "cell_type": "code",
   "execution_count": 65,
   "metadata": {},
   "outputs": [],
   "source": [
    "# 非递归\n",
    "def pre_order_not_recur(root_node):\n",
    "    top_node = root_node\n",
    "    nums = []\n",
    "    stack = []\n",
    "    while top_node or stack:\n",
    "        if top_node:\n",
    "            nums.append(top_node.val)\n",
    "            if top_node.right:\n",
    "                stack.append(top_node.right)\n",
    "            top_node = top_node.left \n",
    "        else:\n",
    "            top_node = stack.pop()\n",
    "    return nums\n",
    "            \n",
    "\n"
   ]
  },
  {
   "cell_type": "code",
   "execution_count": 66,
   "metadata": {},
   "outputs": [
    {
     "data": {
      "text/plain": [
       "[1, 2, 4, 6, 7, 5, 3]"
      ]
     },
     "execution_count": 66,
     "metadata": {},
     "output_type": "execute_result"
    }
   ],
   "source": [
    "pre_order_not_recur(root)"
   ]
  },
  {
   "cell_type": "markdown",
   "metadata": {},
   "source": [
    "### 二叉树中序遍历  in-order \n",
    "\n",
    "递归：\n",
    "\n",
    "如果当前节点有值： 递归遍历左子树 + node.val  + 递归遍历右子树\n",
    "\n",
    "\n",
    "\n",
    "非递归:\n",
    "\n",
    "建立stack ， 遍历根节点， \n",
    "\n",
    "if 有left node ， 则将left node入栈， \n",
    "\n",
    "直到left node is None ， 将栈顶的元素pop ， 得到value\n",
    "\n",
    "将node 的right入栈。 以此类推。。"
   ]
  },
  {
   "cell_type": "code",
   "execution_count": 5,
   "metadata": {},
   "outputs": [],
   "source": [
    "class TreeNode:\n",
    "    def __init__(self, val=0 , left=None , right=None):\n",
    "        self.val = val\n",
    "        self.left = left\n",
    "        self.right = right "
   ]
  },
  {
   "cell_type": "code",
   "execution_count": 9,
   "metadata": {},
   "outputs": [],
   "source": [
    "def in_order(root):\n",
    "    nums = []\n",
    "    if not root:\n",
    "        return []\n",
    "    nums.extend(in_order(root.left))\n",
    "    nums.append(root.val)\n",
    "    nums.extend(in_order(root.right))\n",
    "    return nums\n",
    "    "
   ]
  },
  {
   "cell_type": "code",
   "execution_count": 10,
   "metadata": {},
   "outputs": [],
   "source": [
    "# test \n",
    "root = TreeNode(1)\n",
    "root.left = TreeNode(2)\n",
    "root.right = TreeNode(3)\n",
    "root.left.left = TreeNode(4)\n",
    "root.left.right = TreeNode(5)\n",
    "root.left.left.left = TreeNode(6)\n",
    "root.left.left.left.right = TreeNode(7)\n"
   ]
  },
  {
   "cell_type": "code",
   "execution_count": 11,
   "metadata": {},
   "outputs": [
    {
     "data": {
      "text/plain": [
       "[6, 7, 4, 2, 5, 1, 3]"
      ]
     },
     "execution_count": 11,
     "metadata": {},
     "output_type": "execute_result"
    }
   ],
   "source": [
    "in_order(root)"
   ]
  },
  {
   "cell_type": "markdown",
   "metadata": {},
   "source": [
    "非递归:\n",
    "\n",
    "建立stack ， 遍历根节点， \n",
    "\n",
    "if node : \n",
    "\n",
    "if node 有left node ， 则将left node入栈， node = node.left\n",
    "\n",
    "直到left node is None ， 则输出 now.value , node = node.right\n",
    "\n",
    "\n",
    "\n",
    "if node = None : 从stack中pop出节点 ， 作为node, 输出node.val , node = node.right"
   ]
  },
  {
   "cell_type": "code",
   "execution_count": 12,
   "metadata": {},
   "outputs": [],
   "source": [
    "# 非递归\n",
    "def in_order_not_recur(root_node):\n",
    "    if not root:\n",
    "        return []\n",
    "    nums = []\n",
    "    stack = []\n",
    "    now_node = root_node\n",
    "    i = 0 \n",
    "    while now_node or stack:\n",
    "        if now_node:\n",
    "            if now_node.left:\n",
    "                stack.append(now_node)\n",
    "                now_node = now_node.left\n",
    "            else:\n",
    "                nums.append(now_node.val)\n",
    "                now_node = now_node.right\n",
    "        else:\n",
    "            now_node = stack.pop()\n",
    "            nums.append(now_node.val)\n",
    "            now_node  = now_node.right\n",
    "            \n",
    "        print('nums:',nums)\n",
    "        print('stack:',[stack[i].val for i in range(len(stack))])\n",
    "        print('___')\n",
    "        i +=1 \n",
    "        if i> 10:\n",
    "            break\n",
    "    return nums \n",
    "        \n"
   ]
  },
  {
   "cell_type": "code",
   "execution_count": 19,
   "metadata": {},
   "outputs": [],
   "source": [
    "# test \n",
    "root = TreeNode(1)\n",
    "root.left = TreeNode(2)\n",
    "root.right = TreeNode(3)\n",
    "root.left.left = TreeNode(4)\n",
    "root.left.right = TreeNode(5)\n",
    "root.left.left.left = TreeNode(6)\n",
    "root.left.left.left.right = TreeNode(7)\n"
   ]
  },
  {
   "cell_type": "code",
   "execution_count": 69,
   "metadata": {},
   "outputs": [
    {
     "data": {
      "text/plain": [
       "[6, 7, 4, 2, 5, 8, 1, 3]"
      ]
     },
     "execution_count": 69,
     "metadata": {},
     "output_type": "execute_result"
    }
   ],
   "source": [
    "in_order_not_recur(root)"
   ]
  },
  {
   "cell_type": "code",
   "execution_count": 68,
   "metadata": {},
   "outputs": [],
   "source": [
    "def in_order_not_recur(root):\n",
    "    nums = []\n",
    "    stack = []\n",
    "    now_node = root\n",
    "    while now_node or stack :\n",
    "        if now_node:\n",
    "            if now_node.left:\n",
    "                stack.append(now_node)\n",
    "                now_node = now_node.left\n",
    "            else:\n",
    "                nums.append(now_node.val)\n",
    "                now_node  = now_node.right \n",
    "        else:\n",
    "            now_node = stack.pop()\n",
    "            nums.append(now_node.val)\n",
    "            now_node = now_node.right \n",
    "    return nums\n",
    "    "
   ]
  },
  {
   "cell_type": "markdown",
   "metadata": {},
   "source": [
    "### post order  后续遍历"
   ]
  },
  {
   "cell_type": "code",
   "execution_count": 23,
   "metadata": {},
   "outputs": [],
   "source": [
    "def post_order(root):\n",
    "    if not root:\n",
    "        return [ ]\n",
    "    nums = []\n",
    "    nums.extend(post_order(root.left))\n",
    "    nums.extend(post_order(root.right))\n",
    "    nums.append(root.val)\n",
    "    return nums \n",
    "    "
   ]
  },
  {
   "cell_type": "code",
   "execution_count": 31,
   "metadata": {},
   "outputs": [],
   "source": [
    "# test \n",
    "root = TreeNode(1)\n",
    "root.left = TreeNode(2)\n",
    "root.right = TreeNode(3)\n",
    "root.left.left = TreeNode(4)\n",
    "root.left.right = TreeNode(5)\n",
    "root.left.left.left = TreeNode(6)\n",
    "root.left.left.left.right = TreeNode(7)\n",
    "root.left.right.right = TreeNode(8)\n"
   ]
  },
  {
   "cell_type": "code",
   "execution_count": 32,
   "metadata": {},
   "outputs": [
    {
     "data": {
      "text/plain": [
       "[7, 6, 4, 8, 5, 2, 3, 1]"
      ]
     },
     "execution_count": 32,
     "metadata": {},
     "output_type": "execute_result"
    }
   ],
   "source": [
    "post_order(root)"
   ]
  },
  {
   "cell_type": "code",
   "execution_count": 85,
   "metadata": {},
   "outputs": [],
   "source": [
    "def post_order_not_recur(root):\n",
    "    if not root:\n",
    "        return []\n",
    "    i =0 \n",
    "    nums = []\n",
    "    stack = []\n",
    "    now_node = root \n",
    "    while now_node or stack :\n",
    "        if now_node:\n",
    "            if now_node.left:\n",
    "                stack.append(now_node)\n",
    "                now_node = now_node.left \n",
    "        else:\n",
    "            now_node = stack.pop()\n",
    "            print(now_node.val)\n",
    "            if now_node.right:\n",
    "                stack.append(now_node)\n",
    "                now_node = now_node.right \n",
    "            else:\n",
    "                nums.append(now_node.val)\n",
    "                now_node = None \n",
    "        print('nums:',nums)\n",
    "        print('stack:',[stack[i].val for i in range(len(stack))])\n",
    "        print('___')\n",
    "        i +=1 \n",
    "        if i> 10:\n",
    "            break\n",
    "    return nums "
   ]
  },
  {
   "cell_type": "code",
   "execution_count": 86,
   "metadata": {},
   "outputs": [
    {
     "name": "stdout",
     "output_type": "stream",
     "text": [
      "nums: []\n",
      "stack: [1]\n",
      "___\n",
      "nums: []\n",
      "stack: [1, 2]\n",
      "___\n",
      "nums: []\n",
      "stack: [1, 2, 4]\n",
      "___\n",
      "nums: []\n",
      "stack: [1, 2, 4, 6]\n",
      "___\n",
      "6\n",
      "nums: []\n",
      "stack: [1, 2, 4, 6]\n",
      "___\n",
      "nums: []\n",
      "stack: [1, 2, 4, 6, 7]\n",
      "___\n",
      "7\n",
      "nums: [7]\n",
      "stack: [1, 2, 4, 6]\n",
      "___\n",
      "6\n",
      "nums: [7]\n",
      "stack: [1, 2, 4, 6]\n",
      "___\n",
      "nums: [7]\n",
      "stack: [1, 2, 4, 6, 7]\n",
      "___\n",
      "7\n",
      "nums: [7, 7]\n",
      "stack: [1, 2, 4, 6]\n",
      "___\n",
      "6\n",
      "nums: [7, 7]\n",
      "stack: [1, 2, 4, 6]\n",
      "___\n"
     ]
    },
    {
     "data": {
      "text/plain": [
       "[7, 7]"
      ]
     },
     "execution_count": 86,
     "metadata": {},
     "output_type": "execute_result"
    }
   ],
   "source": [
    "post_order_not_recur(root)"
   ]
  },
  {
   "cell_type": "markdown",
   "metadata": {},
   "source": [
    "让我们先看后序遍历的顺序\n",
    "left right root\n",
    "\n",
    "接着来看前序遍历的顺序\n",
    "root left right\n",
    "\n",
    "如果我们把后序遍历翻转，将会得到：\n",
    "root right left\n",
    "\n",
    "相比较前序遍历，仅仅改变了left 和 right的顺序：\n",
    "所以本题思路将会是：在前序遍历中，把left 和 right的顺序调换，然后输出反转的树即可。"
   ]
  },
  {
   "cell_type": "code",
   "execution_count": 91,
   "metadata": {},
   "outputs": [],
   "source": [
    "def post_order(root):\n",
    "    if not root:\n",
    "        return []\n",
    "    stack = [root]\n",
    "    res = []\n",
    "    while stack:\n",
    "        now_node = stack.pop()\n",
    "        res.append(now_node.val)\n",
    "        if now_node.left:\n",
    "            stack.append(now_node.left)\n",
    "        if now_node.right:\n",
    "            stack.append(now_node.right)\n",
    "    return res[::-1]\n"
   ]
  },
  {
   "cell_type": "code",
   "execution_count": 92,
   "metadata": {},
   "outputs": [
    {
     "data": {
      "text/plain": [
       "[7, 6, 4, 8, 5, 2, 3, 1]"
      ]
     },
     "execution_count": 92,
     "metadata": {},
     "output_type": "execute_result"
    }
   ],
   "source": [
    "post_order(root)"
   ]
  },
  {
   "cell_type": "code",
   "execution_count": 93,
   "metadata": {},
   "outputs": [],
   "source": [
    "### 非递归\n",
    "# \n",
    "def post_order(root):\n",
    "    if not root:\n",
    "        return []\n",
    "    nums,stack = [], []\n",
    "    while root or stack:\n",
    "        if root:\n",
    "            nums.append(root.val)\n",
    "            if root.left:\n",
    "                stack.append(root.left)\n",
    "            root = root.right\n",
    "        else:\n",
    "            root = stack.pop()\n",
    "    return nums[::-1]\n",
    "    "
   ]
  },
  {
   "cell_type": "code",
   "execution_count": 94,
   "metadata": {},
   "outputs": [
    {
     "data": {
      "text/plain": [
       "[7, 6, 4, 8, 5, 2, 3, 1]"
      ]
     },
     "execution_count": 94,
     "metadata": {},
     "output_type": "execute_result"
    }
   ],
   "source": [
    "post_order(root)"
   ]
  },
  {
   "cell_type": "code",
   "execution_count": null,
   "metadata": {},
   "outputs": [],
   "source": []
  }
 ],
 "metadata": {
  "kernelspec": {
   "display_name": "Python 3",
   "language": "python",
   "name": "python3"
  },
  "language_info": {
   "codemirror_mode": {
    "name": "ipython",
    "version": 3
   },
   "file_extension": ".py",
   "mimetype": "text/x-python",
   "name": "python",
   "nbconvert_exporter": "python",
   "pygments_lexer": "ipython3",
   "version": "3.8.2"
  }
 },
 "nbformat": 4,
 "nbformat_minor": 2
}
