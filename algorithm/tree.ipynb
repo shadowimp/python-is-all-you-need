{
 "cells": [
  {
   "cell_type": "markdown",
   "metadata": {},
   "source": [
    "### 二叉树前序遍历\n",
    "非递归:  \n",
    "先输出头节点 ， 将右孩子入栈, 头结点等于左孩子， node = node.left \n",
    "如果头节点的左孩子为空，，则 node = stack.pop()\n"
   ]
  },
  {
   "cell_type": "code",
   "execution_count": 6,
   "metadata": {},
   "outputs": [],
   "source": [
    "class TreeNode:\n",
    "    def __init__(self,val=0,left=None,right=None):\n",
    "        self.val = val\n",
    "        self.left = left\n",
    "        self.right = right "
   ]
  },
  {
   "cell_type": "code",
   "execution_count": 7,
   "metadata": {},
   "outputs": [],
   "source": [
    "# 前序遍历\n",
    "def pre_order(root_node):\n",
    "    if not root_node:\n",
    "        return []    \n",
    "    nums = []\n",
    "    nums.append(root_node.val)\n",
    "    nums.extend(pre_order(root_node.left))\n",
    "    nums.extend(pre_order(root_node.right))\n",
    "    return nums \n",
    "    "
   ]
  },
  {
   "cell_type": "markdown",
   "metadata": {},
   "source": [
    "``` \n",
    "        1\n",
    "      /   \\\n",
    "     2     3\n",
    "    / \\   \n",
    "   4    5 \n",
    "  /      \\ \n",
    " 6        8 \n",
    "  \\\n",
    "   7\n",
    "```"
   ]
  },
  {
   "cell_type": "code",
   "execution_count": 10,
   "metadata": {},
   "outputs": [],
   "source": [
    "# test \n",
    "root = TreeNode(1)\n",
    "root.left = TreeNode(2)\n",
    "root.right = TreeNode(3)\n",
    "root.left.left = TreeNode(4)\n",
    "root.left.right = TreeNode(5)\n",
    "root.left.left.left = TreeNode(6)\n",
    "root.left.left.left.right = TreeNode(7)\n",
    "root.left.right.right = TreeNode(8)\n"
   ]
  },
  {
   "cell_type": "code",
   "execution_count": 17,
   "metadata": {},
   "outputs": [
    {
     "data": {
      "text/plain": [
       "[1, 2, 4, 6, 7, 5, 8, 3]"
      ]
     },
     "execution_count": 17,
     "metadata": {},
     "output_type": "execute_result"
    }
   ],
   "source": [
    "pre_order(root)"
   ]
  },
  {
   "cell_type": "code",
   "execution_count": 18,
   "metadata": {},
   "outputs": [],
   "source": [
    "# 非递归\n",
    "def pre_order_not_recur(root_node):\n",
    "    if not root_node:\n",
    "        return \n",
    "    top_node = root_node\n",
    "    res = []\n",
    "    stack = []\n",
    "    while top_node or stack:\n",
    "        if top_node:\n",
    "            res.append(top_node.val)\n",
    "            if top_node.right:\n",
    "                stack.append(top_node.right)\n",
    "            top_node = top_node.left \n",
    "        else:\n",
    "            top_node = stack.pop()\n",
    "    return res\n",
    "            \n",
    "\n"
   ]
  },
  {
   "cell_type": "code",
   "execution_count": 19,
   "metadata": {},
   "outputs": [
    {
     "data": {
      "text/plain": [
       "[1, 2, 4, 6, 7, 5, 8, 3]"
      ]
     },
     "execution_count": 19,
     "metadata": {},
     "output_type": "execute_result"
    }
   ],
   "source": [
    "pre_order_not_recur(root)"
   ]
  },
  {
   "cell_type": "markdown",
   "metadata": {},
   "source": [
    "### 二叉树中序遍历  in-order \n",
    "\n",
    "递归：\n",
    "\n",
    "如果当前节点有值： 递归遍历左子树 + node.val  + 递归遍历右子树\n",
    "\n",
    "\n",
    "\n",
    "非递归:\n",
    "\n",
    "建立stack ， 遍历根节点， \n",
    "\n",
    "if 有left node ， 则将left node入栈， \n",
    "\n",
    "直到left node is None ， 将栈顶的元素pop ， 得到value\n",
    "\n",
    "将node 的right入栈。 以此类推。。"
   ]
  },
  {
   "cell_type": "code",
   "execution_count": 20,
   "metadata": {},
   "outputs": [],
   "source": [
    "class TreeNode:\n",
    "    def __init__(self, val=0 , left=None , right=None):\n",
    "        self.val = val\n",
    "        self.left = left\n",
    "        self.right = right "
   ]
  },
  {
   "cell_type": "code",
   "execution_count": 21,
   "metadata": {},
   "outputs": [],
   "source": [
    "def in_order(root):\n",
    "    nums = []\n",
    "    if not root:\n",
    "        return []\n",
    "    nums.extend(in_order(root.left))\n",
    "    nums.append(root.val)\n",
    "    nums.extend(in_order(root.right))\n",
    "    return nums\n",
    "    "
   ]
  },
  {
   "cell_type": "code",
   "execution_count": 23,
   "metadata": {},
   "outputs": [
    {
     "data": {
      "text/plain": [
       "[6, 7, 4, 2, 5, 8, 1, 3]"
      ]
     },
     "execution_count": 23,
     "metadata": {},
     "output_type": "execute_result"
    }
   ],
   "source": [
    "in_order(root)"
   ]
  },
  {
   "cell_type": "markdown",
   "metadata": {},
   "source": [
    "非递归:\n",
    "\n",
    "建立stack ， 遍历根节点， \n",
    "\n",
    "if node : \n",
    "\n",
    "if node 有left node ， 则将left node入栈， node = node.left\n",
    "\n",
    "直到left node is None ， 则输出 now.value , node = node.right\n",
    "\n",
    "\n",
    "\n",
    "if node = None : 从stack中pop出节点 ， 作为node, 输出node.val , node = node.right"
   ]
  },
  {
   "cell_type": "code",
   "execution_count": 62,
   "metadata": {},
   "outputs": [],
   "source": [
    "def in_order_not_recur(root):\n",
    "    nums = []\n",
    "    stack = []\n",
    "    now_node = root\n",
    "    while now_node or stack :\n",
    "        if now_node:\n",
    "            if now_node.left:\n",
    "                stack.append(now_node)\n",
    "                now_node = now_node.left\n",
    "            else:\n",
    "                nums.append(now_node.val)\n",
    "                now_node  = now_node.right \n",
    "        else:\n",
    "            now_node = stack.pop()\n",
    "            nums.append(now_node.val)\n",
    "            now_node = now_node.right \n",
    "    return nums\n",
    "    "
   ]
  },
  {
   "cell_type": "code",
   "execution_count": 71,
   "metadata": {},
   "outputs": [
    {
     "data": {
      "text/plain": [
       "[6, 7, 4, 2, 5, 8, 1, 3]"
      ]
     },
     "execution_count": 71,
     "metadata": {},
     "output_type": "execute_result"
    }
   ],
   "source": [
    "in_order_not_recur(root)"
   ]
  },
  {
   "cell_type": "code",
   "execution_count": 72,
   "metadata": {},
   "outputs": [
    {
     "data": {
      "text/plain": [
       "[6, 7, 4, 2, 5, 8, 1, 3]"
      ]
     },
     "execution_count": 72,
     "metadata": {},
     "output_type": "execute_result"
    }
   ],
   "source": [
    "inorder_not(root)"
   ]
  },
  {
   "cell_type": "code",
   "execution_count": 70,
   "metadata": {},
   "outputs": [],
   "source": [
    "def inorder_not(root):\n",
    "    if not root:\n",
    "        return \n",
    "    res = []\n",
    "    stack = []\n",
    "    while root or stack: \n",
    "        if root:\n",
    "            stack.append(root)\n",
    "            root = root.left\n",
    "        else:\n",
    "            node = stack.pop()\n",
    "            res.append(node.val)\n",
    "            if node.right:\n",
    "                stack.append(node.right)\n",
    "    return res\n"
   ]
  },
  {
   "cell_type": "markdown",
   "metadata": {},
   "source": [
    "### post order  后续遍历"
   ]
  },
  {
   "cell_type": "code",
   "execution_count": 34,
   "metadata": {},
   "outputs": [],
   "source": [
    "def post_order(root):\n",
    "    if not root:\n",
    "        return [ ]\n",
    "    nums = []\n",
    "    nums.extend(post_order(root.left))\n",
    "    nums.extend(post_order(root.right))\n",
    "    nums.append(root.val)\n",
    "    return nums \n",
    "    "
   ]
  },
  {
   "cell_type": "code",
   "execution_count": 54,
   "metadata": {},
   "outputs": [
    {
     "data": {
      "text/plain": [
       "[7, 6, 4, 8, 5, 2, 3, 1]"
      ]
     },
     "execution_count": 54,
     "metadata": {},
     "output_type": "execute_result"
    }
   ],
   "source": [
    "post_order(root)"
   ]
  },
  {
   "cell_type": "markdown",
   "metadata": {},
   "source": [
    "让我们先看后序遍历的顺序\n",
    "left right root\n",
    "\n",
    "接着来看前序遍历的顺序\n",
    "root left right\n",
    "\n",
    "如果我们把后序遍历翻转，将会得到：\n",
    "root right left\n",
    "\n",
    "相比较前序遍历，仅仅改变了left 和 right的顺序：\n",
    "所以本题思路将会是：在前序遍历中，把left 和 right的顺序调换，然后输出反转的树即可。"
   ]
  },
  {
   "cell_type": "code",
   "execution_count": 60,
   "metadata": {},
   "outputs": [],
   "source": [
    "### 非递归\n",
    "def post_order(root):\n",
    "    if not root:\n",
    "        return []\n",
    "    res,stack = [], []\n",
    "    while root or stack:\n",
    "        if root:\n",
    "            res.append(root.val)\n",
    "            if root.left:\n",
    "                stack.append(root.left)\n",
    "            root = root.right\n",
    "        else:\n",
    "            root = stack.pop()\n",
    "    return res[::-1]\n",
    "    "
   ]
  },
  {
   "cell_type": "code",
   "execution_count": 61,
   "metadata": {},
   "outputs": [
    {
     "data": {
      "text/plain": [
       "[7, 6, 4, 8, 5, 2, 3, 1]"
      ]
     },
     "execution_count": 61,
     "metadata": {},
     "output_type": "execute_result"
    }
   ],
   "source": [
    "post_order(root)"
   ]
  },
  {
   "cell_type": "code",
   "execution_count": 1,
   "metadata": {},
   "outputs": [],
   "source": [
    "### 层序遍历"
   ]
  },
  {
   "cell_type": "code",
   "execution_count": null,
   "metadata": {},
   "outputs": [],
   "source": []
  },
  {
   "cell_type": "code",
   "execution_count": 73,
   "metadata": {},
   "outputs": [],
   "source": [
    "### 18 判断树B是不是树A的子结构"
   ]
  },
  {
   "cell_type": "markdown",
   "metadata": {},
   "source": [
    "### 101. Symmetric Tree\n",
    "```\n",
    "判断一个树是不是对称的。\n",
    "Given a binary tree, check whether it is a mirror of itself (ie, symmetric around its center).\n",
    "For example, this binary tree [1,2,2,3,4,4,3] is symmetric:\n",
    "     1\n",
    "   /   \\\n",
    "  2     2\n",
    " / \\   / \\ \n",
    "3   4 4   3\n",
    "```"
   ]
  },
  {
   "cell_type": "code",
   "execution_count": 10,
   "metadata": {},
   "outputs": [],
   "source": [
    "class TreeNode:\n",
    "    def __init__(self,x):\n",
    "        self.val = x\n",
    "        self.left = None \n",
    "        self.right = None"
   ]
  },
  {
   "cell_type": "code",
   "execution_count": 12,
   "metadata": {},
   "outputs": [],
   "source": [
    "def symmetric_tree(root):\n",
    "    if root is None :\n",
    "        return True \n",
    "    else :\n",
    "        return fun(root.left,root.right)\n",
    "def fun(left,right):\n",
    "    \"\"\"\n",
    "    判断两边是否是镜像，必须传入两个参数\n",
    "    \"\"\"\n",
    "    if left is None and right is None :\n",
    "        return True \n",
    "    if left is None or right is None:\n",
    "        return False\n",
    "    if left.val != right.val:\n",
    "        return False\n",
    "    else:\n",
    "        flag1 = fun(left.left,right.right)\n",
    "        flag2 = fun(left.right,right.left)\n",
    "        return flag1 and flag2"
   ]
  },
  {
   "cell_type": "code",
   "execution_count": 13,
   "metadata": {},
   "outputs": [
    {
     "data": {
      "text/plain": [
       "True"
      ]
     },
     "execution_count": 13,
     "metadata": {},
     "output_type": "execute_result"
    }
   ],
   "source": [
    "t = TreeNode(1)\n",
    "t.left , t.right  = TreeNode(2),TreeNode(2)\n",
    "t.left.left , t.left.right , t.right.left , t.right.right = \\\n",
    "TreeNode(3),TreeNode(4),TreeNode(4),TreeNode(3)\n",
    "symmetric_tree(t)"
   ]
  },
  {
   "cell_type": "markdown",
   "metadata": {},
   "source": [
    "### 104. 二叉树的最大深度\n",
    "给定一个二叉树 root ，返回其最大深度。\n",
    "\n",
    "二叉树的 最大深度 是指从根节点到最远叶子节点的最长路径上的节点数。"
   ]
  },
  {
   "cell_type": "code",
   "execution_count": null,
   "metadata": {},
   "outputs": [],
   "source": [
    "class Solution:\n",
    "    def maxDepth(self, root: Optional[TreeNode]) -> int:\n",
    "        if not root :\n",
    "            return 0\n",
    "        l_height = self.maxDepth(root.left)\n",
    "        r_height = self.maxDepth(root.right)\n",
    "        return max(l_height,r_height)+1 "
   ]
  },
  {
   "cell_type": "code",
   "execution_count": null,
   "metadata": {},
   "outputs": [],
   "source": [
    "# 非递归\n",
    "class Solution:\n",
    "    def maxDepth(self, root: Optional[TreeNode]) -> int:\n",
    "        if not root:\n",
    "            return 0 \n",
    "        height = 0\n",
    "        cur_level = [root]\n",
    "        while cur_level:\n",
    "            height += 1 \n",
    "            next_level = []\n",
    "            for node in cur_level:\n",
    "                if node.left:\n",
    "                    next_level.append(node.left)\n",
    "                if node.right:\n",
    "                    next_level.append(node.right)\n",
    "            cur_level = next_level\n",
    "        return height"
   ]
  },
  {
   "cell_type": "markdown",
   "metadata": {},
   "source": [
    "### 105 根据二叉树的前序和中序构造二叉树\n",
    "```\n",
    "你可以假设树中没有重复的元素。\n",
    "例如，给出\n",
    "前序遍历 preorder = [3,9,20,15,7]\n",
    "中序遍历 inorder = [9,3,15,20,7]\n",
    "解法：\n",
    "前序的第一个元素是根节点， 中序中，从第一个节点到根节点为左子树，后面为右子树\n",
    "```\n",
    "链接：https://leetcode-cn.com/problems/construct-binary-tree-from-preorder-and-inorder-traversal\n",
    "\n",
    " "
   ]
  },
  {
   "cell_type": "code",
   "execution_count": 3,
   "metadata": {},
   "outputs": [],
   "source": [
    "preorder = [3,9,20,15,7]\n",
    "preorder.index(9)\n",
    "inorder = [9,3,15,20,7]\n",
    "preorder = [3,9,20,15,7]"
   ]
  },
  {
   "cell_type": "code",
   "execution_count": 4,
   "metadata": {},
   "outputs": [],
   "source": [
    "class TreeNode:\n",
    "    def __init__(self,val):\n",
    "        self.val = val\n",
    "        self.left = None \n",
    "        self.right = None\n",
    "        \n",
    "def buildTree( preorder, inorder):\n",
    "    if not preorder or not inorder:\n",
    "        return None\n",
    "\n",
    "    root = TreeNode(preorder.pop(0))\n",
    "    mid = inorder.index(root.val)\n",
    "\n",
    "    inorder_l, inorder_r = inorder[:mid] , inorder[mid+1:]\n",
    "\n",
    "    left_len = len(inorder_l)\n",
    "\n",
    "    preorder_l = preorder[:left_len]\n",
    "    preorder_r = preorder[left_len:]\n",
    "\n",
    "\n",
    "    root.left = buildTree( preorder_l , inorder_l)\n",
    "    root.right = buildTree(preorder_r, inorder_r)\n",
    "\n",
    "    return root "
   ]
  },
  {
   "cell_type": "code",
   "execution_count": 17,
   "metadata": {},
   "outputs": [],
   "source": [
    "\n",
    "class Solution(object):\n",
    "    def buildTree(self, preorder, inorder):\n",
    "        \"\"\"\n",
    "        :type preorder: List[int]\n",
    "        :type inorder: List[int]\n",
    "        :rtype: Optional[TreeNode]\n",
    "        \"\"\"\n",
    "        if not preorder or not inorder:\n",
    "            return None \n",
    "        root = TreeNode(val=preorder[0])\n",
    "        mid = inorder.index(preorder[0])\n",
    "        inorder_l , inorder_r = inorder[:mid] , inorder[mid+1:]\n",
    "        preorder_l , preorder_r = preorder[1:len(inorder_l)+1] , preorder[len(inorder_l)+1:] \n",
    "        root.left = self.buildTree(preorder_l,inorder_l)\n",
    "        root.right = self.buildTree(preorder_r,inorder_r)\n",
    "        return root \n",
    "        \n",
    "\n",
    "        "
   ]
  },
  {
   "cell_type": "markdown",
   "metadata": {},
   "source": [
    "### 226. Invert Binary Tree\n",
    "```\n",
    "before:\n",
    "     4\n",
    "   /   \\\n",
    "  2     7\n",
    " / \\   / \\ \n",
    "1   3 6   9\n",
    "\n",
    "after:\n",
    "     4\n",
    "   /   \\\n",
    "  7     2\n",
    " / \\   / \\\n",
    "9   6 3   1\n",
    "```"
   ]
  },
  {
   "cell_type": "code",
   "execution_count": null,
   "metadata": {},
   "outputs": [],
   "source": [
    "class Solution:\n",
    "    def invertTree(self, root: Optional[TreeNode]) -> Optional[TreeNode]:\n",
    "        if not root:\n",
    "            return None \n",
    "        root.left , root.right = self.invertTree(root.right) , self.invertTree(root.left)\n",
    "        return root  "
   ]
  },
  {
   "cell_type": "code",
   "execution_count": 14,
   "metadata": {},
   "outputs": [],
   "source": [
    "class TreeNode:\n",
    "    def __init__(self,val):\n",
    "        self.val = val\n",
    "        self.left = None \n",
    "        self.right = None \n",
    "def invert_binary_tree(root):\n",
    "    if not root :\n",
    "        return \n",
    "    if root.left:\n",
    "        invert_binary_tree(root.left)\n",
    "    if root.right:\n",
    "        invert_binary_tree(root.right)\n",
    "    root.left , root.right = root.right , root.left \n",
    "    return root \n",
    "    "
   ]
  },
  {
   "cell_type": "markdown",
   "metadata": {},
   "source": [
    "### 1008. 先序遍历构造二叉搜索树\n",
    "```\n",
    "给定二叉搜索树的先序遍历：\n",
    "[8,5,1,7,10,12]\n",
    "构建二叉树，返回根节点。\n",
    "\n",
    "二叉搜索树： left.val < root.val  <  right.val \n",
    "\n",
    "```\n"
   ]
  },
  {
   "cell_type": "code",
   "execution_count": 16,
   "metadata": {},
   "outputs": [],
   "source": [
    "class TreeNode:\n",
    "    def __init__(self,val):\n",
    "        self.val = val\n",
    "        self.left = None \n",
    "        self.right = None\n",
    "        \n",
    "    def create_tree(self,nums):\n",
    "        if not nums:\n",
    "            return None\n",
    "        root = TreeNode(nums[0])\n",
    "        left, right = [] , []\n",
    "        for num in nums[1:]:\n",
    "            if num <= nums[0]:\n",
    "                left.append(num)\n",
    "            else:\n",
    "                right.append(num)\n",
    "        \n",
    "        root.left = self.create_tree(left)\n",
    "        root.right = self.create_tree(right)\n",
    "        \n",
    "        return root"
   ]
  },
  {
   "cell_type": "markdown",
   "metadata": {},
   "source": []
  }
 ],
 "metadata": {
  "kernelspec": {
   "display_name": "Python 3",
   "language": "python",
   "name": "python3"
  },
  "language_info": {
   "codemirror_mode": {
    "name": "ipython",
    "version": 3
   },
   "file_extension": ".py",
   "mimetype": "text/x-python",
   "name": "python",
   "nbconvert_exporter": "python",
   "pygments_lexer": "ipython3",
   "version": "3.8.2"
  }
 },
 "nbformat": 4,
 "nbformat_minor": 2
}
