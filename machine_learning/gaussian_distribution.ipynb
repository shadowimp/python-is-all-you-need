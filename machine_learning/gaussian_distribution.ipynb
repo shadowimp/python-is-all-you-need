{
 "cells": [
  {
   "cell_type": "code",
   "execution_count": 7,
   "metadata": {},
   "outputs": [],
   "source": [
    "import numpy as np \n",
    "import scipy as sp \n",
    "import matplotlib.pyplot as plt "
   ]
  },
  {
   "cell_type": "markdown",
   "metadata": {},
   "source": [
    "\n",
    " $$t = sin(2\\pi x) + \\epsilon$$\n",
    " \n",
    " $\\epsilon$ 是服从高斯分布的随机值"
   ]
  },
  {
   "cell_type": "code",
   "execution_count": 12,
   "metadata": {},
   "outputs": [
    {
     "data": {
      "text/plain": [
       "Text(0, 0.5, '$t$')"
      ]
     },
     "execution_count": 12,
     "metadata": {},
     "output_type": "execute_result"
    },
    {
     "data": {
      "image/png": "[encoded data removed]",
      "text/plain": [
       "<Figure size 432x288 with 1 Axes>"
      ]
     },
     "metadata": {
      "needs_background": "light"
     },
     "output_type": "display_data"
    }
   ],
   "source": [
    "N = 10\n",
    "x_tr = np.linspace(0,1,N) \n",
    "t_tr = np.sin(2*np.pi*x_tr) + 0.25*np.random.randn(N)\n",
    "\n",
    "xx = np.linspace(0,1,500)\n",
    "\n",
    "fig,ax = plt.subplots() \n",
    "ax.plot(x_tr,t_tr,'co')\n",
    "ax.plot(xx,np.sin(2*np.pi*xx),'green')\n",
    "\n",
    "#调整坐标轴范围\n",
    "ax.set_xlim(-0.1,1.1)\n",
    "ax.set_ylim(-1.5,1.5)\n",
    "\n",
    "#坐标轴轴只显示固定的刻度\n",
    "ax.set_xticks([0,1])\n",
    "ax.set_yticks([-1,0,1])\n",
    "\n",
    "#设置坐标轴名称\n",
    "ax.set_xlabel('$x$',fontsize=\"x-large\")\n",
    "ax.set_ylabel('$t$',fontsize=\"x-large\")"
   ]
  },
  {
   "cell_type": "code",
   "execution_count": null,
   "metadata": {},
   "outputs": [],
   "source": []
  },
  {
   "cell_type": "code",
   "execution_count": null,
   "metadata": {},
   "outputs": [],
   "source": []
  },
  {
   "cell_type": "code",
   "execution_count": null,
   "metadata": {
    "collapsed": true
   },
   "outputs": [],
   "source": []
  }
 ],
 "metadata": {
  "kernelspec": {
   "display_name": "Python 3",
   "language": "python",
   "name": "python3"
  },
  "language_info": {
   "codemirror_mode": {
    "name": "ipython",
    "version": 3
   },
   "file_extension": ".py",
   "mimetype": "text/x-python",
   "name": "python",
   "nbconvert_exporter": "python",
   "pygments_lexer": "ipython3",
   "version": "3.7.4"
  }
 },
 "nbformat": 4,
 "nbformat_minor": 2
}
