{
 "cells": [
  {
   "cell_type": "code",
   "execution_count": 112,
   "metadata": {},
   "outputs": [
    {
     "name": "stdout",
     "output_type": "stream",
     "text": [
      "0.333\n"
     ]
    }
   ],
   "source": [
    "print('{:.3f}'.format(1/3)) #.3f小数点后保留三位"
   ]
  },
  {
   "cell_type": "code",
   "execution_count": 115,
   "metadata": {},
   "outputs": [
    {
     "name": "stdout",
     "output_type": "stream",
     "text": [
      "___hello___\n"
     ]
    }
   ],
   "source": [
    "print('{0:_^11}'.format('hello')) #_^11 11个下划线"
   ]
  },
  {
   "cell_type": "code",
   "execution_count": 5,
   "metadata": {},
   "outputs": [
    {
     "name": "stdout",
     "output_type": "stream",
     "text": [
      "Swaroop wrote A byte of python\n"
     ]
    }
   ],
   "source": [
    "print('{} wrote {}'.format('Swaroop', 'A byte of python'))"
   ]
  },
  {
   "cell_type": "code",
   "execution_count": 6,
   "metadata": {},
   "outputs": [
    {
     "name": "stdout",
     "output_type": "stream",
     "text": [
      "a\n",
      "b\n"
     ]
    }
   ],
   "source": [
    "print('a')\n",
    "print('b')"
   ]
  },
  {
   "cell_type": "code",
   "execution_count": 7,
   "metadata": {},
   "outputs": [
    {
     "name": "stdout",
     "output_type": "stream",
     "text": [
      "ab"
     ]
    }
   ],
   "source": [
    "print('a', end = '')\n",
    "print('b', end = '')"
   ]
  },
  {
   "cell_type": "code",
   "execution_count": 8,
   "metadata": {},
   "outputs": [
    {
     "name": "stdout",
     "output_type": "stream",
     "text": [
      "a b c\n"
     ]
    }
   ],
   "source": [
    "print('a', end = ' ')\n",
    "print('b', end = ' ')\n",
    "print('c') "
   ]
  },
  {
   "cell_type": "code",
   "execution_count": 9,
   "metadata": {},
   "outputs": [
    {
     "name": "stdout",
     "output_type": "stream",
     "text": [
      "a b c\n",
      "d\n"
     ]
    }
   ],
   "source": [
    "print('a', end = ' ')\n",
    "print('b', end = ' ')\n",
    "print('c')\n",
    "print('d')"
   ]
  },
  {
   "cell_type": "code",
   "execution_count": 10,
   "metadata": {},
   "outputs": [
    {
     "name": "stdout",
     "output_type": "stream",
     "text": [
      "what's your name\n"
     ]
    }
   ],
   "source": [
    "print('what\\'s your name')"
   ]
  },
  {
   "cell_type": "code",
   "execution_count": 11,
   "metadata": {},
   "outputs": [
    {
     "name": "stdout",
     "output_type": "stream",
     "text": [
      "This is the first line\n",
      "This is the second line\n"
     ]
    }
   ],
   "source": [
    "print('This is the first line\\nThis is the second line') #\\n第二行分隔"
   ]
  },
  {
   "cell_type": "code",
   "execution_count": null,
   "metadata": {},
   "outputs": [],
   "source": [
    "print('a'+'\\n')"
   ]
  },
  {
   "cell_type": "code",
   "execution_count": 12,
   "metadata": {},
   "outputs": [
    {
     "name": "stdout",
     "output_type": "stream",
     "text": [
      "This is the first line\n",
      "\n"
     ]
    }
   ],
   "source": [
    "print('This is the first line\\n')"
   ]
  },
  {
   "cell_type": "code",
   "execution_count": 13,
   "metadata": {},
   "outputs": [
    {
     "name": "stdout",
     "output_type": "stream",
     "text": [
      "This is the first sentense.\tThis is the second sentense\n"
     ]
    }
   ],
   "source": [
    "print('This is the first sentense.\\tThis is the second sentense') #\\t 两个句子同行隔开"
   ]
  },
  {
   "cell_type": "code",
   "execution_count": 14,
   "metadata": {},
   "outputs": [
    {
     "name": "stdout",
     "output_type": "stream",
     "text": [
      "This is a multi-line string.\n",
      "This is the second line.\n"
     ]
    }
   ],
   "source": [
    "s = '''This is a multi-line string.\n",
    "This is the second line.'''\n",
    "print(s)"
   ]
  },
  {
   "cell_type": "code",
   "execution_count": 8,
   "metadata": {},
   "outputs": [
    {
     "name": "stdout",
     "output_type": "stream",
     "text": [
      "This is a multi-line string.This is the second line.\n"
     ]
    }
   ],
   "source": [
    "s = 'This is a multi-line string.\\\n",
    "This is the second line.'\n",
    "print(s)"
   ]
  },
  {
   "cell_type": "code",
   "execution_count": 6,
   "metadata": {},
   "outputs": [
    {
     "name": "stdout",
     "output_type": "stream",
     "text": [
      "This is a multi-line string.\n",
      "This is the second line.\n"
     ]
    }
   ],
   "source": [
    "s = 'This is a multi-line string.\\nThis is the second line.'\n",
    "print(s)"
   ]
  },
  {
   "cell_type": "code",
   "execution_count": null,
   "metadata": {},
   "outputs": [],
   "source": [
    "### if statement"
   ]
  },
  {
   "cell_type": "code",
   "execution_count": 2,
   "metadata": {},
   "outputs": [
    {
     "name": "stdin",
     "output_type": "stream",
     "text": [
      "Enter an integer:  50\n"
     ]
    },
    {
     "name": "stdout",
     "output_type": "stream",
     "text": [
      "Too big\n",
      "done\n"
     ]
    }
   ],
   "source": [
    "number = 23\n",
    "guess = int(input('Enter an integer: '))\n",
    "\n",
    "if guess == number:\n",
    "    print('Congratulations')\n",
    "    print('But you do not win any prizes')\n",
    "if guess < number:\n",
    "    print('Too small')\n",
    "else:\n",
    "    print('Too big')\n",
    "    \n",
    "print('done')"
   ]
  },
  {
   "cell_type": "code",
   "execution_count": 9,
   "metadata": {},
   "outputs": [],
   "source": [
    "### while statement"
   ]
  },
  {
   "cell_type": "code",
   "execution_count": 3,
   "metadata": {},
   "outputs": [
    {
     "name": "stdin",
     "output_type": "stream",
     "text": [
      "Enter an integer:  50\n"
     ]
    },
    {
     "name": "stdout",
     "output_type": "stream",
     "text": [
      "Too big\n"
     ]
    },
    {
     "name": "stdin",
     "output_type": "stream",
     "text": [
      "Enter an integer:  10\n"
     ]
    },
    {
     "name": "stdout",
     "output_type": "stream",
     "text": [
      "Too small\n"
     ]
    },
    {
     "name": "stdin",
     "output_type": "stream",
     "text": [
      "Enter an integer:  23\n"
     ]
    },
    {
     "name": "stdout",
     "output_type": "stream",
     "text": [
      "Congratulations\n",
      "The while loop is over\n",
      "done\n"
     ]
    }
   ],
   "source": [
    "number = 23\n",
    "running = True\n",
    "\n",
    "while running:\n",
    "    guess = int(input('Enter an integer: '))\n",
    "    \n",
    "    if guess == number:\n",
    "        print('Congratulations')\n",
    "        running = False\n",
    "    elif guess < number:\n",
    "        print('Too small')\n",
    "    else:\n",
    "        print('Too big')\n",
    "        \n",
    "else:\n",
    "    print('The while loop is over')\n",
    "    \n",
    "print('done')\n",
    "        "
   ]
  },
  {
   "cell_type": "code",
   "execution_count": null,
   "metadata": {},
   "outputs": [],
   "source": [
    "### break statement 跳出循环语句"
   ]
  },
  {
   "cell_type": "code",
   "execution_count": 11,
   "metadata": {},
   "outputs": [
    {
     "name": "stdin",
     "output_type": "stream",
     "text": [
      "Enter somthing:  Programming is fun\n"
     ]
    },
    {
     "name": "stdout",
     "output_type": "stream",
     "text": [
      "Length of the string is 18\n"
     ]
    },
    {
     "name": "stdin",
     "output_type": "stream",
     "text": [
      "Enter somthing:  when the work is done\n"
     ]
    },
    {
     "name": "stdout",
     "output_type": "stream",
     "text": [
      "Length of the string is 21\n"
     ]
    },
    {
     "name": "stdin",
     "output_type": "stream",
     "text": [
      "Enter somthing:  if you wanna make your work also fun:\n"
     ]
    },
    {
     "name": "stdout",
     "output_type": "stream",
     "text": [
      "Length of the string is 37\n"
     ]
    },
    {
     "name": "stdin",
     "output_type": "stream",
     "text": [
      "Enter somthing:  use python\n"
     ]
    },
    {
     "name": "stdout",
     "output_type": "stream",
     "text": [
      "Length of the string is 10\n"
     ]
    },
    {
     "name": "stdin",
     "output_type": "stream",
     "text": [
      "Enter somthing:  quit\n"
     ]
    },
    {
     "name": "stdout",
     "output_type": "stream",
     "text": [
      "done\n"
     ]
    }
   ],
   "source": [
    "while True:\n",
    "    s = input('Enter somthing: ')\n",
    "    if s == 'quit':\n",
    "        break  #Remember that the break statement can be used with the for loop as well.\n",
    "    print('Length of the string is', len(s))\n",
    "print('done')\n",
    "    "
   ]
  },
  {
   "cell_type": "code",
   "execution_count": null,
   "metadata": {},
   "outputs": [],
   "source": [
    "### continue statement 跳过当前循环，并进行下一段迭代"
   ]
  },
  {
   "cell_type": "code",
   "execution_count": 10,
   "metadata": {},
   "outputs": [
    {
     "name": "stdin",
     "output_type": "stream",
     "text": [
      "Enter something:  a\n"
     ]
    },
    {
     "name": "stdout",
     "output_type": "stream",
     "text": [
      "Too small\n"
     ]
    },
    {
     "name": "stdin",
     "output_type": "stream",
     "text": [
      "Enter something:  12\n"
     ]
    },
    {
     "name": "stdout",
     "output_type": "stream",
     "text": [
      "Too small\n"
     ]
    },
    {
     "name": "stdin",
     "output_type": "stream",
     "text": [
      "Enter something:  abc\n"
     ]
    },
    {
     "name": "stdout",
     "output_type": "stream",
     "text": [
      "input is sufficient length\n"
     ]
    },
    {
     "name": "stdin",
     "output_type": "stream",
     "text": [
      "Enter something:  quit\n"
     ]
    }
   ],
   "source": [
    "while True:\n",
    "    s = input('Enter something: ')\n",
    "    if s == 'quit':\n",
    "        break\n",
    "    if len(s) < 3:\n",
    "        print('Too small')\n",
    "        continue     #Note that the continue statement works with the for loop as well\n",
    "    print('input is sufficient length')   "
   ]
  },
  {
   "cell_type": "code",
   "execution_count": null,
   "metadata": {},
   "outputs": [],
   "source": [
    "### local variable "
   ]
  },
  {
   "cell_type": "code",
   "execution_count": 12,
   "metadata": {},
   "outputs": [],
   "source": [
    "x = 50\n",
    "\n",
    "def func(x):\n",
    "    print('x is', x)\n",
    "    x = 2\n",
    "    print('changed local x to', x)"
   ]
  },
  {
   "cell_type": "code",
   "execution_count": 13,
   "metadata": {},
   "outputs": [
    {
     "name": "stdout",
     "output_type": "stream",
     "text": [
      "x is 50\n",
      "changed local x to 2\n",
      "x is still 50\n"
     ]
    }
   ],
   "source": [
    "func(x)\n",
    "print('x is still', x)"
   ]
  },
  {
   "cell_type": "code",
   "execution_count": 16,
   "metadata": {},
   "outputs": [],
   "source": [
    "### global statement \n",
    "#如果需要在函数内部改变函数外部的变量，就可以通过在函数内部声明变量为global变量。这样当程序运行至global变量便会替换外部的同名变量。"
   ]
  },
  {
   "cell_type": "code",
   "execution_count": 22,
   "metadata": {},
   "outputs": [
    {
     "name": "stdout",
     "output_type": "stream",
     "text": [
      "x is 50\n",
      "changed global x to 2\n",
      "value of x is 2\n"
     ]
    }
   ],
   "source": [
    "x = 50\n",
    "\n",
    "def func():\n",
    "    global x\n",
    "    \n",
    "    print('x is', x)\n",
    "    x = 2\n",
    "    print('changed global x to', x)\n",
    "    \n",
    "func()\n",
    "print('value of x is', x)"
   ]
  },
  {
   "cell_type": "code",
   "execution_count": null,
   "metadata": {},
   "outputs": [],
   "source": [
    "### list"
   ]
  },
  {
   "cell_type": "code",
   "execution_count": 17,
   "metadata": {},
   "outputs": [],
   "source": [
    "shoplist = ['apple', 'mango', 'carrot', 'banana']"
   ]
  },
  {
   "cell_type": "code",
   "execution_count": 8,
   "metadata": {},
   "outputs": [
    {
     "name": "stdout",
     "output_type": "stream",
     "text": [
      "I have 4 item to purchase\n"
     ]
    }
   ],
   "source": [
    "print('I have', len(shoplist), 'item to purchase')"
   ]
  },
  {
   "cell_type": "code",
   "execution_count": 11,
   "metadata": {},
   "outputs": [
    {
     "name": "stdout",
     "output_type": "stream",
     "text": [
      "These item are:  apple mango carrot banana "
     ]
    }
   ],
   "source": [
    "print('These item are: ', end= ' ')\n",
    "for item in shoplist:\n",
    "    print(item, end= ' ')"
   ]
  },
  {
   "cell_type": "code",
   "execution_count": 18,
   "metadata": {},
   "outputs": [
    {
     "name": "stdout",
     "output_type": "stream",
     "text": [
      "\n",
      "I also have to buy some rice\n",
      "My shopping list now is ['apple', 'mango', 'carrot', 'banana', 'rice']\n"
     ]
    }
   ],
   "source": [
    "print('\\nI also have to buy some rice')\n",
    "shoplist.append('rice')\n",
    "print('My shopping list now is', shoplist)"
   ]
  },
  {
   "cell_type": "code",
   "execution_count": 19,
   "metadata": {},
   "outputs": [
    {
     "name": "stdout",
     "output_type": "stream",
     "text": [
      "The first item i will buy is apple\n"
     ]
    }
   ],
   "source": [
    "print('The first item i will buy is', shoplist[0])"
   ]
  },
  {
   "cell_type": "code",
   "execution_count": 22,
   "metadata": {},
   "outputs": [
    {
     "name": "stdout",
     "output_type": "stream",
     "text": [
      "['banana', 'rice']\n"
     ]
    }
   ],
   "source": [
    "del shoplist[0]\n",
    "print(shoplist)"
   ]
  },
  {
   "cell_type": "code",
   "execution_count": 23,
   "metadata": {},
   "outputs": [],
   "source": [
    "### class"
   ]
  },
  {
   "cell_type": "code",
   "execution_count": 28,
   "metadata": {},
   "outputs": [
    {
     "name": "stdout",
     "output_type": "stream",
     "text": [
      "hello, how are you?\n"
     ]
    }
   ],
   "source": [
    "class person:\n",
    "    def say_hi(self):\n",
    "        print('hello, how are you?')\n",
    "\n",
    "p = person()\n",
    "p.say_hi()"
   ]
  },
  {
   "cell_type": "code",
   "execution_count": 32,
   "metadata": {},
   "outputs": [
    {
     "name": "stdout",
     "output_type": "stream",
     "text": [
      "My name is Swaroop\n"
     ]
    }
   ],
   "source": [
    "class person:\n",
    "    def __init__(self, name):\n",
    "        self.name = name\n",
    "        \n",
    "    def say_hi(self):\n",
    "        print('My name is', self.name)\n",
    "        \n",
    "p = person('Swaroop')\n",
    "p.say_hi()"
   ]
  },
  {
   "cell_type": "code",
   "execution_count": 33,
   "metadata": {},
   "outputs": [],
   "source": [
    "### input output"
   ]
  },
  {
   "cell_type": "code",
   "execution_count": 41,
   "metadata": {},
   "outputs": [
    {
     "name": "stdin",
     "output_type": "stream",
     "text": [
      "Enter txet:  madam\n"
     ]
    },
    {
     "name": "stdout",
     "output_type": "stream",
     "text": [
      "Yes, it's a palindrom\n"
     ]
    }
   ],
   "source": [
    "def reverse(text):\n",
    "    return text[::-1]\n",
    "\n",
    "def is_palindrom(text):\n",
    "    return text == reverse(text)\n",
    "\n",
    "something = input('Enter txet: ')\n",
    "if is_palindrom(something):\n",
    "    print('Yes, it\\'s a palindrom')\n",
    "else:\n",
    "    print('No, it\\'s not a palindrom')"
   ]
  },
  {
   "cell_type": "code",
   "execution_count": 42,
   "metadata": {},
   "outputs": [],
   "source": [
    "### files"
   ]
  },
  {
   "cell_type": "code",
   "execution_count": 56,
   "metadata": {},
   "outputs": [
    {
     "name": "stdout",
     "output_type": "stream",
     "text": [
      "Programming is fun\n",
      "When the work is done\n",
      "if you wanna make your work also fun:\n",
      "   use Python!\n"
     ]
    }
   ],
   "source": [
    "poem = '''\\\n",
    "Programming is fun\n",
    "When the work is done\n",
    "if you wanna make your work also fun:\n",
    "   use Python!\n",
    "'''\n",
    "\n",
    "f = open('poem.txt', 'w')\n",
    "f.write(poem)\n",
    "f.close()\n",
    "\n",
    "f = open('poem.txt')\n",
    "while True:\n",
    "    line = f.readline()\n",
    "    if len(line) == 0:\n",
    "        break\n",
    "        \n",
    "    print(line, end='')\n",
    "    \n",
    "f.close()"
   ]
  },
  {
   "cell_type": "code",
   "execution_count": 106,
   "metadata": {},
   "outputs": [
    {
     "name": "stdout",
     "output_type": "stream",
     "text": [
      "['And', 'yet', 'don', 'not', 'look', 'too', 'good,']\n",
      "['nor', 'talk', 'too', 'wise']\n"
     ]
    }
   ],
   "source": [
    "art = '''\\\n",
    "And yet don not look too good,\n",
    "nor talk too wise\n",
    "'''\n",
    "\n",
    "f = open('art.txt','w')\n",
    "f.write(art)\n",
    "f.close\n",
    "\n",
    "with open('art.txt', 'r') as f:\n",
    "    for line in f:\n",
    "        \n",
    "        line = line.split()\n",
    "        print(line)\n"
   ]
  },
  {
   "cell_type": "code",
   "execution_count": 91,
   "metadata": {},
   "outputs": [],
   "source": [
    "with open ('art.txt') as f:\n",
    "    for line in f:\n",
    "        print(line)"
   ]
  },
  {
   "cell_type": "code",
   "execution_count": 85,
   "metadata": {},
   "outputs": [],
   "source": [
    "### the with statement"
   ]
  },
  {
   "cell_type": "code",
   "execution_count": 68,
   "metadata": {},
   "outputs": [
    {
     "name": "stdout",
     "output_type": "stream",
     "text": [
      "Programming is fun\n",
      "When the work is done\n",
      "if you wanna make your work also fun:\n",
      "   use Python!\n"
     ]
    }
   ],
   "source": [
    "with open('poem.txt') as f:\n",
    "    for line in f:\n",
    "        print(line, end = '')"
   ]
  },
  {
   "cell_type": "code",
   "execution_count": null,
   "metadata": {},
   "outputs": [],
   "source": [
    "### handling exceptions "
   ]
  },
  {
   "cell_type": "code",
   "execution_count": 62,
   "metadata": {},
   "outputs": [
    {
     "name": "stdin",
     "output_type": "stream",
     "text": [
      "Enter something -->  ^CYou cancelled the operation.\n"
     ]
    },
    {
     "name": "stdout",
     "output_type": "stream",
     "text": [
      "You entered ^CYou cancelled the operation.\n"
     ]
    }
   ],
   "source": [
    "try:\n",
    "    text = input('Enter something --> ')\n",
    "except EOFError:\n",
    "    print('Why did you do an EOF on me?')\n",
    "except KeyboardInterrupt:\n",
    "    print('You cancelled the operation.')\n",
    "else:\n",
    "    print('You entered {}'.format(text))"
   ]
  },
  {
   "cell_type": "code",
   "execution_count": 69,
   "metadata": {},
   "outputs": [],
   "source": [
    "### Standard Library 标准库"
   ]
  },
  {
   "cell_type": "code",
   "execution_count": 70,
   "metadata": {},
   "outputs": [],
   "source": [
    "# sys"
   ]
  },
  {
   "cell_type": "code",
   "execution_count": 72,
   "metadata": {},
   "outputs": [
    {
     "data": {
      "text/plain": [
       "sys.version_info(major=3, minor=8, micro=5, releaselevel='final', serial=0)"
      ]
     },
     "execution_count": 72,
     "metadata": {},
     "output_type": "execute_result"
    }
   ],
   "source": [
    "import sys\n",
    "sys.version_info #检查python软件版本"
   ]
  },
  {
   "cell_type": "code",
   "execution_count": 73,
   "metadata": {},
   "outputs": [],
   "source": [
    "# logging"
   ]
  },
  {
   "cell_type": "code",
   "execution_count": 74,
   "metadata": {},
   "outputs": [
    {
     "name": "stdout",
     "output_type": "stream",
     "text": [
      "Logging to /Users/mac/test.log\n"
     ]
    }
   ],
   "source": []
  },
  {
   "cell_type": "code",
   "execution_count": null,
   "metadata": {},
   "outputs": [],
   "source": []
  }
 ],
 "metadata": {
  "kernelspec": {
   "display_name": "Python 3",
   "language": "python",
   "name": "python3"
  },
  "language_info": {
   "codemirror_mode": {
    "name": "ipython",
    "version": 3
   },
   "file_extension": ".py",
   "mimetype": "text/x-python",
   "name": "python",
   "nbconvert_exporter": "python",
   "pygments_lexer": "ipython3",
   "version": "3.8.5"
  }
 },
 "nbformat": 4,
 "nbformat_minor": 4
}
