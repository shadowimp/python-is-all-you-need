{
 "cells": [
  {
   "cell_type": "markdown",
   "metadata": {},
   "source": [
    "### main 函数\n",
    "- 每个py文件作为执行文件时，__name__ 就是 __main__ \n",
    "- a.py作为被引用的文件时， __name__ 就是 a.py"
   ]
  },
  {
   "cell_type": "code",
   "execution_count": 2,
   "metadata": {},
   "outputs": [
    {
     "name": "stdout",
     "output_type": "stream",
     "text": [
      "bingo\n"
     ]
    }
   ],
   "source": [
    "if __name__ == '__main__':\n",
    "    print('bingo')"
   ]
  },
  {
   "cell_type": "markdown",
   "metadata": {},
   "source": [
    "### args kwargs \n",
    "当一个函数中要传入的参数个数不定时，就要使用这两个变量\n",
    "- python中的可变参数\n",
    "- *args 是一个tuple， 表示任何多个无名参数  , 把多个传入的变量打包成一个tuple\n",
    "- **kwargs 是一个dict ， 表示关键字参数 ，打包关键字参数成dict给函数体调用\n",
    "- 同时使用时，args在前， kwargs在后 ,参数x、*args、**kwargs三个参数的位置必须是一定的。必须是(x,*args,**kwargs)这个顺序。\n",
    "\n",
    "-  args就是所有参数的数组\n",
    "-  kwargs就是当你传入key=value时存储的字典"
   ]
  },
  {
   "cell_type": "code",
   "execution_count": 3,
   "metadata": {},
   "outputs": [
    {
     "name": "stdout",
     "output_type": "stream",
     "text": [
      "()\n",
      "{}\n"
     ]
    }
   ],
   "source": [
    "def foo(*args, **kwargs):\n",
    "    print(args)\n",
    "    print(kwargs)\n",
    "foo()"
   ]
  },
  {
   "cell_type": "code",
   "execution_count": 4,
   "metadata": {},
   "outputs": [
    {
     "name": "stdout",
     "output_type": "stream",
     "text": [
      "(1, 2, 3)\n",
      "{}\n"
     ]
    }
   ],
   "source": [
    "foo(1,2,3)"
   ]
  },
  {
   "cell_type": "code",
   "execution_count": 5,
   "metadata": {},
   "outputs": [
    {
     "name": "stdout",
     "output_type": "stream",
     "text": [
      "()\n",
      "{'a': 1, 'b': 2, 'c': 3}\n"
     ]
    }
   ],
   "source": [
    "foo(a=1,b=2,c=3)"
   ]
  },
  {
   "cell_type": "code",
   "execution_count": 6,
   "metadata": {},
   "outputs": [
    {
     "name": "stdout",
     "output_type": "stream",
     "text": [
      "('a', 1, None)\n",
      "{'a': 1, 'b': '2', 'c': 3}\n"
     ]
    }
   ],
   "source": [
    "foo('a', 1, None, a=1, b='2', c=3) # 'a', 1, None 三项为args ，  后面的a=1, b='2', c=3 三项为kwargs\n"
   ]
  },
  {
   "cell_type": "code",
   "execution_count": 8,
   "metadata": {},
   "outputs": [
    {
     "data": {
      "text/plain": [
       "(8, 9)"
      ]
     },
     "execution_count": 8,
     "metadata": {},
     "output_type": "execute_result"
    }
   ],
   "source": [
    "pow(2,3),pow(3,2)"
   ]
  },
  {
   "cell_type": "code",
   "execution_count": 14,
   "metadata": {},
   "outputs": [],
   "source": [
    "def power_sum(power, *args):\n",
    "    total = 0\n",
    "    for i in args:\n",
    "        total += pow(i, power)\n",
    "    return total"
   ]
  },
  {
   "cell_type": "code",
   "execution_count": 19,
   "metadata": {},
   "outputs": [
    {
     "data": {
      "text/plain": [
       "(25, 9)"
      ]
     },
     "execution_count": 19,
     "metadata": {},
     "output_type": "execute_result"
    }
   ],
   "source": [
    "power_sum(2,3,4) , power_sum(2,3)"
   ]
  },
  {
   "cell_type": "markdown",
   "metadata": {},
   "source": [
    "### 类\n",
    "同一个类的函数调用 ：  self.fun() \n",
    "\n",
    "所有类内的函数定义都要加self， self代表调用者。\n",
    "\n",
    "同一个类内调用函数的时候都要加上self"
   ]
  },
  {
   "cell_type": "code",
   "execution_count": 2,
   "metadata": {
    "scrolled": true
   },
   "outputs": [
    {
     "name": "stdout",
     "output_type": "stream",
     "text": [
      "10\n"
     ]
    }
   ],
   "source": [
    "class Solution:\n",
    "    def fun1(self,a,b):\n",
    "        if a> 0 and b> 0 :\n",
    "            return a+b\n",
    "        else:\n",
    "            return self.fun1(a+1,b+1)\n",
    "    def fun2(self,c,d):\n",
    "        return self.fun1(c,d)\n",
    "\n",
    "s = Solution()\n",
    "print(s.fun2(-5,3)) "
   ]
  },
  {
   "cell_type": "code",
   "execution_count": 1,
   "metadata": {},
   "outputs": [
    {
     "name": "stdout",
     "output_type": "stream",
     "text": [
      "<class '__main__.Car'>\n",
      "<class 'type'>\n",
      "<class '__main__.Truck'>\n",
      "True\n",
      "True\n"
     ]
    }
   ],
   "source": [
    "class Car:\n",
    "\tpass\n",
    "class Truck(Car):\n",
    "\tpass\n",
    "\n",
    "c = Car()\n",
    "convert = Car()\n",
    "t = Truck()\n",
    "print(type(c))\n",
    "print(type(Car))\n",
    "print(type(t))\n",
    "\n",
    "print(type(c)==type(convert))\n",
    "\n",
    "print(isinstance(t,Truck))"
   ]
  },
  {
   "cell_type": "code",
   "execution_count": 3,
   "metadata": {},
   "outputs": [],
   "source": [
    "class Circle:\n",
    "#constructor 构造器 构造函数 用来赋初值  函数调用时自动调用\n",
    "\tdef __init__(self,r):\n",
    "\t\tself.r =r\n",
    "\tdef get_p(self):\n",
    "\t\treturn self.r*2\n",
    "\tdef __str__(self):\n",
    "\t\treturn \"circle\""
   ]
  },
  {
   "cell_type": "code",
   "execution_count": 8,
   "metadata": {},
   "outputs": [],
   "source": [
    "c1 = Circle(10)\n",
    "c2 = Circle(20)\n",
    "c2.r = 40"
   ]
  },
  {
   "cell_type": "code",
   "execution_count": 9,
   "metadata": {},
   "outputs": [
    {
     "name": "stdout",
     "output_type": "stream",
     "text": [
      "20\n",
      "80\n",
      "circle\n",
      "circle\n"
     ]
    }
   ],
   "source": [
    "print(c1. get_p())\n",
    "print(c2.get_p())\n",
    "\n",
    "print(c1)\n",
    "print(c1)\n"
   ]
  },
  {
   "cell_type": "markdown",
   "metadata": {},
   "source": [
    "### 装饰器"
   ]
  },
  {
   "cell_type": "code",
   "execution_count": 21,
   "metadata": {},
   "outputs": [],
   "source": [
    "def deco(fun):       # 定义装饰器函数，输入类型为一个函数，  输出类型依然是一个函数。\n",
    "    def wrapper():   #  自定义装饰器一定要使用wrapper函数\n",
    "        fun()        # 调用传入的函数\n",
    "        print('a')  #定义新的功能\n",
    "    return wrapper   #返回一个添加了新功能的函数\n",
    "\n",
    "@deco\n",
    "def fun1():\n",
    "    print('b')\n",
    "    \n",
    "@deco\n",
    "def fun2():\n",
    "    print('c')"
   ]
  },
  {
   "cell_type": "code",
   "execution_count": 24,
   "metadata": {},
   "outputs": [
    {
     "name": "stdout",
     "output_type": "stream",
     "text": [
      "b\n",
      "a\n"
     ]
    }
   ],
   "source": [
    "fun1()"
   ]
  },
  {
   "cell_type": "code",
   "execution_count": null,
   "metadata": {},
   "outputs": [],
   "source": []
  },
  {
   "cell_type": "markdown",
   "metadata": {},
   "source": [
    "### 类方法\n",
    "装饰器 classmethod\n",
    "\n",
    "@classmethod就是让实例在调用被@classmethod装饰的方法时，隐式的传入模具（类）本身。\n",
    "\n",
    "一句话总结各种方法的区别：\n",
    "- 所谓实例方法就是第一个参数是self，\n",
    "- 所谓类方法就是第一个参数是class，\n",
    "- 而静态方法不需要额外的参数。\n",
    "\n"
   ]
  },
  {
   "cell_type": "code",
   "execution_count": 8,
   "metadata": {},
   "outputs": [
    {
     "name": "stdout",
     "output_type": "stream",
     "text": [
      "S\n"
     ]
    }
   ],
   "source": [
    "class S: \n",
    "    @classmethod\n",
    "    def cls_name(cls):\n",
    "        print(cls.__name__)\n",
    "s = S() \n",
    "s.cls_name()"
   ]
  },
  {
   "cell_type": "code",
   "execution_count": 5,
   "metadata": {},
   "outputs": [
    {
     "name": "stdout",
     "output_type": "stream",
     "text": [
      "8 1 2018\n"
     ]
    }
   ],
   "source": [
    "class Date:\n",
    "    def __init__(self,day,month,year):\n",
    "        self.day = day \n",
    "        self.month = month \n",
    "        self.year = year \n",
    "        \n",
    "    @classmethod \n",
    "    def from_string(cls,date_as_string):\n",
    "        day , month , year  = map(int,date_as_string.split('-'))\n",
    "        date = cls(day,month,year)\n",
    "        return date\n",
    "    \n",
    "date = Date.from_string('08-01-2018')\n",
    "print(date.day,date.month,date.year)"
   ]
  },
  {
   "cell_type": "code",
   "execution_count": 7,
   "metadata": {
    "collapsed": true,
    "jupyter": {
     "outputs_hidden": true
    }
   },
   "outputs": [],
   "source": [
    "class Date:\n",
    "    def __init__(self,day,month,year):\n",
    "        self.day = day \n",
    "        self.month = month \n",
    "        self.year = year \n",
    "    def fun(self,a,b,c):\n",
    "        return Date(a,b,c)"
   ]
  },
  {
   "cell_type": "markdown",
   "metadata": {},
   "source": [
    "### __repr__ 自动打印"
   ]
  },
  {
   "cell_type": "code",
   "execution_count": 7,
   "metadata": {},
   "outputs": [],
   "source": [
    "class Point:\n",
    "    def __init__(self,x,y):\n",
    "        self.x , self.y = x ,y \n",
    "    def __repr__(self):\n",
    "        return 'Point(x=%s,y=%s)'%(self.x , self.y)"
   ]
  },
  {
   "cell_type": "code",
   "execution_count": 8,
   "metadata": {},
   "outputs": [
    {
     "data": {
      "text/plain": [
       "Point(x=1,y=2)"
      ]
     },
     "execution_count": 8,
     "metadata": {},
     "output_type": "execute_result"
    }
   ],
   "source": [
    "p = Point(1,2)\n",
    "p"
   ]
  },
  {
   "cell_type": "markdown",
   "metadata": {},
   "source": [
    "## 继承\n",
    "- 子类可以继承父类的方法 和 定义自己的方法\n",
    "- 子类也可以有子类\n",
    "- 继承的意义是代码的复用"
   ]
  },
  {
   "cell_type": "markdown",
   "metadata": {},
   "source": [
    "### super（ ）  父类操作\n",
    "在类的继承中，如果重新定义某个方法，父类的方法就会被覆盖.\n",
    "有时我们希望同时调用原来的父类功能，这时就要用到super方法。"
   ]
  },
  {
   "cell_type": "code",
   "execution_count": 18,
   "metadata": {},
   "outputs": [
    {
     "data": {
      "text/plain": [
       "'tim'"
      ]
     },
     "execution_count": 18,
     "metadata": {},
     "output_type": "execute_result"
    }
   ],
   "source": [
    "##正常的 \n",
    "class Animal:\n",
    "    def __init__(self,name):\n",
    "        self.name = name\n",
    "    def eat(self):\n",
    "        print('eat')\n",
    "\n",
    "class Dog(Animal):\n",
    "    def __init__(self,name,foot):\n",
    "        self.name = name \n",
    "        self.foot = foot\n",
    " \n",
    "    def eat(self):\n",
    "        print('eating')\n",
    "        \n",
    "d = Dog('tim','4')  #初始化时必须传入两个参数\n",
    "\n",
    "d.name"
   ]
  },
  {
   "cell_type": "code",
   "execution_count": 19,
   "metadata": {},
   "outputs": [],
   "source": [
    "class Reader:\n",
    "\tdef __init__(self,id,name):\n",
    "\t\tself.id = id\n",
    "\t\tself.name = name\n",
    "\tdef borrow_book(self):\n",
    "\t\tprint(\"take books\")"
   ]
  },
  {
   "cell_type": "code",
   "execution_count": 20,
   "metadata": {},
   "outputs": [
    {
     "name": "stdout",
     "output_type": "stream",
     "text": [
      "take books\n",
      "bitch\n"
     ]
    }
   ],
   "source": [
    "class Student(Reader):\n",
    "#学生是读者的子类\n",
    "\tdef borrow_book(self):\n",
    "\t\tReader.borrow_book(self)\n",
    "\t\t#保留父类的共性的同时增加新特性\n",
    "\t\tprint(\"bitch\")\n",
    "\n",
    "s1 = Student(1001,\"zhangsan\")\n",
    "s1.borrow_book()"
   ]
  },
  {
   "cell_type": "code",
   "execution_count": null,
   "metadata": {},
   "outputs": [],
   "source": []
  }
 ],
 "metadata": {
  "kernelspec": {
   "display_name": "Python 3",
   "language": "python",
   "name": "python3"
  },
  "language_info": {
   "codemirror_mode": {
    "name": "ipython",
    "version": 3
   },
   "file_extension": ".py",
   "mimetype": "text/x-python",
   "name": "python",
   "nbconvert_exporter": "python",
   "pygments_lexer": "ipython3",
   "version": "3.7.4"
  }
 },
 "nbformat": 4,
 "nbformat_minor": 4
}
