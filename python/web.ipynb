{
 "cells": [
  {
   "cell_type": "markdown",
   "metadata": {},
   "source": [
    "### 处理json"
   ]
  },
  {
   "cell_type": "code",
   "execution_count": 13,
   "metadata": {},
   "outputs": [
    {
     "name": "stdout",
     "output_type": "stream",
     "text": [
      "<class 'str'> {\"1\": \"a\", \"2\": \"b\"}\n"
     ]
    }
   ],
   "source": [
    "import json \n",
    "\n",
    "dic = {1:'a',2:'b'}\n",
    "dump_data = json.dumps(dic) # Python数据结构转换为JSON， 字典变成json\n",
    "print(type(dump_data),dump_data)"
   ]
  },
  {
   "cell_type": "code",
   "execution_count": 14,
   "metadata": {},
   "outputs": [
    {
     "data": {
      "text/plain": [
       "{'1': 'a', '2': 'b'}"
      ]
     },
     "execution_count": 14,
     "metadata": {},
     "output_type": "execute_result"
    }
   ],
   "source": [
    "data = json.loads(dump_data) # 将一个JSON编码的字符串转换回一个Python数据结构\n",
    "data"
   ]
  },
  {
   "cell_type": "code",
   "execution_count": null,
   "metadata": {},
   "outputs": [],
   "source": [
    "#读 json 文件\n",
    "with open('test.json','r') as f:\n",
    "    data = json.load(f)\n",
    "\n",
    "# 写 json数据data 到 test.json 文件中\n",
    "with open('test.json', 'w') as f:\n",
    "    json.dump(data, f)"
   ]
  },
  {
   "cell_type": "code",
   "execution_count": null,
   "metadata": {},
   "outputs": [],
   "source": []
  },
  {
   "cell_type": "markdown",
   "metadata": {},
   "source": [
    "### requests 库调用http接口\n",
    "requests.get"
   ]
  },
  {
   "cell_type": "code",
   "execution_count": null,
   "metadata": {},
   "outputs": [],
   "source": [
    "import requests\n",
    "import json"
   ]
  },
  {
   "cell_type": "code",
   "execution_count": 11,
   "metadata": {},
   "outputs": [],
   "source": [
    "title = '自毁声誉背后：自如蛋壳等长租公寓乱相丛生'\n",
    "tag = '长租公寓,租客,新冠肺炎'\n",
    "u = \"http://10.85.19.180:1324/esa?content=\"\n",
    "url = u + title + ' ' + tag "
   ]
  },
  {
   "cell_type": "code",
   "execution_count": 12,
   "metadata": {},
   "outputs": [
    {
     "name": "stdout",
     "output_type": "stream",
     "text": [
      "126\n",
      "126103,126103\n"
     ]
    }
   ],
   "source": [
    "r = requests.get(url)\n",
    "if r.status_code == 200 :\n",
    "\tjsonstr=json.loads(r.text)\n",
    "\tprint(jsonstr[\"first_level_tags\"])\n",
    "\tprint(jsonstr[\"second_level_tags\"])"
   ]
  },
  {
   "cell_type": "code",
   "execution_count": null,
   "metadata": {},
   "outputs": [],
   "source": [
    "# post \n",
    "\n",
    "response = requests.post(url= url, data=content) "
   ]
  },
  {
   "cell_type": "markdown",
   "metadata": {},
   "source": [
    "### 打开一个网址"
   ]
  },
  {
   "cell_type": "code",
   "execution_count": null,
   "metadata": {},
   "outputs": [],
   "source": [
    "import webbrowser \n",
    "\n",
    "urls = [\n",
    "\t'http://www.douban.com',\n",
    "\t'http://www.baidu.com',\n",
    "\t'https://www.zhihu.com'\n",
    "]\n",
    "\n",
    "map(lambda x:webbrowser.open(x),urls)"
   ]
  },
  {
   "cell_type": "markdown",
   "metadata": {},
   "source": [
    "### 爬虫"
   ]
  },
  {
   "cell_type": "code",
   "execution_count": 1,
   "metadata": {},
   "outputs": [],
   "source": [
    "#-*-coding:utf-8-*-\n",
    "import requests\n",
    "from bs4 import BeautifulSoup"
   ]
  },
  {
   "cell_type": "code",
   "execution_count": 10,
   "metadata": {},
   "outputs": [
    {
     "name": "stdout",
     "output_type": "stream",
     "text": [
      "True\n"
     ]
    }
   ],
   "source": [
    "url = \"https://www.sina.com\"\n",
    "r = requests.get(url)\n",
    "print (r.ok)"
   ]
  },
  {
   "cell_type": "markdown",
   "metadata": {},
   "source": [
    "### flask"
   ]
  },
  {
   "cell_type": "code",
   "execution_count": null,
   "metadata": {},
   "outputs": [],
   "source": []
  }
 ],
 "metadata": {
  "kernelspec": {
   "display_name": "Python 3",
   "language": "python",
   "name": "python3"
  },
  "language_info": {
   "codemirror_mode": {
    "name": "ipython",
    "version": 3
   },
   "file_extension": ".py",
   "mimetype": "text/x-python",
   "name": "python",
   "nbconvert_exporter": "python",
   "pygments_lexer": "ipython3",
   "version": "3.7.4"
  }
 },
 "nbformat": 4,
 "nbformat_minor": 4
}
