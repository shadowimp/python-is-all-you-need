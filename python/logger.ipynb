{
 "cells": [
  {
   "cell_type": "markdown",
   "metadata": {},
   "source": [
    "### logging 库\n",
    "```\n",
    "通过日志文件，我们知道程序运行的细节；同时，当程序出问题时，我们也可以通过日志快速定位问题所在。在我们写程序时，也可以借助logging模块的输出信息来调试代码。\n",
    "\n",
    "logging模块可以通过改变level来控制一些语句是否被输出，比如当我们把level改成DEBUG级别\n",
    "\n",
    "\n",
    "level 包括warn, info , debug , error, critical\n",
    "\n",
    "\n",
    "critical  50\n",
    "fatal 50\n",
    "error 40\n",
    "warning 30\n",
    "warn 30\n",
    "info 20\n",
    "debug 10\n",
    "\n",
    "\n",
    "设置了输出为 INFO 级别 DEBUG 级别的信息就被过滤掉了\n",
    "```"
   ]
  },
  {
   "cell_type": "code",
   "execution_count": 95,
   "metadata": {},
   "outputs": [],
   "source": [
    "import logging"
   ]
  },
  {
   "cell_type": "code",
   "execution_count": 96,
   "metadata": {},
   "outputs": [],
   "source": [
    "# basicConfig 配置 level 和 format 信息 \n",
    "# level 配置为 INFO 信息，即只输出 INFO 级别的信息，\n",
    "# 配置file ， 就输出到指定文件中\n",
    "logging.basicConfig(filename='logger.log', level=logging.info)"
   ]
  },
  {
   "cell_type": "code",
   "execution_count": 97,
   "metadata": {},
   "outputs": [],
   "source": [
    "context = 'abcd'"
   ]
  },
  {
   "cell_type": "code",
   "execution_count": 98,
   "metadata": {},
   "outputs": [],
   "source": [
    "logger = logging.getLogger(context)\n",
    "logger.info('start')  # 相当于print"
   ]
  },
  {
   "cell_type": "code",
   "execution_count": 24,
   "metadata": {},
   "outputs": [],
   "source": [
    "## 增加时间"
   ]
  },
  {
   "cell_type": "code",
   "execution_count": 99,
   "metadata": {},
   "outputs": [],
   "source": [
    "import logging\n",
    "logging.basicConfig(format='%(asctime)s - %(message)s', datefmt='%d-%b-%y %H:%M:%S')\n",
    "logger = logging.getLogger(context)\n",
    "logging.warning('Admin logged out')\n",
    "logger.info('1')"
   ]
  },
  {
   "cell_type": "markdown",
   "metadata": {},
   "source": [
    "## 模版"
   ]
  },
  {
   "cell_type": "markdown",
   "metadata": {},
   "source": [
    "### file "
   ]
  },
  {
   "cell_type": "code",
   "execution_count": 77,
   "metadata": {},
   "outputs": [],
   "source": [
    "from logging.handlers import TimedRotatingFileHandler\n",
    "import os"
   ]
  },
  {
   "cell_type": "code",
   "execution_count": 83,
   "metadata": {},
   "outputs": [
    {
     "data": {
      "text/plain": [
       "'/Users/yuanbo6/GitHub/python-is-all-you-need/python/test.log'"
      ]
     },
     "execution_count": 83,
     "metadata": {},
     "output_type": "execute_result"
    }
   ],
   "source": [
    "filename=os.path.join(os.getcwd(), 'test.log')\n",
    "filename"
   ]
  },
  {
   "cell_type": "code",
   "execution_count": 84,
   "metadata": {},
   "outputs": [],
   "source": [
    "### logger模版\n",
    "def set_logger(context):\n",
    "    logger = logging.getLogger(context)\n",
    "    logger.setLevel(logging.INFO)\n",
    "    formatter = logging.Formatter('(%(filename)s - %(lineno)d) - ' + context + ' - [%(asctime)s]: %(message)s',datefmt='%Y-%m-%d %H:%M:%S')\n",
    "\n",
    "    # handler = logging.StreamHandler()\n",
    "    handler = TimedRotatingFileHandler(filename=os.path.join(os.getcwd(), 'test.log'),\n",
    "                                       when='MIDNIGHT', backupCount=30)\n",
    "    handler.setLevel(logging.INFO)\n",
    "    handler.setFormatter(formatter)\n",
    "\n",
    "    logger.handlers = []\n",
    "    logger.addHandler(handler)\n",
    "    return logger"
   ]
  },
  {
   "cell_type": "code",
   "execution_count": 85,
   "metadata": {},
   "outputs": [],
   "source": [
    "logger = set_logger('a')"
   ]
  },
  {
   "cell_type": "code",
   "execution_count": 86,
   "metadata": {},
   "outputs": [],
   "source": [
    "logger.info('finsh:') "
   ]
  },
  {
   "cell_type": "markdown",
   "metadata": {},
   "source": [
    "### stream"
   ]
  },
  {
   "cell_type": "code",
   "execution_count": 56,
   "metadata": {},
   "outputs": [],
   "source": [
    "def set_logger(context):\n",
    "    logger = logging.getLogger(context)\n",
    "    logger.setLevel(logging.INFO)\n",
    "    formatter = logging.Formatter('(%(filename)s - %(lineno)d) - ' + context + ' - [%(asctime)s]: %(message)s',datefmt='%Y-%m-%d %H:%M:%S')\n",
    "    handler = logging.StreamHandler()\n",
    "    handler.setLevel(logging.INFO)\n",
    "    handler.setFormatter(formatter)\n",
    "    logger.handlers = []\n",
    "    logger.addHandler(handler)\n",
    "    return logger"
   ]
  },
  {
   "cell_type": "code",
   "execution_count": 57,
   "metadata": {},
   "outputs": [
    {
     "data": {
      "text/plain": [
       "'62568'"
      ]
     },
     "execution_count": 57,
     "metadata": {},
     "output_type": "execute_result"
    }
   ],
   "source": [
    "import os \n",
    "pname = str(os.getpid())\n",
    "pname"
   ]
  },
  {
   "cell_type": "code",
   "execution_count": 58,
   "metadata": {},
   "outputs": [],
   "source": [
    "logger = set_logger(pname)"
   ]
  },
  {
   "cell_type": "code",
   "execution_count": 61,
   "metadata": {},
   "outputs": [
    {
     "name": "stderr",
     "output_type": "stream",
     "text": [
      "(<ipython-input-61-858eaf7884b7> - 1) - 62568 - [2021-07-21 19:52:46]: finsh:\n"
     ]
    }
   ],
   "source": [
    "logger.info('finsh:') "
   ]
  },
  {
   "cell_type": "code",
   "execution_count": 62,
   "metadata": {},
   "outputs": [
    {
     "name": "stderr",
     "output_type": "stream",
     "text": [
      "(<ipython-input-62-b7eace5377a5> - 1) - 62568 - [2021-07-21 19:52:46]: error:\n"
     ]
    }
   ],
   "source": [
    "logger.warning('error:') "
   ]
  }
 ],
 "metadata": {
  "kernelspec": {
   "display_name": "Python 3",
   "language": "python",
   "name": "python3"
  },
  "language_info": {
   "codemirror_mode": {
    "name": "ipython",
    "version": 3
   },
   "file_extension": ".py",
   "mimetype": "text/x-python",
   "name": "python",
   "nbconvert_exporter": "python",
   "pygments_lexer": "ipython3",
   "version": "3.7.4"
  }
 },
 "nbformat": 4,
 "nbformat_minor": 4
}
