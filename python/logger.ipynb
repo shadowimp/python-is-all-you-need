{
 "cells": [
  {
   "cell_type": "markdown",
   "metadata": {},
   "source": [
    "### logging 库\n",
    "```\n",
    "通过日志文件，我们知道程序运行的细节；同时，当程序出问题时，我们也可以通过日志快速定位问题所在。在我们写程序时，也可以借助logging模块的输出信息来调试代码。\n",
    "\n",
    "logging模块可以通过改变level来控制一些语句是否被输出，比如当我们把level改成DEBUG级别\n",
    "\n",
    "\n",
    "level 包括warn, info , debug , error, critical\n",
    "\n",
    "\n",
    "critical  50\n",
    "fatal 50\n",
    "error 40\n",
    "warning 30\n",
    "warn 30\n",
    "info 20\n",
    "debug 10\n",
    "\n",
    "\n",
    "设置了输出为 INFO 级别 DEBUG 级别的信息就被过滤掉了\n",
    "```"
   ]
  },
  {
   "cell_type": "code",
   "execution_count": 30,
   "metadata": {},
   "outputs": [],
   "source": [
    "import logging"
   ]
  },
  {
   "cell_type": "code",
   "execution_count": 31,
   "metadata": {},
   "outputs": [],
   "source": [
    "# basicConfig 配置 level 和 format 信息 \n",
    "# level 配置为 INFO 信息，即只输出 INFO 级别的信息，\n",
    "# 配置file ， 就输出到指定文件中\n",
    "logging.basicConfig(filename='logger_test.log', level=logging.INFO, format = '%(asctime)s-%(message)s',datefmt='%d-%b-%y %H:%M:%S')"
   ]
  },
  {
   "cell_type": "code",
   "execution_count": 32,
   "metadata": {},
   "outputs": [],
   "source": [
    "logger = logging.getLogger()"
   ]
  },
  {
   "cell_type": "code",
   "execution_count": 34,
   "metadata": {},
   "outputs": [],
   "source": [
    "logger.info('start')  # 相当于print"
   ]
  },
  {
   "cell_type": "markdown",
   "metadata": {},
   "source": [
    "## 模版"
   ]
  },
  {
   "cell_type": "markdown",
   "metadata": {},
   "source": [
    "### file "
   ]
  },
  {
   "cell_type": "code",
   "execution_count": 77,
   "metadata": {},
   "outputs": [],
   "source": [
    "from logging.handlers import TimedRotatingFileHandler\n",
    "import os"
   ]
  },
  {
   "cell_type": "markdown",
   "metadata": {},
   "source": [
    "TimedRotatingFileHandler\n",
    "\n",
    "创建固定间隔时间的日志\n",
    "\n",
    "when 是一个字符串，定义了日志切分的间隔时间单位\n",
    "\n",
    "backupCount 是保留日志的文件个数"
   ]
  },
  {
   "cell_type": "code",
   "execution_count": 83,
   "metadata": {},
   "outputs": [
    {
     "data": {
      "text/plain": [
       "'/Users/yuanbo6/GitHub/python-is-all-you-need/python/test.log'"
      ]
     },
     "execution_count": 83,
     "metadata": {},
     "output_type": "execute_result"
    }
   ],
   "source": [
    "filename=os.path.join(os.getcwd(), 'test.log')\n",
    "filename"
   ]
  },
  {
   "cell_type": "code",
   "execution_count": 84,
   "metadata": {},
   "outputs": [],
   "source": [
    "### logger模版\n",
    "def set_logger(context):\n",
    "    logger = logging.getLogger(context)\n",
    "    logger.setLevel(logging.INFO)\n",
    "    formatter = logging.Formatter('(%(filename)s - %(lineno)d) - ' + context + ' - [%(asctime)s]: %(message)s',datefmt='%Y-%m-%d %H:%M:%S')\n",
    "    handler = TimedRotatingFileHandler(filename=os.path.join(os.getcwd(), 'test.log'),\n",
    "                                       when='MIDNIGHT', backupCount=30)\n",
    "    handler.setLevel(logging.INFO)\n",
    "    handler.setFormatter(formatter)\n",
    "\n",
    "    logger.handlers = []\n",
    "    logger.addHandler(handler)\n",
    "    return logger"
   ]
  },
  {
   "cell_type": "code",
   "execution_count": 85,
   "metadata": {},
   "outputs": [],
   "source": [
    "logger = set_logger('a')"
   ]
  },
  {
   "cell_type": "code",
   "execution_count": 86,
   "metadata": {},
   "outputs": [],
   "source": [
    "logger.info('finsh:') "
   ]
  },
  {
   "cell_type": "markdown",
   "metadata": {},
   "source": [
    "### stream"
   ]
  },
  {
   "cell_type": "code",
   "execution_count": 56,
   "metadata": {},
   "outputs": [],
   "source": [
    "def set_logger(context):\n",
    "    logger = logging.getLogger(context)\n",
    "    logger.setLevel(logging.INFO)\n",
    "    formatter = logging.Formatter('(%(filename)s - %(lineno)d) - ' + context + ' - [%(asctime)s]: %(message)s',datefmt='%Y-%m-%d %H:%M:%S')\n",
    "    handler = logging.StreamHandler()\n",
    "    handler.setLevel(logging.INFO)\n",
    "    handler.setFormatter(formatter)\n",
    "    logger.handlers = []\n",
    "    logger.addHandler(handler)\n",
    "    return logger"
   ]
  },
  {
   "cell_type": "code",
   "execution_count": 57,
   "metadata": {},
   "outputs": [
    {
     "data": {
      "text/plain": [
       "'62568'"
      ]
     },
     "execution_count": 57,
     "metadata": {},
     "output_type": "execute_result"
    }
   ],
   "source": [
    "import os \n",
    "pname = str(os.getpid())\n",
    "pname"
   ]
  },
  {
   "cell_type": "code",
   "execution_count": 58,
   "metadata": {},
   "outputs": [],
   "source": [
    "logger = set_logger(pname)"
   ]
  },
  {
   "cell_type": "code",
   "execution_count": 61,
   "metadata": {},
   "outputs": [
    {
     "name": "stderr",
     "output_type": "stream",
     "text": [
      "(<ipython-input-61-858eaf7884b7> - 1) - 62568 - [2021-07-21 19:52:46]: finsh:\n"
     ]
    }
   ],
   "source": [
    "logger.info('finsh:') "
   ]
  },
  {
   "cell_type": "code",
   "execution_count": 62,
   "metadata": {},
   "outputs": [
    {
     "name": "stderr",
     "output_type": "stream",
     "text": [
      "(<ipython-input-62-b7eace5377a5> - 1) - 62568 - [2021-07-21 19:52:46]: error:\n"
     ]
    }
   ],
   "source": [
    "logger.warning('error:') "
   ]
  },
  {
   "cell_type": "markdown",
   "metadata": {},
   "source": [
    "## loguru"
   ]
  },
  {
   "cell_type": "code",
   "execution_count": 13,
   "metadata": {},
   "outputs": [],
   "source": [
    "from loguru import logger"
   ]
  },
  {
   "cell_type": "code",
   "execution_count": 14,
   "metadata": {},
   "outputs": [
    {
     "data": {
      "text/plain": [
       "1"
      ]
     },
     "execution_count": 14,
     "metadata": {},
     "output_type": "execute_result"
    }
   ],
   "source": [
    "logger.add('loguru_test.log')"
   ]
  },
  {
   "cell_type": "code",
   "execution_count": 16,
   "metadata": {},
   "outputs": [
    {
     "name": "stderr",
     "output_type": "stream",
     "text": [
      "2022-06-27 16:40:12.775 | INFO     | __main__:<module>:1 - first log line\n"
     ]
    }
   ],
   "source": [
    "logger.info('first log line')"
   ]
  },
  {
   "cell_type": "code",
   "execution_count": null,
   "metadata": {},
   "outputs": [],
   "source": []
  },
  {
   "cell_type": "code",
   "execution_count": null,
   "metadata": {},
   "outputs": [],
   "source": []
  },
  {
   "cell_type": "code",
   "execution_count": null,
   "metadata": {},
   "outputs": [],
   "source": []
  },
  {
   "cell_type": "markdown",
   "metadata": {},
   "source": [
    "# logging "
   ]
  },
  {
   "cell_type": "code",
   "execution_count": 1,
   "metadata": {},
   "outputs": [],
   "source": [
    "import sys\n",
    "import logging "
   ]
  },
  {
   "cell_type": "code",
   "execution_count": 2,
   "metadata": {},
   "outputs": [],
   "source": [
    "class Logger(object):\n",
    "    level_relations = { \n",
    "        'debug': logging.DEBUG,\n",
    "        'info': logging.INFO,\n",
    "        'warning': logging.WARNING,\n",
    "        'error': logging.ERROR,\n",
    "        'crit': logging.CRITICAL\n",
    "    }  # 日志级别关系映射\n",
    "    \n",
    "    def __init__(self,filename,level='info'):\n",
    "        self.logger = logging.getLogger()\n",
    "        handler = logging.FileHandler(filename)\n",
    "        formatter = logging.Formatter(\"%(asctime)s [%(levelname)s]%(message)s\",datefmt='%Y-%m-%d %H:%M:%S')\n",
    "        handler.setFormatter(formatter)\n",
    "        self.logger.addHandler(handler)\n",
    "        self.logger.setLevel(self.level_relations.get(level)) # 设置日志级别        "
   ]
  },
  {
   "cell_type": "code",
   "execution_count": 3,
   "metadata": {},
   "outputs": [],
   "source": [
    "file_log_name = 'log_test.log'\n",
    "file_log = Logger(file_log_name,level='info')"
   ]
  },
  {
   "cell_type": "code",
   "execution_count": 4,
   "metadata": {},
   "outputs": [],
   "source": [
    "debug_file_name = 'file.bug'\n",
    "file_bug = Logger(debug_file_name,level='debug')"
   ]
  },
  {
   "cell_type": "code",
   "execution_count": 7,
   "metadata": {},
   "outputs": [],
   "source": [
    "file_bug.logger.debug('adfadfa')"
   ]
  },
  {
   "cell_type": "code",
   "execution_count": 6,
   "metadata": {},
   "outputs": [],
   "source": [
    "file_log.logger.info('ccc')"
   ]
  },
  {
   "cell_type": "code",
   "execution_count": null,
   "metadata": {},
   "outputs": [],
   "source": [
    "import logging \n",
    "logging.bas"
   ]
  }
 ],
 "metadata": {
  "kernelspec": {
   "display_name": "Python 3",
   "language": "python",
   "name": "python3"
  },
  "language_info": {
   "codemirror_mode": {
    "name": "ipython",
    "version": 3
   },
   "file_extension": ".py",
   "mimetype": "text/x-python",
   "name": "python",
   "nbconvert_exporter": "python",
   "pygments_lexer": "ipython3",
   "version": "3.7.4"
  }
 },
 "nbformat": 4,
 "nbformat_minor": 4
}
